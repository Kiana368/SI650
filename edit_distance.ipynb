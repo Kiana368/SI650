{
 "cells": [
  {
   "cell_type": "code",
   "execution_count": 1,
   "metadata": {},
   "outputs": [],
   "source": [
    "import numpy as np\n",
    "import pandas as pd"
   ]
  },
  {
   "cell_type": "code",
   "execution_count": 10,
   "metadata": {},
   "outputs": [
    {
     "data": {
      "text/plain": [
       "1.0"
      ]
     },
     "execution_count": 10,
     "metadata": {},
     "output_type": "execute_result"
    }
   ],
   "source": [
    "def edit_dist(str1, str2):\n",
    "    \n",
    "    len1 = len(str1) + 1\n",
    "    len2 = len(str2) + 1\n",
    "    dp = np.zeros((len1, len2))\n",
    "    t = np.zeros((len1, len2))\n",
    "    \n",
    "    for c1 in range(0,len1): dp[c1][0] = c1\n",
    "        \n",
    "    for c2 in range(0,len2): dp[0][c2] = c2\n",
    "        \n",
    "    for c1 in range(1,len1):\n",
    "        for c2 in range(1,len2):\n",
    "            if(str1[c1-1] == str2[c2-1]):\n",
    "                t[c1][c2] = 0\n",
    "            else:\n",
    "                t[c1][c2] = 1\n",
    "    \n",
    "    for c1 in range(1,len1):\n",
    "        for c2 in range(1,len2):\n",
    "            temp = min(dp[c1-1][c2]+1, dp[c1][c2-1]+1)\n",
    "            dp[c1][c2] = min(temp, dp[c1-1][c2-1]+t[c1][c2])\n",
    "    \n",
    "    return dp[len1-1][len2-1]\n",
    "\n",
    "str1 = \"computed\"\n",
    "str2 = \"computer\"\n",
    "edit_dist(str1, str2)\n"
   ]
  },
  {
   "cell_type": "code",
   "execution_count": null,
   "metadata": {},
   "outputs": [],
   "source": []
  }
 ],
 "metadata": {
  "kernelspec": {
   "display_name": "Python 3 (ipykernel)",
   "language": "python",
   "name": "python3"
  },
  "language_info": {
   "codemirror_mode": {
    "name": "ipython",
    "version": 3
   },
   "file_extension": ".py",
   "mimetype": "text/x-python",
   "name": "python",
   "nbconvert_exporter": "python",
   "pygments_lexer": "ipython3",
   "version": "3.9.12"
  }
 },
 "nbformat": 4,
 "nbformat_minor": 4
}
