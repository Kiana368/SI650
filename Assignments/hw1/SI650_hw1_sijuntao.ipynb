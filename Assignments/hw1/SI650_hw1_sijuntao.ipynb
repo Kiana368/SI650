{
 "cells": [
  {
   "cell_type": "markdown",
   "metadata": {},
   "source": [
    "# SI 650 / EECS 549: Homework 1 — \n",
    "\n",
    "##  Probabilities, Text, and Ranking"
   ]
  },
  {
   "cell_type": "markdown",
   "metadata": {},
   "source": [
    "- Name: Sijun Tao\n",
    "- Uniquename: sijuntao"
   ]
  },
  {
   "cell_type": "code",
   "execution_count": 1,
   "metadata": {},
   "outputs": [],
   "source": [
    "import numpy as np\n",
    "import pandas as pd\n",
    "import math\n",
    "import spacy\n",
    "import matplotlib.pyplot as plt\n",
    "import seaborn as sns\n",
    "from heapq import nlargest\n",
    "from IPython.display import Latex"
   ]
  },
  {
   "cell_type": "markdown",
   "metadata": {},
   "source": [
    "<hr style=\"border: 1px solid #003262;\" />\n",
    "\n",
    "## Part 1: Probabilistic Reasoning and Bayes Rule"
   ]
  },
  {
   "cell_type": "markdown",
   "metadata": {},
   "source": [
    "### a)"
   ]
  },
  {
   "cell_type": "markdown",
   "metadata": {},
   "source": [
    "\\begin{array}{c|cccc}\n",
    "\\mathrm{S} & P(B=1 \\mid S) & P(U=1 \\mid S) & P(E=1 \\mid S) & \\text { prior } P(S) \\\\\n",
    "\\hline \n",
    "1 & 0.57 & 0.57 & 0.43 & 0.47 \\\\\n",
    "0 & 0.75 & 0.50 & 0.38 & 0.53\n",
    "\\end{array}\n"
   ]
  },
  {
   "cell_type": "markdown",
   "metadata": {},
   "source": [
    "### b)"
   ]
  },
  {
   "cell_type": "markdown",
   "metadata": {},
   "source": [
    "\n",
    "$$\n",
    "\\begin{aligned}\n",
    "P(S=1|B=0,U=1,E=0)\n",
    "&=\\frac{P(S=1,B=0,U=1,E=0)}{P(B=0,U=1,E=0)}\\\\\n",
    "&=\\frac{P(B=0,U=1,E=0|S=1)*P(S=1)}{P(B=0,U=1,E=0|S=1)*P(S=1) + P(B=0,U=1,E=0|S=0)*P(S=0)}\\\\\n",
    "&=\\frac{P(B=0|S=1)P(U=1|S=1)P(E=0|S=1)*P(S=1)}{P(B=0,U=1,E=0|S=1)*P(S=1) + P(B=0,U=1,E=0|S=0)*P(S=0)}\\\\\n",
    "&=\\frac{\\frac{3}{7}\\times\\frac{4}{7}\\times\\frac{4}{7}\\times \\frac{7}{15}}{\\frac{3}{7}\\times\\frac{4}{7}\\times\\frac{4}{7}\\times \\frac{7}{15} + \\frac{1}{4}\\times\\frac{1}{2}\\times\\frac{5}{8}\\times \\frac{8}{15}}\\\\\n",
    "&= \\frac{384}{629} \\\\\n",
    "&\\approx 0.61\n",
    "\\end{aligned}\n",
    "$$"
   ]
  },
  {
   "cell_type": "markdown",
   "metadata": {},
   "source": [
    "$$\n",
    "\\begin{aligned}\n",
    "P(S=0|B=0,U=1,E=0)\n",
    "&=\\frac{P(S=0,B=0,U=1,E=0)}{P(B=0,U=1,E=0)}\\\\\n",
    "&=\\frac{P(B=0,U=1,E=0|S=0)*P(S=0)}{P(B=0,U=1,E=0|S=0)*P(S=0) + P(B=0,U=1,E=0|S=1)*P(S=1)}\\\\\n",
    "&=\\frac{P(B=0|S=0)P(U=1|S=0)P(E=0|S=0)*P(S=0)}{P(B=0,U=1,E=0|S=0)*P(S=0) + P(B=0,U=1,E=0|S=1)*P(S=1)}\\\\\n",
    "&=\\frac{\\frac{1}{4}\\times\\frac{1}{2}\\times\\frac{5}{8}\\times \\frac{8}{15}}{ \\frac{1}{4}\\times\\frac{1}{2}\\times\\frac{5}{8}\\times \\frac{8}{15} + \\frac{3}{7}\\times\\frac{4}{7}\\times\\frac{4}{7}\\times \\frac{7}{15}}\\\\\n",
    "&= \\frac{245}{629} \\\\\n",
    "&\\approx 0.39\n",
    "\\end{aligned}\n",
    "$$"
   ]
  },
  {
   "cell_type": "markdown",
   "metadata": {},
   "source": [
    "\n",
    "We can find that \n",
    "\n",
    "$$\n",
    "P(S=1|B=0,U=1,E=0) > P(S = 0|B = 0,U = 1,E = 0)\n",
    "$$\n",
    "\n",
    "Therefore, the account $ a $ is a spam."
   ]
  },
  {
   "cell_type": "markdown",
   "metadata": {},
   "source": [
    "### c)"
   ]
  },
  {
   "cell_type": "markdown",
   "metadata": {},
   "source": [
    "\n",
    "$$\n",
    "\\begin{aligned}\n",
    "P(S=1|B=0,U=1,E=0) = unknown \\\\\n",
    "P(S=0|B=0,U=1,E=0) = unknown\n",
    "\\end{aligned}\n",
    "$$"
   ]
  },
  {
   "cell_type": "markdown",
   "metadata": {},
   "source": [
    "The result is different from the previous in problem B.\n",
    "\n",
    "This is because the sample size is too small. None of the samples satisfy the condition that B=0, U=1, and E=0, so we can't get the probability directly from the samples. Probabilities calculated in this way are of little use because the results are not representative."
   ]
  },
  {
   "cell_type": "markdown",
   "metadata": {},
   "source": [
    "### d)"
   ]
  },
  {
   "cell_type": "markdown",
   "metadata": {},
   "source": [
    "No. There are some constraints that we should follow:\n",
    "- $P(S=1) + P(S=0) = 1$\n",
    "- $P(X=1 \\mid S) + P(X=0 \\mid S) = 1$  for $X \\in$ {$B,U,E$} (though not mentioned in this table)"
   ]
  },
  {
   "cell_type": "markdown",
   "metadata": {},
   "source": [
    "### e)"
   ]
  },
  {
   "cell_type": "markdown",
   "metadata": {},
   "source": [
    "**No**. If we want to change the conclusion, we need to lower $P(S=1|B=0,U=1,E=0)$ to be less than 0.5. Analyzing the calculation formula, we can see that we can achieve this by increasing $P(E=0|S=0)$ or $P(E=1|S=1)$. Since we can only change the value $E$ in one example:"
   ]
  },
  {
   "cell_type": "markdown",
   "metadata": {},
   "source": [
    "- if we choose to increase $P(E=0|S=0)$, we can change the value $E$ of the 15th sample to be 0, then the table 2 becomes:\n",
    "\n",
    "\\begin{array}{c|cccc}\n",
    "\\mathrm{S} & P(B=1 \\mid S) & P(U=1 \\mid S) & P(E=1 \\mid S) & \\text { prior } P(S) \\\\\n",
    "\\hline \n",
    "1 & 0.57 & 0.57 & 0.43 & 0.47 \\\\\n",
    "0 & 0.75 & 0.50 & 0.25 & 0.53\n",
    "\\end{array}\n",
    "\n",
    "\n",
    "Then the probability becomes:\n",
    "\n",
    "$$\n",
    "\\begin{aligned}\n",
    "P(S=1|B=0,U=1,E=0)\n",
    "&=\\frac{P(S=1,B=0,U=1,E=0)}{P(B=0,U=1,E=0)}\\\\\n",
    "&=\\frac{P(B=0,U=1,E=0|S=1)*P(S=1)}{P(B=0,U=1,E=0|S=1)*P(S=1) + P(B=0,U=1,E=0|S=0)*P(S=0)}\\\\\n",
    "&=\\frac{\\frac{3}{7}\\times\\frac{4}{7}\\times\\frac{4}{7}\\times \\frac{7}{15}}{\\frac{3}{7}\\times\\frac{4}{7}\\times\\frac{4}{7}\\times \\frac{7}{15} + \\frac{1}{4}\\times\\frac{1}{2}\\times\\frac{3}{4}\\times \\frac{8}{15}}\\\\\n",
    "&= \\frac{64}{113} \\\\\n",
    "&\\approx 0.57\n",
    "\\end{aligned}\n",
    "$$\n",
    "\n",
    "The probability 0.57 is still greater than 0.5, so in this case the conclusion will not change."
   ]
  },
  {
   "cell_type": "markdown",
   "metadata": {},
   "source": [
    "- if we choose to increase $P(E=1|S=1)$, we can change the value $E$ of the 9th sample to be 1, then the table 2 becomes:\n",
    "\n",
    "\\begin{array}{c|cccc}\n",
    "\\mathrm{S} & P(B=1 \\mid S) & P(U=1 \\mid S) & P(E=1 \\mid S) & \\text { prior } P(S) \\\\\n",
    "\\hline \n",
    "1 & 0.57 & 0.57 & 0.57 & 0.47 \\\\\n",
    "0 & 0.75 & 0.50 & 0.38 & 0.53\n",
    "\\end{array}\n",
    "\n",
    "\n",
    "Then the probability becomes:\n",
    "\n",
    "$$\n",
    "\\begin{aligned}\n",
    "P(S=1|B=0,U=1,E=0)\n",
    "&=\\frac{P(S=1,B=0,U=1,E=0)}{P(B=0,U=1,E=0)}\\\\\n",
    "&=\\frac{P(B=0,U=1,E=0|S=1)*P(S=1)}{P(B=0,U=1,E=0|S=1)*P(S=1) + P(B=0,U=1,E=0|S=0)*P(S=0)}\\\\\n",
    "&=\\frac{\\frac{3}{7}\\times\\frac{4}{7}\\times\\frac{3}{7}\\times \\frac{7}{15}}{\\frac{3}{7}\\times\\frac{4}{7}\\times\\frac{3}{7}\\times \\frac{7}{15} + \\frac{1}{4}\\times\\frac{1}{2}\\times\\frac{5}{8}\\times \\frac{8}{15}}\\\\\n",
    "&= \\frac{288}{533} \\\\\n",
    "&\\approx 0.54\n",
    "\\end{aligned}\n",
    "$$\n",
    "\n",
    "The probability 0.54 is still greater than 0.5, so in this case the conclusion will not change."
   ]
  },
  {
   "cell_type": "markdown",
   "metadata": {},
   "source": [
    "**Therefore, the conclusion of problem b that account $a$ is a spam cannot be changed by only changing the value E in one example of Table 1.**"
   ]
  },
  {
   "cell_type": "markdown",
   "metadata": {},
   "source": [
    "### f)"
   ]
  },
  {
   "cell_type": "markdown",
   "metadata": {},
   "source": [
    "In fact, the independence assumption of $P(B, U, E|S) = P(B|S)P(U|S)P(E|S)$ does not necessarily hold, because B, U and E are not necessarily independent of each other. For example, if an account uses a URL, it may be more likely to have the word \"based\" and less likely to have an emoji in its bio. Because of the possible intrinsic relationship between them, {B, U, E} cannot be simply regarded as independent in reality and cannot be directly applied to the independence assumption."
   ]
  },
  {
   "cell_type": "markdown",
   "metadata": {},
   "source": [
    "<hr style=\"border: 1px solid #003262;\" />\n",
    "\n",
    "## Part 2: Text Data Analyses"
   ]
  },
  {
   "cell_type": "code",
   "execution_count": 2,
   "metadata": {},
   "outputs": [],
   "source": [
    "# load nlp\n",
    "nlp = spacy.load(\"en_core_web_sm\")"
   ]
  },
  {
   "cell_type": "code",
   "execution_count": 3,
   "metadata": {},
   "outputs": [],
   "source": [
    "# reload stop words\n",
    "with open(\"stoplist.txt\", \"r\") as file:\n",
    "    stopwords = file.readlines()\n",
    "stopwords = {str.replace(\"\\n\", \"\") for str in stopwords} # turn it into a list of string\n",
    "nlp.Defaults.stop_words -= nlp.Defaults.stop_words\n",
    "nlp.Defaults.stop_words |= stopwords"
   ]
  },
  {
   "cell_type": "code",
   "execution_count": 4,
   "metadata": {},
   "outputs": [],
   "source": [
    "# load and process the documents\n",
    "\n",
    "def load_doc(filename):\n",
    "    with open(filename, \"r\") as file:\n",
    "        data = file.readlines()\n",
    "    data = [line.replace(\"\\n\",\"\") for line in data]\n",
    "    doc_data = []\n",
    "    for line in data:\n",
    "        proc_line = nlp(line)\n",
    "        doc_data.append(proc_line)\n",
    "    return doc_data\n",
    "\n",
    "\n",
    "doc_reddit = load_doc(\"reddit-questions.10k.f22.txt\")\n",
    "doc_wiki = load_doc(\"wiki-bios.10k.f22.txt\")"
   ]
  },
  {
   "cell_type": "markdown",
   "metadata": {},
   "source": [
    "### 1."
   ]
  },
  {
   "cell_type": "code",
   "execution_count": 5,
   "metadata": {},
   "outputs": [],
   "source": [
    "# compute the frequency of words in documents\n",
    "\n",
    "def word_fre(doc):\n",
    "    word_count_dict = {}\n",
    "    for line in doc:\n",
    "        for token in line:\n",
    "            # make sure the token is a word (stopwords not included)\n",
    "            if token.is_stop != True and token.is_punct != True and token.like_url != True and token.like_email != True:\n",
    "                if token.text not in word_count_dict.keys():\n",
    "                    word_count_dict[token.text] = 1\n",
    "                else:\n",
    "                    word_count_dict[token.text] += 1\n",
    "                    \n",
    "    # the sorted word counts                \n",
    "    word_counts = sorted(word_count_dict.values(), reverse=True)\n",
    "    return word_count_dict, word_counts\n",
    "                \n",
    "reddit_dict, reddit_freq = word_fre(doc_reddit)  \n",
    "wiki_dict, wiki_freq = word_fre(doc_wiki)"
   ]
  },
  {
   "cell_type": "code",
   "execution_count": 6,
   "metadata": {},
   "outputs": [
    {
     "name": "stdout",
     "output_type": "stream",
     "text": [
      "The word frequency of words in 'reddit-questions.10k.f22.txt':\n"
     ]
    },
    {
     "data": {
      "image/png": "[encoded data removed]",
      "text/plain": [
       "<Figure size 576x360 with 1 Axes>"
      ]
     },
     "metadata": {
      "needs_background": "light"
     },
     "output_type": "display_data"
    },
    {
     "name": "stdout",
     "output_type": "stream",
     "text": [
      "The word frequency of words in 'wiki-bios.10k.f22.txt':\n"
     ]
    },
    {
     "data": {
      "image/png": "[encoded data removed]",
      "text/plain": [
       "<Figure size 576x360 with 1 Axes>"
      ]
     },
     "metadata": {
      "needs_background": "light"
     },
     "output_type": "display_data"
    }
   ],
   "source": [
    "# plot the frequency distribution of words\n",
    "\n",
    "def plot_word_fre(freq):\n",
    "    fig, ax = plt.subplots(figsize=(8, 5))\n",
    "    \n",
    "    colors = np.random.rand(len(freq))\n",
    "    plt.scatter(range(1, len(freq)+1), freq, s=8, c=colors, linewidths = 2, alpha = 0.8, marker = 'o')\n",
    "    plt.xscale('log')\n",
    "    plt.yscale('log')\n",
    "    \n",
    "    plt.ylabel('word counts (log)')\n",
    "    plt.title('word frequency')\n",
    "    \n",
    "    plt.show()  \n",
    "\n",
    "    \n",
    "print(\"The word frequency of words in 'reddit-questions.10k.f22.txt':\")\n",
    "plot_word_fre(reddit_freq)\n",
    "print(\"The word frequency of words in 'wiki-bios.10k.f22.txt':\")\n",
    "plot_word_fre(wiki_freq)"
   ]
  },
  {
   "cell_type": "markdown",
   "metadata": {},
   "source": [
    "Two plots both look like a power-law distribution. The two distribution are similar distribution shape while the scales are different. The plot for reddit has a x scale of 10^4 and y scale of 10^3, while the plot for wiki has a x scale of 10^5 and y scale of 10^4, but they follow the same distribution."
   ]
  },
  {
   "cell_type": "markdown",
   "metadata": {},
   "source": [
    "### 2."
   ]
  },
  {
   "cell_type": "markdown",
   "metadata": {},
   "source": [
    "a)"
   ]
  },
  {
   "cell_type": "code",
   "execution_count": 7,
   "metadata": {},
   "outputs": [
    {
     "name": "stdout",
     "output_type": "stream",
     "text": [
      "The stopwords frequency in 'reddit-questions.10k.f22.txt': 0.6155150563161559 \n",
      "\n",
      "The stopwords frequency in 'wiki-bios.10k.f22.txt': 0.39431277871191167 \n"
     ]
    }
   ],
   "source": [
    "def stopwords_fre(doc):\n",
    "    whole_count = 0.0\n",
    "    stop_count = 0.0\n",
    "    for line in doc:\n",
    "        for token in line:\n",
    "            # make sure the token is a word\n",
    "            if token.is_punct != True and token.like_url != True and token.like_num != True and token.like_email != True:\n",
    "                whole_count += 1\n",
    "                if token.is_stop:\n",
    "                    stop_count += 1\n",
    "    return stop_count/whole_count\n",
    "\n",
    "reddit_stopwords_fre = stopwords_fre(doc_reddit)\n",
    "wiki_stopwords_fre = stopwords_fre(doc_wiki)\n",
    "print(f\"The stopwords frequency in 'reddit-questions.10k.f22.txt': {reddit_stopwords_fre} \\n\")\n",
    "print(f\"The stopwords frequency in 'wiki-bios.10k.f22.txt': {wiki_stopwords_fre} \")"
   ]
  },
  {
   "cell_type": "markdown",
   "metadata": {},
   "source": [
    "**These two frequencies are different.** This may be because the Reddit questions use more daily expression, while the Wiki bios use more professional or long sentences. Therefore, the stopwords frequency in Wiki bios is lower than that of the Reddit questions."
   ]
  },
  {
   "cell_type": "markdown",
   "metadata": {},
   "source": [
    "b)"
   ]
  },
  {
   "cell_type": "code",
   "execution_count": 8,
   "metadata": {},
   "outputs": [
    {
     "name": "stdout",
     "output_type": "stream",
     "text": [
      "The percentage of capital letters in 'reddit-questions.10k.f22.txt': 0.029704376288239447 \n",
      "\n",
      "The percentage of capital letters in 'wiki-bios.10k.f22.txt': 0.07609871733543555 \n"
     ]
    }
   ],
   "source": [
    "def cap_per(doc):\n",
    "    whole_count = 0\n",
    "    cap_count = 0\n",
    "    for line in doc:\n",
    "        for token in line:\n",
    "            for char in token.text:\n",
    "                if char.isalpha():\n",
    "                    whole_count += 1\n",
    "                    if char.isupper():\n",
    "                        cap_count += 1\n",
    "    return cap_count / whole_count\n",
    "\n",
    "reddit_cap_per = cap_per(doc_reddit)\n",
    "wiki_cap_per = cap_per(doc_wiki)\n",
    "print(f\"The percentage of capital letters in 'reddit-questions.10k.f22.txt': {reddit_cap_per} \\n\")\n",
    "print(f\"The percentage of capital letters in 'wiki-bios.10k.f22.txt': {wiki_cap_per} \")"
   ]
  },
  {
   "cell_type": "markdown",
   "metadata": {},
   "source": [
    "**These two percentages are different.** This may be because the Wiki bios has more proper noun，Standby Equipment and names, while the Reddit questions does not have much. Therefore, the percentage of capital letters in Wiki bios is higher than that of the Reddit questions."
   ]
  },
  {
   "cell_type": "markdown",
   "metadata": {},
   "source": [
    "c)"
   ]
  },
  {
   "cell_type": "code",
   "execution_count": 9,
   "metadata": {},
   "outputs": [
    {
     "name": "stdout",
     "output_type": "stream",
     "text": [
      "The average number of characters per word in 'reddit-questions.10k.f22.txt': 4.230482718407321 \n",
      "\n",
      "The average number of characters per word in 'wiki-bios.10k.f22.txt': 4.913603802252565 \n"
     ]
    }
   ],
   "source": [
    "def avg_char_word(doc):\n",
    "    word_count = 0\n",
    "    char_count = 0\n",
    "    for line in doc:\n",
    "        for token in line:\n",
    "            # make sure the token is a word\n",
    "            if token.is_punct != True and token.like_url != True and token.like_num != True and token.like_email != True:\n",
    "                word_count += 1\n",
    "                for char in token.text:\n",
    "                    char_count += 1\n",
    "    return char_count / word_count\n",
    "\n",
    "reddit_avg_char_word = avg_char_word(doc_reddit)\n",
    "wiki_avg_char_word = avg_char_word(doc_wiki)\n",
    "print(f\"The average number of characters per word in 'reddit-questions.10k.f22.txt': {reddit_avg_char_word} \\n\")\n",
    "print(f\"The average number of characters per word in 'wiki-bios.10k.f22.txt': {wiki_avg_char_word} \")"
   ]
  },
  {
   "cell_type": "markdown",
   "metadata": {},
   "source": [
    "**These two values are different.** This may be because the Wiki bios has more terminology，standby equipment names and ancient people names, while the Reddit questions does not have much. Therefore, the average number of characters per word in Wiki bios is higher than that of the Reddit questions."
   ]
  },
  {
   "cell_type": "markdown",
   "metadata": {},
   "source": [
    "d)"
   ]
  },
  {
   "cell_type": "code",
   "execution_count": 10,
   "metadata": {},
   "outputs": [
    {
     "name": "stdout",
     "output_type": "stream",
     "text": [
      "In 'reddit-questions.10k.f22.txt', the percentage of: \n",
      " nouns: 0.18508651872128262 \n",
      " adjectives: 0.07237999804477466\n",
      " verbs: 0.13008358588327304\n",
      " adverbs: 0.04297218691954248\n",
      " pronouns: 0.18109663701241568\n",
      "\n",
      "In 'wiki-bios.10k.f22.txt', the percentage of: \n",
      " nouns: 0.16759768714198905 \n",
      " adjectives: 0.05242014833023474\n",
      " verbs: 0.09141939657246316\n",
      " adverbs: 0.021821595890356905\n",
      " pronouns: 0.05206959958270188\n"
     ]
    }
   ],
   "source": [
    "def pos_count(doc):\n",
    "    word_count = 0\n",
    "    n_count = 0\n",
    "    adj_count = 0\n",
    "    v_count = 0\n",
    "    adv_count = 0\n",
    "    pron_count = 0\n",
    "    for line in doc:\n",
    "        for token in line:\n",
    "            # make sure the token is a word\n",
    "            if token.is_alpha and token.like_url != True and token.like_num != True and token.like_email != True:\n",
    "                word_count += 1\n",
    "                if (token.pos_ == \"NOUN\"): n_count += 1\n",
    "                if (token.pos_ == \"ADJ\"): adj_count += 1\n",
    "                if (token.pos_ == \"VERB\"): v_count += 1\n",
    "                if (token.pos_ == \"ADV\"): adv_count += 1\n",
    "                if (token.pos_ == \"PRON\"): pron_count += 1\n",
    "    return n_count / word_count, adj_count / word_count, v_count / word_count, adv_count / word_count, pron_count / word_count\n",
    "\n",
    "\n",
    "reddit_n,reddit_adj,reddit_v,reddit_adv,reddit_pron = pos_count(doc_reddit)\n",
    "wiki_n,wiki_adj,wiki_v,wiki_adv,wiki_pron = pos_count(doc_wiki)\n",
    "print(f\"In 'reddit-questions.10k.f22.txt', the percentage of: \\n nouns: {reddit_n} \\n adjectives: {reddit_adj}\\n verbs: {reddit_v}\\n adverbs: {reddit_adv}\\n pronouns: {reddit_pron}\\n\")\n",
    "print(f\"In 'wiki-bios.10k.f22.txt', the percentage of: \\n nouns: {wiki_n} \\n adjectives: {wiki_adj}\\n verbs: {wiki_v}\\n adverbs: {wiki_adv}\\n pronouns: {wiki_pron}\")"
   ]
  },
  {
   "cell_type": "markdown",
   "metadata": {},
   "source": [
    "**These values are different.** The Reddit questions use more content words to convey their ideas to others, while the Wiki bios use more professional languages. Therefore, the percentage in Wiki bios is lower than that of the Reddit questions."
   ]
  },
  {
   "cell_type": "markdown",
   "metadata": {},
   "source": [
    "e)"
   ]
  },
  {
   "cell_type": "code",
   "execution_count": 11,
   "metadata": {},
   "outputs": [
    {
     "name": "stdout",
     "output_type": "stream",
     "text": [
      "In 'reddit-questions.10k.f22.txt', the top 10 nouns:\n"
     ]
    },
    {
     "data": {
      "text/plain": [
       "['thing',\n",
       " 'people',\n",
       " 'reddit',\n",
       " 'People',\n",
       " 'life',\n",
       " 'time',\n",
       " 'person',\n",
       " 'way',\n",
       " 'things',\n",
       " 'story']"
      ]
     },
     "metadata": {},
     "output_type": "display_data"
    },
    {
     "name": "stdout",
     "output_type": "stream",
     "text": [
      "the top 10 verbs:\n"
     ]
    },
    {
     "data": {
      "text/plain": [
       "['do', 'have', 'had', 'think', 'get', 'know', 'make', 'seen', 'made', 'want']"
      ]
     },
     "metadata": {},
     "output_type": "display_data"
    },
    {
     "name": "stdout",
     "output_type": "stream",
     "text": [
      "the top 10 adjectives: \n"
     ]
    },
    {
     "data": {
      "text/plain": [
       "['best',\n",
       " 'worst',\n",
       " 'good',\n",
       " 'other',\n",
       " 'first',\n",
       " 'weirdest',\n",
       " 'favorite',\n",
       " 'Serious',\n",
       " 'most',\n",
       " 'last']"
      ]
     },
     "metadata": {},
     "output_type": "display_data"
    },
    {
     "name": "stdout",
     "output_type": "stream",
     "text": [
      "\n",
      " In 'wiki-bios.10k.f22.txt', the top 10 nouns:\n"
     ]
    },
    {
     "data": {
      "text/plain": [
       "['time',\n",
       " 'years',\n",
       " 'year',\n",
       " 'season',\n",
       " 'team',\n",
       " 'career',\n",
       " 'member',\n",
       " 'film',\n",
       " 'work',\n",
       " 'life']"
      ]
     },
     "metadata": {},
     "output_type": "display_data"
    },
    {
     "name": "stdout",
     "output_type": "stream",
     "text": [
      "the top 10 verbs:\n"
     ]
    },
    {
     "data": {
      "text/plain": [
       "['born',\n",
       " 'played',\n",
       " 'became',\n",
       " 'made',\n",
       " 'had',\n",
       " 'won',\n",
       " 'died',\n",
       " 'served',\n",
       " 'known',\n",
       " 'including']"
      ]
     },
     "metadata": {},
     "output_type": "display_data"
    },
    {
     "name": "stdout",
     "output_type": "stream",
     "text": [
      "the top 10 adjectives: \n"
     ]
    },
    {
     "data": {
      "text/plain": [
       "['first',\n",
       " 'External',\n",
       " 'American',\n",
       " 'second',\n",
       " 'other',\n",
       " 'former',\n",
       " 'new',\n",
       " 'many',\n",
       " 'several',\n",
       " 'Early']"
      ]
     },
     "metadata": {},
     "output_type": "display_data"
    }
   ],
   "source": [
    "def top10_pos_dict(doc):\n",
    "    n_dict = {}\n",
    "    v_dict = {}\n",
    "    adj_dict = {}\n",
    "    for line in doc:\n",
    "        for token in line:\n",
    "            # make sure the token is a word\n",
    "            if (token.is_alpha):\n",
    "                if (token.pos_ == \"NOUN\"): \n",
    "                    if token.text not in n_dict.keys():\n",
    "                        n_dict[token.text] = 1\n",
    "                    else:\n",
    "                        n_dict[token.text] += 1\n",
    "                if (token.pos_ == \"VERB\"):\n",
    "                    if token.text not in v_dict.keys():\n",
    "                        v_dict[token.text] = 1\n",
    "                    else:\n",
    "                        v_dict[token.text] += 1\n",
    "                if (token.pos_ == \"ADJ\"): \n",
    "                    if token.text not in adj_dict.keys():\n",
    "                        adj_dict[token.text] = 1\n",
    "                    else:\n",
    "                        adj_dict[token.text] += 1\n",
    "#     n_dict = sorted(n_dict.items(), key=lambda x: x[1],reverse = True)\n",
    "#     v_dict = sorted(v_dict.items(), key=lambda x: x[1],reverse = True)\n",
    "#     adj_dict = sorted(adj_dict.items(), key=lambda x: x[1],reverse = True)\n",
    "    n_dict = nlargest(10, n_dict, key = n_dict.get)\n",
    "    v_dict = nlargest(10, v_dict, key = v_dict.get)\n",
    "    adj_dict = nlargest(10, adj_dict, key = adj_dict.get)\n",
    "    return n_dict,v_dict,adj_dict\n",
    "\n",
    "reddit_n_dict,reddit_v_dict,reddit_adj_dict = top10_pos_dict(doc_reddit)\n",
    "wiki_n_dict,wiki_v_dict,wiki_adj_dict = top10_pos_dict(doc_wiki)\n",
    "print(\"In 'reddit-questions.10k.f22.txt', the top 10 nouns:\")\n",
    "display(reddit_n_dict)\n",
    "print(\"the top 10 verbs:\") \n",
    "display(reddit_v_dict)\n",
    "print(\"the top 10 adjectives: \")\n",
    "display(reddit_adj_dict )\n",
    "\n",
    "print(\"\\n In 'wiki-bios.10k.f22.txt', the top 10 nouns:\")\n",
    "display(wiki_n_dict)\n",
    "print(\"the top 10 verbs:\") \n",
    "display(wiki_v_dict)\n",
    "print(\"the top 10 adjectives: \")\n",
    "display(wiki_adj_dict )"
   ]
  },
  {
   "cell_type": "markdown",
   "metadata": {},
   "source": [
    "**These words are different.** This may be because the topic of Reddit questions focus more on daily events, while the Wiki bios focus on ancient or famous events. Therefore, the top 10 nouns, verbs, and adjectives are different in the Wiki bios and the Reddit questions."
   ]
  },
  {
   "cell_type": "markdown",
   "metadata": {},
   "source": [
    "### 3."
   ]
  },
  {
   "cell_type": "code",
   "execution_count": 12,
   "metadata": {},
   "outputs": [
    {
     "name": "stdout",
     "output_type": "stream",
     "text": [
      "the 5 words that have the highest TF-IDF weights in doc 1: ['Kearney', 'Shrewsbury', 'Chester', 'Reading', 'soccer']\n",
      "the 5 words that have the highest TF-IDF weights in doc 2: ['Symo', '1913–1992', 'Autobus', 'Triana', 'Tiszavirág']\n",
      "the 5 words that have the highest TF-IDF weights in doc 3: ['Champion', '1774', '1793', 'Miranpur', 'Hatchlands']\n",
      "the 5 words that have the highest TF-IDF weights in doc 4: ['Merrett', 'Michelin', 'chef', 'Dining', 'Paul']\n",
      "the 5 words that have the highest TF-IDF weights in doc 5: ['Smit', 'Telstar', 'PSV', 'Heerhugowaard', 'Beijen']\n",
      "the 5 words that have the highest TF-IDF weights in doc 6: ['Sadat', 'Thirstin', 'Howl', 'Tell', 'Grae']\n",
      "the 5 words that have the highest TF-IDF weights in doc 7: ['Nikolayenko', 'bears', 'bear', 'Kamchatka', 'Kronotsky']\n",
      "the 5 words that have the highest TF-IDF weights in doc 8: ['AKP', 'Erdoğan', 'Afyonkarahisar', 'Recep', 'Tayyip']\n",
      "the 5 words that have the highest TF-IDF weights in doc 9: ['Jury', 'UFC', 'fight', 'Bellator', 'MMA']\n",
      "the 5 words that have the highest TF-IDF weights in doc 10: ['Antiochus', 'Selene', 'XIII', 'BC', 'Tigranes']\n"
     ]
    }
   ],
   "source": [
    "def TF(term, doc):\n",
    "    count = 0\n",
    "    for token in doc:\n",
    "        if term.text == token.text:\n",
    "            count += 1\n",
    "    return math.log(count + 1)\n",
    "\n",
    "def IDF(term, docs = doc_wiki):\n",
    "    N = len(docs)\n",
    "    k = 0\n",
    "    for line in docs:\n",
    "        for token in line:\n",
    "            if term.text == token.text:\n",
    "                k += 1\n",
    "                break             \n",
    "    return 1 + math.log(N / k)    \n",
    "\n",
    "def TF_IDF(doc):\n",
    "    tf_idf_weight_dict = {}\n",
    "    for token in doc:\n",
    "        # make sure the word is not a stopword or a punctuation\n",
    "        if token.is_stop != True and token.is_punct != True:\n",
    "            if token.text not in tf_idf_weight_dict.keys():\n",
    "                tf_idf_weight_dict[token.text] = TF(token, doc) * IDF(token)\n",
    "    return nlargest(5, tf_idf_weight_dict, key = tf_idf_weight_dict.get)\n",
    "\n",
    "n = 1\n",
    "for doc in doc_wiki[0:10]:\n",
    "    word_list = TF_IDF(doc)\n",
    "    print(f\"the 5 words that have the highest TF-IDF weights in doc {n}:\", word_list)\n",
    "    n += 1"
   ]
  },
  {
   "cell_type": "markdown",
   "metadata": {},
   "source": [
    "**I find that the words that have the highest TF-IDF weights are mostly nouns and years.** This can somehow be a good summary of the documents because I can guess who did something in what years. However, it still has some limitations. Since the verbs rarely appear, it is hard for me to know what actually happened."
   ]
  },
  {
   "cell_type": "markdown",
   "metadata": {},
   "source": [
    "### 4."
   ]
  },
  {
   "cell_type": "markdown",
   "metadata": {},
   "source": [
    "There are some weighting that I could think of which cannot be calculated directly from inverted index:\n",
    "- Take the factor of the relationship between the docs into consideration. First, let human beings to select some docs that are highly consistent with the tokens of the docs. Then, we begin the weighting process: if the doc has more similarity with the selected docs, we give it a high weight. After that, we use the selected and weighted docs as references to give weight to other docs. Repeating this process, we can weight all the docs in a relatively accurate way. Involving the roles of human, the weights can hardly be calculated directly from the inverted index.\n",
    "\n",
    "\n",
    "- Take the factor of the classification of the document into consideration. First, we build a vocabulary database that generally divide the words into several groups. For example, the terms that are related to laws of physics and mathematicslabel are placed in the corresponding zone. Then, we label the docs with its type. When processing the docs, if the zone the tokens of the docs belongs to is consistent with the label of the docs, we give it a high weight. Involving the extra information of document types and vocabulary zones, it is also difficult to calculate the weight only with the document collections and inverted index.\n"
   ]
  },
  {
   "cell_type": "markdown",
   "metadata": {},
   "source": [
    "<hr style=\"border: 1px solid #003262;\" />\n",
    "\n",
    "## Part 3: Document Ranking and Evaluation"
   ]
  },
  {
   "cell_type": "markdown",
   "metadata": {},
   "source": [
    "### 1."
   ]
  },
  {
   "cell_type": "markdown",
   "metadata": {},
   "source": [
    "\\begin{equation}\n",
    "\\text { Precision }=\\frac{\\text { Relevant Retrieved }}{\\text { Retrieved }} = \\frac{11}{20} = 0.55\n",
    "\\end{equation}"
   ]
  },
  {
   "cell_type": "markdown",
   "metadata": {},
   "source": [
    "\\begin{equation}\n",
    "\\text { Recall }=\\frac{\\text { Relevant Retrieved }}{\\text { Relevant }} = \\frac{11}{20} = 0.55\n",
    "\\end{equation}"
   ]
  },
  {
   "cell_type": "markdown",
   "metadata": {},
   "source": [
    "\\begin{equation}\n",
    "F_1=\\frac{2 P R}{P+R} = \\frac{2*0.55*0.55}{0.55+0.55} = 0.55\n",
    "\\end{equation}"
   ]
  },
  {
   "cell_type": "markdown",
   "metadata": {},
   "source": [
    "\\begin{equation}\n",
    "MAP= \\frac{1+1+1+1+5/6+6/9+7/12+8/13+9/16+10/18+11/19}{20} = 0.4198\n",
    "\\end{equation}"
   ]
  },
  {
   "cell_type": "markdown",
   "metadata": {},
   "source": [
    "### 2."
   ]
  },
  {
   "cell_type": "markdown",
   "metadata": {},
   "source": [
    "$$\n",
    "\\begin{aligned}\n",
    "C G_{10}\n",
    "&=\\sum_{i=1}^{10} r_i \\\\\n",
    "&= 2+1+1+2+0+1+0+0+2+0 \\\\\n",
    "&= 9\n",
    "\\end{aligned}\n",
    "$$"
   ]
  },
  {
   "cell_type": "markdown",
   "metadata": {},
   "source": [
    "$$\n",
    "\\begin{aligned}\n",
    "D C G_{10}\n",
    "&=r_1+\\sum_{i=2}^{10} \\frac{r_i}{\\log _2 i} \\\\\n",
    "&= 2+\\frac{1}{\\log _2 2}+\\frac{1}{\\log _2 3}+\\frac{2}{\\log _2 4}+0+\\frac{1}{\\log _2 6}+0+0+\\frac{2}{\\log _2 9}+0 \\\\\n",
    "&= 5.65\n",
    "\\end{aligned}\n",
    "$$"
   ]
  },
  {
   "cell_type": "markdown",
   "metadata": {},
   "source": [
    "After reordering the documents with the relevance level from high to low, we get\n",
    "$$\n",
    "\\begin{aligned}\n",
    "I D C G_{10}\n",
    "&= 2+\\frac{2}{\\log _2 2}+\\frac{2}{\\log _2 3}+\\frac{1}{\\log _2 4}+\\frac{1}{\\log _2 5}+\\frac{1}{\\log _2 6}+0+0+0+0 \\\\\n",
    "&= 6.58\n",
    "\\end{aligned}\n",
    "$$"
   ]
  },
  {
   "cell_type": "markdown",
   "metadata": {},
   "source": [
    "\\begin{equation}\n",
    "N D C G_{10}=\\frac{DCG_{10}}{IDCG_{10}} = 0.8585\n",
    "\\end{equation}"
   ]
  },
  {
   "cell_type": "markdown",
   "metadata": {},
   "source": [
    "<hr style=\"border: 1px solid #003262;\" />\n",
    "\n",
    "## Part 4: Simple Search"
   ]
  },
  {
   "cell_type": "code",
   "execution_count": 13,
   "metadata": {},
   "outputs": [],
   "source": [
    "from sklearn.feature_extraction.text import CountVectorizer\n",
    "from sklearn.metrics.pairwise import cosine_similarity\n",
    "\n",
    "with open(\"reddit-questions.10k.f22.txt\", \"r\") as file:\n",
    "    data = file.readlines()\n",
    "reddit_ques_corpus = [line.replace(\"\\n\",\"\") for line in data]"
   ]
  },
  {
   "cell_type": "markdown",
   "metadata": {},
   "source": [
    "### 1."
   ]
  },
  {
   "cell_type": "code",
   "execution_count": 14,
   "metadata": {},
   "outputs": [],
   "source": [
    "def trans_2_vec(content_list):\n",
    "    vectorizer = CountVectorizer()\n",
    "    X = vectorizer.fit_transform(content_list).toarray()\n",
    "    return X\n",
    "\n",
    "def ten_most_similar(corpus, query):\n",
    "    # query: a string\n",
    "    vectorizer = CountVectorizer()\n",
    "    model = vectorizer.fit(corpus)\n",
    "    \n",
    "    corpus_vec = model.transform(corpus).toarray()\n",
    "    query_vec = model.transform([query]).toarray()\n",
    "    # similarity_vec: an array\n",
    "    similarity_vec = cosine_similarity(query_vec, corpus_vec)[0]\n",
    "\n",
    "    indices = np.argsort(similarity_vec)[-10:][::-1] \n",
    "    top_ten = [corpus[index] for index in indices]\n",
    "    return top_ten\n"
   ]
  },
  {
   "cell_type": "markdown",
   "metadata": {},
   "source": [
    "### 2."
   ]
  },
  {
   "cell_type": "markdown",
   "metadata": {},
   "source": [
    "#### a)"
   ]
  },
  {
   "cell_type": "markdown",
   "metadata": {},
   "source": [
    "_(1)_"
   ]
  },
  {
   "cell_type": "code",
   "execution_count": 15,
   "metadata": {},
   "outputs": [
    {
     "data": {
      "text/plain": [
       "['What is the easiest way to learn how to create an app?',\n",
       " 'What are some fun and quick skills to learn? (e.g. learning how to whistle with your fingers)',\n",
       " 'How to convince yourself not to end your own life?',\n",
       " 'How to remove added Yahoo! mails to Gmail via gmailifying ???',\n",
       " 'How much would you have to be paid to urinate hedgehogs?',\n",
       " 'How often do you say yes to things you want to say no to and no to things you want to say yes to?',\n",
       " 'How much karma do I need to be able to post on r/dankmemes?',\n",
       " 'Whats the best way to explain how holidays work to your kids?',\n",
       " 'How many people went on to do what they wanted to be as a kid. Did it live up to expectation?',\n",
       " 'How many of you have slept with a celebrity? How was it and how did it come to happen?']"
      ]
     },
     "execution_count": 15,
     "metadata": {},
     "output_type": "execute_result"
    }
   ],
   "source": [
    "ten_most_similar(reddit_ques_corpus,\"how to learn programming\")"
   ]
  },
  {
   "cell_type": "markdown",
   "metadata": {},
   "source": [
    "_(2)_"
   ]
  },
  {
   "cell_type": "code",
   "execution_count": 16,
   "metadata": {},
   "outputs": [
    {
     "data": {
      "text/plain": [
       "['What is the best snack food/candy combination no one thinks of?',\n",
       " 'Cat Owners of Reddit, Why does my cat often vomit?',\n",
       " 'What Is the Best Southern/Comfort Food Meal You Can Think Of?',\n",
       " 'Food Delivery workers of Reddit what are your best and, or worst stories?',\n",
       " 'What is the best way to cheer someone up? My mother’s cat was killed',\n",
       " 'What is best shirt looks good on orange tabby cat from Furry McClaw? Not dress.',\n",
       " \"[Serious] What's the best food to eat to get nice big plump Poops?\",\n",
       " 'Cat people of Reddit, what is the weirdest thing you cat has ever done?',\n",
       " \"People who eat food what was the most digusting (not spoiled) food you've ever eaten?\",\n",
       " \"Pet owners, specifically cat owners of reddit. I want to get a cat to keep my company in my apartment but can't stand the smell of places where you know there's a cat long before you see a cat. How do you combat that smell and prevent it altogether?\"]"
      ]
     },
     "execution_count": 16,
     "metadata": {},
     "output_type": "execute_result"
    }
   ],
   "source": [
    "ten_most_similar(reddit_ques_corpus,\"best cat food\")"
   ]
  },
  {
   "cell_type": "markdown",
   "metadata": {},
   "source": [
    "_(3)_"
   ]
  },
  {
   "cell_type": "code",
   "execution_count": 17,
   "metadata": {},
   "outputs": [
    {
     "data": {
      "text/plain": [
       "[\"What skills did you actually gain from college that you couldn't gain as easily elsewhere?\",\n",
       " 'College students of Reddit, what is something you were told about college that ended up not being true?',\n",
       " \"Recent college graduates of Reddit, what are some tips you'd give to freshman and upperclassmen on surviving college?\",\n",
       " \"What are some telling signs that a college/college in general is not right for someone, specifically after they've begun at a university?\",\n",
       " 'To people who have been to college and got two degrees, what was it like in college the second time around?',\n",
       " 'People who graduated from college, what are some serious advice you have for people who are about to enter college?',\n",
       " \"What's something I should definitely do once I get into college?\",\n",
       " 'How well did you get along with your college roommate?',\n",
       " 'Any side hustles for college students to make extra cash?',\n",
       " 'What intresting skills you can learn on youtube or wikihow ?']"
      ]
     },
     "execution_count": 17,
     "metadata": {},
     "output_type": "execute_result"
    }
   ],
   "source": [
    "ten_most_similar(reddit_ques_corpus,\"college success skills\")"
   ]
  },
  {
   "cell_type": "markdown",
   "metadata": {},
   "source": [
    "_(4)_"
   ]
  },
  {
   "cell_type": "code",
   "execution_count": 18,
   "metadata": {},
   "outputs": [
    {
     "data": {
      "text/plain": [
       "[\"What's an example of a good song to listen to while looking at the sunset?\",\n",
       " 'Depressed redditors, what kind of music do you listen to for coping?',\n",
       " 'When vacationing, what parts of your country should I make sure to avoid?',\n",
       " 'What song cam you listen to a million times without tiring of it, and why?',\n",
       " 'What should I listen to on an 8 hour road trip?',\n",
       " 'Drug research test object for money, what to watch out for and what kind of researches should you never take part of?',\n",
       " 'What song makes you cry when you listen to it alone late at night?',\n",
       " 'If you had to pick one genre of music to listen to for the rest of your life, what would it be and why?',\n",
       " 'What is the coolest song from your home country that a boring Aussie like me should listen to?',\n",
       " 'Flight attendants of Reddit; what should we all be doing to make everyone’s life easier when flying?']"
      ]
     },
     "execution_count": 18,
     "metadata": {},
     "output_type": "execute_result"
    }
   ],
   "source": [
    "ten_most_similar(reddit_ques_corpus,\"what kind of song should I listen to when studying\")"
   ]
  },
  {
   "cell_type": "markdown",
   "metadata": {},
   "source": [
    "_(5)_"
   ]
  },
  {
   "cell_type": "code",
   "execution_count": 19,
   "metadata": {},
   "outputs": [
    {
     "data": {
      "text/plain": [
       "['What is your favorite episode of your favorite TV show?',\n",
       " 'Who is your favorite comedian and your favorite bit they do?',\n",
       " 'What is your favorite your least favorite part of growing older?',\n",
       " 'Favorite children when did you realize that you were your parents favorite?',\n",
       " 'What is your favorite quote? Why is not your favorite?',\n",
       " 'Reddit, what is your favorite book, and why did it become your favorite one?',\n",
       " 'Humans of Reddit, What are Your Favorite Movies? Also, What Genre is Your Favorite?',\n",
       " 'If your favorite artist released a song with your least favorite artist, would you listen to it?',\n",
       " \"What's your favorite book? Nonfiction. Or fiction. Or both. If you list both, which is your overall favorite?\",\n",
       " \"People of reddit what is your'e favorite cover band and what is your favorite cover frome them?\"]"
      ]
     },
     "execution_count": 19,
     "metadata": {},
     "output_type": "execute_result"
    }
   ],
   "source": [
    "ten_most_similar(reddit_ques_corpus,\"favorite dinner recipes\")"
   ]
  },
  {
   "cell_type": "markdown",
   "metadata": {},
   "source": [
    "#### b)"
   ]
  },
  {
   "cell_type": "markdown",
   "metadata": {},
   "source": [
    "score the retrieved questions for relevance:\n",
    "- very relevent: 2\n",
    "- somewhat relevent: 1\n",
    "- not relevent: 0"
   ]
  },
  {
   "cell_type": "code",
   "execution_count": 20,
   "metadata": {},
   "outputs": [],
   "source": [
    "rel_col1 = [2, 0, 0, 1, 0, 0, 0, 0, 0, 0]\n",
    "rel_col2 = [1, 1, 1, 0, 0, 0, 1, 0, 0, 1]\n",
    "rel_col3 = [1, 2, 2, 1, 1, 1, 1, 0, 0, 0]\n",
    "rel_col4 = [1, 0, 1, 1, 1, 0, 1, 1, 1, 0]\n",
    "rel_col5 = [1, 0, 0, 0, 1, 1, 1, 0, 1, 1]"
   ]
  },
  {
   "cell_type": "markdown",
   "metadata": {},
   "source": [
    "#### c)"
   ]
  },
  {
   "cell_type": "markdown",
   "metadata": {},
   "source": [
    "compute DCG at rank 10 for each query:"
   ]
  },
  {
   "cell_type": "markdown",
   "metadata": {},
   "source": [
    "_(1)_\n",
    "\n",
    "$$\n",
    "\\begin{aligned}\n",
    "D C G_{10}\n",
    "&=r_1+\\sum_{i=2}^{10} \\frac{r_i}{\\log _2 i} \\\\\n",
    "&= 2+0+0+\\frac{1}{\\log _2 4}+0+0+0+0+0+0 \\\\\n",
    "&= 2.5000\n",
    "\\end{aligned}\n",
    "$$"
   ]
  },
  {
   "cell_type": "markdown",
   "metadata": {},
   "source": [
    "_(2)_\n",
    "\n",
    "$$\n",
    "\\begin{aligned}\n",
    "D C G_{10}\n",
    "&=r_1+\\sum_{i=2}^{10} \\frac{r_i}{\\log _2 i} \\\\\n",
    "&= 1+\\frac{1}{\\log _2 2}+\\frac{1}{\\log _2 3}+0+0+0+\\frac{1}{\\log _2 7}+0+0+\\frac{1}{\\log _2 10} \\\\\n",
    "&= 3.2882\n",
    "\\end{aligned}\n",
    "$$"
   ]
  },
  {
   "cell_type": "markdown",
   "metadata": {},
   "source": [
    "_(3)_\n",
    "\n",
    "$$\n",
    "\\begin{aligned}\n",
    "D C G_{10}\n",
    "&=r_1+\\sum_{i=2}^{10} \\frac{r_i}{\\log _2 i} \\\\\n",
    "&= 1+\\frac{2}{\\log _2 2}+\\frac{2}{\\log _2 3}+\\frac{1}{\\log _2 4}+\\frac{1}{\\log _2 5}+\\frac{1}{\\log _2 6}+\\frac{1}{\\log _2 7}+0+0+0 \\\\\n",
    "&= 7.0962\n",
    "\\end{aligned}\n",
    "$$"
   ]
  },
  {
   "cell_type": "markdown",
   "metadata": {},
   "source": [
    "_(4)_\n",
    "\n",
    "$$\n",
    "\\begin{aligned}\n",
    "D C G_{10}\n",
    "&=r_1+\\sum_{i=2}^{10} \\frac{r_i}{\\log _2 i} \\\\\n",
    "&= 1+0+\\frac{1}{\\log _2 3}+\\frac{1}{\\log _2 4}+\\frac{1}{\\log _2 5}+0+\\frac{1}{\\log _2 7}+\\frac{1}{\\log _2 8}+\\frac{1}{\\log _2 9}+0\\\\\n",
    "&= 3.5667\n",
    "\\end{aligned}\n",
    "$$"
   ]
  },
  {
   "cell_type": "markdown",
   "metadata": {},
   "source": [
    "_(5)_\n",
    "\n",
    "$$\n",
    "\\begin{aligned}\n",
    "D C G_{10}\n",
    "&=r_1+\\sum_{i=2}^{10} \\frac{r_i}{\\log _2 i} \\\\\n",
    "&= 1+0+0+0+\\frac{1}{\\log _2 5}+\\frac{1}{\\log _2 6}+\\frac{1}{\\log _2 7}+0+\\frac{1}{\\log _2 9}+\\frac{1}{\\log _2 10} \\\\\n",
    "&= 2.7902\n",
    "\\end{aligned}\n",
    "$$"
   ]
  },
  {
   "cell_type": "markdown",
   "metadata": {},
   "source": [
    "### 3."
   ]
  },
  {
   "cell_type": "markdown",
   "metadata": {},
   "source": [
    "Overall, I think my IR system is not good enough because the search results are not accurate. For example, for the fifth query \"Favorite dinner recipe,\" \"dinner\" and \"recipe\" are obviously more important, but the search results are all about \"favorite\". This reveals the limitation of cosine similarity, where each word in the query has the same weight. If a word in the query occurs more than once in one question in the corpus (although the word is not representative enough), the question will be considered to have more similarity than the questions that have only one representative word. it is actually problematic, as in the example above.\n",
    "\n",
    "Based on the analysis above, I think the IR system would work well on short queries that only contain the keywords. It will perform poorly on the long queries that contains meaningless words or phrases like \"how to\"."
   ]
  },
  {
   "cell_type": "markdown",
   "metadata": {},
   "source": [
    "### 4."
   ]
  },
  {
   "cell_type": "code",
   "execution_count": 21,
   "metadata": {},
   "outputs": [
    {
     "data": {
      "image/png": "[encoded data removed]",
      "text/plain": [
       "<Figure size 576x360 with 1 Axes>"
      ]
     },
     "metadata": {
      "needs_background": "light"
     },
     "output_type": "display_data"
    }
   ],
   "source": [
    "def count_terms(corpus, n):\n",
    "    corpus_sub = corpus[0:n]\n",
    "    vectorizer = CountVectorizer()\n",
    "    model = vectorizer.fit(corpus_sub)\n",
    "    return len(model.vocabulary_)\n",
    "\n",
    "x = [500, 1000, 5000, 10000]\n",
    "y = [count_terms(reddit_ques_corpus,num) for num in x]\n",
    "df = pd.DataFrame({'question': x, 'vocabulary': y})\n",
    "\n",
    "fig, ax = plt.subplots(figsize=(8, 5))\n",
    "plot = sns.lineplot(x = 'question', y = 'vocabulary',data = df, marker=\"o\")"
   ]
  },
  {
   "cell_type": "markdown",
   "metadata": {},
   "source": [
    "This approach won't scale as we get more documents. \n",
    "- From the plot above we can find that as the number of documents increases, the slope becomes smaller and the vocabulary terms increases slower. Thus we can infer that the number of vocabulary terms will finally converge to a certain number with the increase of documents number. In other words, this approach won't scale. \n",
    "\n",
    "- From the common sense we know that the total vocabulary terms are limited and could not be infinite. Therefore, for any approach the number of vocabulary terms will not increase infinitely and will converge to a certain value, as well as this approach."
   ]
  }
 ],
 "metadata": {
  "kernelspec": {
   "display_name": "Python 3 (ipykernel)",
   "language": "python",
   "name": "python3"
  },
  "language_info": {
   "codemirror_mode": {
    "name": "ipython",
    "version": 3
   },
   "file_extension": ".py",
   "mimetype": "text/x-python",
   "name": "python",
   "nbconvert_exporter": "python",
   "pygments_lexer": "ipython3",
   "version": "3.9.12"
  }
 },
 "nbformat": 4,
 "nbformat_minor": 4
}
