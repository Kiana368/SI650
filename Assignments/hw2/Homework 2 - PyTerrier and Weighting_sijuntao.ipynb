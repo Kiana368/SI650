{
 "cells": [
  {
   "cell_type": "markdown",
   "metadata": {
    "id": "6UxEkLc6yz6J"
   },
   "source": [
    "# SI 650 / EECS 549: Homework 2\n",
    "\n",
    "## Introduction to PyTerrier and Weighting Functions\n",
    "\n",
    "This homework is intended to expose you to other types of information retrieval and demonstrates the use of another state of the art IR library, [PyTerrier](https://github.com/terrier-org/pyterrier). \n",
    "\n",
    "The overall learning goals of the assignment across all tasks are\n",
    "  - Learn how to install (and debug) new software libraries\n",
    "  - Learn how to use PyTerrier  \n",
    "  - Understand how to use document augmentation\n",
    "  - Gain additional programming and debugging skills when working with modern IR libraries\n",
    "  - Learn how weighting functions work and are implemented\n",
    "  - Gain skills in experimentation and evaluation of IR models\n",
    "  \n",
    "Homework 2 will have you working on the following tasks to get you started:\n",
    "  - PyTerrier installation & configuration\n",
    "  - indexing a collection\n",
    "  - accessing an index\n",
    "  - using the `BatchRetrieve` transformer for searching an index\n",
    "  - conducting an `Experiment`\n",
    "  - Writing BM25 and Pivoted normalization from scratch as weighting functions\n",
    "  - Writing your own custom weighting function\n",
    "\n",
    "For all parts of the homework, you shoud run them on your local computer with enough time. We _strongly_ discourage running these on any remote system (e.g., colab) at the moment, as we have designed this homework in mind with helping you build the skills of installing and runnnig complex libraries.\n",
    "\n",
    "For each notebook, all the programming tasks that you will need to complete are marked with **Task** in a cell title comment. You will need to do a bit of analysis and writing. Writing responses should be submitted in a **separate** document than the notebook.\n",
    "\n",
    "Like many python-based IR frameworks, PyTerrier  uses a Java-based library underneith, [Terrier information retrieval toolkit](http://terrier.org), so you may need to set `JAVA_HOME` accordingly. Java is a high performance computing language and has a rich set of efficient implemenations for many indexing and retrieval operations. PyTerrier is relatively new in 2020, but Terrier has a long history dating back to 2001 and  makes it easy to perform IR experiments in Python, which could come in handy for you when doing your course project.\n",
    "\n",
    "To complete the homework, you will need to see the [PyTerrier documentation](https://pyterrier.readthedocs.io/en/latest/) for many more details."
   ]
  },
  {
   "cell_type": "code",
   "execution_count": 1,
   "metadata": {},
   "outputs": [
    {
     "name": "stdout",
     "output_type": "stream",
     "text": [
      "Requirement already satisfied: fastrank in /Users/junsi/opt/anaconda3/lib/python3.9/site-packages (0.7.0)\n",
      "Collecting lightgbm==3.1.1\n",
      "  Using cached lightgbm-3.1.1-py2.py3-none-macosx_10_13_x86_64.macosx_10_14_x86_64.macosx_10_15_x86_64.whl (1.0 MB)\n",
      "Requirement already satisfied: scipy in /Users/junsi/opt/anaconda3/lib/python3.9/site-packages (from lightgbm==3.1.1) (1.9.3)\n",
      "Requirement already satisfied: numpy in /Users/junsi/opt/anaconda3/lib/python3.9/site-packages (from lightgbm==3.1.1) (1.23.4)\n",
      "Requirement already satisfied: scikit-learn!=0.22.0 in /Users/junsi/opt/anaconda3/lib/python3.9/site-packages (from lightgbm==3.1.1) (1.0.2)\n",
      "Requirement already satisfied: wheel in /Users/junsi/opt/anaconda3/lib/python3.9/site-packages (from lightgbm==3.1.1) (0.37.1)\n",
      "Requirement already satisfied: cffi in /Users/junsi/opt/anaconda3/lib/python3.9/site-packages (from fastrank) (1.15.0)\n",
      "Requirement already satisfied: attrs in /Users/junsi/opt/anaconda3/lib/python3.9/site-packages (from fastrank) (21.4.0)\n",
      "Requirement already satisfied: joblib>=0.11 in /Users/junsi/opt/anaconda3/lib/python3.9/site-packages (from scikit-learn!=0.22.0->lightgbm==3.1.1) (1.1.0)\n",
      "Requirement already satisfied: threadpoolctl>=2.0.0 in /Users/junsi/opt/anaconda3/lib/python3.9/site-packages (from scikit-learn!=0.22.0->lightgbm==3.1.1) (2.2.0)\n",
      "Requirement already satisfied: pycparser in /Users/junsi/opt/anaconda3/lib/python3.9/site-packages (from cffi->fastrank) (2.21)\n",
      "Installing collected packages: lightgbm\n",
      "Successfully installed lightgbm-3.1.1\n",
      "\n",
      "\u001b[1m[\u001b[0m\u001b[34;49mnotice\u001b[0m\u001b[1;39;49m]\u001b[0m\u001b[39;49m A new release of pip available: \u001b[0m\u001b[31;49m22.3\u001b[0m\u001b[39;49m -> \u001b[0m\u001b[32;49m22.3.1\u001b[0m\n",
      "\u001b[1m[\u001b[0m\u001b[34;49mnotice\u001b[0m\u001b[1;39;49m]\u001b[0m\u001b[39;49m To update, run: \u001b[0m\u001b[32;49mpip install --upgrade pip\u001b[0m\n",
      "Collecting python-terrier\n",
      "  Downloading python-terrier-0.9.1.tar.gz (102 kB)\n",
      "\u001b[2K     \u001b[90m━━━━━━━━━━━━━━━━━━━━━━━━━━━━━━━━━━━━━━━\u001b[0m \u001b[32m102.9/102.9 kB\u001b[0m \u001b[31m2.2 MB/s\u001b[0m eta \u001b[36m0:00:00\u001b[0m00:01\u001b[0m\n",
      "\u001b[?25h  Preparing metadata (setup.py) ... \u001b[?25ldone\n",
      "\u001b[?25hRequirement already satisfied: numpy in /Users/junsi/opt/anaconda3/lib/python3.9/site-packages (from python-terrier) (1.23.4)\n",
      "Requirement already satisfied: pandas in /Users/junsi/opt/anaconda3/lib/python3.9/site-packages (from python-terrier) (1.4.2)\n",
      "Requirement already satisfied: wget in /Users/junsi/opt/anaconda3/lib/python3.9/site-packages (from python-terrier) (3.2)\n",
      "Requirement already satisfied: tqdm in /Users/junsi/opt/anaconda3/lib/python3.9/site-packages (from python-terrier) (4.64.0)\n",
      "Collecting pyjnius>=1.4.2\n",
      "  Downloading pyjnius-1.4.2-cp39-cp39-macosx_10_9_x86_64.whl (276 kB)\n",
      "\u001b[2K     \u001b[90m━━━━━━━━━━━━━━━━━━━━━━━━━━━━━━━━━━━━━━━\u001b[0m \u001b[32m276.3/276.3 kB\u001b[0m \u001b[31m6.7 MB/s\u001b[0m eta \u001b[36m0:00:00\u001b[0ma \u001b[36m0:00:01\u001b[0m\n",
      "\u001b[?25hRequirement already satisfied: matchpy in /Users/junsi/opt/anaconda3/lib/python3.9/site-packages (from python-terrier) (0.5.5)\n",
      "Requirement already satisfied: sklearn in /Users/junsi/opt/anaconda3/lib/python3.9/site-packages (from python-terrier) (0.0)\n",
      "Collecting deprecated\n",
      "  Downloading Deprecated-1.2.13-py2.py3-none-any.whl (9.6 kB)\n",
      "Requirement already satisfied: chest in /Users/junsi/opt/anaconda3/lib/python3.9/site-packages (from python-terrier) (0.2.3)\n",
      "Requirement already satisfied: scipy in /Users/junsi/opt/anaconda3/lib/python3.9/site-packages (from python-terrier) (1.9.3)\n",
      "Requirement already satisfied: requests in /Users/junsi/opt/anaconda3/lib/python3.9/site-packages (from python-terrier) (2.27.1)\n",
      "Requirement already satisfied: joblib in /Users/junsi/opt/anaconda3/lib/python3.9/site-packages (from python-terrier) (1.1.0)\n",
      "Requirement already satisfied: nptyping==1.4.4 in /Users/junsi/opt/anaconda3/lib/python3.9/site-packages (from python-terrier) (1.4.4)\n",
      "Requirement already satisfied: more_itertools in /Users/junsi/opt/anaconda3/lib/python3.9/site-packages (from python-terrier) (8.14.0)\n",
      "Requirement already satisfied: ir_datasets>=0.3.2 in /Users/junsi/opt/anaconda3/lib/python3.9/site-packages (from python-terrier) (0.5.3)\n",
      "Requirement already satisfied: jinja2 in /Users/junsi/opt/anaconda3/lib/python3.9/site-packages (from python-terrier) (2.11.3)\n",
      "Requirement already satisfied: statsmodels in /Users/junsi/opt/anaconda3/lib/python3.9/site-packages (from python-terrier) (0.13.2)\n",
      "Requirement already satisfied: ir_measures>=0.3.1 in /Users/junsi/opt/anaconda3/lib/python3.9/site-packages (from python-terrier) (0.3.1)\n",
      "Requirement already satisfied: dill in /Users/junsi/opt/anaconda3/lib/python3.9/site-packages (from python-terrier) (0.3.5.1)\n",
      "Requirement already satisfied: pytrec_eval_terrier>=0.5.3 in /Users/junsi/opt/anaconda3/lib/python3.9/site-packages (from python-terrier) (0.5.4)\n",
      "Requirement already satisfied: typish>=1.7.0 in /Users/junsi/opt/anaconda3/lib/python3.9/site-packages (from nptyping==1.4.4->python-terrier) (1.9.3)\n",
      "Requirement already satisfied: warc3-wet>=0.2.3 in /Users/junsi/opt/anaconda3/lib/python3.9/site-packages (from ir_datasets>=0.3.2->python-terrier) (0.2.3)\n",
      "Requirement already satisfied: lxml>=4.5.2 in /Users/junsi/opt/anaconda3/lib/python3.9/site-packages (from ir_datasets>=0.3.2->python-terrier) (4.8.0)\n",
      "Requirement already satisfied: trec-car-tools>=2.5.4 in /Users/junsi/opt/anaconda3/lib/python3.9/site-packages (from ir_datasets>=0.3.2->python-terrier) (2.6)\n",
      "Requirement already satisfied: pyyaml>=5.3.1 in /Users/junsi/opt/anaconda3/lib/python3.9/site-packages (from ir_datasets>=0.3.2->python-terrier) (6.0)\n",
      "Requirement already satisfied: pyautocorpus>=0.1.1 in /Users/junsi/opt/anaconda3/lib/python3.9/site-packages (from ir_datasets>=0.3.2->python-terrier) (0.1.8)\n",
      "Requirement already satisfied: unlzw3>=0.2.1 in /Users/junsi/opt/anaconda3/lib/python3.9/site-packages (from ir_datasets>=0.3.2->python-terrier) (0.2.1)\n",
      "Requirement already satisfied: lz4>=3.1.1 in /Users/junsi/opt/anaconda3/lib/python3.9/site-packages (from ir_datasets>=0.3.2->python-terrier) (4.0.2)\n",
      "Requirement already satisfied: warc3-wet-clueweb09>=0.2.5 in /Users/junsi/opt/anaconda3/lib/python3.9/site-packages (from ir_datasets>=0.3.2->python-terrier) (0.2.5)\n",
      "Requirement already satisfied: zlib-state>=0.1.3 in /Users/junsi/opt/anaconda3/lib/python3.9/site-packages (from ir_datasets>=0.3.2->python-terrier) (0.1.5)\n",
      "Requirement already satisfied: ijson>=3.1.3 in /Users/junsi/opt/anaconda3/lib/python3.9/site-packages (from ir_datasets>=0.3.2->python-terrier) (3.1.4)\n",
      "Requirement already satisfied: beautifulsoup4>=4.4.1 in /Users/junsi/opt/anaconda3/lib/python3.9/site-packages (from ir_datasets>=0.3.2->python-terrier) (4.11.1)\n",
      "Requirement already satisfied: cwl-eval>=1.0.10 in /Users/junsi/opt/anaconda3/lib/python3.9/site-packages (from ir_measures>=0.3.1->python-terrier) (1.0.10)\n",
      "Requirement already satisfied: six>=1.7.0 in /Users/junsi/opt/anaconda3/lib/python3.9/site-packages (from pyjnius>=1.4.2->python-terrier) (1.16.0)\n",
      "Requirement already satisfied: urllib3<1.27,>=1.21.1 in /Users/junsi/opt/anaconda3/lib/python3.9/site-packages (from requests->python-terrier) (1.26.9)\n",
      "Requirement already satisfied: charset-normalizer~=2.0.0 in /Users/junsi/opt/anaconda3/lib/python3.9/site-packages (from requests->python-terrier) (2.0.4)\n",
      "Requirement already satisfied: certifi>=2017.4.17 in /Users/junsi/opt/anaconda3/lib/python3.9/site-packages (from requests->python-terrier) (2021.10.8)\n",
      "Requirement already satisfied: idna<4,>=2.5 in /Users/junsi/opt/anaconda3/lib/python3.9/site-packages (from requests->python-terrier) (3.3)\n",
      "Requirement already satisfied: heapdict in /Users/junsi/opt/anaconda3/lib/python3.9/site-packages (from chest->python-terrier) (1.0.1)\n",
      "Requirement already satisfied: wrapt<2,>=1.10 in /Users/junsi/opt/anaconda3/lib/python3.9/site-packages (from deprecated->python-terrier) (1.12.1)\n",
      "Requirement already satisfied: MarkupSafe>=0.23 in /Users/junsi/opt/anaconda3/lib/python3.9/site-packages (from jinja2->python-terrier) (2.0.1)\n",
      "Requirement already satisfied: multiset<3.0,>=2.0 in /Users/junsi/opt/anaconda3/lib/python3.9/site-packages (from matchpy->python-terrier) (2.1.1)\n",
      "Requirement already satisfied: python-dateutil>=2.8.1 in /Users/junsi/opt/anaconda3/lib/python3.9/site-packages (from pandas->python-terrier) (2.8.2)\n",
      "Requirement already satisfied: pytz>=2020.1 in /Users/junsi/opt/anaconda3/lib/python3.9/site-packages (from pandas->python-terrier) (2021.3)\n",
      "Requirement already satisfied: scikit-learn in /Users/junsi/opt/anaconda3/lib/python3.9/site-packages (from sklearn->python-terrier) (1.0.2)\n"
     ]
    },
    {
     "name": "stdout",
     "output_type": "stream",
     "text": [
      "Requirement already satisfied: packaging>=21.3 in /Users/junsi/opt/anaconda3/lib/python3.9/site-packages (from statsmodels->python-terrier) (21.3)\n",
      "Requirement already satisfied: patsy>=0.5.2 in /Users/junsi/opt/anaconda3/lib/python3.9/site-packages (from statsmodels->python-terrier) (0.5.2)\n",
      "Requirement already satisfied: soupsieve>1.2 in /Users/junsi/opt/anaconda3/lib/python3.9/site-packages (from beautifulsoup4>=4.4.1->ir_datasets>=0.3.2->python-terrier) (2.3.1)\n",
      "Requirement already satisfied: pyparsing!=3.0.5,>=2.0.2 in /Users/junsi/opt/anaconda3/lib/python3.9/site-packages (from packaging>=21.3->statsmodels->python-terrier) (3.0.4)\n",
      "Requirement already satisfied: cbor>=1.0.0 in /Users/junsi/opt/anaconda3/lib/python3.9/site-packages (from trec-car-tools>=2.5.4->ir_datasets>=0.3.2->python-terrier) (1.0.0)\n",
      "Requirement already satisfied: threadpoolctl>=2.0.0 in /Users/junsi/opt/anaconda3/lib/python3.9/site-packages (from scikit-learn->sklearn->python-terrier) (2.2.0)\n",
      "Building wheels for collected packages: python-terrier\n",
      "  Building wheel for python-terrier (setup.py) ... \u001b[?25ldone\n",
      "\u001b[?25h  Created wheel for python-terrier: filename=python_terrier-0.9.1-py3-none-any.whl size=110766 sha256=2244791faf14d91c558fd97cbb46d3d720f189a5e928b4150f88838e799c37c0\n",
      "  Stored in directory: /Users/junsi/Library/Caches/pip/wheels/9e/26/80/c1a4c077dd7115b4b35c1443de7760ee1b7731d5909b110b5c\n",
      "Successfully built python-terrier\n",
      "Installing collected packages: pyjnius, deprecated, python-terrier\n",
      "  Attempting uninstall: pyjnius\n",
      "    Found existing installation: pyjnius 1.3.0\n",
      "    Uninstalling pyjnius-1.3.0:\n",
      "      Successfully uninstalled pyjnius-1.3.0\n",
      "Successfully installed deprecated-1.2.13 pyjnius-1.4.2 python-terrier-0.9.1\n",
      "\n",
      "\u001b[1m[\u001b[0m\u001b[34;49mnotice\u001b[0m\u001b[1;39;49m]\u001b[0m\u001b[39;49m A new release of pip available: \u001b[0m\u001b[31;49m22.3\u001b[0m\u001b[39;49m -> \u001b[0m\u001b[32;49m22.3.1\u001b[0m\n",
      "\u001b[1m[\u001b[0m\u001b[34;49mnotice\u001b[0m\u001b[1;39;49m]\u001b[0m\u001b[39;49m To update, run: \u001b[0m\u001b[32;49mpip install --upgrade pip\u001b[0m\n"
     ]
    }
   ],
   "source": [
    "!pip install --upgrade fastrank lightgbm==3.1.1\n",
    "!pip install python-terrier"
   ]
  },
  {
   "cell_type": "markdown",
   "metadata": {},
   "source": [
    "### Imports"
   ]
  },
  {
   "cell_type": "code",
   "execution_count": 2,
   "metadata": {},
   "outputs": [],
   "source": [
    "import pandas as pd\n",
    "# Helpful for showing indexing information\n",
    "pd.set_option('display.max_colwidth', 150)\n",
    "\n",
    "import pyterrier as pt\n",
    "import os"
   ]
  },
  {
   "cell_type": "markdown",
   "metadata": {
    "id": "iH0Ds2370V0G"
   },
   "source": [
    "### Starting PyTerrier\n",
    "\n",
    "The first step is to initialise PyTerrier using PyTerrier's `init()` method. The `init()` method will download Terrier's jar file (if it's not already) and then start the Java Virtual Machine. To avoid downstream complications, we check `started()` prior to calling `init()` to prevent multiple Terrier instances from running concurrently."
   ]
  },
  {
   "cell_type": "code",
   "execution_count": 3,
   "metadata": {
    "colab": {
     "base_uri": "https://localhost:8080/"
    },
    "executionInfo": {
     "elapsed": 17656,
     "status": "ok",
     "timestamp": 1615971633689,
     "user": {
      "displayName": "Nicola Tonellotto",
      "photoUrl": "https://lh3.googleusercontent.com/a-/AOh14Gga8BaxLsPFWvzzBzSximki7T2Jsnf0EEARTd_h=s64",
      "userId": "17533833776178224794"
     },
     "user_tz": -60
    },
    "id": "Z4qALBa90-7g",
    "outputId": "378c8773-686c-4abc-d1b5-af80d18cfed0"
   },
   "outputs": [
    {
     "name": "stderr",
     "output_type": "stream",
     "text": [
      "PyTerrier 0.9.1 has loaded Terrier 5.7 (built by craigm on 2022-11-10 18:30) and terrier-helper 0.0.7\n",
      "\n",
      "No etc/terrier.properties, using terrier.default.properties for bootstrap configuration.\n"
     ]
    }
   ],
   "source": [
    "if not pt.started():\n",
    "    pt.init()"
   ]
  },
  {
   "cell_type": "markdown",
   "metadata": {
    "id": "-qqjVSu-5_FX"
   },
   "source": [
    "### Documents, Indexing and Indexes"
   ]
  },
  {
   "cell_type": "markdown",
   "metadata": {
    "id": "3soS1IIy5B83"
   },
   "source": [
    "PyTerrier typically works with Pandas dataframes for inputs. Let's create a toy set of documents in a dataframe to test. Note that the column name of `docno` is a special PyTerrier name that is the unique identifier for each document."
   ]
  },
  {
   "cell_type": "code",
   "execution_count": 4,
   "metadata": {
    "colab": {
     "base_uri": "https://localhost:8080/",
     "height": 142
    },
    "executionInfo": {
     "elapsed": 14933,
     "status": "ok",
     "timestamp": 1615971633692,
     "user": {
      "displayName": "Nicola Tonellotto",
      "photoUrl": "https://lh3.googleusercontent.com/a-/AOh14Gga8BaxLsPFWvzzBzSximki7T2Jsnf0EEARTd_h=s64",
      "userId": "17533833776178224794"
     },
     "user_tz": -60
    },
    "id": "gSEiEuTE5uyL",
    "outputId": "8ef282f5-94df-403f-c501-6147f62d2de8"
   },
   "outputs": [
    {
     "data": {
      "text/html": [
       "<div>\n",
       "<style scoped>\n",
       "    .dataframe tbody tr th:only-of-type {\n",
       "        vertical-align: middle;\n",
       "    }\n",
       "\n",
       "    .dataframe tbody tr th {\n",
       "        vertical-align: top;\n",
       "    }\n",
       "\n",
       "    .dataframe thead th {\n",
       "        text-align: right;\n",
       "    }\n",
       "</style>\n",
       "<table border=\"1\" class=\"dataframe\">\n",
       "  <thead>\n",
       "    <tr style=\"text-align: right;\">\n",
       "      <th></th>\n",
       "      <th>docno</th>\n",
       "      <th>text</th>\n",
       "    </tr>\n",
       "  </thead>\n",
       "  <tbody>\n",
       "    <tr>\n",
       "      <th>0</th>\n",
       "      <td>d1</td>\n",
       "      <td>this is the first document of many documents</td>\n",
       "    </tr>\n",
       "    <tr>\n",
       "      <th>1</th>\n",
       "      <td>d2</td>\n",
       "      <td>this is another document</td>\n",
       "    </tr>\n",
       "    <tr>\n",
       "      <th>2</th>\n",
       "      <td>d3</td>\n",
       "      <td>the topic of this document is unknown</td>\n",
       "    </tr>\n",
       "  </tbody>\n",
       "</table>\n",
       "</div>"
      ],
      "text/plain": [
       "  docno                                          text\n",
       "0    d1  this is the first document of many documents\n",
       "1    d2                      this is another document\n",
       "2    d3         the topic of this document is unknown"
      ]
     },
     "execution_count": 4,
     "metadata": {},
     "output_type": "execute_result"
    }
   ],
   "source": [
    "docs_df = pd.DataFrame([\n",
    "        [\"d1\", \"this is the first document of many documents\"],\n",
    "        [\"d2\", \"this is another document\"],\n",
    "        [\"d3\", \"the topic of this document is unknown\"]\n",
    "    ], columns=[\"docno\", \"text\"])\n",
    "\n",
    "docs_df"
   ]
  },
  {
   "cell_type": "markdown",
   "metadata": {
    "id": "2RCtCCTU6GAj"
   },
   "source": [
    "Before any search engine can estimate which documents are most likely to be relevant for a given query, it must index the documents. \n",
    "\n",
    "In the following cell, we index the dataframe's documents. The index, with all its data structures, is written into a directory called `toydocs_index`. "
   ]
  },
  {
   "cell_type": "code",
   "execution_count": 5,
   "metadata": {
    "colab": {
     "base_uri": "https://localhost:8080/",
     "height": 37
    },
    "executionInfo": {
     "elapsed": 2312,
     "status": "ok",
     "timestamp": 1615971681350,
     "user": {
      "displayName": "Nicola Tonellotto",
      "photoUrl": "https://lh3.googleusercontent.com/a-/AOh14Gga8BaxLsPFWvzzBzSximki7T2Jsnf0EEARTd_h=s64",
      "userId": "17533833776178224794"
     },
     "user_tz": -60
    },
    "id": "1YvLhEOS6V8w",
    "outputId": "ebe4070d-7160-42ba-bbfe-e5ccc2f3165b"
   },
   "outputs": [
    {
     "data": {
      "text/plain": [
       "'./toydocs_index/data.properties'"
      ]
     },
     "execution_count": 5,
     "metadata": {},
     "output_type": "execute_result"
    }
   ],
   "source": [
    "index_dir = './toydocs_index'\n",
    "indexer = pt.DFIndexer(index_dir, overwrite=True)\n",
    "index_ref = indexer.index(docs_df[\"text\"], docs_df[\"docno\"])\n",
    "index_ref.toString()"
   ]
  },
  {
   "cell_type": "markdown",
   "metadata": {
    "id": "TUm6r6_625gW"
   },
   "source": [
    "PyTerrier will generate a index in the `toydocs_index` directory and and we can list the files to see what kind of internal structure and files it made"
   ]
  },
  {
   "cell_type": "code",
   "execution_count": 5,
   "metadata": {
    "colab": {
     "base_uri": "https://localhost:8080/"
    },
    "executionInfo": {
     "elapsed": 581,
     "status": "ok",
     "timestamp": 1615971697027,
     "user": {
      "displayName": "Nicola Tonellotto",
      "photoUrl": "https://lh3.googleusercontent.com/a-/AOh14Gga8BaxLsPFWvzzBzSximki7T2Jsnf0EEARTd_h=s64",
      "userId": "17533833776178224794"
     },
     "user_tz": -60
    },
    "id": "TF45pl5O8p7R",
    "outputId": "c039d811-aebe-4e4d-f1d4-18b2b989d4c5"
   },
   "outputs": [
    {
     "data": {
      "text/plain": [
       "['data.inverted.bf',\n",
       " 'data.direct.bf',\n",
       " 'data.lexicon.fsomaphash',\n",
       " 'data.lexicon.fsomapfile',\n",
       " 'data.properties',\n",
       " 'data.document.fsarrayfile',\n",
       " 'data.meta-0.fsomapfile',\n",
       " 'data.meta.zdata',\n",
       " 'data.meta.idx']"
      ]
     },
     "execution_count": 5,
     "metadata": {},
     "output_type": "execute_result"
    }
   ],
   "source": [
    "os.listdir(index_dir)"
   ]
  },
  {
   "cell_type": "markdown",
   "metadata": {},
   "source": [
    "Though not necessary, we encourage you to take a look at some of these files. What's in them? Do they make any sense? For fun, it can be useful to go find the python (or Java) code that reads these files and try to understand what makes up the index."
   ]
  },
  {
   "cell_type": "markdown",
   "metadata": {
    "id": "B2b8isFP3Kv6"
   },
   "source": [
    "Once we've generated the files associated with `index_ref`, we can load the information into an actual PyTerrier index using the method `pt.IndexFactory.of()`. "
   ]
  },
  {
   "cell_type": "code",
   "execution_count": 6,
   "metadata": {
    "colab": {
     "base_uri": "https://localhost:8080/"
    },
    "executionInfo": {
     "elapsed": 587,
     "status": "ok",
     "timestamp": 1615971763026,
     "user": {
      "displayName": "Nicola Tonellotto",
      "photoUrl": "https://lh3.googleusercontent.com/a-/AOh14Gga8BaxLsPFWvzzBzSximki7T2Jsnf0EEARTd_h=s64",
      "userId": "17533833776178224794"
     },
     "user_tz": -60
    },
    "id": "TTM17szD6pNy",
    "outputId": "0d00514e-b30f-4b0c-a991-d618d24bb756"
   },
   "outputs": [],
   "source": [
    "index = pt.IndexFactory.of(index_ref)"
   ]
  },
  {
   "cell_type": "markdown",
   "metadata": {
    "id": "mZe3HD5i7G3v"
   },
   "source": [
    "See Terrier's [`Index`](http://terrier.org/docs/current/javadoc/org/terrier/structures/Index.html) object for documentation, which is written in Java's Javadoc format. We can call these methods on our index object as well. Important methods to note are:\n",
    " - `getCollectionStatistics()`\n",
    " - `getInvertedIndex()`\n",
    " - `getLexicon()`\n",
    "\n",
    "Let's see what is returned by the `CollectionStatistics()` method:"
   ]
  },
  {
   "cell_type": "code",
   "execution_count": 7,
   "metadata": {
    "colab": {
     "base_uri": "https://localhost:8080/"
    },
    "executionInfo": {
     "elapsed": 629,
     "status": "ok",
     "timestamp": 1615972787602,
     "user": {
      "displayName": "Nicola Tonellotto",
      "photoUrl": "https://lh3.googleusercontent.com/a-/AOh14Gga8BaxLsPFWvzzBzSximki7T2Jsnf0EEARTd_h=s64",
      "userId": "17533833776178224794"
     },
     "user_tz": -60
    },
    "id": "6-gXEDSX65bx",
    "outputId": "5491223b-5b50-48c2-8232-d75970e2c2ae"
   },
   "outputs": [
    {
     "name": "stdout",
     "output_type": "stream",
     "text": [
      "Number of documents: 3\n",
      "Number of terms: 4\n",
      "Number of postings: 6\n",
      "Number of fields: 0\n",
      "Number of tokens: 7\n",
      "Field names: []\n",
      "Positions:   false\n",
      "\n"
     ]
    }
   ],
   "source": [
    "print(index.getCollectionStatistics().toString())"
   ]
  },
  {
   "cell_type": "markdown",
   "metadata": {
    "id": "i6HrR4lc7i10"
   },
   "source": [
    "Let's unpack the statistics a bit more. We have 3 documents but why do we have only 4 unique terms? We can look at which terms we have by getting the [`Lexicon`](http://terrier.org/docs/current/javadoc/org/terrier/structures/Lexicon.html) object, which contains our vocabulary. We can iterate over the `Lexicon` from Python like a dictionary to see which terms are present and whaht information there is about each term after indexing."
   ]
  },
  {
   "cell_type": "code",
   "execution_count": 8,
   "metadata": {
    "colab": {
     "base_uri": "https://localhost:8080/"
    },
    "executionInfo": {
     "elapsed": 585,
     "status": "ok",
     "timestamp": 1615971875714,
     "user": {
      "displayName": "Nicola Tonellotto",
      "photoUrl": "https://lh3.googleusercontent.com/a-/AOh14Gga8BaxLsPFWvzzBzSximki7T2Jsnf0EEARTd_h=s64",
      "userId": "17533833776178224794"
     },
     "user_tz": -60
    },
    "id": "us2mAzTW7Bny",
    "outputId": "e10d37e2-84a4-448d-9ed9-3d72a5ad5ab7"
   },
   "outputs": [
    {
     "name": "stdout",
     "output_type": "stream",
     "text": [
      "document (<class 'str'>) -> term0 Nt=3 TF=4 maxTF=2 @{0 0 0} (<class 'jnius.reflect.org.terrier.structures.LexiconEntry'>)\n",
      "first (<class 'str'>) -> term1 Nt=1 TF=1 maxTF=1 @{0 0 7} (<class 'jnius.reflect.org.terrier.structures.LexiconEntry'>)\n",
      "topic (<class 'str'>) -> term2 Nt=1 TF=1 maxTF=1 @{0 1 1} (<class 'jnius.reflect.org.terrier.structures.LexiconEntry'>)\n",
      "unknown (<class 'str'>) -> term3 Nt=1 TF=1 maxTF=1 @{0 1 5} (<class 'jnius.reflect.org.terrier.structures.LexiconEntry'>)\n"
     ]
    }
   ],
   "source": [
    "for kv in index.getLexicon():\n",
    "    # Let's all print the type information of each to get a sense of what we're working with\n",
    "    print(\"%s (%s) -> %s (%s)\" % (kv.getKey(), type(kv.getKey()), kv.getValue().toString(), type(kv.getValue()) ) )"
   ]
  },
  {
   "cell_type": "markdown",
   "metadata": {
    "id": "fwbp94gh86pw"
   },
   "source": [
    "Iterating over the `Lexicon` shows that we're mapping a `String ` term to a [`LexiconEntry`](http://terrier.org/docs/current/javadoc/org/terrier/structures/LexiconEntry.html) object, which itself is an [`EntryStatistics`](http://terrier.org/docs/current/javadoc/org/terrier/structures/EntryStatistics.html). The `LexiconEntry` contains information including the statistics of that term.\n",
    "\n",
    "Looking at what we indexed reveals that PyTerrier is removing stopwords for us, much like Pyserini did. PyTerrier is also doing some token normalization as well so that we only have \"document\" in our index, even though document `d1` has the token \"documents\"! By default Terrier removes standard stopwords and applies Porter's stemmer (which we talked about in class), though these behaviors can be configured.\n",
    "\n",
    "The `EntryStatistics` also provides a few other fields that offer insights:\n",
    " - `Nt` is the number of unique documents that each term occurs in – this is useful for calculating IDF.\n",
    " - `TF` is the total number of occurrences – some weighting models use this instead of Nt.\n",
    " - The numbers in the `@{}` are a pointer – they tell Terrier where the postings are for that term in the inverted index data structure."
   ]
  },
  {
   "cell_type": "markdown",
   "metadata": {},
   "source": [
    "PyTerrier also supports directly looking up a word using the `[]` operator, much like we would if we were looking up a key's value in a dictionary. Let's look up the value for the word \"document\":"
   ]
  },
  {
   "cell_type": "code",
   "execution_count": 9,
   "metadata": {
    "colab": {
     "base_uri": "https://localhost:8080/",
     "height": 37
    },
    "executionInfo": {
     "elapsed": 591,
     "status": "ok",
     "timestamp": 1615972070133,
     "user": {
      "displayName": "Nicola Tonellotto",
      "photoUrl": "https://lh3.googleusercontent.com/a-/AOh14Gga8BaxLsPFWvzzBzSximki7T2Jsnf0EEARTd_h=s64",
      "userId": "17533833776178224794"
     },
     "user_tz": -60
    },
    "id": "SZmi9498-Ijw",
    "outputId": "1dccc860-2f99-4e62-b1cc-da4918003b11"
   },
   "outputs": [
    {
     "name": "stdout",
     "output_type": "stream",
     "text": [
      "term0 Nt=3 TF=4 maxTF=2 @{0 0 0}\n"
     ]
    }
   ],
   "source": [
    "print(index.getLexicon()[\"document\"])"
   ]
  },
  {
   "cell_type": "markdown",
   "metadata": {
    "id": "vaKaU59l-kzg"
   },
   "source": [
    "We can use the information in the `Lexicon` to also look up documents as well. Remember from class that an inverted index is a mapping from a term to which *documents* each term occurs in. The `LexiconEntry` for a word contains the pointer to where to find the documents for that word in the inverted index. \n",
    "\n",
    "The object retrieved from using the `[]` operator with a `Lexicon` is a pointer that we can use with the inverted index."
   ]
  },
  {
   "cell_type": "code",
   "execution_count": 10,
   "metadata": {
    "colab": {
     "base_uri": "https://localhost:8080/"
    },
    "executionInfo": {
     "elapsed": 640,
     "status": "ok",
     "timestamp": 1615972108524,
     "user": {
      "displayName": "Nicola Tonellotto",
      "photoUrl": "https://lh3.googleusercontent.com/a-/AOh14Gga8BaxLsPFWvzzBzSximki7T2Jsnf0EEARTd_h=s64",
      "userId": "17533833776178224794"
     },
     "user_tz": -60
    },
    "id": "XQki_Pds8ut2",
    "outputId": "f7824c65-33d9-499f-f9dc-97d8d7e652c5"
   },
   "outputs": [
    {
     "name": "stdout",
     "output_type": "stream",
     "text": [
      "ID(0) TF(2) doclen=3\n",
      "ID(1) TF(1) doclen=1\n",
      "ID(2) TF(1) doclen=3\n"
     ]
    }
   ],
   "source": [
    "pointer = index.getLexicon()[\"document\"]\n",
    "for posting in index.getInvertedIndex().getPostings(pointer):\n",
    "    print(str(posting) + \" doclen=%d\" % posting.getDocumentLength())"
   ]
  },
  {
   "cell_type": "markdown",
   "metadata": {
    "id": "l7EaoIIO_DPx"
   },
   "source": [
    "From this output, we can see that the term \"document\" occurs in all three documents, as well as how long those documents are. Note that PyTerrier starts counting indexed documents with `int` values starting from 0 (called *docids*). These *docids* are then mapped back to *docnos*, which are the unique string identifiers for a document, e.g., the \"`d1`\", \"`d2`\" we used. This mapping is stored in a separate data structure called the *metaindex*, though you likely won't need to use that."
   ]
  },
  {
   "cell_type": "markdown",
   "metadata": {
    "id": "zOSdVAr-CGRf"
   },
   "source": [
    "## Searching an Index\n",
    "\n",
    "Our way into search in PyTerrier is called `BatchRetrieve`. BatchRetrieve is configured by specifying an index and a weighting model. Here', we'll use the `Tf` weighting, which is just term frequency; there are multiple possible weighting schemes, as we'll see later. Using a `BatchRetrieve` object, we will search for a single-word query, `\"document\"`."
   ]
  },
  {
   "cell_type": "code",
   "execution_count": 11,
   "metadata": {
    "colab": {
     "base_uri": "https://localhost:8080/",
     "height": 142
    },
    "executionInfo": {
     "elapsed": 1097,
     "status": "ok",
     "timestamp": 1615972796605,
     "user": {
      "displayName": "Nicola Tonellotto",
      "photoUrl": "https://lh3.googleusercontent.com/a-/AOh14Gga8BaxLsPFWvzzBzSximki7T2Jsnf0EEARTd_h=s64",
      "userId": "17533833776178224794"
     },
     "user_tz": -60
    },
    "id": "XtK93nwXCF5C",
    "outputId": "f10dccb8-7d91-44ba-8afa-b21b32022999"
   },
   "outputs": [
    {
     "data": {
      "text/html": [
       "<div>\n",
       "<style scoped>\n",
       "    .dataframe tbody tr th:only-of-type {\n",
       "        vertical-align: middle;\n",
       "    }\n",
       "\n",
       "    .dataframe tbody tr th {\n",
       "        vertical-align: top;\n",
       "    }\n",
       "\n",
       "    .dataframe thead th {\n",
       "        text-align: right;\n",
       "    }\n",
       "</style>\n",
       "<table border=\"1\" class=\"dataframe\">\n",
       "  <thead>\n",
       "    <tr style=\"text-align: right;\">\n",
       "      <th></th>\n",
       "      <th>qid</th>\n",
       "      <th>docid</th>\n",
       "      <th>docno</th>\n",
       "      <th>rank</th>\n",
       "      <th>score</th>\n",
       "      <th>query</th>\n",
       "    </tr>\n",
       "  </thead>\n",
       "  <tbody>\n",
       "    <tr>\n",
       "      <th>0</th>\n",
       "      <td>1</td>\n",
       "      <td>0</td>\n",
       "      <td>d1</td>\n",
       "      <td>0</td>\n",
       "      <td>2.0</td>\n",
       "      <td>document</td>\n",
       "    </tr>\n",
       "    <tr>\n",
       "      <th>1</th>\n",
       "      <td>1</td>\n",
       "      <td>1</td>\n",
       "      <td>d2</td>\n",
       "      <td>1</td>\n",
       "      <td>1.0</td>\n",
       "      <td>document</td>\n",
       "    </tr>\n",
       "    <tr>\n",
       "      <th>2</th>\n",
       "      <td>1</td>\n",
       "      <td>2</td>\n",
       "      <td>d3</td>\n",
       "      <td>2</td>\n",
       "      <td>1.0</td>\n",
       "      <td>document</td>\n",
       "    </tr>\n",
       "  </tbody>\n",
       "</table>\n",
       "</div>"
      ],
      "text/plain": [
       "  qid  docid docno  rank  score     query\n",
       "0   1      0    d1     0    2.0  document\n",
       "1   1      1    d2     1    1.0  document\n",
       "2   1      2    d3     2    1.0  document"
      ]
     },
     "execution_count": 11,
     "metadata": {},
     "output_type": "execute_result"
    }
   ],
   "source": [
    "br = pt.BatchRetrieve(index, wmodel=\"Tf\")\n",
    "br.search(\"document\")"
   ]
  },
  {
   "cell_type": "markdown",
   "metadata": {
    "id": "BHqSfTCtDM2T"
   },
   "source": [
    "The `search()` method returns a Pandas dataframe with columns:\n",
    " - `qid`: this is the query id, which is by default \"1\", since we issued only one query\n",
    " - `docid`: Terrier' internal integer for each document\n",
    " - `docno`: the external (string) unique identifier for each document\n",
    " - `score`: since we use the `Tf` weighting model, this score corresponds the total frequency of the query (terms) in each document\n",
    " - `rank`: A handy attribute showing the descending order by score\n",
    " - `query`: the input query\n",
    "\n",
    "As expected, the `Tf` weighting model used here only counts the frequencies of the query terms in each document, i.e.:\n",
    "$$\n",
    "score(d,q) = \\sum_{t \\in q} tf_{t,d}\n",
    "$$\n",
    "This is the \"Raw TF\" model we discussed in class! \n",
    "\n",
    "Hence, it's clear that document `d1` should be the highest scored document with two occurrences (c.f. `'document'` and `'documents'`).  "
   ]
  },
  {
   "cell_type": "markdown",
   "metadata": {
    "id": "BJBXquPOD6q7"
   },
   "source": [
    "### Searching with multiple queries\n",
    "\n",
    "We can search for more than one query at a time using the  `transform()` method rather than the `search()` method. PyTerrier uses the notion of transformers, which we'll describe much more in Part 2, but for now, you can think of this function as transforming some input to some output. In our case, we'll create a Pandas DataFrame with our queries, which we'll provide as input to the `BatchRetrieve` object, to \"tranform\" into results.\n",
    "\n",
    "Note that we not only need to provide queries, but also query identifiers in the `qid` column. These `qid` values will let us distinguish which results go to which query."
   ]
  },
  {
   "cell_type": "code",
   "execution_count": 12,
   "metadata": {},
   "outputs": [
    {
     "data": {
      "text/html": [
       "<div>\n",
       "<style scoped>\n",
       "    .dataframe tbody tr th:only-of-type {\n",
       "        vertical-align: middle;\n",
       "    }\n",
       "\n",
       "    .dataframe tbody tr th {\n",
       "        vertical-align: top;\n",
       "    }\n",
       "\n",
       "    .dataframe thead th {\n",
       "        text-align: right;\n",
       "    }\n",
       "</style>\n",
       "<table border=\"1\" class=\"dataframe\">\n",
       "  <thead>\n",
       "    <tr style=\"text-align: right;\">\n",
       "      <th></th>\n",
       "      <th>qid</th>\n",
       "      <th>query</th>\n",
       "    </tr>\n",
       "  </thead>\n",
       "  <tbody>\n",
       "    <tr>\n",
       "      <th>0</th>\n",
       "      <td>q1</td>\n",
       "      <td>document</td>\n",
       "    </tr>\n",
       "    <tr>\n",
       "      <th>1</th>\n",
       "      <td>q2</td>\n",
       "      <td>first document</td>\n",
       "    </tr>\n",
       "  </tbody>\n",
       "</table>\n",
       "</div>"
      ],
      "text/plain": [
       "  qid           query\n",
       "0  q1        document\n",
       "1  q2  first document"
      ]
     },
     "execution_count": 12,
     "metadata": {},
     "output_type": "execute_result"
    }
   ],
   "source": [
    "queries = pd.DataFrame([[\"q1\", \"document\"], [\"q2\", \"first document\"]], columns=[\"qid\", \"query\"])\n",
    "queries"
   ]
  },
  {
   "cell_type": "markdown",
   "metadata": {},
   "source": [
    "Now we can pass this queries data frame into `transform()` to get the results"
   ]
  },
  {
   "cell_type": "code",
   "execution_count": 13,
   "metadata": {
    "colab": {
     "base_uri": "https://localhost:8080/",
     "height": 235
    },
    "executionInfo": {
     "elapsed": 566,
     "status": "ok",
     "timestamp": 1615972799893,
     "user": {
      "displayName": "Nicola Tonellotto",
      "photoUrl": "https://lh3.googleusercontent.com/a-/AOh14Gga8BaxLsPFWvzzBzSximki7T2Jsnf0EEARTd_h=s64",
      "userId": "17533833776178224794"
     },
     "user_tz": -60
    },
    "id": "TPBmPOETBKWk",
    "outputId": "69bf68d3-5e95-403d-f5f8-76bbd7cdaba9"
   },
   "outputs": [
    {
     "data": {
      "text/html": [
       "<div>\n",
       "<style scoped>\n",
       "    .dataframe tbody tr th:only-of-type {\n",
       "        vertical-align: middle;\n",
       "    }\n",
       "\n",
       "    .dataframe tbody tr th {\n",
       "        vertical-align: top;\n",
       "    }\n",
       "\n",
       "    .dataframe thead th {\n",
       "        text-align: right;\n",
       "    }\n",
       "</style>\n",
       "<table border=\"1\" class=\"dataframe\">\n",
       "  <thead>\n",
       "    <tr style=\"text-align: right;\">\n",
       "      <th></th>\n",
       "      <th>qid</th>\n",
       "      <th>docid</th>\n",
       "      <th>docno</th>\n",
       "      <th>rank</th>\n",
       "      <th>score</th>\n",
       "      <th>query</th>\n",
       "    </tr>\n",
       "  </thead>\n",
       "  <tbody>\n",
       "    <tr>\n",
       "      <th>0</th>\n",
       "      <td>q1</td>\n",
       "      <td>0</td>\n",
       "      <td>d1</td>\n",
       "      <td>0</td>\n",
       "      <td>2.0</td>\n",
       "      <td>document</td>\n",
       "    </tr>\n",
       "    <tr>\n",
       "      <th>1</th>\n",
       "      <td>q1</td>\n",
       "      <td>1</td>\n",
       "      <td>d2</td>\n",
       "      <td>1</td>\n",
       "      <td>1.0</td>\n",
       "      <td>document</td>\n",
       "    </tr>\n",
       "    <tr>\n",
       "      <th>2</th>\n",
       "      <td>q1</td>\n",
       "      <td>2</td>\n",
       "      <td>d3</td>\n",
       "      <td>2</td>\n",
       "      <td>1.0</td>\n",
       "      <td>document</td>\n",
       "    </tr>\n",
       "    <tr>\n",
       "      <th>3</th>\n",
       "      <td>q2</td>\n",
       "      <td>0</td>\n",
       "      <td>d1</td>\n",
       "      <td>0</td>\n",
       "      <td>3.0</td>\n",
       "      <td>first document</td>\n",
       "    </tr>\n",
       "    <tr>\n",
       "      <th>4</th>\n",
       "      <td>q2</td>\n",
       "      <td>1</td>\n",
       "      <td>d2</td>\n",
       "      <td>1</td>\n",
       "      <td>1.0</td>\n",
       "      <td>first document</td>\n",
       "    </tr>\n",
       "    <tr>\n",
       "      <th>5</th>\n",
       "      <td>q2</td>\n",
       "      <td>2</td>\n",
       "      <td>d3</td>\n",
       "      <td>2</td>\n",
       "      <td>1.0</td>\n",
       "      <td>first document</td>\n",
       "    </tr>\n",
       "  </tbody>\n",
       "</table>\n",
       "</div>"
      ],
      "text/plain": [
       "  qid  docid docno  rank  score           query\n",
       "0  q1      0    d1     0    2.0        document\n",
       "1  q1      1    d2     1    1.0        document\n",
       "2  q1      2    d3     2    1.0        document\n",
       "3  q2      0    d1     0    3.0  first document\n",
       "4  q2      1    d2     1    1.0  first document\n",
       "5  q2      2    d3     2    1.0  first document"
      ]
     },
     "execution_count": 13,
     "metadata": {},
     "output_type": "execute_result"
    }
   ],
   "source": [
    "br.transform(queries)"
   ]
  },
  {
   "cell_type": "markdown",
   "metadata": {
    "id": "tcgDzFLBEWAI"
   },
   "source": [
    "Most common operations in PyTerrier have be overloaded so that you can call them using python syntax (called _operator overloading_). We'll discuss this more in Part 2, but for now, know that you can call `br.transform(queries)` using just `br(queries)`. Here. the `()` operator has been overloaded so that it calls `transform()` for us! You will see this usage very frequently in examples and documentation so it's worth noting and remembering the two are equivalent. As an example:"
   ]
  },
  {
   "cell_type": "code",
   "execution_count": 14,
   "metadata": {
    "colab": {
     "base_uri": "https://localhost:8080/",
     "height": 235
    },
    "executionInfo": {
     "elapsed": 655,
     "status": "ok",
     "timestamp": 1615972806683,
     "user": {
      "displayName": "Nicola Tonellotto",
      "photoUrl": "https://lh3.googleusercontent.com/a-/AOh14Gga8BaxLsPFWvzzBzSximki7T2Jsnf0EEARTd_h=s64",
      "userId": "17533833776178224794"
     },
     "user_tz": -60
    },
    "id": "YCwxb3HhEOp_",
    "outputId": "b0cfe94b-c1d7-4ac8-811d-befc9771ce32"
   },
   "outputs": [
    {
     "data": {
      "text/html": [
       "<div>\n",
       "<style scoped>\n",
       "    .dataframe tbody tr th:only-of-type {\n",
       "        vertical-align: middle;\n",
       "    }\n",
       "\n",
       "    .dataframe tbody tr th {\n",
       "        vertical-align: top;\n",
       "    }\n",
       "\n",
       "    .dataframe thead th {\n",
       "        text-align: right;\n",
       "    }\n",
       "</style>\n",
       "<table border=\"1\" class=\"dataframe\">\n",
       "  <thead>\n",
       "    <tr style=\"text-align: right;\">\n",
       "      <th></th>\n",
       "      <th>qid</th>\n",
       "      <th>docid</th>\n",
       "      <th>docno</th>\n",
       "      <th>rank</th>\n",
       "      <th>score</th>\n",
       "      <th>query</th>\n",
       "    </tr>\n",
       "  </thead>\n",
       "  <tbody>\n",
       "    <tr>\n",
       "      <th>0</th>\n",
       "      <td>q1</td>\n",
       "      <td>0</td>\n",
       "      <td>d1</td>\n",
       "      <td>0</td>\n",
       "      <td>2.0</td>\n",
       "      <td>document</td>\n",
       "    </tr>\n",
       "    <tr>\n",
       "      <th>1</th>\n",
       "      <td>q1</td>\n",
       "      <td>1</td>\n",
       "      <td>d2</td>\n",
       "      <td>1</td>\n",
       "      <td>1.0</td>\n",
       "      <td>document</td>\n",
       "    </tr>\n",
       "    <tr>\n",
       "      <th>2</th>\n",
       "      <td>q1</td>\n",
       "      <td>2</td>\n",
       "      <td>d3</td>\n",
       "      <td>2</td>\n",
       "      <td>1.0</td>\n",
       "      <td>document</td>\n",
       "    </tr>\n",
       "    <tr>\n",
       "      <th>3</th>\n",
       "      <td>q2</td>\n",
       "      <td>0</td>\n",
       "      <td>d1</td>\n",
       "      <td>0</td>\n",
       "      <td>3.0</td>\n",
       "      <td>first document</td>\n",
       "    </tr>\n",
       "    <tr>\n",
       "      <th>4</th>\n",
       "      <td>q2</td>\n",
       "      <td>1</td>\n",
       "      <td>d2</td>\n",
       "      <td>1</td>\n",
       "      <td>1.0</td>\n",
       "      <td>first document</td>\n",
       "    </tr>\n",
       "    <tr>\n",
       "      <th>5</th>\n",
       "      <td>q2</td>\n",
       "      <td>2</td>\n",
       "      <td>d3</td>\n",
       "      <td>2</td>\n",
       "      <td>1.0</td>\n",
       "      <td>first document</td>\n",
       "    </tr>\n",
       "  </tbody>\n",
       "</table>\n",
       "</div>"
      ],
      "text/plain": [
       "  qid  docid docno  rank  score           query\n",
       "0  q1      0    d1     0    2.0        document\n",
       "1  q1      1    d2     1    1.0        document\n",
       "2  q1      2    d3     2    1.0        document\n",
       "3  q2      0    d1     0    3.0  first document\n",
       "4  q2      1    d2     1    1.0  first document\n",
       "5  q2      2    d3     2    1.0  first document"
      ]
     },
     "execution_count": 14,
     "metadata": {},
     "output_type": "execute_result"
    }
   ],
   "source": [
    "br(queries)"
   ]
  },
  {
   "cell_type": "markdown",
   "metadata": {},
   "source": [
    "That gives us the exact same results as our earlier call to `br.transform(queries)`, just like we expect."
   ]
  },
  {
   "cell_type": "markdown",
   "metadata": {
    "id": "ldY8VV8wQ60Z"
   },
   "source": [
    "## Working with real data\n",
    "\n",
    "Let's move on to our full dataset, the NF Corpus (Nutrition Facts), which is easily accessible online. We'll use PyTerrier's `get_dataset()` function to download this corpus automatically and then to index it. This dataset is designed to test IR in a full-text English retrieval setting for Medical Information Retrieval. We'll use this for the initial two groups of tasks and then switch datasets later.\n",
    " \n",
    "### Task 1.1 (5 points):\n",
    "\n",
    "You first task will be to write three lines of code that create the index using an indexer or, if the index was already created, loads the created index from file. "
   ]
  },
  {
   "cell_type": "code",
   "execution_count": 5,
   "metadata": {
    "colab": {
     "base_uri": "https://localhost:8080/"
    },
    "executionInfo": {
     "elapsed": 120273,
     "status": "ok",
     "timestamp": 1615972928650,
     "user": {
      "displayName": "Nicola Tonellotto",
      "photoUrl": "https://lh3.googleusercontent.com/a-/AOh14Gga8BaxLsPFWvzzBzSximki7T2Jsnf0EEARTd_h=s64",
      "userId": "17533833776178224794"
     },
     "user_tz": -60
    },
    "id": "L2lJsK-vEcQx",
    "outputId": "bcdfe9c5-7950-4974-a97d-ab3764995115"
   },
   "outputs": [],
   "source": [
    "nf_dataset = pt.datasets.get_dataset('irds:nfcorpus/dev') \n",
    "pt_index_path = './nfcorpus_dev'\n",
    "\n",
    "if not os.path.exists(pt_index_path + \"/data.properties\"):\n",
    "\n",
    "    # create the index, using the IterDictIndexer indexer \n",
    "    # TODO\n",
    "    iter_indexer = pt.IterDictIndexer(pt_index_path)\n",
    "\n",
    "    # we give the dataset get_corpus_iter() directly to the indexer\n",
    "    # while specifying the fields to index and the metadata to record   \n",
    "    # TODO\n",
    "    index_ref = iter_indexer.index(nf_dataset.get_corpus_iter(), fields = ('abstract', ), meta=('docno', ))\n",
    "\n",
    "else:\n",
    "    # if you already have the index, create an IndexRef from the data in pt_index_path\n",
    "    # that we can use to load using the IndexFactory\n",
    "    # TODO\n",
    "    index_ref = pt.IndexRef.of(pt_index_path + \"/data.properties\")\n",
    "    \n",
    "index = pt.IndexFactory.of(index_ref)"
   ]
  },
  {
   "cell_type": "markdown",
   "metadata": {
    "id": "y7GK9uANRt8w"
   },
   "source": [
    "### Task 1.2 (0 points but useful still)\n",
    "- Print out the statistics of the index"
   ]
  },
  {
   "cell_type": "code",
   "execution_count": 6,
   "metadata": {
    "id": "bNAVqf9uRr2p"
   },
   "outputs": [
    {
     "name": "stdout",
     "output_type": "stream",
     "text": [
      "Number of documents: 5371\n",
      "Number of terms: 18315\n",
      "Number of postings: 499136\n",
      "Number of fields: 1\n",
      "Number of tokens: 801411\n",
      "Field names: [abstract]\n",
      "Positions:   false\n",
      "\n"
     ]
    }
   ],
   "source": [
    "# TODO\n",
    "print(index.getCollectionStatistics().toString())"
   ]
  },
  {
   "cell_type": "markdown",
   "metadata": {
    "id": "tQD9Q8CqSirN"
   },
   "source": [
    "As a curated collection for evaluation, NFCorpus has a corresponding set of queries, referred to as _topics_, and the relevance assessments for each query (i.e., topic), referred to as _qrels_. We use these to evaluation as a *test collection*. PyTerrier allows us to easily access the topics (queries) and qrels from the dataset. Like much of the inputs and outputs, these are expressed as dataframes as well:"
   ]
  },
  {
   "cell_type": "code",
   "execution_count": 17,
   "metadata": {
    "colab": {
     "base_uri": "https://localhost:8080/",
     "height": 275
    },
    "executionInfo": {
     "elapsed": 961,
     "status": "ok",
     "timestamp": 1615972942774,
     "user": {
      "displayName": "Nicola Tonellotto",
      "photoUrl": "https://lh3.googleusercontent.com/a-/AOh14Gga8BaxLsPFWvzzBzSximki7T2Jsnf0EEARTd_h=s64",
      "userId": "17533833776178224794"
     },
     "user_tz": -60
    },
    "id": "8n7oY-YYS_-A",
    "outputId": "6ff6f437-725f-4b92-bfab-787e18386941"
   },
   "outputs": [
    {
     "name": "stderr",
     "output_type": "stream",
     "text": [
      "/Users/junsi/opt/anaconda3/lib/python3.9/site-packages/pyterrier/datasets.py:435: FutureWarning: In a future version of pandas all arguments of DataFrame.drop except for the argument 'labels' will be keyword-only.\n",
      "  df.drop(df.columns.difference(['qid','query']), 1, inplace=True)\n"
     ]
    },
    {
     "data": {
      "text/html": [
       "<div>\n",
       "<style scoped>\n",
       "    .dataframe tbody tr th:only-of-type {\n",
       "        vertical-align: middle;\n",
       "    }\n",
       "\n",
       "    .dataframe tbody tr th {\n",
       "        vertical-align: top;\n",
       "    }\n",
       "\n",
       "    .dataframe thead th {\n",
       "        text-align: right;\n",
       "    }\n",
       "</style>\n",
       "<table border=\"1\" class=\"dataframe\">\n",
       "  <thead>\n",
       "    <tr style=\"text-align: right;\">\n",
       "      <th></th>\n",
       "      <th>qid</th>\n",
       "      <th>query</th>\n",
       "    </tr>\n",
       "  </thead>\n",
       "  <tbody>\n",
       "    <tr>\n",
       "      <th>0</th>\n",
       "      <td>PLAIN-1</td>\n",
       "      <td>why deep fried foods may cause cancer</td>\n",
       "    </tr>\n",
       "    <tr>\n",
       "      <th>1</th>\n",
       "      <td>PLAIN-1007</td>\n",
       "      <td>ddt</td>\n",
       "    </tr>\n",
       "    <tr>\n",
       "      <th>2</th>\n",
       "      <td>PLAIN-101</td>\n",
       "      <td>how to treat multiple sclerosis with diet</td>\n",
       "    </tr>\n",
       "    <tr>\n",
       "      <th>3</th>\n",
       "      <td>PLAIN-1017</td>\n",
       "      <td>detoxification</td>\n",
       "    </tr>\n",
       "    <tr>\n",
       "      <th>4</th>\n",
       "      <td>PLAIN-1027</td>\n",
       "      <td>dietary guidelines</td>\n",
       "    </tr>\n",
       "  </tbody>\n",
       "</table>\n",
       "</div>"
      ],
      "text/plain": [
       "          qid                                      query\n",
       "0     PLAIN-1      why deep fried foods may cause cancer\n",
       "1  PLAIN-1007                                        ddt\n",
       "2   PLAIN-101  how to treat multiple sclerosis with diet\n",
       "3  PLAIN-1017                             detoxification\n",
       "4  PLAIN-1027                         dietary guidelines"
      ]
     },
     "execution_count": 17,
     "metadata": {},
     "output_type": "execute_result"
    }
   ],
   "source": [
    "nf_dataset.get_topics(variant='title').head(5)"
   ]
  },
  {
   "cell_type": "code",
   "execution_count": 18,
   "metadata": {
    "colab": {
     "base_uri": "https://localhost:8080/",
     "height": 275
    },
    "executionInfo": {
     "elapsed": 1704,
     "status": "ok",
     "timestamp": 1615972945620,
     "user": {
      "displayName": "Nicola Tonellotto",
      "photoUrl": "https://lh3.googleusercontent.com/a-/AOh14Gga8BaxLsPFWvzzBzSximki7T2Jsnf0EEARTd_h=s64",
      "userId": "17533833776178224794"
     },
     "user_tz": -60
    },
    "id": "-rYxqvhJTGNX",
    "outputId": "e4db9772-f10f-4133-bc25-aee1a6f5a0ba"
   },
   "outputs": [
    {
     "data": {
      "text/html": [
       "<div>\n",
       "<style scoped>\n",
       "    .dataframe tbody tr th:only-of-type {\n",
       "        vertical-align: middle;\n",
       "    }\n",
       "\n",
       "    .dataframe tbody tr th {\n",
       "        vertical-align: top;\n",
       "    }\n",
       "\n",
       "    .dataframe thead th {\n",
       "        text-align: right;\n",
       "    }\n",
       "</style>\n",
       "<table border=\"1\" class=\"dataframe\">\n",
       "  <thead>\n",
       "    <tr style=\"text-align: right;\">\n",
       "      <th></th>\n",
       "      <th>qid</th>\n",
       "      <th>docno</th>\n",
       "      <th>label</th>\n",
       "      <th>iteration</th>\n",
       "    </tr>\n",
       "  </thead>\n",
       "  <tbody>\n",
       "    <tr>\n",
       "      <th>0</th>\n",
       "      <td>PLAIN-1</td>\n",
       "      <td>MED-2421</td>\n",
       "      <td>3</td>\n",
       "      <td>0</td>\n",
       "    </tr>\n",
       "    <tr>\n",
       "      <th>1</th>\n",
       "      <td>PLAIN-1</td>\n",
       "      <td>MED-2422</td>\n",
       "      <td>3</td>\n",
       "      <td>0</td>\n",
       "    </tr>\n",
       "    <tr>\n",
       "      <th>2</th>\n",
       "      <td>PLAIN-1</td>\n",
       "      <td>MED-2416</td>\n",
       "      <td>3</td>\n",
       "      <td>0</td>\n",
       "    </tr>\n",
       "    <tr>\n",
       "      <th>3</th>\n",
       "      <td>PLAIN-1</td>\n",
       "      <td>MED-2423</td>\n",
       "      <td>3</td>\n",
       "      <td>0</td>\n",
       "    </tr>\n",
       "    <tr>\n",
       "      <th>4</th>\n",
       "      <td>PLAIN-1</td>\n",
       "      <td>MED-2417</td>\n",
       "      <td>3</td>\n",
       "      <td>0</td>\n",
       "    </tr>\n",
       "  </tbody>\n",
       "</table>\n",
       "</div>"
      ],
      "text/plain": [
       "       qid     docno  label iteration\n",
       "0  PLAIN-1  MED-2421      3         0\n",
       "1  PLAIN-1  MED-2422      3         0\n",
       "2  PLAIN-1  MED-2416      3         0\n",
       "3  PLAIN-1  MED-2423      3         0\n",
       "4  PLAIN-1  MED-2417      3         0"
      ]
     },
     "execution_count": 18,
     "metadata": {},
     "output_type": "execute_result"
    }
   ],
   "source": [
    "nf_dataset.get_qrels().head(5)"
   ]
  },
  {
   "cell_type": "markdown",
   "metadata": {},
   "source": [
    "### Task 1.3: Build indices for the same documents with different preprocessing steps (5 points)\n",
    "\n",
    "In homework 1, you tried out different approaches to filtering and tokenizing. What effect might these have in practice on a real index&mdash;and critically, on retrieval performance? PyTerrier supports modifying how an index is preprocessed via its [Indexing Configuration](https://pyterrier.readthedocs.io/en/latest/terrier-indexing.html#indexing-configuration) options. \n",
    "\n",
    "Your task is to build *at least two* different versions of the NFCorpus index using different preprocessing steps. You are free to chose different configurations that might interest you. Once you have finished, print out the statistics below"
   ]
  },
  {
   "cell_type": "code",
   "execution_count": 19,
   "metadata": {},
   "outputs": [
    {
     "name": "stdout",
     "output_type": "stream",
     "text": [
      "Number of documents: 5371\n",
      "Number of terms: 18678\n",
      "Number of postings: 671117\n",
      "Number of fields: 1\n",
      "Number of tokens: 1262132\n",
      "Field names: [abstract]\n",
      "Positions:   false\n",
      "\n"
     ]
    }
   ],
   "source": [
    "# TODO\n",
    "\n",
    "# configuration 1: \n",
    "# stemming configuation or stopwords: termpipelines - PorterStemmer\n",
    "# languages and tokenisation: tokeniser - UTFTokeniser\n",
    "\n",
    "pt_index_path1 = './nfcorpus1_dev'\n",
    "if not os.path.exists(pt_index_path1 + \"/data.properties\"):\n",
    "    iter_indexer1 = pt.IterDictIndexer(pt_index_path1)\n",
    "    iter_indexer1.setProperty(\"termpipelines\",\"PorterStemmer\")\n",
    "    iter_indexer1.setProperty(\"tokeniser\", \"UTFTokeniser\")\n",
    "    index_ref1 = iter_indexer1.index(nf_dataset.get_corpus_iter(), fields = ('abstract', ), meta=('docno', ))\n",
    "else:\n",
    "    index_ref1 = pt.IndexRef.of(pt_index_path1 + \"/data.properties\")\n",
    "    \n",
    "index1 = pt.IndexFactory.of(index_ref1)\n",
    "\n",
    "print(index1.getCollectionStatistics().toString())"
   ]
  },
  {
   "cell_type": "code",
   "execution_count": 20,
   "metadata": {},
   "outputs": [
    {
     "name": "stdout",
     "output_type": "stream",
     "text": [
      "Number of documents: 5371\n",
      "Number of terms: 25522\n",
      "Number of postings: 530609\n",
      "Number of fields: 1\n",
      "Number of tokens: 802157\n",
      "Field names: [abstract]\n",
      "Positions:   false\n",
      "\n"
     ]
    }
   ],
   "source": [
    "# TODO\n",
    "\n",
    "# configuration 2: \n",
    "# stemming configuation or stopwords: termpipelines - Stopwords\n",
    "# languages and tokenisation: tokeniser - UTFTokeniser\n",
    "\n",
    "pt_index_path2 = './nfcorpus2_dev'\n",
    "if not os.path.exists(pt_index_path2 + \"/data.properties\"):\n",
    "    iter_indexer2 = pt.IterDictIndexer(pt_index_path2)\n",
    "    iter_indexer2.setProperty(\"termpipelines\", \"Stopwords\")\n",
    "    iter_indexer2.setProperty(\"tokeniser\", \"UTFTokeniser\")\n",
    "    index_ref2 = iter_indexer2.index(nf_dataset.get_corpus_iter(), fields = ('abstract', ), meta=('docno', ))\n",
    "else:\n",
    "    index_ref2 = pt.IndexRef.of(pt_index_path2 + \"/data.properties\")\n",
    "    \n",
    "index2 = pt.IndexFactory.of(index_ref2)\n",
    "\n",
    "print(index2.getCollectionStatistics().toString())"
   ]
  },
  {
   "cell_type": "code",
   "execution_count": 21,
   "metadata": {},
   "outputs": [
    {
     "name": "stdout",
     "output_type": "stream",
     "text": [
      "Number of documents: 5371\n",
      "Number of terms: 26492\n",
      "Number of postings: 530372\n",
      "Number of fields: 1\n",
      "Number of tokens: 800475\n",
      "Field names: [abstract]\n",
      "Positions:   false\n",
      "\n"
     ]
    }
   ],
   "source": [
    "# TODO\n",
    "\n",
    "# configuration 3: \n",
    "# stemming configuation or stopwords: termpipelines - PorterStemmer\n",
    "# languages and tokenisation: tokeniser - UTFTwitterTokeniser\n",
    "\n",
    "pt_index_path3 = './nfcorpus3_dev'\n",
    "if not os.path.exists(pt_index_path3 + \"/data.properties\"):\n",
    "    iter_indexer3 = pt.IterDictIndexer(pt_index_path3)\n",
    "    iter_indexer3.setProperty(\"termpipelines\",\"Stopwords\")\n",
    "    iter_indexer3.setProperty(\"tokeniser\", \"UTFTwitterTokeniser\")\n",
    "    index_ref3 = iter_indexer3.index(nf_dataset.get_corpus_iter(), fields = ('abstract', ), meta=('docno', ))\n",
    "else:\n",
    "    index_ref3 = pt.IndexRef.of(pt_index_path3 + \"/data.properties\")\n",
    "    \n",
    "index3 = pt.IndexFactory.of(index_ref3)\n",
    "\n",
    "print(index3.getCollectionStatistics().toString())"
   ]
  },
  {
   "cell_type": "markdown",
   "metadata": {},
   "source": [
    "### Task 1.4 Write-up your observations on what differs between them (5 points)\n",
    "\n",
    "What effect did the preprocessing have on the index? You should look at the statistics but you can also comment on performance things like file sizes and indexing time. In *at least 4 sentences* describe what differences you see and whether you were surprised by any."
   ]
  },
  {
   "cell_type": "code",
   "execution_count": 22,
   "metadata": {},
   "outputs": [],
   "source": [
    "# TODO in your write-up\n",
    "\n",
    "# see si650_hw2_sijuntao.pdf"
   ]
  },
  {
   "cell_type": "markdown",
   "metadata": {
    "id": "2Gop4-jVbIIu"
   },
   "source": [
    "### Weighting Models\n",
    "\n",
    "In the earlier example, we used the simple \"`Tf`\" as our ranking function for document retrieval in BatchRetrieve. However, we can use other models such as `\"TF_IDF\"` by simply changing the `wmodel=\"Tf\"` keyword argument in the constructor of `BatchRetrieve`:"
   ]
  },
  {
   "cell_type": "code",
   "execution_count": 23,
   "metadata": {
    "colab": {
     "base_uri": "https://localhost:8080/",
     "height": 419
    },
    "executionInfo": {
     "elapsed": 945,
     "status": "ok",
     "timestamp": 1615973062514,
     "user": {
      "displayName": "Nicola Tonellotto",
      "photoUrl": "https://lh3.googleusercontent.com/a-/AOh14Gga8BaxLsPFWvzzBzSximki7T2Jsnf0EEARTd_h=s64",
      "userId": "17533833776178224794"
     },
     "user_tz": -60
    },
    "id": "Cg8AGzCibdPG",
    "outputId": "bc353f41-1c33-468c-a834-37a93f1d0ced"
   },
   "outputs": [
    {
     "data": {
      "text/html": [
       "<div>\n",
       "<style scoped>\n",
       "    .dataframe tbody tr th:only-of-type {\n",
       "        vertical-align: middle;\n",
       "    }\n",
       "\n",
       "    .dataframe tbody tr th {\n",
       "        vertical-align: top;\n",
       "    }\n",
       "\n",
       "    .dataframe thead th {\n",
       "        text-align: right;\n",
       "    }\n",
       "</style>\n",
       "<table border=\"1\" class=\"dataframe\">\n",
       "  <thead>\n",
       "    <tr style=\"text-align: right;\">\n",
       "      <th></th>\n",
       "      <th>qid</th>\n",
       "      <th>docid</th>\n",
       "      <th>docno</th>\n",
       "      <th>rank</th>\n",
       "      <th>score</th>\n",
       "      <th>query</th>\n",
       "    </tr>\n",
       "  </thead>\n",
       "  <tbody>\n",
       "    <tr>\n",
       "      <th>0</th>\n",
       "      <td>1</td>\n",
       "      <td>4523</td>\n",
       "      <td>MED-4524</td>\n",
       "      <td>0</td>\n",
       "      <td>6.382897</td>\n",
       "      <td>chemical reactions</td>\n",
       "    </tr>\n",
       "    <tr>\n",
       "      <th>1</th>\n",
       "      <td>1</td>\n",
       "      <td>440</td>\n",
       "      <td>MED-441</td>\n",
       "      <td>1</td>\n",
       "      <td>6.203472</td>\n",
       "      <td>chemical reactions</td>\n",
       "    </tr>\n",
       "    <tr>\n",
       "      <th>2</th>\n",
       "      <td>1</td>\n",
       "      <td>3267</td>\n",
       "      <td>MED-3268</td>\n",
       "      <td>2</td>\n",
       "      <td>6.203472</td>\n",
       "      <td>chemical reactions</td>\n",
       "    </tr>\n",
       "    <tr>\n",
       "      <th>3</th>\n",
       "      <td>1</td>\n",
       "      <td>3281</td>\n",
       "      <td>MED-3282</td>\n",
       "      <td>3</td>\n",
       "      <td>6.203472</td>\n",
       "      <td>chemical reactions</td>\n",
       "    </tr>\n",
       "    <tr>\n",
       "      <th>4</th>\n",
       "      <td>1</td>\n",
       "      <td>4903</td>\n",
       "      <td>MED-4904</td>\n",
       "      <td>4</td>\n",
       "      <td>6.171522</td>\n",
       "      <td>chemical reactions</td>\n",
       "    </tr>\n",
       "    <tr>\n",
       "      <th>...</th>\n",
       "      <td>...</td>\n",
       "      <td>...</td>\n",
       "      <td>...</td>\n",
       "      <td>...</td>\n",
       "      <td>...</td>\n",
       "      <td>...</td>\n",
       "    </tr>\n",
       "    <tr>\n",
       "      <th>420</th>\n",
       "      <td>1</td>\n",
       "      <td>3944</td>\n",
       "      <td>MED-3945</td>\n",
       "      <td>420</td>\n",
       "      <td>1.909530</td>\n",
       "      <td>chemical reactions</td>\n",
       "    </tr>\n",
       "    <tr>\n",
       "      <th>421</th>\n",
       "      <td>1</td>\n",
       "      <td>1347</td>\n",
       "      <td>MED-1348</td>\n",
       "      <td>421</td>\n",
       "      <td>1.860415</td>\n",
       "      <td>chemical reactions</td>\n",
       "    </tr>\n",
       "    <tr>\n",
       "      <th>422</th>\n",
       "      <td>1</td>\n",
       "      <td>3718</td>\n",
       "      <td>MED-3719</td>\n",
       "      <td>422</td>\n",
       "      <td>1.849169</td>\n",
       "      <td>chemical reactions</td>\n",
       "    </tr>\n",
       "    <tr>\n",
       "      <th>423</th>\n",
       "      <td>1</td>\n",
       "      <td>869</td>\n",
       "      <td>MED-870</td>\n",
       "      <td>423</td>\n",
       "      <td>1.822288</td>\n",
       "      <td>chemical reactions</td>\n",
       "    </tr>\n",
       "    <tr>\n",
       "      <th>424</th>\n",
       "      <td>1</td>\n",
       "      <td>1845</td>\n",
       "      <td>MED-1846</td>\n",
       "      <td>424</td>\n",
       "      <td>1.811005</td>\n",
       "      <td>chemical reactions</td>\n",
       "    </tr>\n",
       "  </tbody>\n",
       "</table>\n",
       "<p>425 rows × 6 columns</p>\n",
       "</div>"
      ],
      "text/plain": [
       "    qid  docid     docno  rank     score               query\n",
       "0     1   4523  MED-4524     0  6.382897  chemical reactions\n",
       "1     1    440   MED-441     1  6.203472  chemical reactions\n",
       "2     1   3267  MED-3268     2  6.203472  chemical reactions\n",
       "3     1   3281  MED-3282     3  6.203472  chemical reactions\n",
       "4     1   4903  MED-4904     4  6.171522  chemical reactions\n",
       "..   ..    ...       ...   ...       ...                 ...\n",
       "420   1   3944  MED-3945   420  1.909530  chemical reactions\n",
       "421   1   1347  MED-1348   421  1.860415  chemical reactions\n",
       "422   1   3718  MED-3719   422  1.849169  chemical reactions\n",
       "423   1    869   MED-870   423  1.822288  chemical reactions\n",
       "424   1   1845  MED-1846   424  1.811005  chemical reactions\n",
       "\n",
       "[425 rows x 6 columns]"
      ]
     },
     "execution_count": 23,
     "metadata": {},
     "output_type": "execute_result"
    }
   ],
   "source": [
    "tfidf = pt.BatchRetrieve(index, wmodel=\"TF_IDF\")\n",
    "tfidf.search(\"chemical reactions\")"
   ]
  },
  {
   "cell_type": "markdown",
   "metadata": {
    "id": "m6aZGX9sbdmc"
   },
   "source": [
    "Note that, as expected, because we switched the ranking, the scores of documents ranked by `TF_IDF` are no longer integers. You can see the exact TF-IDF formula used by Terrier from [the Github repo](https://github.com/terrier-org/terrier-core/blob/5.x/modules/core/src/main/java/org/terrier/matching/models/TF_IDF.java#L79)--sometimes helpful to know since there are multiple ways of defining TF-IDF! Terrier supports many weighting models and the documentation contains [a list of supported models](http://terrier.org/docs/current/javadoc/org/terrier/matching/models/package-summary.html)."
   ]
  },
  {
   "cell_type": "markdown",
   "metadata": {
    "id": "YQ0j9lFfx-gO"
   },
   "source": [
    "## Evaluating and Comparing IR Models\n",
    "\n",
    "How do we know which of the models we've made so far are good IR models? PyTerrier provides a robust and extensive framework to help us automate the evaluation of IR models once wee've defined them.\n",
    "\n",
    "As a first pass, let's take a look at the relevance scores in the dataset. To do this, we'll merge (`join`) the `qrels` with the results of our ranker to produce a dataframe that has both the ranking model's predictions (`\"score\"`) and the actual relevance score (`\"label\"`). "
   ]
  },
  {
   "cell_type": "code",
   "execution_count": 24,
   "metadata": {
    "colab": {
     "base_uri": "https://localhost:8080/",
     "height": 419
    },
    "executionInfo": {
     "elapsed": 794,
     "status": "ok",
     "timestamp": 1615973109097,
     "user": {
      "displayName": "Nicola Tonellotto",
      "photoUrl": "https://lh3.googleusercontent.com/a-/AOh14Gga8BaxLsPFWvzzBzSximki7T2Jsnf0EEARTd_h=s64",
      "userId": "17533833776178224794"
     },
     "user_tz": -60
    },
    "id": "iyShZYpwwNSx",
    "outputId": "91f1ae8b-8f3a-4547-ae37-d9d808c970ce"
   },
   "outputs": [
    {
     "name": "stderr",
     "output_type": "stream",
     "text": [
      "/Users/junsi/opt/anaconda3/lib/python3.9/site-packages/pyterrier/datasets.py:435: FutureWarning: In a future version of pandas all arguments of DataFrame.drop except for the argument 'labels' will be keyword-only.\n",
      "  df.drop(df.columns.difference(['qid','query']), 1, inplace=True)\n"
     ]
    },
    {
     "data": {
      "text/html": [
       "<div>\n",
       "<style scoped>\n",
       "    .dataframe tbody tr th:only-of-type {\n",
       "        vertical-align: middle;\n",
       "    }\n",
       "\n",
       "    .dataframe tbody tr th {\n",
       "        vertical-align: top;\n",
       "    }\n",
       "\n",
       "    .dataframe thead th {\n",
       "        text-align: right;\n",
       "    }\n",
       "</style>\n",
       "<table border=\"1\" class=\"dataframe\">\n",
       "  <thead>\n",
       "    <tr style=\"text-align: right;\">\n",
       "      <th></th>\n",
       "      <th>qid</th>\n",
       "      <th>docid</th>\n",
       "      <th>docno</th>\n",
       "      <th>rank</th>\n",
       "      <th>score</th>\n",
       "      <th>query</th>\n",
       "      <th>label</th>\n",
       "      <th>iteration</th>\n",
       "    </tr>\n",
       "  </thead>\n",
       "  <tbody>\n",
       "    <tr>\n",
       "      <th>0</th>\n",
       "      <td>PLAIN-1</td>\n",
       "      <td>5</td>\n",
       "      <td>MED-6</td>\n",
       "      <td>0</td>\n",
       "      <td>18.407378</td>\n",
       "      <td>why deep fried foods may cause cancer</td>\n",
       "      <td>0.0</td>\n",
       "      <td>0</td>\n",
       "    </tr>\n",
       "    <tr>\n",
       "      <th>1</th>\n",
       "      <td>PLAIN-1</td>\n",
       "      <td>2417</td>\n",
       "      <td>MED-2418</td>\n",
       "      <td>1</td>\n",
       "      <td>18.407378</td>\n",
       "      <td>why deep fried foods may cause cancer</td>\n",
       "      <td>3.0</td>\n",
       "      <td>0</td>\n",
       "    </tr>\n",
       "    <tr>\n",
       "      <th>2</th>\n",
       "      <td>PLAIN-1</td>\n",
       "      <td>5268</td>\n",
       "      <td>MED-5269</td>\n",
       "      <td>2</td>\n",
       "      <td>13.991407</td>\n",
       "      <td>why deep fried foods may cause cancer</td>\n",
       "      <td>0.0</td>\n",
       "      <td>0</td>\n",
       "    </tr>\n",
       "    <tr>\n",
       "      <th>3</th>\n",
       "      <td>PLAIN-1</td>\n",
       "      <td>2414</td>\n",
       "      <td>MED-2415</td>\n",
       "      <td>3</td>\n",
       "      <td>12.303626</td>\n",
       "      <td>why deep fried foods may cause cancer</td>\n",
       "      <td>0.0</td>\n",
       "      <td>0</td>\n",
       "    </tr>\n",
       "    <tr>\n",
       "      <th>4</th>\n",
       "      <td>PLAIN-1</td>\n",
       "      <td>4063</td>\n",
       "      <td>MED-4064</td>\n",
       "      <td>4</td>\n",
       "      <td>12.303626</td>\n",
       "      <td>why deep fried foods may cause cancer</td>\n",
       "      <td>0.0</td>\n",
       "      <td>0</td>\n",
       "    </tr>\n",
       "    <tr>\n",
       "      <th>...</th>\n",
       "      <td>...</td>\n",
       "      <td>...</td>\n",
       "      <td>...</td>\n",
       "      <td>...</td>\n",
       "      <td>...</td>\n",
       "      <td>...</td>\n",
       "      <td>...</td>\n",
       "      <td>...</td>\n",
       "    </tr>\n",
       "    <tr>\n",
       "      <th>995</th>\n",
       "      <td>PLAIN-1</td>\n",
       "      <td>830</td>\n",
       "      <td>MED-831</td>\n",
       "      <td>995</td>\n",
       "      <td>3.092051</td>\n",
       "      <td>why deep fried foods may cause cancer</td>\n",
       "      <td>0.0</td>\n",
       "      <td>0</td>\n",
       "    </tr>\n",
       "    <tr>\n",
       "      <th>996</th>\n",
       "      <td>PLAIN-1</td>\n",
       "      <td>984</td>\n",
       "      <td>MED-985</td>\n",
       "      <td>996</td>\n",
       "      <td>3.088660</td>\n",
       "      <td>why deep fried foods may cause cancer</td>\n",
       "      <td>0.0</td>\n",
       "      <td>0</td>\n",
       "    </tr>\n",
       "    <tr>\n",
       "      <th>997</th>\n",
       "      <td>PLAIN-1</td>\n",
       "      <td>4510</td>\n",
       "      <td>MED-4511</td>\n",
       "      <td>997</td>\n",
       "      <td>3.084229</td>\n",
       "      <td>why deep fried foods may cause cancer</td>\n",
       "      <td>0.0</td>\n",
       "      <td>0</td>\n",
       "    </tr>\n",
       "    <tr>\n",
       "      <th>998</th>\n",
       "      <td>PLAIN-1</td>\n",
       "      <td>3872</td>\n",
       "      <td>MED-3873</td>\n",
       "      <td>998</td>\n",
       "      <td>3.081767</td>\n",
       "      <td>why deep fried foods may cause cancer</td>\n",
       "      <td>0.0</td>\n",
       "      <td>0</td>\n",
       "    </tr>\n",
       "    <tr>\n",
       "      <th>999</th>\n",
       "      <td>PLAIN-1</td>\n",
       "      <td>3877</td>\n",
       "      <td>MED-3878</td>\n",
       "      <td>999</td>\n",
       "      <td>3.081767</td>\n",
       "      <td>why deep fried foods may cause cancer</td>\n",
       "      <td>0.0</td>\n",
       "      <td>0</td>\n",
       "    </tr>\n",
       "  </tbody>\n",
       "</table>\n",
       "<p>1000 rows × 8 columns</p>\n",
       "</div>"
      ],
      "text/plain": [
       "         qid  docid     docno  rank      score  \\\n",
       "0    PLAIN-1      5     MED-6     0  18.407378   \n",
       "1    PLAIN-1   2417  MED-2418     1  18.407378   \n",
       "2    PLAIN-1   5268  MED-5269     2  13.991407   \n",
       "3    PLAIN-1   2414  MED-2415     3  12.303626   \n",
       "4    PLAIN-1   4063  MED-4064     4  12.303626   \n",
       "..       ...    ...       ...   ...        ...   \n",
       "995  PLAIN-1    830   MED-831   995   3.092051   \n",
       "996  PLAIN-1    984   MED-985   996   3.088660   \n",
       "997  PLAIN-1   4510  MED-4511   997   3.084229   \n",
       "998  PLAIN-1   3872  MED-3873   998   3.081767   \n",
       "999  PLAIN-1   3877  MED-3878   999   3.081767   \n",
       "\n",
       "                                     query  label iteration  \n",
       "0    why deep fried foods may cause cancer    0.0         0  \n",
       "1    why deep fried foods may cause cancer    3.0         0  \n",
       "2    why deep fried foods may cause cancer    0.0         0  \n",
       "3    why deep fried foods may cause cancer    0.0         0  \n",
       "4    why deep fried foods may cause cancer    0.0         0  \n",
       "..                                     ...    ...       ...  \n",
       "995  why deep fried foods may cause cancer    0.0         0  \n",
       "996  why deep fried foods may cause cancer    0.0         0  \n",
       "997  why deep fried foods may cause cancer    0.0         0  \n",
       "998  why deep fried foods may cause cancer    0.0         0  \n",
       "999  why deep fried foods may cause cancer    0.0         0  \n",
       "\n",
       "[1000 rows x 8 columns]"
      ]
     },
     "execution_count": 24,
     "metadata": {},
     "output_type": "execute_result"
    }
   ],
   "source": [
    "qrels = nf_dataset.get_qrels()\n",
    "\n",
    "def get_res_with_labels(ranker, df):\n",
    "    # get the results for the query or queries\n",
    "    results = ranker( df )\n",
    "    # left outer join with the qrels\n",
    "    with_labels = results.merge(qrels, on=[\"qid\", \"docno\"], how=\"left\").fillna(0)\n",
    "    return with_labels\n",
    "\n",
    "# lets get the Tf results for the first query\n",
    "get_res_with_labels(tfidf, nf_dataset.get_topics(variant='title').head(1))"
   ]
  },
  {
   "cell_type": "markdown",
   "metadata": {},
   "source": [
    "### Running an Experiment\n",
    "\n",
    "We don't actually need to produce that dataframe to do our evaluation though! PyTerrier lets us run different results with an [Experiment](https://pyterrier.readthedocs.io/en/latest/experiments.html) object, which will compare models according to the evaluation metrics we specify. Here, let's run an experiment to evaluate our `tfidf` model that we created earlier:"
   ]
  },
  {
   "cell_type": "code",
   "execution_count": 25,
   "metadata": {
    "colab": {
     "base_uri": "https://localhost:8080/",
     "height": 80
    },
    "executionInfo": {
     "elapsed": 3826,
     "status": "ok",
     "timestamp": 1615973119937,
     "user": {
      "displayName": "Nicola Tonellotto",
      "photoUrl": "https://lh3.googleusercontent.com/a-/AOh14Gga8BaxLsPFWvzzBzSximki7T2Jsnf0EEARTd_h=s64",
      "userId": "17533833776178224794"
     },
     "user_tz": -60
    },
    "id": "OFUmiFSobUDg",
    "outputId": "db01e114-e6e7-4ff4-9447-ecf5e3d8ea54"
   },
   "outputs": [
    {
     "name": "stderr",
     "output_type": "stream",
     "text": [
      "/Users/junsi/opt/anaconda3/lib/python3.9/site-packages/pyterrier/datasets.py:435: FutureWarning: In a future version of pandas all arguments of DataFrame.drop except for the argument 'labels' will be keyword-only.\n",
      "  df.drop(df.columns.difference(['qid','query']), 1, inplace=True)\n"
     ]
    },
    {
     "data": {
      "text/html": [
       "<div>\n",
       "<style scoped>\n",
       "    .dataframe tbody tr th:only-of-type {\n",
       "        vertical-align: middle;\n",
       "    }\n",
       "\n",
       "    .dataframe tbody tr th {\n",
       "        vertical-align: top;\n",
       "    }\n",
       "\n",
       "    .dataframe thead th {\n",
       "        text-align: right;\n",
       "    }\n",
       "</style>\n",
       "<table border=\"1\" class=\"dataframe\">\n",
       "  <thead>\n",
       "    <tr style=\"text-align: right;\">\n",
       "      <th></th>\n",
       "      <th>name</th>\n",
       "      <th>map</th>\n",
       "      <th>ndcg</th>\n",
       "    </tr>\n",
       "  </thead>\n",
       "  <tbody>\n",
       "    <tr>\n",
       "      <th>0</th>\n",
       "      <td>BR(TF_IDF)</td>\n",
       "      <td>0.087904</td>\n",
       "      <td>0.227368</td>\n",
       "    </tr>\n",
       "  </tbody>\n",
       "</table>\n",
       "</div>"
      ],
      "text/plain": [
       "         name       map      ndcg\n",
       "0  BR(TF_IDF)  0.087904  0.227368"
      ]
     },
     "execution_count": 25,
     "metadata": {},
     "output_type": "execute_result"
    }
   ],
   "source": [
    "pt.Experiment(\n",
    "    [tfidf],\n",
    "    nf_dataset.get_topics(variant='title'),\n",
    "    nf_dataset.get_qrels(),\n",
    "    eval_metrics=[\"map\", \"ndcg\"])"
   ]
  },
  {
   "cell_type": "markdown",
   "metadata": {
    "id": "Mt0iPhRw2J-S"
   },
   "source": [
    "## Task 2.1: Define new models and evaluate them in an Experiment (5 points)\n",
    "\n",
    "Now comes the fun part! Your task is to define **three** new [`BatchRetrieve`](https://pyterrier.readthedocs.io/en/latest/terrier-retrieval.html#batchretrieve) objects with different word ranking methods. You are welcome to set the hyperparameters but all models should be sufficiently different. You are definitely welcome (encouraged, even!) to compare _more_ than three models too.\n",
    "\n",
    "Once you have defined your three `BatchRetrieve` objects, conduct an `Experiment` using all of them _at once_ (not three separate `Experiment` runs!) to evlauate the results.  Your experiment should include the two metrics used above, as well as NDCG for the top-5 and top-10 results. You are welcome to include other metrics as well\n",
    "\n",
    "Print the results of each Experiment "
   ]
  },
  {
   "cell_type": "code",
   "execution_count": 26,
   "metadata": {},
   "outputs": [
    {
     "name": "stderr",
     "output_type": "stream",
     "text": [
      "/Users/junsi/opt/anaconda3/lib/python3.9/site-packages/pyterrier/datasets.py:435: FutureWarning: In a future version of pandas all arguments of DataFrame.drop except for the argument 'labels' will be keyword-only.\n",
      "  df.drop(df.columns.difference(['qid','query']), 1, inplace=True)\n"
     ]
    },
    {
     "data": {
      "text/html": [
       "<div>\n",
       "<style scoped>\n",
       "    .dataframe tbody tr th:only-of-type {\n",
       "        vertical-align: middle;\n",
       "    }\n",
       "\n",
       "    .dataframe tbody tr th {\n",
       "        vertical-align: top;\n",
       "    }\n",
       "\n",
       "    .dataframe thead th {\n",
       "        text-align: right;\n",
       "    }\n",
       "</style>\n",
       "<table border=\"1\" class=\"dataframe\">\n",
       "  <thead>\n",
       "    <tr style=\"text-align: right;\">\n",
       "      <th></th>\n",
       "      <th>name</th>\n",
       "      <th>map</th>\n",
       "      <th>ndcg</th>\n",
       "      <th>nDCG@5</th>\n",
       "      <th>nDCG@10</th>\n",
       "      <th>recip_rank</th>\n",
       "    </tr>\n",
       "  </thead>\n",
       "  <tbody>\n",
       "    <tr>\n",
       "      <th>0</th>\n",
       "      <td>BR(BM25)</td>\n",
       "      <td>0.087705</td>\n",
       "      <td>0.226371</td>\n",
       "      <td>0.253002</td>\n",
       "      <td>0.224962</td>\n",
       "      <td>0.443892</td>\n",
       "    </tr>\n",
       "    <tr>\n",
       "      <th>1</th>\n",
       "      <td>BR(DPH)</td>\n",
       "      <td>0.085551</td>\n",
       "      <td>0.224241</td>\n",
       "      <td>0.247755</td>\n",
       "      <td>0.223596</td>\n",
       "      <td>0.434890</td>\n",
       "    </tr>\n",
       "    <tr>\n",
       "      <th>2</th>\n",
       "      <td>BR(Hiemstra_LM)</td>\n",
       "      <td>0.084659</td>\n",
       "      <td>0.222819</td>\n",
       "      <td>0.248285</td>\n",
       "      <td>0.218576</td>\n",
       "      <td>0.432179</td>\n",
       "    </tr>\n",
       "    <tr>\n",
       "      <th>3</th>\n",
       "      <td>BR(DFIC)</td>\n",
       "      <td>0.084248</td>\n",
       "      <td>0.222493</td>\n",
       "      <td>0.242503</td>\n",
       "      <td>0.219932</td>\n",
       "      <td>0.432823</td>\n",
       "    </tr>\n",
       "    <tr>\n",
       "      <th>4</th>\n",
       "      <td>BR(PL2)</td>\n",
       "      <td>0.086552</td>\n",
       "      <td>0.225036</td>\n",
       "      <td>0.251854</td>\n",
       "      <td>0.222980</td>\n",
       "      <td>0.437066</td>\n",
       "    </tr>\n",
       "  </tbody>\n",
       "</table>\n",
       "</div>"
      ],
      "text/plain": [
       "              name       map      ndcg    nDCG@5   nDCG@10  recip_rank\n",
       "0         BR(BM25)  0.087705  0.226371  0.253002  0.224962    0.443892\n",
       "1          BR(DPH)  0.085551  0.224241  0.247755  0.223596    0.434890\n",
       "2  BR(Hiemstra_LM)  0.084659  0.222819  0.248285  0.218576    0.432179\n",
       "3         BR(DFIC)  0.084248  0.222493  0.242503  0.219932    0.432823\n",
       "4          BR(PL2)  0.086552  0.225036  0.251854  0.222980    0.437066"
      ]
     },
     "execution_count": 26,
     "metadata": {},
     "output_type": "execute_result"
    }
   ],
   "source": [
    "# TODO: Compare existing models\n",
    "from pyterrier.measures import *\n",
    "\n",
    "bm25 = pt.BatchRetrieve(index, wmodel=\"BM25\")\n",
    "dph = pt.BatchRetrieve(index, wmodel=\"DPH\")\n",
    "hiemstra_lm = pt.BatchRetrieve(index, wmodel=\"Hiemstra_LM\")\n",
    "dfic = pt.BatchRetrieve(index, wmodel=\"DFIC\")\n",
    "pl2 = pt.BatchRetrieve(index, wmodel=\"PL2\")\n",
    "\n",
    "pt.Experiment(\n",
    "    [bm25, dph, hiemstra_lm, dfic, pl2],\n",
    "    nf_dataset.get_topics(variant='title'),\n",
    "    nf_dataset.get_qrels(),\n",
    "    eval_metrics=[\"map\", \"ndcg\", nDCG@5, nDCG@10, \"recip_rank\"])"
   ]
  },
  {
   "cell_type": "markdown",
   "metadata": {},
   "source": [
    "### Task 2.2 Describe the results of your experiments (5 points)\n",
    "\n",
    "Write 2-3 sentences (or more) about what you see in the performance. Is there a clear better model? Would you expect better performance with some hyperparameter tuning?"
   ]
  },
  {
   "cell_type": "code",
   "execution_count": 27,
   "metadata": {},
   "outputs": [],
   "source": [
    "# TODO in separate document\n",
    "\n",
    "# see si650_hw2_sijuntao.pdf"
   ]
  },
  {
   "cell_type": "markdown",
   "metadata": {},
   "source": [
    "## Implementing Custom weighting\n",
    "\n",
    "PyTerrier allows you to [write your own weighting functions](\n",
    "https://pyterrier.readthedocs.io/en/latest/terrier-retrieval.html#custom-weighting-models). In this part of the assignment, we'll use this functionality to re-implement two standard weighting functions: BM25 and Pivoted Normalization. You likely will have used the built in versions of at least one of these above! The goals of having you re-implement these functions are (1) to understand how the index's data structures can be used to score document relevance efficiently and (2) to get you a better sense of how the equations we discussed in class map on to code. \n",
    "\n",
    "You are welcome to check whether your code is correct by comparing your results/weighting with PyTerrier's implementation's outputs. However, note that they may be using different hyperparameters, which could give slightly different results. This doesn't mean your code is incorrect though!\n",
    "\n",
    "### Task 3.1 Implement BM25 (10 points)\n",
    "\n",
    "Re-implement BM25 using the parameters $k_1$ = 1.2, $b$=0.75, $k_3$=8 (this is what PyTerrier also uses). "
   ]
  },
  {
   "cell_type": "code",
   "execution_count": 28,
   "metadata": {},
   "outputs": [],
   "source": [
    "import math"
   ]
  },
  {
   "cell_type": "code",
   "execution_count": 29,
   "metadata": {
    "id": "mRjyEZ5_aTvM"
   },
   "outputs": [],
   "source": [
    "def bm25_weighting(keyFreq, posting, entryStats, collStats):\n",
    "    '''\n",
    "    Computes the Okapi BM25 score of this document for a given query\n",
    "    \n",
    "    :param keyFrequency(float): the weight of the term in the query, usually 1 except during PRF.\n",
    "    :param posting(Posting): access to the information about the occurrence of the term in the current document (frequency, document length etc).\n",
    "    :param entryStats(EntryStatistics): access to the information about the occurrence of the term in the whole index (document frequency, etc.).\n",
    "    :param collStats(CollectionStatistics): access to the information about the index as a whole (number of documents, etc).\n",
    "    :return: the Okapi BM25 score of this document for the given query\n",
    "    '''\n",
    "    N = collStats.getNumberOfDocuments()         # the total number of documents in the collection.\n",
    "    df = entryStats.getDocumentFrequency()       # the number of documents that the term occurs in\n",
    "    k1 = 1.2  \n",
    "    b = 0.75\n",
    "    k3 = 8\n",
    "    c_t_D = posting.getFrequency()               # the frequency of the term in the current document, in tokens\n",
    "    Ld = posting.getDocumentLength()             # the length of the document of the current posting in tokens\n",
    "    Lavg = collStats.getAverageDocumentLength()  # the documents' average length\n",
    "    c_t_Q = keyFreq                              # the frequency of the term in the query\n",
    "    \n",
    "    variant_IDF = math.log((N-df+0.5)/(df+0.5))\n",
    "    variant_TF = (k1+1)*c_t_D / (k1*(1-b+b*Ld/Lavg)+c_t_D)\n",
    "    normalized_QTF = (k3+1)*c_t_Q / (k3+c_t_Q)\n",
    "    \n",
    "    sim_term = variant_IDF * variant_TF * normalized_QTF\n",
    "    return sim_term"
   ]
  },
  {
   "cell_type": "markdown",
   "metadata": {},
   "source": [
    "### Task 3.2 Implement Pivoted Normalization (10 points)\n",
    "\n",
    "Re-implement Pivoted Normalization using the parameters $b$ = 0.2."
   ]
  },
  {
   "cell_type": "code",
   "execution_count": 30,
   "metadata": {},
   "outputs": [],
   "source": [
    "def pivoted_normalization_weighting(keyFreq, posting, entryStats, collStats):\n",
    "    '''\n",
    "    Computes the Pivoted Normalization score of this document for a given query\n",
    "    \n",
    "    :param keyFrequency(float): the weight of the term in the query, usually 1 except during PRF.\n",
    "    :param posting(Posting): access to the information about the occurrence of the term in the current document (frequency, document length etc).\n",
    "    :param entryStats(EntryStatistics): access to the information about the occurrence of the term in the whole index (document frequency, etc.).\n",
    "    :param collStats(CollectionStatistics): access to the information about the index as a whole (number of documents, etc).\n",
    "    :return: the Pivoted Normalization score of this document for the given query\n",
    "    '''\n",
    "    c_w_Q = keyFreq                              # the frequency of the word in the query\n",
    "    c_w_D = posting.getFrequency()               # the frequency of the word in the current document, in tokens\n",
    "    b = 0.75\n",
    "    Ld = posting.getDocumentLength()             # the length of the document of the current posting in tokens\n",
    "    Lavg = collStats.getAverageDocumentLength()  # the documents' average length\n",
    "    N = collStats.getNumberOfDocuments()         # the total number of documents in the collection.\n",
    "    df = entryStats.getDocumentFrequency()       # the number of documents that the word occurs in\n",
    "    \n",
    "    TF = c_w_Q\n",
    "    normalized_TF = (1+math.log(1+math.log(c_w_D))) / (1-b+b*Ld/Lavg)\n",
    "    ln_IDF = math.log((N+1)/df)\n",
    "    \n",
    "    sim_term = TF * normalized_TF * ln_IDF\n",
    "    return sim_term"
   ]
  },
  {
   "cell_type": "markdown",
   "metadata": {},
   "source": [
    "### Task 3.3 Score your implementations in an Experiment on the evaluation data of each index for all datasets (5 points)\n",
    "\n",
    "Now the time has come to see how well the implementations work! Create a new series of experiments to test how well these functions work on _each_ index you created above. Each index will (likely) have a different set of terms and frequencies, some of which might be better for helping find the most relevant document.\n",
    "\n",
    "Report "
   ]
  },
  {
   "cell_type": "code",
   "execution_count": 31,
   "metadata": {},
   "outputs": [
    {
     "name": "stderr",
     "output_type": "stream",
     "text": [
      "/Users/junsi/opt/anaconda3/lib/python3.9/site-packages/pyterrier/datasets.py:435: FutureWarning: In a future version of pandas all arguments of DataFrame.drop except for the argument 'labels' will be keyword-only.\n",
      "  df.drop(df.columns.difference(['qid','query']), 1, inplace=True)\n"
     ]
    },
    {
     "data": {
      "text/html": [
       "<div>\n",
       "<style scoped>\n",
       "    .dataframe tbody tr th:only-of-type {\n",
       "        vertical-align: middle;\n",
       "    }\n",
       "\n",
       "    .dataframe tbody tr th {\n",
       "        vertical-align: top;\n",
       "    }\n",
       "\n",
       "    .dataframe thead th {\n",
       "        text-align: right;\n",
       "    }\n",
       "</style>\n",
       "<table border=\"1\" class=\"dataframe\">\n",
       "  <thead>\n",
       "    <tr style=\"text-align: right;\">\n",
       "      <th></th>\n",
       "      <th>name</th>\n",
       "      <th>map</th>\n",
       "      <th>ndcg</th>\n",
       "    </tr>\n",
       "  </thead>\n",
       "  <tbody>\n",
       "    <tr>\n",
       "      <th>0</th>\n",
       "      <td>BM25</td>\n",
       "      <td>0.087705</td>\n",
       "      <td>0.226371</td>\n",
       "    </tr>\n",
       "    <tr>\n",
       "      <th>1</th>\n",
       "      <td>pivoted_normalization</td>\n",
       "      <td>0.078407</td>\n",
       "      <td>0.218938</td>\n",
       "    </tr>\n",
       "  </tbody>\n",
       "</table>\n",
       "</div>"
      ],
      "text/plain": [
       "                    name       map      ndcg\n",
       "0                   BM25  0.087705  0.226371\n",
       "1  pivoted_normalization  0.078407  0.218938"
      ]
     },
     "execution_count": 31,
     "metadata": {},
     "output_type": "execute_result"
    }
   ],
   "source": [
    "# TODO\n",
    "\n",
    "# default index\n",
    "\n",
    "bm25_wt = pt.BatchRetrieve(index, wmodel=bm25_weighting)\n",
    "p_n_wt = pt.BatchRetrieve(index, wmodel=pivoted_normalization_weighting)\n",
    "\n",
    "pt.Experiment(\n",
    "    [bm25_wt, p_n_wt],\n",
    "    nf_dataset.get_topics(variant='title'),\n",
    "    nf_dataset.get_qrels(),\n",
    "    names=[\"BM25\",  \"pivoted_normalization\"], \n",
    "    eval_metrics=[\"map\", \"ndcg\"])"
   ]
  },
  {
   "cell_type": "code",
   "execution_count": 32,
   "metadata": {},
   "outputs": [
    {
     "name": "stderr",
     "output_type": "stream",
     "text": [
      "/Users/junsi/opt/anaconda3/lib/python3.9/site-packages/pyterrier/datasets.py:435: FutureWarning: In a future version of pandas all arguments of DataFrame.drop except for the argument 'labels' will be keyword-only.\n",
      "  df.drop(df.columns.difference(['qid','query']), 1, inplace=True)\n"
     ]
    },
    {
     "data": {
      "text/html": [
       "<div>\n",
       "<style scoped>\n",
       "    .dataframe tbody tr th:only-of-type {\n",
       "        vertical-align: middle;\n",
       "    }\n",
       "\n",
       "    .dataframe tbody tr th {\n",
       "        vertical-align: top;\n",
       "    }\n",
       "\n",
       "    .dataframe thead th {\n",
       "        text-align: right;\n",
       "    }\n",
       "</style>\n",
       "<table border=\"1\" class=\"dataframe\">\n",
       "  <thead>\n",
       "    <tr style=\"text-align: right;\">\n",
       "      <th></th>\n",
       "      <th>name</th>\n",
       "      <th>map</th>\n",
       "      <th>ndcg</th>\n",
       "    </tr>\n",
       "  </thead>\n",
       "  <tbody>\n",
       "    <tr>\n",
       "      <th>0</th>\n",
       "      <td>BM25</td>\n",
       "      <td>0.081279</td>\n",
       "      <td>0.221484</td>\n",
       "    </tr>\n",
       "    <tr>\n",
       "      <th>1</th>\n",
       "      <td>pivoted_normalization</td>\n",
       "      <td>0.075295</td>\n",
       "      <td>0.219736</td>\n",
       "    </tr>\n",
       "  </tbody>\n",
       "</table>\n",
       "</div>"
      ],
      "text/plain": [
       "                    name       map      ndcg\n",
       "0                   BM25  0.081279  0.221484\n",
       "1  pivoted_normalization  0.075295  0.219736"
      ]
     },
     "execution_count": 32,
     "metadata": {},
     "output_type": "execute_result"
    }
   ],
   "source": [
    "# index 1 \n",
    "# stemming configuation or stopwords: termpipelines - PorterStemmer\n",
    "# languages and tokenisation: tokeniser - UTFTokeniser\n",
    "\n",
    "bm25_wt = pt.BatchRetrieve(index1, wmodel=bm25_weighting)\n",
    "p_n_wt = pt.BatchRetrieve(index1, wmodel=pivoted_normalization_weighting)\n",
    "\n",
    "pt.Experiment(\n",
    "    [bm25_wt, p_n_wt],\n",
    "    nf_dataset.get_topics(variant='title'),\n",
    "    nf_dataset.get_qrels(),\n",
    "    names=[\"BM25\",  \"pivoted_normalization\"], \n",
    "    eval_metrics=[\"map\", \"ndcg\"])"
   ]
  },
  {
   "cell_type": "code",
   "execution_count": 33,
   "metadata": {},
   "outputs": [
    {
     "name": "stderr",
     "output_type": "stream",
     "text": [
      "/Users/junsi/opt/anaconda3/lib/python3.9/site-packages/pyterrier/datasets.py:435: FutureWarning: In a future version of pandas all arguments of DataFrame.drop except for the argument 'labels' will be keyword-only.\n",
      "  df.drop(df.columns.difference(['qid','query']), 1, inplace=True)\n"
     ]
    },
    {
     "data": {
      "text/html": [
       "<div>\n",
       "<style scoped>\n",
       "    .dataframe tbody tr th:only-of-type {\n",
       "        vertical-align: middle;\n",
       "    }\n",
       "\n",
       "    .dataframe tbody tr th {\n",
       "        vertical-align: top;\n",
       "    }\n",
       "\n",
       "    .dataframe thead th {\n",
       "        text-align: right;\n",
       "    }\n",
       "</style>\n",
       "<table border=\"1\" class=\"dataframe\">\n",
       "  <thead>\n",
       "    <tr style=\"text-align: right;\">\n",
       "      <th></th>\n",
       "      <th>name</th>\n",
       "      <th>map</th>\n",
       "      <th>ndcg</th>\n",
       "    </tr>\n",
       "  </thead>\n",
       "  <tbody>\n",
       "    <tr>\n",
       "      <th>0</th>\n",
       "      <td>BM25</td>\n",
       "      <td>0.074841</td>\n",
       "      <td>0.200378</td>\n",
       "    </tr>\n",
       "    <tr>\n",
       "      <th>1</th>\n",
       "      <td>pivoted_normalization</td>\n",
       "      <td>0.069566</td>\n",
       "      <td>0.195017</td>\n",
       "    </tr>\n",
       "  </tbody>\n",
       "</table>\n",
       "</div>"
      ],
      "text/plain": [
       "                    name       map      ndcg\n",
       "0                   BM25  0.074841  0.200378\n",
       "1  pivoted_normalization  0.069566  0.195017"
      ]
     },
     "execution_count": 33,
     "metadata": {},
     "output_type": "execute_result"
    }
   ],
   "source": [
    "# index 2\n",
    "# stemming configuation or stopwords: termpipelines - Stopwords\n",
    "# languages and tokenisation: tokeniser - UTFTokeniser\n",
    "\n",
    "bm25_wt = pt.BatchRetrieve(index2, wmodel=bm25_weighting)\n",
    "p_n_wt = pt.BatchRetrieve(index2, wmodel=pivoted_normalization_weighting)\n",
    "\n",
    "pt.Experiment(\n",
    "    [bm25_wt, p_n_wt],\n",
    "    nf_dataset.get_topics(variant='title'),\n",
    "    nf_dataset.get_qrels(),\n",
    "    names=[\"BM25\",  \"pivoted_normalization\"], \n",
    "    eval_metrics=[\"map\", \"ndcg\"])"
   ]
  },
  {
   "cell_type": "code",
   "execution_count": 34,
   "metadata": {},
   "outputs": [
    {
     "name": "stderr",
     "output_type": "stream",
     "text": [
      "/Users/junsi/opt/anaconda3/lib/python3.9/site-packages/pyterrier/datasets.py:435: FutureWarning: In a future version of pandas all arguments of DataFrame.drop except for the argument 'labels' will be keyword-only.\n",
      "  df.drop(df.columns.difference(['qid','query']), 1, inplace=True)\n"
     ]
    },
    {
     "data": {
      "text/html": [
       "<div>\n",
       "<style scoped>\n",
       "    .dataframe tbody tr th:only-of-type {\n",
       "        vertical-align: middle;\n",
       "    }\n",
       "\n",
       "    .dataframe tbody tr th {\n",
       "        vertical-align: top;\n",
       "    }\n",
       "\n",
       "    .dataframe thead th {\n",
       "        text-align: right;\n",
       "    }\n",
       "</style>\n",
       "<table border=\"1\" class=\"dataframe\">\n",
       "  <thead>\n",
       "    <tr style=\"text-align: right;\">\n",
       "      <th></th>\n",
       "      <th>name</th>\n",
       "      <th>map</th>\n",
       "      <th>ndcg</th>\n",
       "    </tr>\n",
       "  </thead>\n",
       "  <tbody>\n",
       "    <tr>\n",
       "      <th>0</th>\n",
       "      <td>BM25</td>\n",
       "      <td>0.074178</td>\n",
       "      <td>0.199323</td>\n",
       "    </tr>\n",
       "    <tr>\n",
       "      <th>1</th>\n",
       "      <td>pivoted_normalization</td>\n",
       "      <td>0.068971</td>\n",
       "      <td>0.194223</td>\n",
       "    </tr>\n",
       "  </tbody>\n",
       "</table>\n",
       "</div>"
      ],
      "text/plain": [
       "                    name       map      ndcg\n",
       "0                   BM25  0.074178  0.199323\n",
       "1  pivoted_normalization  0.068971  0.194223"
      ]
     },
     "execution_count": 34,
     "metadata": {},
     "output_type": "execute_result"
    }
   ],
   "source": [
    "# index 3\n",
    "# stemming configuation or stopwords: termpipelines - PorterStemmer\n",
    "# languages and tokenisation: tokeniser - UTFTwitterTokeniser\n",
    "\n",
    "bm25_wt = pt.BatchRetrieve(index3, wmodel=bm25_weighting)\n",
    "p_n_wt = pt.BatchRetrieve(index3, wmodel=pivoted_normalization_weighting)\n",
    "\n",
    "pt.Experiment(\n",
    "    [bm25_wt, p_n_wt],\n",
    "    nf_dataset.get_topics(variant='title'),\n",
    "    nf_dataset.get_qrels(),\n",
    "    names=[\"BM25\",  \"pivoted_normalization\"], \n",
    "    eval_metrics=[\"map\", \"ndcg\"])"
   ]
  },
  {
   "cell_type": "markdown",
   "metadata": {},
   "source": [
    "### Task 3.4 Tune BM25 (5 points)\n",
    "\n",
    "BM25 has several hyperparameters as we discussed in class. What effects might these have on the performance for this dataset? In Task 3.4, you will change the hyperparameters of your BM25 function and evaluate the performance. Perform at least five `Experiment` evaluations where you alter each hyperparameter (e.g., five where you change $b$, keeping the other two constant). You are welcome to do more evaluations as well to help understand the impact of each value on the performance. For full credit, you must find at least one set of hyperparameter values that outperforms the default values on this dataset."
   ]
  },
  {
   "cell_type": "code",
   "execution_count": 35,
   "metadata": {},
   "outputs": [
    {
     "name": "stderr",
     "output_type": "stream",
     "text": [
      "/Users/junsi/opt/anaconda3/lib/python3.9/site-packages/pyterrier/datasets.py:435: FutureWarning: In a future version of pandas all arguments of DataFrame.drop except for the argument 'labels' will be keyword-only.\n",
      "  df.drop(df.columns.difference(['qid','query']), 1, inplace=True)\n"
     ]
    }
   ],
   "source": [
    "# TODO\n",
    "\n",
    "# b = 0.25\n",
    "def bm25_weighting_b025(keyFreq, posting, entryStats, collStats):\n",
    "    N = collStats.getNumberOfDocuments()         # the total number of documents in the collection.\n",
    "    df = entryStats.getDocumentFrequency()       # the number of documents that the term occurs in\n",
    "    k1 = 1.2  \n",
    "    b = 0.25\n",
    "    k3 = 8\n",
    "    c_t_D = posting.getFrequency()               # the frequency of the term in the current document, in tokens\n",
    "    Ld = posting.getDocumentLength()             # the length of the document of the current posting in tokens\n",
    "    Lavg = collStats.getAverageDocumentLength()  # the documents' average length\n",
    "    c_t_Q = keyFreq                              # the frequency of the term in the query\n",
    "    \n",
    "    variant_IDF = math.log((N-df+0.5)/(df+0.5))\n",
    "    variant_TF = (k1+1)*c_t_D / (k1*(1-b+b*Ld/Lavg)+c_t_D)\n",
    "    normalized_QTF = (k3+1)*c_t_Q / (k3+c_t_Q)\n",
    "    \n",
    "    sim_term = variant_IDF * variant_TF * normalized_QTF\n",
    "    return sim_term\n",
    "\n",
    "# b = 0.40\n",
    "def bm25_weighting_b040(keyFreq, posting, entryStats, collStats):\n",
    "    N = collStats.getNumberOfDocuments()         # the total number of documents in the collection.\n",
    "    df = entryStats.getDocumentFrequency()       # the number of documents that the term occurs in\n",
    "    k1 = 1.2  \n",
    "    b = 0.40\n",
    "    k3 = 8\n",
    "    c_t_D = posting.getFrequency()               # the frequency of the term in the current document, in tokens\n",
    "    Ld = posting.getDocumentLength()             # the length of the document of the current posting in tokens\n",
    "    Lavg = collStats.getAverageDocumentLength()  # the documents' average length\n",
    "    c_t_Q = keyFreq                              # the frequency of the term in the query\n",
    "    \n",
    "    variant_IDF = math.log((N-df+0.5)/(df+0.5))\n",
    "    variant_TF = (k1+1)*c_t_D / (k1*(1-b+b*Ld/Lavg)+c_t_D)\n",
    "    normalized_QTF = (k3+1)*c_t_Q / (k3+c_t_Q)\n",
    "    \n",
    "    sim_term = variant_IDF * variant_TF * normalized_QTF\n",
    "    return sim_term\n",
    "\n",
    "# b = 0.65\n",
    "def bm25_weighting_b065(keyFreq, posting, entryStats, collStats):\n",
    "    N = collStats.getNumberOfDocuments()         # the total number of documents in the collection.\n",
    "    df = entryStats.getDocumentFrequency()       # the number of documents that the term occurs in\n",
    "    k1 = 1.2  \n",
    "    b = 0.65\n",
    "    k3 = 8\n",
    "    c_t_D = posting.getFrequency()               # the frequency of the term in the current document, in tokens\n",
    "    Ld = posting.getDocumentLength()             # the length of the document of the current posting in tokens\n",
    "    Lavg = collStats.getAverageDocumentLength()  # the documents' average length\n",
    "    c_t_Q = keyFreq                              # the frequency of the term in the query\n",
    "    \n",
    "    variant_IDF = math.log((N-df+0.5)/(df+0.5))\n",
    "    variant_TF = (k1+1)*c_t_D / (k1*(1-b+b*Ld/Lavg)+c_t_D)\n",
    "    normalized_QTF = (k3+1)*c_t_Q / (k3+c_t_Q)\n",
    "    \n",
    "    sim_term = variant_IDF * variant_TF * normalized_QTF\n",
    "    return sim_term\n",
    "\n",
    "# b = 0.72\n",
    "def bm25_weighting_b072(keyFreq, posting, entryStats, collStats):\n",
    "    N = collStats.getNumberOfDocuments()         # the total number of documents in the collection.\n",
    "    df = entryStats.getDocumentFrequency()       # the number of documents that the term occurs in\n",
    "    k1 = 1.2  \n",
    "    b = 0.72\n",
    "    k3 = 8\n",
    "    c_t_D = posting.getFrequency()               # the frequency of the term in the current document, in tokens\n",
    "    Ld = posting.getDocumentLength()             # the length of the document of the current posting in tokens\n",
    "    Lavg = collStats.getAverageDocumentLength()  # the documents' average length\n",
    "    c_t_Q = keyFreq                              # the frequency of the term in the query\n",
    "    \n",
    "    variant_IDF = math.log((N-df+0.5)/(df+0.5))\n",
    "    variant_TF = (k1+1)*c_t_D / (k1*(1-b+b*Ld/Lavg)+c_t_D)\n",
    "    normalized_QTF = (k3+1)*c_t_Q / (k3+c_t_Q)\n",
    "    \n",
    "    sim_term = variant_IDF * variant_TF * normalized_QTF\n",
    "    return sim_term\n",
    "\n",
    "# b = 0.75 is the default setting\n",
    "\n",
    "# b = 0.88\n",
    "def bm25_weighting_b088(keyFreq, posting, entryStats, collStats):\n",
    "    N = collStats.getNumberOfDocuments()         # the total number of documents in the collection.\n",
    "    df = entryStats.getDocumentFrequency()       # the number of documents that the term occurs in\n",
    "    k1 = 1.2  \n",
    "    b = 0.88\n",
    "    k3 = 8\n",
    "    c_t_D = posting.getFrequency()               # the frequency of the term in the current document, in tokens\n",
    "    Ld = posting.getDocumentLength()             # the length of the document of the current posting in tokens\n",
    "    Lavg = collStats.getAverageDocumentLength()  # the documents' average length\n",
    "    c_t_Q = keyFreq                              # the frequency of the term in the query\n",
    "    \n",
    "    variant_IDF = math.log((N-df+0.5)/(df+0.5))\n",
    "    variant_TF = (k1+1)*c_t_D / (k1*(1-b+b*Ld/Lavg)+c_t_D)\n",
    "    normalized_QTF = (k3+1)*c_t_Q / (k3+c_t_Q)\n",
    "    \n",
    "    sim_term = variant_IDF * variant_TF * normalized_QTF\n",
    "    return sim_term\n",
    "\n",
    "# b = 0.90\n",
    "def bm25_weighting_b090(keyFreq, posting, entryStats, collStats):\n",
    "    N = collStats.getNumberOfDocuments()         # the total number of documents in the collection.\n",
    "    df = entryStats.getDocumentFrequency()       # the number of documents that the term occurs in\n",
    "    k1 = 1.2  \n",
    "    b = 0.90\n",
    "    k3 = 8\n",
    "    c_t_D = posting.getFrequency()               # the frequency of the term in the current document, in tokens\n",
    "    Ld = posting.getDocumentLength()             # the length of the document of the current posting in tokens\n",
    "    Lavg = collStats.getAverageDocumentLength()  # the documents' average length\n",
    "    c_t_Q = keyFreq                              # the frequency of the term in the query\n",
    "    \n",
    "    variant_IDF = math.log((N-df+0.5)/(df+0.5))\n",
    "    variant_TF = (k1+1)*c_t_D / (k1*(1-b+b*Ld/Lavg)+c_t_D)\n",
    "    normalized_QTF = (k3+1)*c_t_Q / (k3+c_t_Q)\n",
    "    \n",
    "    sim_term = variant_IDF * variant_TF * normalized_QTF\n",
    "    return sim_term\n",
    "\n",
    "# b = 0.95\n",
    "def bm25_weighting_b095(keyFreq, posting, entryStats, collStats):\n",
    "    N = collStats.getNumberOfDocuments()         # the total number of documents in the collection.\n",
    "    df = entryStats.getDocumentFrequency()       # the number of documents that the term occurs in\n",
    "    k1 = 1.2  \n",
    "    b = 0.95\n",
    "    k3 = 8\n",
    "    c_t_D = posting.getFrequency()               # the frequency of the term in the current document, in tokens\n",
    "    Ld = posting.getDocumentLength()             # the length of the document of the current posting in tokens\n",
    "    Lavg = collStats.getAverageDocumentLength()  # the documents' average length\n",
    "    c_t_Q = keyFreq                              # the frequency of the term in the query\n",
    "    \n",
    "    variant_IDF = math.log((N-df+0.5)/(df+0.5))\n",
    "    variant_TF = (k1+1)*c_t_D / (k1*(1-b+b*Ld/Lavg)+c_t_D)\n",
    "    normalized_QTF = (k3+1)*c_t_Q / (k3+c_t_Q)\n",
    "    \n",
    "    sim_term = variant_IDF * variant_TF * normalized_QTF\n",
    "    return sim_term\n",
    "\n",
    "bm25_wt_b025 = pt.BatchRetrieve(index, wmodel=bm25_weighting_b025)\n",
    "bm25_wt_b040 = pt.BatchRetrieve(index, wmodel=bm25_weighting_b040)\n",
    "bm25_wt_b065 = pt.BatchRetrieve(index, wmodel=bm25_weighting_b065)\n",
    "bm25_wt_b072 = pt.BatchRetrieve(index, wmodel=bm25_weighting_b072)\n",
    "bm25_wt = pt.BatchRetrieve(index, wmodel=bm25_weighting)\n",
    "bm25_wt_b088 = pt.BatchRetrieve(index, wmodel=bm25_weighting_b088)\n",
    "bm25_wt_b090 = pt.BatchRetrieve(index, wmodel=bm25_weighting_b090)\n",
    "bm25_wt_b095 = pt.BatchRetrieve(index, wmodel=bm25_weighting_b095)\n",
    "\n",
    "\n",
    "bm25_b_sets = pt.Experiment(\n",
    "    [bm25_wt_b025, bm25_wt_b040, bm25_wt_b065, bm25_wt_b072, bm25_wt, bm25_wt_b088, bm25_wt_b090, bm25_wt_b095],\n",
    "    nf_dataset.get_topics(variant='title'),\n",
    "    nf_dataset.get_qrels(),\n",
    "    names=[\"BM25_b0.25\", \"BM25_b0.40\",  \"BM25_b0.65\", \"BM25_b0.72\", \"BM25_b0.75\",\"BM25_b0.88\",\"BM25_b0.90\", \"BM25_b0.95\"], \n",
    "    eval_metrics=[\"map\",\"ndcg\",NDCG@5])"
   ]
  },
  {
   "cell_type": "code",
   "execution_count": 36,
   "metadata": {},
   "outputs": [
    {
     "data": {
      "text/html": [
       "<div>\n",
       "<style scoped>\n",
       "    .dataframe tbody tr th:only-of-type {\n",
       "        vertical-align: middle;\n",
       "    }\n",
       "\n",
       "    .dataframe tbody tr th {\n",
       "        vertical-align: top;\n",
       "    }\n",
       "\n",
       "    .dataframe thead th {\n",
       "        text-align: right;\n",
       "    }\n",
       "</style>\n",
       "<table border=\"1\" class=\"dataframe\">\n",
       "  <thead>\n",
       "    <tr style=\"text-align: right;\">\n",
       "      <th></th>\n",
       "      <th>name</th>\n",
       "      <th>map</th>\n",
       "      <th>ndcg</th>\n",
       "      <th>nDCG@5</th>\n",
       "    </tr>\n",
       "  </thead>\n",
       "  <tbody>\n",
       "    <tr>\n",
       "      <th>0</th>\n",
       "      <td>BM25_b0.25</td>\n",
       "      <td>0.086744</td>\n",
       "      <td>0.225027</td>\n",
       "      <td>0.249203</td>\n",
       "    </tr>\n",
       "    <tr>\n",
       "      <th>1</th>\n",
       "      <td>BM25_b0.40</td>\n",
       "      <td>0.087623</td>\n",
       "      <td>0.226048</td>\n",
       "      <td>0.250537</td>\n",
       "    </tr>\n",
       "    <tr>\n",
       "      <th>2</th>\n",
       "      <td>BM25_b0.65</td>\n",
       "      <td>0.087648</td>\n",
       "      <td>0.226467</td>\n",
       "      <td>0.253341</td>\n",
       "    </tr>\n",
       "    <tr>\n",
       "      <th>3</th>\n",
       "      <td>BM25_b0.72</td>\n",
       "      <td>0.087792</td>\n",
       "      <td>0.226604</td>\n",
       "      <td>0.253500</td>\n",
       "    </tr>\n",
       "    <tr>\n",
       "      <th>4</th>\n",
       "      <td>BM25_b0.75</td>\n",
       "      <td>0.087705</td>\n",
       "      <td>0.226371</td>\n",
       "      <td>0.253002</td>\n",
       "    </tr>\n",
       "    <tr>\n",
       "      <th>5</th>\n",
       "      <td>BM25_b0.88</td>\n",
       "      <td>0.087817</td>\n",
       "      <td>0.226480</td>\n",
       "      <td>0.253382</td>\n",
       "    </tr>\n",
       "    <tr>\n",
       "      <th>6</th>\n",
       "      <td>BM25_b0.90</td>\n",
       "      <td>0.087863</td>\n",
       "      <td>0.226544</td>\n",
       "      <td>0.253489</td>\n",
       "    </tr>\n",
       "    <tr>\n",
       "      <th>7</th>\n",
       "      <td>BM25_b0.95</td>\n",
       "      <td>0.087594</td>\n",
       "      <td>0.226450</td>\n",
       "      <td>0.252313</td>\n",
       "    </tr>\n",
       "  </tbody>\n",
       "</table>\n",
       "</div>"
      ],
      "text/plain": [
       "         name       map      ndcg    nDCG@5\n",
       "0  BM25_b0.25  0.086744  0.225027  0.249203\n",
       "1  BM25_b0.40  0.087623  0.226048  0.250537\n",
       "2  BM25_b0.65  0.087648  0.226467  0.253341\n",
       "3  BM25_b0.72  0.087792  0.226604  0.253500\n",
       "4  BM25_b0.75  0.087705  0.226371  0.253002\n",
       "5  BM25_b0.88  0.087817  0.226480  0.253382\n",
       "6  BM25_b0.90  0.087863  0.226544  0.253489\n",
       "7  BM25_b0.95  0.087594  0.226450  0.252313"
      ]
     },
     "metadata": {},
     "output_type": "display_data"
    },
    {
     "name": "stdout",
     "output_type": "stream",
     "text": [
      "From the results above, we can find that the hpyerparameter sets {k1=1.2, k3=8, b=0.72}, {k1=1.2, k3=8, b=0.88}, and {k1=1.2, k3=8, b=0.90} outperform the default values {k1=1.2, k3=8, b=0.75} on this dataset on the metrics.\n"
     ]
    }
   ],
   "source": [
    "display(bm25_b_sets)\n",
    "print(\"From the results above, we can find that the hpyerparameter sets {k1=1.2, k3=8, b=0.72}, {k1=1.2, k3=8, b=0.88}, and {k1=1.2, k3=8, b=0.90} outperform the default values {k1=1.2, k3=8, b=0.75} on this dataset on the metrics.\")"
   ]
  },
  {
   "cell_type": "code",
   "execution_count": 37,
   "metadata": {},
   "outputs": [
    {
     "name": "stderr",
     "output_type": "stream",
     "text": [
      "/Users/junsi/opt/anaconda3/lib/python3.9/site-packages/pyterrier/datasets.py:435: FutureWarning: In a future version of pandas all arguments of DataFrame.drop except for the argument 'labels' will be keyword-only.\n",
      "  df.drop(df.columns.difference(['qid','query']), 1, inplace=True)\n"
     ]
    }
   ],
   "source": [
    "# TODO\n",
    "\n",
    "# k1 = 1.2 is the default setting\n",
    "\n",
    "# k1 = 1.3\n",
    "def bm25_weighting_k113(keyFreq, posting, entryStats, collStats):\n",
    "    N = collStats.getNumberOfDocuments()         # the total number of documents in the collection.\n",
    "    df = entryStats.getDocumentFrequency()       # the number of documents that the term occurs in\n",
    "    k1 = 1.3 \n",
    "    b = 0.75\n",
    "    k3 = 8\n",
    "    c_t_D = posting.getFrequency()               # the frequency of the term in the current document, in tokens\n",
    "    Ld = posting.getDocumentLength()             # the length of the document of the current posting in tokens\n",
    "    Lavg = collStats.getAverageDocumentLength()  # the documents' average length\n",
    "    c_t_Q = keyFreq                              # the frequency of the term in the query\n",
    "    \n",
    "    variant_IDF = math.log((N-df+0.5)/(df+0.5))\n",
    "    variant_TF = (k1+1)*c_t_D / (k1*(1-b+b*Ld/Lavg)+c_t_D)\n",
    "    normalized_QTF = (k3+1)*c_t_Q / (k3+c_t_Q)\n",
    "    \n",
    "    sim_term = variant_IDF * variant_TF * normalized_QTF\n",
    "    return sim_term\n",
    "\n",
    "# k1 = 1.4\n",
    "def bm25_weighting_k114(keyFreq, posting, entryStats, collStats):\n",
    "    N = collStats.getNumberOfDocuments()         # the total number of documents in the collection.\n",
    "    df = entryStats.getDocumentFrequency()       # the number of documents that the term occurs in\n",
    "    k1 = 1.4 \n",
    "    b = 0.75\n",
    "    k3 = 8\n",
    "    c_t_D = posting.getFrequency()               # the frequency of the term in the current document, in tokens\n",
    "    Ld = posting.getDocumentLength()             # the length of the document of the current posting in tokens\n",
    "    Lavg = collStats.getAverageDocumentLength()  # the documents' average length\n",
    "    c_t_Q = keyFreq                              # the frequency of the term in the query\n",
    "    \n",
    "    variant_IDF = math.log((N-df+0.5)/(df+0.5))\n",
    "    variant_TF = (k1+1)*c_t_D / (k1*(1-b+b*Ld/Lavg)+c_t_D)\n",
    "    normalized_QTF = (k3+1)*c_t_Q / (k3+c_t_Q)\n",
    "    \n",
    "    sim_term = variant_IDF * variant_TF * normalized_QTF\n",
    "    return sim_term\n",
    "\n",
    "# k1 = 1.5\n",
    "def bm25_weighting_k115(keyFreq, posting, entryStats, collStats):\n",
    "    N = collStats.getNumberOfDocuments()         # the total number of documents in the collection.\n",
    "    df = entryStats.getDocumentFrequency()       # the number of documents that the term occurs in\n",
    "    k1 = 1.5 \n",
    "    b = 0.75\n",
    "    k3 = 8\n",
    "    c_t_D = posting.getFrequency()               # the frequency of the term in the current document, in tokens\n",
    "    Ld = posting.getDocumentLength()             # the length of the document of the current posting in tokens\n",
    "    Lavg = collStats.getAverageDocumentLength()  # the documents' average length\n",
    "    c_t_Q = keyFreq                              # the frequency of the term in the query\n",
    "    \n",
    "    variant_IDF = math.log((N-df+0.5)/(df+0.5))\n",
    "    variant_TF = (k1+1)*c_t_D / (k1*(1-b+b*Ld/Lavg)+c_t_D)\n",
    "    normalized_QTF = (k3+1)*c_t_Q / (k3+c_t_Q)\n",
    "    \n",
    "    sim_term = variant_IDF * variant_TF * normalized_QTF\n",
    "    return sim_term\n",
    "\n",
    "# k1 = 1.6\n",
    "def bm25_weighting_k116(keyFreq, posting, entryStats, collStats):\n",
    "    N = collStats.getNumberOfDocuments()         # the total number of documents in the collection.\n",
    "    df = entryStats.getDocumentFrequency()       # the number of documents that the term occurs in\n",
    "    k1 = 1.6 \n",
    "    b = 0.75\n",
    "    k3 = 8\n",
    "    c_t_D = posting.getFrequency()               # the frequency of the term in the current document, in tokens\n",
    "    Ld = posting.getDocumentLength()             # the length of the document of the current posting in tokens\n",
    "    Lavg = collStats.getAverageDocumentLength()  # the documents' average length\n",
    "    c_t_Q = keyFreq                              # the frequency of the term in the query\n",
    "    \n",
    "    variant_IDF = math.log((N-df+0.5)/(df+0.5))\n",
    "    variant_TF = (k1+1)*c_t_D / (k1*(1-b+b*Ld/Lavg)+c_t_D)\n",
    "    normalized_QTF = (k3+1)*c_t_Q / (k3+c_t_Q)\n",
    "    \n",
    "    sim_term = variant_IDF * variant_TF * normalized_QTF\n",
    "    return sim_term\n",
    "\n",
    "# k1 = 1.7\n",
    "def bm25_weighting_k117(keyFreq, posting, entryStats, collStats):\n",
    "    N = collStats.getNumberOfDocuments()         # the total number of documents in the collection.\n",
    "    df = entryStats.getDocumentFrequency()       # the number of documents that the term occurs in\n",
    "    k1 = 1.7\n",
    "    b = 0.75\n",
    "    k3 = 8\n",
    "    c_t_D = posting.getFrequency()               # the frequency of the term in the current document, in tokens\n",
    "    Ld = posting.getDocumentLength()             # the length of the document of the current posting in tokens\n",
    "    Lavg = collStats.getAverageDocumentLength()  # the documents' average length\n",
    "    c_t_Q = keyFreq                              # the frequency of the term in the query\n",
    "    \n",
    "    variant_IDF = math.log((N-df+0.5)/(df+0.5))\n",
    "    variant_TF = (k1+1)*c_t_D / (k1*(1-b+b*Ld/Lavg)+c_t_D)\n",
    "    normalized_QTF = (k3+1)*c_t_Q / (k3+c_t_Q)\n",
    "    \n",
    "    sim_term = variant_IDF * variant_TF * normalized_QTF\n",
    "    return sim_term\n",
    "\n",
    "# k1 = 1.8\n",
    "def bm25_weighting_k118(keyFreq, posting, entryStats, collStats):\n",
    "    N = collStats.getNumberOfDocuments()         # the total number of documents in the collection.\n",
    "    df = entryStats.getDocumentFrequency()       # the number of documents that the term occurs in\n",
    "    k1 = 1.8 \n",
    "    b = 0.75\n",
    "    k3 = 8\n",
    "    c_t_D = posting.getFrequency()               # the frequency of the term in the current document, in tokens\n",
    "    Ld = posting.getDocumentLength()             # the length of the document of the current posting in tokens\n",
    "    Lavg = collStats.getAverageDocumentLength()  # the documents' average length\n",
    "    c_t_Q = keyFreq                              # the frequency of the term in the query\n",
    "    \n",
    "    variant_IDF = math.log((N-df+0.5)/(df+0.5))\n",
    "    variant_TF = (k1+1)*c_t_D / (k1*(1-b+b*Ld/Lavg)+c_t_D)\n",
    "    normalized_QTF = (k3+1)*c_t_Q / (k3+c_t_Q)\n",
    "    \n",
    "    sim_term = variant_IDF * variant_TF * normalized_QTF\n",
    "    return sim_term\n",
    "\n",
    "# k1 = 1.9\n",
    "def bm25_weighting_k119(keyFreq, posting, entryStats, collStats):\n",
    "    N = collStats.getNumberOfDocuments()         # the total number of documents in the collection.\n",
    "    df = entryStats.getDocumentFrequency()       # the number of documents that the term occurs in\n",
    "    k1 = 1.9 \n",
    "    b = 0.75\n",
    "    k3 = 8\n",
    "    c_t_D = posting.getFrequency()               # the frequency of the term in the current document, in tokens\n",
    "    Ld = posting.getDocumentLength()             # the length of the document of the current posting in tokens\n",
    "    Lavg = collStats.getAverageDocumentLength()  # the documents' average length\n",
    "    c_t_Q = keyFreq                              # the frequency of the term in the query\n",
    "    \n",
    "    variant_IDF = math.log((N-df+0.5)/(df+0.5))\n",
    "    variant_TF = (k1+1)*c_t_D / (k1*(1-b+b*Ld/Lavg)+c_t_D)\n",
    "    normalized_QTF = (k3+1)*c_t_Q / (k3+c_t_Q)\n",
    "    \n",
    "    sim_term = variant_IDF * variant_TF * normalized_QTF\n",
    "    return sim_term\n",
    "\n",
    "bm25_wt = pt.BatchRetrieve(index, wmodel=bm25_weighting)\n",
    "bm25_wt_k113 = pt.BatchRetrieve(index, wmodel=bm25_weighting_k113)\n",
    "bm25_wt_k114 = pt.BatchRetrieve(index, wmodel=bm25_weighting_k114)\n",
    "bm25_wt_k115 = pt.BatchRetrieve(index, wmodel=bm25_weighting_k115)\n",
    "bm25_wt_k116 = pt.BatchRetrieve(index, wmodel=bm25_weighting_k116)\n",
    "bm25_wt_k117 = pt.BatchRetrieve(index, wmodel=bm25_weighting_k117)\n",
    "bm25_wt_k118 = pt.BatchRetrieve(index, wmodel=bm25_weighting_k118)\n",
    "bm25_wt_k119 = pt.BatchRetrieve(index, wmodel=bm25_weighting_k119)\n",
    "\n",
    "\n",
    "bm25_k1_sets = pt.Experiment(\n",
    "    [bm25_wt, bm25_wt_k113, bm25_wt_k114, bm25_wt_k115, bm25_wt_k116, bm25_wt_k117, bm25_wt_k118, bm25_wt_k119],\n",
    "    nf_dataset.get_topics(variant='title'),\n",
    "    nf_dataset.get_qrels(),\n",
    "    names=[\"BM25_k1 1.2\", \"BM25_k1 1.3\",  \"BM25_k1 1.4\", \"BM25_k1 1.5\", \"BM25_k1 1.6\",\"BM25_k1 1.7\",\"BM25_k1 1.8\", \"BM25_k1 1.9\"], \n",
    "    eval_metrics=[\"map\",\"ndcg\",NDCG@5])"
   ]
  },
  {
   "cell_type": "code",
   "execution_count": 38,
   "metadata": {},
   "outputs": [
    {
     "data": {
      "text/html": [
       "<div>\n",
       "<style scoped>\n",
       "    .dataframe tbody tr th:only-of-type {\n",
       "        vertical-align: middle;\n",
       "    }\n",
       "\n",
       "    .dataframe tbody tr th {\n",
       "        vertical-align: top;\n",
       "    }\n",
       "\n",
       "    .dataframe thead th {\n",
       "        text-align: right;\n",
       "    }\n",
       "</style>\n",
       "<table border=\"1\" class=\"dataframe\">\n",
       "  <thead>\n",
       "    <tr style=\"text-align: right;\">\n",
       "      <th></th>\n",
       "      <th>name</th>\n",
       "      <th>map</th>\n",
       "      <th>ndcg</th>\n",
       "      <th>nDCG@5</th>\n",
       "    </tr>\n",
       "  </thead>\n",
       "  <tbody>\n",
       "    <tr>\n",
       "      <th>0</th>\n",
       "      <td>BM25_k1 1.2</td>\n",
       "      <td>0.087705</td>\n",
       "      <td>0.226371</td>\n",
       "      <td>0.253002</td>\n",
       "    </tr>\n",
       "    <tr>\n",
       "      <th>1</th>\n",
       "      <td>BM25_k1 1.3</td>\n",
       "      <td>0.087869</td>\n",
       "      <td>0.226553</td>\n",
       "      <td>0.253845</td>\n",
       "    </tr>\n",
       "    <tr>\n",
       "      <th>2</th>\n",
       "      <td>BM25_k1 1.4</td>\n",
       "      <td>0.087899</td>\n",
       "      <td>0.226629</td>\n",
       "      <td>0.253844</td>\n",
       "    </tr>\n",
       "    <tr>\n",
       "      <th>3</th>\n",
       "      <td>BM25_k1 1.5</td>\n",
       "      <td>0.087884</td>\n",
       "      <td>0.226408</td>\n",
       "      <td>0.253279</td>\n",
       "    </tr>\n",
       "    <tr>\n",
       "      <th>4</th>\n",
       "      <td>BM25_k1 1.6</td>\n",
       "      <td>0.087983</td>\n",
       "      <td>0.226625</td>\n",
       "      <td>0.253078</td>\n",
       "    </tr>\n",
       "    <tr>\n",
       "      <th>5</th>\n",
       "      <td>BM25_k1 1.7</td>\n",
       "      <td>0.087813</td>\n",
       "      <td>0.226404</td>\n",
       "      <td>0.252692</td>\n",
       "    </tr>\n",
       "    <tr>\n",
       "      <th>6</th>\n",
       "      <td>BM25_k1 1.8</td>\n",
       "      <td>0.088004</td>\n",
       "      <td>0.226690</td>\n",
       "      <td>0.252868</td>\n",
       "    </tr>\n",
       "    <tr>\n",
       "      <th>7</th>\n",
       "      <td>BM25_k1 1.9</td>\n",
       "      <td>0.087911</td>\n",
       "      <td>0.226562</td>\n",
       "      <td>0.252731</td>\n",
       "    </tr>\n",
       "  </tbody>\n",
       "</table>\n",
       "</div>"
      ],
      "text/plain": [
       "          name       map      ndcg    nDCG@5\n",
       "0  BM25_k1 1.2  0.087705  0.226371  0.253002\n",
       "1  BM25_k1 1.3  0.087869  0.226553  0.253845\n",
       "2  BM25_k1 1.4  0.087899  0.226629  0.253844\n",
       "3  BM25_k1 1.5  0.087884  0.226408  0.253279\n",
       "4  BM25_k1 1.6  0.087983  0.226625  0.253078\n",
       "5  BM25_k1 1.7  0.087813  0.226404  0.252692\n",
       "6  BM25_k1 1.8  0.088004  0.226690  0.252868\n",
       "7  BM25_k1 1.9  0.087911  0.226562  0.252731"
      ]
     },
     "metadata": {},
     "output_type": "display_data"
    },
    {
     "name": "stdout",
     "output_type": "stream",
     "text": [
      "From the results above, we can find that the hpyerparameter sets {k1=1.3-1.6, k3=8, b=0.75} outperform the default values {k1=1.2, k3=8, b=0.75} on this dataset on the metrics.\n"
     ]
    }
   ],
   "source": [
    "display(bm25_k1_sets)\n",
    "print(\"From the results above, we can find that the hpyerparameter sets {k1=1.3-1.6, k3=8, b=0.75} outperform the default values {k1=1.2, k3=8, b=0.75} on this dataset on the metrics.\")"
   ]
  },
  {
   "cell_type": "code",
   "execution_count": 39,
   "metadata": {},
   "outputs": [
    {
     "name": "stderr",
     "output_type": "stream",
     "text": [
      "/Users/junsi/opt/anaconda3/lib/python3.9/site-packages/pyterrier/datasets.py:435: FutureWarning: In a future version of pandas all arguments of DataFrame.drop except for the argument 'labels' will be keyword-only.\n",
      "  df.drop(df.columns.difference(['qid','query']), 1, inplace=True)\n"
     ]
    }
   ],
   "source": [
    "# TODO\n",
    "\n",
    "# k3 = 1.2\n",
    "def bm25_weighting_k31p2(keyFreq, posting, entryStats, collStats):\n",
    "    N = collStats.getNumberOfDocuments()         # the total number of documents in the collection.\n",
    "    df = entryStats.getDocumentFrequency()       # the number of documents that the term occurs in\n",
    "    k1 = 1.2 \n",
    "    b = 0.75\n",
    "    k3 = 1.2\n",
    "    c_t_D = posting.getFrequency()               # the frequency of the term in the current document, in tokens\n",
    "    Ld = posting.getDocumentLength()             # the length of the document of the current posting in tokens\n",
    "    Lavg = collStats.getAverageDocumentLength()  # the documents' average length\n",
    "    c_t_Q = keyFreq                              # the frequency of the term in the query\n",
    "    \n",
    "    variant_IDF = math.log((N-df+0.5)/(df+0.5))\n",
    "    variant_TF = (k1+1)*c_t_D / (k1*(1-b+b*Ld/Lavg)+c_t_D)\n",
    "    normalized_QTF = (k3+1)*c_t_Q / (k3+c_t_Q)\n",
    "    \n",
    "    sim_term = variant_IDF * variant_TF * normalized_QTF\n",
    "    return sim_term\n",
    "\n",
    "# k3 = 2\n",
    "def bm25_weighting_k32(keyFreq, posting, entryStats, collStats):\n",
    "    N = collStats.getNumberOfDocuments()         # the total number of documents in the collection.\n",
    "    df = entryStats.getDocumentFrequency()       # the number of documents that the term occurs in\n",
    "    k1 = 1.2 \n",
    "    b = 0.75\n",
    "    k3 = 2\n",
    "    c_t_D = posting.getFrequency()               # the frequency of the term in the current document, in tokens\n",
    "    Ld = posting.getDocumentLength()             # the length of the document of the current posting in tokens\n",
    "    Lavg = collStats.getAverageDocumentLength()  # the documents' average length\n",
    "    c_t_Q = keyFreq                              # the frequency of the term in the query\n",
    "    \n",
    "    variant_IDF = math.log((N-df+0.5)/(df+0.5))\n",
    "    variant_TF = (k1+1)*c_t_D / (k1*(1-b+b*Ld/Lavg)+c_t_D)\n",
    "    normalized_QTF = (k3+1)*c_t_Q / (k3+c_t_Q)\n",
    "    \n",
    "    sim_term = variant_IDF * variant_TF * normalized_QTF\n",
    "    return sim_term\n",
    "\n",
    "# k3 = 3\n",
    "def bm25_weighting_k33(keyFreq, posting, entryStats, collStats):\n",
    "    N = collStats.getNumberOfDocuments()         # the total number of documents in the collection.\n",
    "    df = entryStats.getDocumentFrequency()       # the number of documents that the term occurs in\n",
    "    k1 = 1.2 \n",
    "    b = 0.75\n",
    "    k3 = 3\n",
    "    c_t_D = posting.getFrequency()               # the frequency of the term in the current document, in tokens\n",
    "    Ld = posting.getDocumentLength()             # the length of the document of the current posting in tokens\n",
    "    Lavg = collStats.getAverageDocumentLength()  # the documents' average length\n",
    "    c_t_Q = keyFreq                              # the frequency of the term in the query\n",
    "    \n",
    "    variant_IDF = math.log((N-df+0.5)/(df+0.5))\n",
    "    variant_TF = (k1+1)*c_t_D / (k1*(1-b+b*Ld/Lavg)+c_t_D)\n",
    "    normalized_QTF = (k3+1)*c_t_Q / (k3+c_t_Q)\n",
    "    \n",
    "    sim_term = variant_IDF * variant_TF * normalized_QTF\n",
    "    return sim_term\n",
    "\n",
    "# k3 = 4\n",
    "def bm25_weighting_k34(keyFreq, posting, entryStats, collStats):\n",
    "    N = collStats.getNumberOfDocuments()         # the total number of documents in the collection.\n",
    "    df = entryStats.getDocumentFrequency()       # the number of documents that the term occurs in\n",
    "    k1 = 1.2 \n",
    "    b = 0.75\n",
    "    k3 = 4\n",
    "    c_t_D = posting.getFrequency()               # the frequency of the term in the current document, in tokens\n",
    "    Ld = posting.getDocumentLength()             # the length of the document of the current posting in tokens\n",
    "    Lavg = collStats.getAverageDocumentLength()  # the documents' average length\n",
    "    c_t_Q = keyFreq                              # the frequency of the term in the query\n",
    "    \n",
    "    variant_IDF = math.log((N-df+0.5)/(df+0.5))\n",
    "    variant_TF = (k1+1)*c_t_D / (k1*(1-b+b*Ld/Lavg)+c_t_D)\n",
    "    normalized_QTF = (k3+1)*c_t_Q / (k3+c_t_Q)\n",
    "    \n",
    "    sim_term = variant_IDF * variant_TF * normalized_QTF\n",
    "    return sim_term\n",
    "\n",
    "# k3 = 6\n",
    "def bm25_weighting_k36(keyFreq, posting, entryStats, collStats):\n",
    "    N = collStats.getNumberOfDocuments()         # the total number of documents in the collection.\n",
    "    df = entryStats.getDocumentFrequency()       # the number of documents that the term occurs in\n",
    "    k1 = 1.2 \n",
    "    b = 0.75\n",
    "    k3 = 6\n",
    "    c_t_D = posting.getFrequency()               # the frequency of the term in the current document, in tokens\n",
    "    Ld = posting.getDocumentLength()             # the length of the document of the current posting in tokens\n",
    "    Lavg = collStats.getAverageDocumentLength()  # the documents' average length\n",
    "    c_t_Q = keyFreq                              # the frequency of the term in the query\n",
    "    \n",
    "    variant_IDF = math.log((N-df+0.5)/(df+0.5))\n",
    "    variant_TF = (k1+1)*c_t_D / (k1*(1-b+b*Ld/Lavg)+c_t_D)\n",
    "    normalized_QTF = (k3+1)*c_t_Q / (k3+c_t_Q)\n",
    "    \n",
    "    sim_term = variant_IDF * variant_TF * normalized_QTF\n",
    "    return sim_term\n",
    "\n",
    "# k3 = 8 is the default setting\n",
    "\n",
    "# k3 = 10\n",
    "def bm25_weighting_k310(keyFreq, posting, entryStats, collStats):\n",
    "    N = collStats.getNumberOfDocuments()         # the total number of documents in the collection.\n",
    "    df = entryStats.getDocumentFrequency()       # the number of documents that the term occurs in\n",
    "    k1 = 1.2 \n",
    "    b = 0.75\n",
    "    k3 = 10\n",
    "    c_t_D = posting.getFrequency()               # the frequency of the term in the current document, in tokens\n",
    "    Ld = posting.getDocumentLength()             # the length of the document of the current posting in tokens\n",
    "    Lavg = collStats.getAverageDocumentLength()  # the documents' average length\n",
    "    c_t_Q = keyFreq                              # the frequency of the term in the query\n",
    "    \n",
    "    variant_IDF = math.log((N-df+0.5)/(df+0.5))\n",
    "    variant_TF = (k1+1)*c_t_D / (k1*(1-b+b*Ld/Lavg)+c_t_D)\n",
    "    normalized_QTF = (k3+1)*c_t_Q / (k3+c_t_Q)\n",
    "    \n",
    "    sim_term = variant_IDF * variant_TF * normalized_QTF\n",
    "    return sim_term\n",
    "\n",
    "# k3 = 12\n",
    "def bm25_weighting_k312(keyFreq, posting, entryStats, collStats):\n",
    "    N = collStats.getNumberOfDocuments()         # the total number of documents in the collection.\n",
    "    df = entryStats.getDocumentFrequency()       # the number of documents that the term occurs in\n",
    "    k1 = 1.2 \n",
    "    b = 0.75\n",
    "    k3 = 12\n",
    "    c_t_D = posting.getFrequency()               # the frequency of the term in the current document, in tokens\n",
    "    Ld = posting.getDocumentLength()             # the length of the document of the current posting in tokens\n",
    "    Lavg = collStats.getAverageDocumentLength()  # the documents' average length\n",
    "    c_t_Q = keyFreq                              # the frequency of the term in the query\n",
    "    \n",
    "    variant_IDF = math.log((N-df+0.5)/(df+0.5))\n",
    "    variant_TF = (k1+1)*c_t_D / (k1*(1-b+b*Ld/Lavg)+c_t_D)\n",
    "    normalized_QTF = (k3+1)*c_t_Q / (k3+c_t_Q)\n",
    "    \n",
    "    sim_term = variant_IDF * variant_TF * normalized_QTF\n",
    "    return sim_term\n",
    "\n",
    "bm25_wt_k31p2 = pt.BatchRetrieve(index, wmodel=bm25_weighting_k31p2)\n",
    "bm25_wt_k32 = pt.BatchRetrieve(index, wmodel=bm25_weighting_k32)\n",
    "bm25_wt_k33 = pt.BatchRetrieve(index, wmodel=bm25_weighting_k33)\n",
    "bm25_wt_k34 = pt.BatchRetrieve(index, wmodel=bm25_weighting_k34)\n",
    "bm25_wt_k36 = pt.BatchRetrieve(index, wmodel=bm25_weighting_k36)\n",
    "bm25_wt_k38 = pt.BatchRetrieve(index, wmodel=bm25_weighting)\n",
    "bm25_wt_k310 = pt.BatchRetrieve(index, wmodel=bm25_weighting_k310)\n",
    "bm25_wt_k312 = pt.BatchRetrieve(index, wmodel=bm25_weighting_k312)\n",
    "\n",
    "\n",
    "\n",
    "bm25_k3_sets = pt.Experiment(\n",
    "    [bm25_wt_k31p2, bm25_wt_k32, bm25_wt_k33, bm25_wt_k34, bm25_wt_k36, bm25_wt_k38,  bm25_wt_k310, bm25_wt_k312],\n",
    "    nf_dataset.get_topics(variant='title'),\n",
    "    nf_dataset.get_qrels(),\n",
    "    names=[\"BM25_k3 1.2\", \"BM25_k3 2.0\",  \"BM25_k3 3.0\", \"BM25_k3 4.0\", \"BM25_k3 6.0\",\"BM25_k3 8.0\",\"BM25_k3 10.\", \"BM25_k3 12.\"], \n",
    "    eval_metrics=[\"map\",\"ndcg\",NDCG@5])"
   ]
  },
  {
   "cell_type": "code",
   "execution_count": 40,
   "metadata": {},
   "outputs": [
    {
     "data": {
      "text/html": [
       "<div>\n",
       "<style scoped>\n",
       "    .dataframe tbody tr th:only-of-type {\n",
       "        vertical-align: middle;\n",
       "    }\n",
       "\n",
       "    .dataframe tbody tr th {\n",
       "        vertical-align: top;\n",
       "    }\n",
       "\n",
       "    .dataframe thead th {\n",
       "        text-align: right;\n",
       "    }\n",
       "</style>\n",
       "<table border=\"1\" class=\"dataframe\">\n",
       "  <thead>\n",
       "    <tr style=\"text-align: right;\">\n",
       "      <th></th>\n",
       "      <th>name</th>\n",
       "      <th>map</th>\n",
       "      <th>ndcg</th>\n",
       "      <th>nDCG@5</th>\n",
       "    </tr>\n",
       "  </thead>\n",
       "  <tbody>\n",
       "    <tr>\n",
       "      <th>0</th>\n",
       "      <td>BM25_k3 1.2</td>\n",
       "      <td>0.087739</td>\n",
       "      <td>0.226405</td>\n",
       "      <td>0.253318</td>\n",
       "    </tr>\n",
       "    <tr>\n",
       "      <th>1</th>\n",
       "      <td>BM25_k3 2.0</td>\n",
       "      <td>0.087708</td>\n",
       "      <td>0.226368</td>\n",
       "      <td>0.252945</td>\n",
       "    </tr>\n",
       "    <tr>\n",
       "      <th>2</th>\n",
       "      <td>BM25_k3 3.0</td>\n",
       "      <td>0.087704</td>\n",
       "      <td>0.226364</td>\n",
       "      <td>0.252945</td>\n",
       "    </tr>\n",
       "    <tr>\n",
       "      <th>3</th>\n",
       "      <td>BM25_k3 4.0</td>\n",
       "      <td>0.087706</td>\n",
       "      <td>0.226371</td>\n",
       "      <td>0.253002</td>\n",
       "    </tr>\n",
       "    <tr>\n",
       "      <th>4</th>\n",
       "      <td>BM25_k3 6.0</td>\n",
       "      <td>0.087706</td>\n",
       "      <td>0.226372</td>\n",
       "      <td>0.253002</td>\n",
       "    </tr>\n",
       "    <tr>\n",
       "      <th>5</th>\n",
       "      <td>BM25_k3 8.0</td>\n",
       "      <td>0.087705</td>\n",
       "      <td>0.226371</td>\n",
       "      <td>0.253002</td>\n",
       "    </tr>\n",
       "    <tr>\n",
       "      <th>6</th>\n",
       "      <td>BM25_k3 10.</td>\n",
       "      <td>0.087705</td>\n",
       "      <td>0.226371</td>\n",
       "      <td>0.253002</td>\n",
       "    </tr>\n",
       "    <tr>\n",
       "      <th>7</th>\n",
       "      <td>BM25_k3 12.</td>\n",
       "      <td>0.087705</td>\n",
       "      <td>0.226371</td>\n",
       "      <td>0.253002</td>\n",
       "    </tr>\n",
       "  </tbody>\n",
       "</table>\n",
       "</div>"
      ],
      "text/plain": [
       "          name       map      ndcg    nDCG@5\n",
       "0  BM25_k3 1.2  0.087739  0.226405  0.253318\n",
       "1  BM25_k3 2.0  0.087708  0.226368  0.252945\n",
       "2  BM25_k3 3.0  0.087704  0.226364  0.252945\n",
       "3  BM25_k3 4.0  0.087706  0.226371  0.253002\n",
       "4  BM25_k3 6.0  0.087706  0.226372  0.253002\n",
       "5  BM25_k3 8.0  0.087705  0.226371  0.253002\n",
       "6  BM25_k3 10.  0.087705  0.226371  0.253002\n",
       "7  BM25_k3 12.  0.087705  0.226371  0.253002"
      ]
     },
     "metadata": {},
     "output_type": "display_data"
    },
    {
     "name": "stdout",
     "output_type": "stream",
     "text": [
      "From the results above, we can find that the hpyerparameter sets {k1=1.2, k3=1.2, b=0.75} {k1=1.2, k3=4, b=0.75} and {k1=1.2, k3=6, b=0.75} outperform the default values {k1=1.2, k3=8, b=0.75} on this dataset on the metrics.\n"
     ]
    }
   ],
   "source": [
    "display(bm25_k3_sets)\n",
    "print(\"From the results above, we can find that the hpyerparameter sets {k1=1.2, k3=1.2, b=0.75} {k1=1.2, k3=4, b=0.75} and {k1=1.2, k3=6, b=0.75} outperform the default values {k1=1.2, k3=8, b=0.75} on this dataset on the metrics.\")"
   ]
  },
  {
   "cell_type": "markdown",
   "metadata": {},
   "source": [
    "### Task 3.5 Write up your observations (10 points)\n",
    "\n",
    "Did BM25 outperform Pivoted Normalization? How did the choice in hyperparameters affect performance? In Task 3.5, you should write at least five sentences describe your observations on the performance. You should also generate separate plots showing the performance as you change each BM25 hyperparameter (three plots total); for example, one plot would have NDCG on the y-axis and $b$ on the x-axis and show NDCG changes relative the value of $b$. Use a line plot for this."
   ]
  },
  {
   "cell_type": "code",
   "execution_count": 41,
   "metadata": {},
   "outputs": [
    {
     "data": {
      "text/plain": [
       "Text(0.5, 1.0, 'ndcg with respect to hyperparameter b')"
      ]
     },
     "execution_count": 41,
     "metadata": {},
     "output_type": "execute_result"
    },
    {
     "data": {
      "image/png": "[encoded data removed]",
      "text/plain": [
       "<Figure size 432x288 with 1 Axes>"
      ]
     },
     "metadata": {},
     "output_type": "display_data"
    }
   ],
   "source": [
    "# TODO (in your write-up document)\n",
    "\n",
    "# see si650_hw2_sijuntao.pdf for the description about the observations on the performance\n",
    "\n",
    "# You should also generate separate plots showing the performance as you change each BM25 hyperparameter (three plots total); \n",
    "# for example, one plot would have NDCG on the y-axis and b on the x-axis and show NDCG changes relative the value of 𝑏. \n",
    "# Use a line plot for this.\n",
    "\n",
    "# for hyperparameter b\n",
    "\n",
    "import matplotlib.pyplot as plt\n",
    "import seaborn as sns\n",
    "import numpy as np\n",
    "\n",
    "df = bm25_b_sets.copy()\n",
    "df[\"b_val\"] = df[\"name\"].str[-4:].astype(float)\n",
    "\n",
    "sns.set_theme(style=\"darkgrid\")\n",
    "fig, ax = plt.subplots(figsize=(6, 4))\n",
    "plot = sns.lineplot(data = df, x = \"b_val\", y = \"ndcg\" )\n",
    "ax.set_xlim(0,1)\n",
    "ax.set_xlabel(\"b\")\n",
    "ax.set_ylabel(\"ndcg\")\n",
    "ax.set_title(\"ndcg with respect to hyperparameter b\")"
   ]
  },
  {
   "cell_type": "code",
   "execution_count": 42,
   "metadata": {},
   "outputs": [
    {
     "data": {
      "text/plain": [
       "Text(0.5, 1.0, 'ndcg with respect to hyperparameter k1')"
      ]
     },
     "execution_count": 42,
     "metadata": {},
     "output_type": "execute_result"
    },
    {
     "data": {
      "image/png": "[encoded data removed]",
      "text/plain": [
       "<Figure size 432x288 with 1 Axes>"
      ]
     },
     "metadata": {},
     "output_type": "display_data"
    }
   ],
   "source": [
    "df = bm25_k1_sets.copy()\n",
    "df[\"k1_val\"] = df[\"name\"].str[-3:].astype(float)\n",
    "\n",
    "fig1, ax1 = plt.subplots(figsize=(6, 4))\n",
    "plot1 = sns.lineplot(data = df, x = \"k1_val\", y = \"ndcg\" )\n",
    "ax1.set_xlim(1,2)\n",
    "ax1.set_xlabel(\"k1\")\n",
    "ax1.set_ylabel(\"ndcg\")\n",
    "ax1.set_title(\"ndcg with respect to hyperparameter k1\")"
   ]
  },
  {
   "cell_type": "code",
   "execution_count": 43,
   "metadata": {},
   "outputs": [
    {
     "data": {
      "text/plain": [
       "Text(0.5, 1.0, 'ndcg with respect to hyperparameter k3')"
      ]
     },
     "execution_count": 43,
     "metadata": {},
     "output_type": "execute_result"
    },
    {
     "data": {
      "image/png": "[encoded data removed]",
      "text/plain": [
       "<Figure size 432x288 with 1 Axes>"
      ]
     },
     "metadata": {},
     "output_type": "display_data"
    }
   ],
   "source": [
    "df = bm25_k3_sets.copy()\n",
    "df[\"k3_val\"] = df[\"name\"].str[-3:].astype(float)\n",
    "\n",
    "fig3, ax3 = plt.subplots(figsize=(6, 4))\n",
    "plot3 = sns.lineplot(data = df, x = \"k3_val\", y = \"ndcg\" )\n",
    "ax3.set_xlim(1,13)\n",
    "ax3.set_xlabel(\"k3\")\n",
    "ax3.set_ylabel(\"ndcg\")\n",
    "ax3.set_title(\"ndcg with respect to hyperparameter k3\")"
   ]
  },
  {
   "cell_type": "markdown",
   "metadata": {},
   "source": [
    "## Task 4.1 Implement your custom weighting function (25 points)\n",
    "\n",
    "The last part of the assignment will have you implement at least one retrieval function _different_ from BM25, Dirichlet Prior, and Pivoted Length Normalization (and any variations of these). You will be graded based on your best performing function. You’ll get full credit if your retrieval function can beat the provided baseline in the dataset, which is an untuned BM25 using PyTerrier's default parameters. By \"beat,\"' we mean that your implemented function and your choice of parameters should reach higher NDCG than the baseline on Kaggle for our dataset, which you can check at any time by running an Experiment with PyTerrier's BM25 implementation. _Full credit for this function depends on whether it can surpass an untuned BM25 ranking of the same dataset._\n",
    "\n",
    "Most of your time in this part of the assignment will be spent trying to see what kinds of adjustments you can make to a ranking function improve. In past years, nearly all students have managed to outperform BM25 so it is very much possible. You are welcomed to be creative in your approaches as well. The intent of this part is to help you understand how different parts of the function help or hurt ranking, which often is a very empirical and hands-on process when trying to fine-tune a ranker for a particular dataset.\n",
    "\n",
    "**Note:** Simply varying the value of parameters in Okapi/BM25, Dirichlet Prior or Pivoted Length Normalization does not count as a new retrieval function. The variations of any of the algorithms listed in the slides or in the textbooks also do not count as new functions."
   ]
  },
  {
   "cell_type": "code",
   "execution_count": 44,
   "metadata": {},
   "outputs": [],
   "source": [
    "def my_custom_weighting(keyFreq, posting, entryStats, collStats):\n",
    "    '''\n",
    "    Computes the Pivoted Normalization score of this document for a given query\n",
    "    \n",
    "    :param keyFrequency(float): the weight of the term in the query, usually 1 except during PRF.\n",
    "    :param posting(Posting): access to the information about the occurrence of the term in the current document (frequency, document length etc).\n",
    "    :param entryStats(EntryStatistics): access to the information about the occurrence of the term in the whole index (document frequency, etc.).\n",
    "    :param collStats(CollectionStatistics): access to the information about the index as a whole (number of documents, etc).\n",
    "    :return: the Pivoted Normalization score of this document for the given query\n",
    "    '''\n",
    "    N = collStats.getNumberOfDocuments()         # the total number of documents in the collection\n",
    "    df = entryStats.getDocumentFrequency()       # the number of documents that the term occurs in\n",
    "    k = 2.2\n",
    "    c_t_D = posting.getFrequency()               # the frequency of the term in the current document, in tokens\n",
    "    Ld = posting.getDocumentLength()             # the length of the document of the current posting in tokens\n",
    "    Lavg = collStats.getAverageDocumentLength()  # the documents' average length\n",
    "    c_t_Q = keyFreq                              # the frequency of the term in the query\n",
    "    cf = entryStats.getFrequency()               # the frequency (total number of occurrences) of the term\n",
    "    tot_num = collStats.getNumberOfUniqueTerms() # the total number of unique terms in the collection\n",
    "    \n",
    "    variant2_TF = c_t_D * math.log(1.0 + (k * Lavg) / Ld)\n",
    "    QTF = c_t_Q\n",
    "    ln2_IDF = math.log(math.e,2) * math.log((N+1)/(df+0.5))   \n",
    "    CF =  (cf + 1) / (df * (variant2_TF + 1))\n",
    "\n",
    "\n",
    "    sim_term = ln2_IDF * variant2_TF * QTF * CF\n",
    "    return sim_term"
   ]
  },
  {
   "cell_type": "markdown",
   "metadata": {},
   "source": [
    "### Task 4.2 Describe what your function does and why you designed it that way (10 points)\n",
    "=\n",
    "\n",
    "In the write-up document, write a paragraph of at least five sentences **explaining** what your function does, how you designed in, and why you decide to choose those hyperparameter values. You will lose points if you cannot explain why your function can reach a higher performance. You can use the constraints we discussed at the end of Lecture 4 too if those are helpful for motivating particular design choices."
   ]
  },
  {
   "cell_type": "code",
   "execution_count": 45,
   "metadata": {},
   "outputs": [],
   "source": [
    "# TODO in separate document\n",
    "\n",
    "# see si650_hw2_sijuntao.pdf"
   ]
  },
  {
   "cell_type": "markdown",
   "metadata": {},
   "source": [
    "### Task 4.3 Build the index for our test collection (0 points, but necessary for 4.1)\n",
    "\n",
    "In the earlier tasks, we used NFCorpus which is for medical IR. What if we switched the domain slightly? For Task 4, we'll use the [CORD19 dataset](https://github.com/allenai/cord19), which is an IR dataset for Covid-19 questions created by AI2. Please download the dataset from the [Kaggle InClass competition site](https://www.kaggle.com/t/46e34d98356c4ae7b91517a6564a7979). Please do not download this data from other sources as this might hurt your final performance. You are welcome to adjust the preprocessing steps to give you better performance."
   ]
  },
  {
   "cell_type": "code",
   "execution_count": 46,
   "metadata": {},
   "outputs": [
    {
     "name": "stdout",
     "output_type": "stream",
     "text": [
      "19:18:30.440 [main] WARN org.terrier.structures.indexing.Indexer - Adding an empty document to the index (8is9x9sc) - further warnings are suppressed\n",
      "19:19:34.217 [main] WARN org.terrier.structures.indexing.Indexer - Indexed 17 empty documents\n"
     ]
    },
    {
     "data": {
      "text/plain": [
       "'./c19_df_index/data.properties'"
      ]
     },
     "execution_count": 46,
     "metadata": {},
     "output_type": "execute_result"
    }
   ],
   "source": [
    "queries_dataset = pd.read_csv(\"queries.csv\")\n",
    "cord19_dataset = pd.read_csv(\"documents.csv\").rename(columns = {\"doc_id\":\"docno\",\"document\":\"text\"})\n",
    "\n",
    "index_dir = './c19_df_index'\n",
    "indexer = pt.DFIndexer(index_dir, overwrite=True)\n",
    "index_ref = indexer.index(cord19_dataset[\"text\"], cord19_dataset[\"docno\"])\n",
    "index_ref.toString()"
   ]
  },
  {
   "cell_type": "code",
   "execution_count": 47,
   "metadata": {},
   "outputs": [
    {
     "name": "stdout",
     "output_type": "stream",
     "text": [
      "Number of documents: 171332\n",
      "Number of terms: 156504\n",
      "Number of postings: 11120054\n",
      "Number of fields: 0\n",
      "Number of tokens: 17546619\n",
      "Field names: []\n",
      "Positions:   false\n",
      "\n"
     ]
    }
   ],
   "source": [
    "index_df = pt.IndexFactory.of(index_ref)\n",
    "print(index_df.getCollectionStatistics().toString())"
   ]
  },
  {
   "cell_type": "markdown",
   "metadata": {},
   "source": [
    "### Task 4.4 Upload rankings for CORD19 to the KaggleInClass (0 points, but necessary for 4.1)\n",
    "\n",
    "Finally, let's see how your custom ranking function does! Use your custom weighting to score the documents for each query in CORD 19 below. Upload your relevance judgments to the [Kaggle InClass leaderboard](https://www.kaggle.com/t/46e34d98356c4ae7b91517a6564a7979) to see how well it works. Using your best parameters, for each query, report the most relevant five documents, using their document ID. A sample submission for just one query would look like the following as a table (you submit a .csv file):\n",
    "\n",
    "| QueryId | DocumentId | \n",
    "| --- | --- | \n",
    "| 116 | 1502 | \n",
    "| 116 | 6437 | \n",
    "| 116 | 2322 |\n",
    "| 116 | 6087 |\n",
    "| 116 | 2978 |\n"
   ]
  },
  {
   "cell_type": "code",
   "execution_count": 48,
   "metadata": {},
   "outputs": [
    {
     "name": "stderr",
     "output_type": "stream",
     "text": [
      "/Users/junsi/opt/anaconda3/lib/python3.9/site-packages/pyterrier/transformer.py:269: FutureWarning: .transform() should be passed a dataframe. Use .search() to execute a single query.\n",
      "  return self.transform(*args, **kwargs)\n",
      "/Users/junsi/opt/anaconda3/lib/python3.9/site-packages/pyterrier/transformer.py:269: FutureWarning: .transform() should be passed a dataframe. Use .search() to execute a single query.\n",
      "  return self.transform(*args, **kwargs)\n",
      "/Users/junsi/opt/anaconda3/lib/python3.9/site-packages/pyterrier/transformer.py:269: FutureWarning: .transform() should be passed a dataframe. Use .search() to execute a single query.\n",
      "  return self.transform(*args, **kwargs)\n",
      "/Users/junsi/opt/anaconda3/lib/python3.9/site-packages/pyterrier/transformer.py:269: FutureWarning: .transform() should be passed a dataframe. Use .search() to execute a single query.\n",
      "  return self.transform(*args, **kwargs)\n",
      "/Users/junsi/opt/anaconda3/lib/python3.9/site-packages/pyterrier/transformer.py:269: FutureWarning: .transform() should be passed a dataframe. Use .search() to execute a single query.\n",
      "  return self.transform(*args, **kwargs)\n",
      "/Users/junsi/opt/anaconda3/lib/python3.9/site-packages/pyterrier/transformer.py:269: FutureWarning: .transform() should be passed a dataframe. Use .search() to execute a single query.\n",
      "  return self.transform(*args, **kwargs)\n",
      "/Users/junsi/opt/anaconda3/lib/python3.9/site-packages/pyterrier/transformer.py:269: FutureWarning: .transform() should be passed a dataframe. Use .search() to execute a single query.\n",
      "  return self.transform(*args, **kwargs)\n",
      "/Users/junsi/opt/anaconda3/lib/python3.9/site-packages/pyterrier/transformer.py:269: FutureWarning: .transform() should be passed a dataframe. Use .search() to execute a single query.\n",
      "  return self.transform(*args, **kwargs)\n",
      "/Users/junsi/opt/anaconda3/lib/python3.9/site-packages/pyterrier/transformer.py:269: FutureWarning: .transform() should be passed a dataframe. Use .search() to execute a single query.\n",
      "  return self.transform(*args, **kwargs)\n",
      "/Users/junsi/opt/anaconda3/lib/python3.9/site-packages/pyterrier/transformer.py:269: FutureWarning: .transform() should be passed a dataframe. Use .search() to execute a single query.\n",
      "  return self.transform(*args, **kwargs)\n",
      "/Users/junsi/opt/anaconda3/lib/python3.9/site-packages/pyterrier/transformer.py:269: FutureWarning: .transform() should be passed a dataframe. Use .search() to execute a single query.\n",
      "  return self.transform(*args, **kwargs)\n",
      "/Users/junsi/opt/anaconda3/lib/python3.9/site-packages/pyterrier/transformer.py:269: FutureWarning: .transform() should be passed a dataframe. Use .search() to execute a single query.\n",
      "  return self.transform(*args, **kwargs)\n",
      "/Users/junsi/opt/anaconda3/lib/python3.9/site-packages/pyterrier/transformer.py:269: FutureWarning: .transform() should be passed a dataframe. Use .search() to execute a single query.\n",
      "  return self.transform(*args, **kwargs)\n",
      "/Users/junsi/opt/anaconda3/lib/python3.9/site-packages/pyterrier/transformer.py:269: FutureWarning: .transform() should be passed a dataframe. Use .search() to execute a single query.\n",
      "  return self.transform(*args, **kwargs)\n",
      "/Users/junsi/opt/anaconda3/lib/python3.9/site-packages/pyterrier/transformer.py:269: FutureWarning: .transform() should be passed a dataframe. Use .search() to execute a single query.\n",
      "  return self.transform(*args, **kwargs)\n",
      "/Users/junsi/opt/anaconda3/lib/python3.9/site-packages/pyterrier/transformer.py:269: FutureWarning: .transform() should be passed a dataframe. Use .search() to execute a single query.\n",
      "  return self.transform(*args, **kwargs)\n",
      "/Users/junsi/opt/anaconda3/lib/python3.9/site-packages/pyterrier/transformer.py:269: FutureWarning: .transform() should be passed a dataframe. Use .search() to execute a single query.\n",
      "  return self.transform(*args, **kwargs)\n",
      "/Users/junsi/opt/anaconda3/lib/python3.9/site-packages/pyterrier/transformer.py:269: FutureWarning: .transform() should be passed a dataframe. Use .search() to execute a single query.\n",
      "  return self.transform(*args, **kwargs)\n",
      "/Users/junsi/opt/anaconda3/lib/python3.9/site-packages/pyterrier/transformer.py:269: FutureWarning: .transform() should be passed a dataframe. Use .search() to execute a single query.\n",
      "  return self.transform(*args, **kwargs)\n",
      "/Users/junsi/opt/anaconda3/lib/python3.9/site-packages/pyterrier/transformer.py:269: FutureWarning: .transform() should be passed a dataframe. Use .search() to execute a single query.\n",
      "  return self.transform(*args, **kwargs)\n",
      "/Users/junsi/opt/anaconda3/lib/python3.9/site-packages/pyterrier/transformer.py:269: FutureWarning: .transform() should be passed a dataframe. Use .search() to execute a single query.\n",
      "  return self.transform(*args, **kwargs)\n",
      "/Users/junsi/opt/anaconda3/lib/python3.9/site-packages/pyterrier/transformer.py:269: FutureWarning: .transform() should be passed a dataframe. Use .search() to execute a single query.\n",
      "  return self.transform(*args, **kwargs)\n",
      "/Users/junsi/opt/anaconda3/lib/python3.9/site-packages/pyterrier/transformer.py:269: FutureWarning: .transform() should be passed a dataframe. Use .search() to execute a single query.\n",
      "  return self.transform(*args, **kwargs)\n",
      "/Users/junsi/opt/anaconda3/lib/python3.9/site-packages/pyterrier/transformer.py:269: FutureWarning: .transform() should be passed a dataframe. Use .search() to execute a single query.\n",
      "  return self.transform(*args, **kwargs)\n",
      "/Users/junsi/opt/anaconda3/lib/python3.9/site-packages/pyterrier/transformer.py:269: FutureWarning: .transform() should be passed a dataframe. Use .search() to execute a single query.\n",
      "  return self.transform(*args, **kwargs)\n",
      "/Users/junsi/opt/anaconda3/lib/python3.9/site-packages/pyterrier/transformer.py:269: FutureWarning: .transform() should be passed a dataframe. Use .search() to execute a single query.\n",
      "  return self.transform(*args, **kwargs)\n",
      "/Users/junsi/opt/anaconda3/lib/python3.9/site-packages/pyterrier/transformer.py:269: FutureWarning: .transform() should be passed a dataframe. Use .search() to execute a single query.\n",
      "  return self.transform(*args, **kwargs)\n",
      "/Users/junsi/opt/anaconda3/lib/python3.9/site-packages/pyterrier/transformer.py:269: FutureWarning: .transform() should be passed a dataframe. Use .search() to execute a single query.\n",
      "  return self.transform(*args, **kwargs)\n",
      "/Users/junsi/opt/anaconda3/lib/python3.9/site-packages/pyterrier/transformer.py:269: FutureWarning: .transform() should be passed a dataframe. Use .search() to execute a single query.\n",
      "  return self.transform(*args, **kwargs)\n",
      "/Users/junsi/opt/anaconda3/lib/python3.9/site-packages/pyterrier/transformer.py:269: FutureWarning: .transform() should be passed a dataframe. Use .search() to execute a single query.\n",
      "  return self.transform(*args, **kwargs)\n",
      "/Users/junsi/opt/anaconda3/lib/python3.9/site-packages/pyterrier/transformer.py:269: FutureWarning: .transform() should be passed a dataframe. Use .search() to execute a single query.\n",
      "  return self.transform(*args, **kwargs)\n",
      "/Users/junsi/opt/anaconda3/lib/python3.9/site-packages/pyterrier/transformer.py:269: FutureWarning: .transform() should be passed a dataframe. Use .search() to execute a single query.\n",
      "  return self.transform(*args, **kwargs)\n",
      "/Users/junsi/opt/anaconda3/lib/python3.9/site-packages/pyterrier/transformer.py:269: FutureWarning: .transform() should be passed a dataframe. Use .search() to execute a single query.\n",
      "  return self.transform(*args, **kwargs)\n",
      "/Users/junsi/opt/anaconda3/lib/python3.9/site-packages/pyterrier/transformer.py:269: FutureWarning: .transform() should be passed a dataframe. Use .search() to execute a single query.\n",
      "  return self.transform(*args, **kwargs)\n",
      "/Users/junsi/opt/anaconda3/lib/python3.9/site-packages/pyterrier/transformer.py:269: FutureWarning: .transform() should be passed a dataframe. Use .search() to execute a single query.\n",
      "  return self.transform(*args, **kwargs)\n",
      "/Users/junsi/opt/anaconda3/lib/python3.9/site-packages/pyterrier/transformer.py:269: FutureWarning: .transform() should be passed a dataframe. Use .search() to execute a single query.\n",
      "  return self.transform(*args, **kwargs)\n",
      "/Users/junsi/opt/anaconda3/lib/python3.9/site-packages/pyterrier/transformer.py:269: FutureWarning: .transform() should be passed a dataframe. Use .search() to execute a single query.\n",
      "  return self.transform(*args, **kwargs)\n"
     ]
    },
    {
     "name": "stderr",
     "output_type": "stream",
     "text": [
      "/Users/junsi/opt/anaconda3/lib/python3.9/site-packages/pyterrier/transformer.py:269: FutureWarning: .transform() should be passed a dataframe. Use .search() to execute a single query.\n",
      "  return self.transform(*args, **kwargs)\n",
      "/Users/junsi/opt/anaconda3/lib/python3.9/site-packages/pyterrier/transformer.py:269: FutureWarning: .transform() should be passed a dataframe. Use .search() to execute a single query.\n",
      "  return self.transform(*args, **kwargs)\n",
      "/Users/junsi/opt/anaconda3/lib/python3.9/site-packages/pyterrier/transformer.py:269: FutureWarning: .transform() should be passed a dataframe. Use .search() to execute a single query.\n",
      "  return self.transform(*args, **kwargs)\n",
      "/Users/junsi/opt/anaconda3/lib/python3.9/site-packages/pyterrier/transformer.py:269: FutureWarning: .transform() should be passed a dataframe. Use .search() to execute a single query.\n",
      "  return self.transform(*args, **kwargs)\n",
      "/Users/junsi/opt/anaconda3/lib/python3.9/site-packages/pyterrier/transformer.py:269: FutureWarning: .transform() should be passed a dataframe. Use .search() to execute a single query.\n",
      "  return self.transform(*args, **kwargs)\n",
      "/Users/junsi/opt/anaconda3/lib/python3.9/site-packages/pyterrier/transformer.py:269: FutureWarning: .transform() should be passed a dataframe. Use .search() to execute a single query.\n",
      "  return self.transform(*args, **kwargs)\n",
      "/Users/junsi/opt/anaconda3/lib/python3.9/site-packages/pyterrier/transformer.py:269: FutureWarning: .transform() should be passed a dataframe. Use .search() to execute a single query.\n",
      "  return self.transform(*args, **kwargs)\n",
      "/Users/junsi/opt/anaconda3/lib/python3.9/site-packages/pyterrier/transformer.py:269: FutureWarning: .transform() should be passed a dataframe. Use .search() to execute a single query.\n",
      "  return self.transform(*args, **kwargs)\n",
      "/Users/junsi/opt/anaconda3/lib/python3.9/site-packages/pyterrier/transformer.py:269: FutureWarning: .transform() should be passed a dataframe. Use .search() to execute a single query.\n",
      "  return self.transform(*args, **kwargs)\n",
      "/Users/junsi/opt/anaconda3/lib/python3.9/site-packages/pyterrier/transformer.py:269: FutureWarning: .transform() should be passed a dataframe. Use .search() to execute a single query.\n",
      "  return self.transform(*args, **kwargs)\n",
      "/Users/junsi/opt/anaconda3/lib/python3.9/site-packages/pyterrier/transformer.py:269: FutureWarning: .transform() should be passed a dataframe. Use .search() to execute a single query.\n",
      "  return self.transform(*args, **kwargs)\n",
      "/Users/junsi/opt/anaconda3/lib/python3.9/site-packages/pyterrier/transformer.py:269: FutureWarning: .transform() should be passed a dataframe. Use .search() to execute a single query.\n",
      "  return self.transform(*args, **kwargs)\n",
      "/Users/junsi/opt/anaconda3/lib/python3.9/site-packages/pyterrier/transformer.py:269: FutureWarning: .transform() should be passed a dataframe. Use .search() to execute a single query.\n",
      "  return self.transform(*args, **kwargs)\n"
     ]
    },
    {
     "data": {
      "text/html": [
       "<div>\n",
       "<style scoped>\n",
       "    .dataframe tbody tr th:only-of-type {\n",
       "        vertical-align: middle;\n",
       "    }\n",
       "\n",
       "    .dataframe tbody tr th {\n",
       "        vertical-align: top;\n",
       "    }\n",
       "\n",
       "    .dataframe thead th {\n",
       "        text-align: right;\n",
       "    }\n",
       "</style>\n",
       "<table border=\"1\" class=\"dataframe\">\n",
       "  <thead>\n",
       "    <tr style=\"text-align: right;\">\n",
       "      <th></th>\n",
       "      <th>docno</th>\n",
       "      <th>qid</th>\n",
       "    </tr>\n",
       "  </thead>\n",
       "  <tbody>\n",
       "    <tr>\n",
       "      <th>0</th>\n",
       "      <td>8ccl9aui</td>\n",
       "      <td>1</td>\n",
       "    </tr>\n",
       "    <tr>\n",
       "      <th>1</th>\n",
       "      <td>75773gwg</td>\n",
       "      <td>1</td>\n",
       "    </tr>\n",
       "    <tr>\n",
       "      <th>2</th>\n",
       "      <td>ne5r4d4b</td>\n",
       "      <td>1</td>\n",
       "    </tr>\n",
       "    <tr>\n",
       "      <th>3</th>\n",
       "      <td>es7q6c90</td>\n",
       "      <td>1</td>\n",
       "    </tr>\n",
       "    <tr>\n",
       "      <th>4</th>\n",
       "      <td>4dtk1kyh</td>\n",
       "      <td>1</td>\n",
       "    </tr>\n",
       "    <tr>\n",
       "      <th>...</th>\n",
       "      <td>...</td>\n",
       "      <td>...</td>\n",
       "    </tr>\n",
       "    <tr>\n",
       "      <th>0</th>\n",
       "      <td>30dhqh0g</td>\n",
       "      <td>50</td>\n",
       "    </tr>\n",
       "    <tr>\n",
       "      <th>1</th>\n",
       "      <td>xbze5s3c</td>\n",
       "      <td>50</td>\n",
       "    </tr>\n",
       "    <tr>\n",
       "      <th>2</th>\n",
       "      <td>fbpdyg2i</td>\n",
       "      <td>50</td>\n",
       "    </tr>\n",
       "    <tr>\n",
       "      <th>3</th>\n",
       "      <td>4nrpcado</td>\n",
       "      <td>50</td>\n",
       "    </tr>\n",
       "    <tr>\n",
       "      <th>4</th>\n",
       "      <td>binxayw2</td>\n",
       "      <td>50</td>\n",
       "    </tr>\n",
       "  </tbody>\n",
       "</table>\n",
       "<p>250 rows × 2 columns</p>\n",
       "</div>"
      ],
      "text/plain": [
       "       docno  qid\n",
       "0   8ccl9aui    1\n",
       "1   75773gwg    1\n",
       "2   ne5r4d4b    1\n",
       "3   es7q6c90    1\n",
       "4   4dtk1kyh    1\n",
       "..       ...  ...\n",
       "0   30dhqh0g   50\n",
       "1   xbze5s3c   50\n",
       "2   fbpdyg2i   50\n",
       "3   4nrpcado   50\n",
       "4   binxayw2   50\n",
       "\n",
       "[250 rows x 2 columns]"
      ]
     },
     "execution_count": 48,
     "metadata": {},
     "output_type": "execute_result"
    }
   ],
   "source": [
    "# TODO\n",
    "mc_wt_c19 = pt.BatchRetrieve(index_df, wmodel=my_custom_weighting)\n",
    "\n",
    "first_q = queries_dataset.loc[0,\"query\"]\n",
    "final_df = mc_wt_c19(first_q).head(5).loc[:,[\"docno\"]]\n",
    "final_df[\"qid\"] = [0+1] *5\n",
    "\n",
    "for i in range(1, len(queries_dataset)):\n",
    "    temp_q = queries_dataset.loc[i,\"query\"]\n",
    "    temp_df = mc_wt_c19(temp_q).head(5).loc[:,[\"docno\"]]\n",
    "    temp_df[\"qid\"] = [i+1] *5\n",
    "    final_df = pd.concat([final_df, temp_df])\n",
    "    \n",
    "final_df"
   ]
  },
  {
   "cell_type": "code",
   "execution_count": 49,
   "metadata": {},
   "outputs": [],
   "source": [
    "final_df = final_df[[\"qid\",\"docno\"]]\n",
    "final_df.to_csv(\"final_best_v3.csv\",index = False)"
   ]
  },
  {
   "cell_type": "code",
   "execution_count": null,
   "metadata": {},
   "outputs": [],
   "source": []
  }
 ],
 "metadata": {
  "colab": {
   "collapsed_sections": [],
   "name": "ECIR 2021 Tutorial Notebook - Part 1.ipynb",
   "provenance": [
    {
     "file_id": "1kWCNf3QlQ4bX5YCM9OJBaaLikoTFCd5A",
     "timestamp": 1615914442515
    },
    {
     "file_id": "17Pihqt_C8DFzqlomTUks-5stNzNFjrAn",
     "timestamp": 1611078807322
    },
    {
     "file_id": "121AtOADdFd2VVAX5hcJX0WNBNt2_QHDu",
     "timestamp": 1609952873856
    },
    {
     "file_id": "1o4RTKOutf_FlMyPdEPkRyutnbY26JXMf",
     "timestamp": 1571324862553
    }
   ],
   "toc_visible": true
  },
  "kernelspec": {
   "display_name": "Python 3 (ipykernel)",
   "language": "python",
   "name": "python3"
  },
  "language_info": {
   "codemirror_mode": {
    "name": "ipython",
    "version": 3
   },
   "file_extension": ".py",
   "mimetype": "text/x-python",
   "name": "python",
   "nbconvert_exporter": "python",
   "pygments_lexer": "ipython3",
   "version": "3.9.12"
  }
 },
 "nbformat": 4,
 "nbformat_minor": 1
}
