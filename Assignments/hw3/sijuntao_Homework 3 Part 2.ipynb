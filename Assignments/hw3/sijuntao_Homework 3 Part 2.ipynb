{
 "cells": [
  {
   "cell_type": "markdown",
   "metadata": {
    "id": "9egyhuvU3_GI"
   },
   "source": [
    "## SI 650 / EECS 549: Homework 3 Part 2\n",
    "\n",
    "Homework 3 Part 2 will have you working with deep learning models in a variety of ways. You will likely need to run this on Great Lakes unless you have access to a GPU elsewhere (or be prepared to wait a long time). You should have completed Parts 1 and 2 before attempting this notebook to familiarize yourself with how PyTerrier works.\n",
    "\n",
    "In Part 3, you'll try the following tasks:\n",
    " - Use a large language model to re-rank content\n",
    " - Use a text-to-text model to perform query augmentation\n",
    " - Train a deep learning IR model and compare its performance.\n",
    " \n",
    "The first two of these tasks will rely on models that we've pretrained for you. However, we've also provided code for how to train these. In the third task, you'll do one simple training in evaluate.\n",
    "\n",
    "For the first two tasks, we've provided most of the code. *You are expected to submit results showing that you have successfully executed it*. You'll need to understand some of the code to complete task 3, which requires you to write new code.\n",
    "\n",
    "As with the past notebooks, you'll need to have `JAVA_HOME` set, which will need to be run on Great Lakes. You can potentially set it in the notebook with a Jupyter command like\n",
    "```\n",
    "!export JAVA_HOME=/fill/in/the/path/to/the/JDK/here\n",
    "```\n",
    "by first figuring out where the JDK is installed. (This is setting the `JAVA_HOME` environment variable in the unix way). \n",
    "\n",
    "You can work on Parts 1 and 2 separately, so feel free to do the GPU-part (Part 2) when the resources are available on Great Lakes and the non-GPU part on your laptop or on a non-GPU Great Lakes machine (which likely will be much faster). Note that there will be no extensions due to Great Lakes bottlenecks, so you are encouraged to complete Part 2 as soon as possible."
   ]
  },
  {
   "cell_type": "markdown",
   "metadata": {
    "id": "mV0C6jJvqhMR"
   },
   "source": [
    "### Install the PyTerrier extensions\n",
    "\n",
    "You'll need two extensions for [OpenNIR](https://opennir.net/) and [doc2query](https://github.com/terrierteam/pyterrier_doc2query). We've provided the package install commands in comments below."
   ]
  },
  {
   "cell_type": "code",
   "execution_count": 1,
   "metadata": {
    "id": "AkIR_PXdet7R"
   },
   "outputs": [
    {
     "name": "stdout",
     "output_type": "stream",
     "text": [
      "Defaulting to user installation because normal site-packages is not writeable\n",
      "Collecting git+https://github.com/Georgetown-IR-Lab/OpenNIR\n",
      "  Cloning https://github.com/Georgetown-IR-Lab/OpenNIR to /tmp/pip-req-build-gyskhvuy\n",
      "  Running command git clone -q https://github.com/Georgetown-IR-Lab/OpenNIR /tmp/pip-req-build-gyskhvuy\n",
      "  Resolved https://github.com/Georgetown-IR-Lab/OpenNIR to commit 88a4679372f471a04d284a99404ffce2b7a1dc49\n",
      "Requirement already satisfied: torch>=1.3.1 in /home/sijuntao/.local/lib/python3.9/site-packages (from OpenNIR==0.1.0) (1.12.1)\n",
      "Requirement already satisfied: pytorch-pretrained-bert==0.6.1 in /home/sijuntao/.local/lib/python3.9/site-packages (from OpenNIR==0.1.0) (0.6.1)\n",
      "Requirement already satisfied: pytorch-transformers==1.1.0 in /home/sijuntao/.local/lib/python3.9/site-packages (from OpenNIR==0.1.0) (1.1.0)\n",
      "Requirement already satisfied: tokenizers>=0.1.1 in /home/sijuntao/.local/lib/python3.9/site-packages (from OpenNIR==0.1.0) (0.13.1)\n",
      "Requirement already satisfied: transformers>=4.3.3 in /home/sijuntao/.local/lib/python3.9/site-packages (from OpenNIR==0.1.0) (4.23.1)\n",
      "Requirement already satisfied: tqdm>=4.38.0 in /sw/pkgs/arc/python3.9-anaconda/2021.11/lib/python3.9/site-packages (from OpenNIR==0.1.0) (4.62.3)\n",
      "Requirement already satisfied: colorlog==4.0.2 in /home/sijuntao/.local/lib/python3.9/site-packages (from OpenNIR==0.1.0) (4.0.2)\n",
      "Requirement already satisfied: terminaltables>=3.1.0 in /home/sijuntao/.local/lib/python3.9/site-packages (from OpenNIR==0.1.0) (3.1.10)\n",
      "Requirement already satisfied: matplotlib>=3.0.2 in /sw/pkgs/arc/python3.9-anaconda/2021.11/lib/python3.9/site-packages (from OpenNIR==0.1.0) (3.4.3)\n",
      "Requirement already satisfied: seaborn>=0.9.0 in /sw/pkgs/arc/python3.9-anaconda/2021.11/lib/python3.9/site-packages (from OpenNIR==0.1.0) (0.11.2)\n",
      "Requirement already satisfied: python-ternary>=1.0.6 in /home/sijuntao/.local/lib/python3.9/site-packages (from OpenNIR==0.1.0) (1.0.8)\n",
      "Requirement already satisfied: beautifulsoup4>=4.9.3 in /sw/pkgs/arc/python3.9-anaconda/2021.11/lib/python3.9/site-packages (from OpenNIR==0.1.0) (4.10.0)\n",
      "Requirement already satisfied: html5lib>=1.0.1 in /sw/pkgs/arc/python3.9-anaconda/2021.11/lib/python3.9/site-packages (from OpenNIR==0.1.0) (1.1)\n",
      "Requirement already satisfied: Unidecode>=1.0.22 in /sw/pkgs/arc/python3.9-anaconda/2021.11/lib/python3.9/site-packages (from OpenNIR==0.1.0) (1.2.0)\n",
      "Requirement already satisfied: nltk>=3.4.5 in /sw/pkgs/arc/python3.9-anaconda/2021.11/lib/python3.9/site-packages (from OpenNIR==0.1.0) (3.6.5)\n",
      "Requirement already satisfied: sqlitedict>=1.6.0 in /home/sijuntao/.local/lib/python3.9/site-packages (from OpenNIR==0.1.0) (2.0.0)\n",
      "Requirement already satisfied: pytrec-eval-terrier>=0.5.1 in /home/sijuntao/.local/lib/python3.9/site-packages (from OpenNIR==0.1.0) (0.5.4)\n",
      "Requirement already satisfied: gensim>=3.7.3 in /home/sijuntao/.local/lib/python3.9/site-packages (from OpenNIR==0.1.0) (4.2.0)\n",
      "Requirement already satisfied: Cython>=0.29.2 in /sw/pkgs/arc/python3.9-anaconda/2021.11/lib/python3.9/site-packages (from OpenNIR==0.1.0) (0.29.24)\n",
      "Requirement already satisfied: pyjnius>=1.2.1 in /home/sijuntao/.local/lib/python3.9/site-packages (from OpenNIR==0.1.0) (1.3.0)\n",
      "Requirement already satisfied: ir_datasets>=0.2.0 in /home/sijuntao/.local/lib/python3.9/site-packages (from OpenNIR==0.1.0) (0.5.4)\n",
      "Requirement already satisfied: ir_measures>=0.2.1 in /home/sijuntao/.local/lib/python3.9/site-packages (from OpenNIR==0.1.0) (0.3.1)\n",
      "Requirement already satisfied: pytools>=2018.5.2 in /home/sijuntao/.local/lib/python3.9/site-packages (from OpenNIR==0.1.0) (2022.1.12)\n",
      "Requirement already satisfied: cached-property>=1.5.1 in /sw/pkgs/arc/python3.9-anaconda/2021.11/lib/python3.9/site-packages (from OpenNIR==0.1.0) (1.5.2)\n",
      "Requirement already satisfied: requests in /sw/pkgs/arc/python3.9-anaconda/2021.11/lib/python3.9/site-packages (from pytorch-pretrained-bert==0.6.1->OpenNIR==0.1.0) (2.26.0)\n",
      "Requirement already satisfied: regex in /sw/pkgs/arc/python3.9-anaconda/2021.11/lib/python3.9/site-packages (from pytorch-pretrained-bert==0.6.1->OpenNIR==0.1.0) (2021.8.3)\n",
      "Requirement already satisfied: boto3 in /home/sijuntao/.local/lib/python3.9/site-packages (from pytorch-pretrained-bert==0.6.1->OpenNIR==0.1.0) (1.25.1)\n",
      "Requirement already satisfied: numpy in /sw/pkgs/arc/python3.9-anaconda/2021.11/lib/python3.9/site-packages (from pytorch-pretrained-bert==0.6.1->OpenNIR==0.1.0) (1.20.3)\n",
      "Requirement already satisfied: sentencepiece in /home/sijuntao/.local/lib/python3.9/site-packages (from pytorch-transformers==1.1.0->OpenNIR==0.1.0) (0.1.97)\n",
      "Requirement already satisfied: soupsieve>1.2 in /sw/pkgs/arc/python3.9-anaconda/2021.11/lib/python3.9/site-packages (from beautifulsoup4>=4.9.3->OpenNIR==0.1.0) (2.2.1)\n",
      "Requirement already satisfied: smart-open>=1.8.1 in /home/sijuntao/.local/lib/python3.9/site-packages (from gensim>=3.7.3->OpenNIR==0.1.0) (6.2.0)\n",
      "Requirement already satisfied: scipy>=0.18.1 in /sw/pkgs/arc/python3.9-anaconda/2021.11/lib/python3.9/site-packages (from gensim>=3.7.3->OpenNIR==0.1.0) (1.7.1)\n",
      "Requirement already satisfied: webencodings in /sw/pkgs/arc/python3.9-anaconda/2021.11/lib/python3.9/site-packages (from html5lib>=1.0.1->OpenNIR==0.1.0) (0.5.1)\n",
      "Requirement already satisfied: six>=1.9 in /sw/pkgs/arc/python3.9-anaconda/2021.11/lib/python3.9/site-packages (from html5lib>=1.0.1->OpenNIR==0.1.0) (1.16.0)\n",
      "Requirement already satisfied: unlzw3>=0.2.1 in /home/sijuntao/.local/lib/python3.9/site-packages (from ir_datasets>=0.2.0->OpenNIR==0.1.0) (0.2.1)\n",
      "Requirement already satisfied: warc3-wet-clueweb09>=0.2.5 in /home/sijuntao/.local/lib/python3.9/site-packages (from ir_datasets>=0.2.0->OpenNIR==0.1.0) (0.2.5)\n",
      "Requirement already satisfied: pyyaml>=5.3.1 in /sw/pkgs/arc/python3.9-anaconda/2021.11/lib/python3.9/site-packages (from ir_datasets>=0.2.0->OpenNIR==0.1.0) (6.0)\n",
      "Requirement already satisfied: lz4>=3.1.1 in /home/sijuntao/.local/lib/python3.9/site-packages (from ir_datasets>=0.2.0->OpenNIR==0.1.0) (4.0.2)\n",
      "Requirement already satisfied: warc3-wet>=0.2.3 in /home/sijuntao/.local/lib/python3.9/site-packages (from ir_datasets>=0.2.0->OpenNIR==0.1.0) (0.2.3)\n",
      "Requirement already satisfied: trec-car-tools>=2.5.4 in /home/sijuntao/.local/lib/python3.9/site-packages (from ir_datasets>=0.2.0->OpenNIR==0.1.0) (2.6)\n",
      "Requirement already satisfied: pyautocorpus>=0.1.1 in /home/sijuntao/.local/lib/python3.9/site-packages (from ir_datasets>=0.2.0->OpenNIR==0.1.0) (0.1.8)\n",
      "Requirement already satisfied: zlib-state>=0.1.3 in /home/sijuntao/.local/lib/python3.9/site-packages (from ir_datasets>=0.2.0->OpenNIR==0.1.0) (0.1.5)\n",
      "Requirement already satisfied: ijson>=3.1.3 in /home/sijuntao/.local/lib/python3.9/site-packages (from ir_datasets>=0.2.0->OpenNIR==0.1.0) (3.1.4)\n",
      "Requirement already satisfied: lxml>=4.5.2 in /sw/pkgs/arc/python3.9-anaconda/2021.11/lib/python3.9/site-packages (from ir_datasets>=0.2.0->OpenNIR==0.1.0) (4.6.3)\n",
      "Requirement already satisfied: cwl-eval>=1.0.10 in /home/sijuntao/.local/lib/python3.9/site-packages (from ir_measures>=0.2.1->OpenNIR==0.1.0) (1.0.11)\n",
      "Requirement already satisfied: kiwisolver>=1.0.1 in /sw/pkgs/arc/python3.9-anaconda/2021.11/lib/python3.9/site-packages (from matplotlib>=3.0.2->OpenNIR==0.1.0) (1.3.1)\n",
      "Requirement already satisfied: pyparsing>=2.2.1 in /sw/pkgs/arc/python3.9-anaconda/2021.11/lib/python3.9/site-packages (from matplotlib>=3.0.2->OpenNIR==0.1.0) (3.0.4)\n",
      "Requirement already satisfied: python-dateutil>=2.7 in /sw/pkgs/arc/python3.9-anaconda/2021.11/lib/python3.9/site-packages (from matplotlib>=3.0.2->OpenNIR==0.1.0) (2.8.2)\n",
      "Requirement already satisfied: pillow>=6.2.0 in /sw/pkgs/arc/python3.9-anaconda/2021.11/lib/python3.9/site-packages (from matplotlib>=3.0.2->OpenNIR==0.1.0) (8.4.0)\n",
      "Requirement already satisfied: cycler>=0.10 in /sw/pkgs/arc/python3.9-anaconda/2021.11/lib/python3.9/site-packages (from matplotlib>=3.0.2->OpenNIR==0.1.0) (0.10.0)\n",
      "Requirement already satisfied: click in /sw/pkgs/arc/python3.9-anaconda/2021.11/lib/python3.9/site-packages (from nltk>=3.4.5->OpenNIR==0.1.0) (8.0.3)\n",
      "Requirement already satisfied: joblib in /sw/pkgs/arc/python3.9-anaconda/2021.11/lib/python3.9/site-packages (from nltk>=3.4.5->OpenNIR==0.1.0) (1.1.0)\n",
      "Requirement already satisfied: typing-extensions>=4.0 in /home/sijuntao/.local/lib/python3.9/site-packages (from pytools>=2018.5.2->OpenNIR==0.1.0) (4.4.0)\n",
      "Requirement already satisfied: platformdirs>=2.2.0 in /home/sijuntao/.local/lib/python3.9/site-packages (from pytools>=2018.5.2->OpenNIR==0.1.0) (2.5.2)\n"
     ]
    },
    {
     "name": "stdout",
     "output_type": "stream",
     "text": [
      "Requirement already satisfied: certifi>=2017.4.17 in /sw/pkgs/arc/python3.9-anaconda/2021.11/lib/python3.9/site-packages (from requests->pytorch-pretrained-bert==0.6.1->OpenNIR==0.1.0) (2021.10.8)\n",
      "Requirement already satisfied: urllib3<1.27,>=1.21.1 in /sw/pkgs/arc/python3.9-anaconda/2021.11/lib/python3.9/site-packages (from requests->pytorch-pretrained-bert==0.6.1->OpenNIR==0.1.0) (1.26.7)\n",
      "Requirement already satisfied: idna<4,>=2.5 in /sw/pkgs/arc/python3.9-anaconda/2021.11/lib/python3.9/site-packages (from requests->pytorch-pretrained-bert==0.6.1->OpenNIR==0.1.0) (3.2)\n",
      "Requirement already satisfied: charset-normalizer~=2.0.0 in /sw/pkgs/arc/python3.9-anaconda/2021.11/lib/python3.9/site-packages (from requests->pytorch-pretrained-bert==0.6.1->OpenNIR==0.1.0) (2.0.4)\n",
      "Requirement already satisfied: pandas>=0.23 in /sw/pkgs/arc/python3.9-anaconda/2021.11/lib/python3.9/site-packages (from seaborn>=0.9.0->OpenNIR==0.1.0) (1.3.4)\n",
      "Requirement already satisfied: pytz>=2017.3 in /sw/pkgs/arc/python3.9-anaconda/2021.11/lib/python3.9/site-packages (from pandas>=0.23->seaborn>=0.9.0->OpenNIR==0.1.0) (2021.3)\n",
      "Requirement already satisfied: filelock in /sw/pkgs/arc/python3.9-anaconda/2021.11/lib/python3.9/site-packages (from transformers>=4.3.3->OpenNIR==0.1.0) (3.3.1)\n",
      "Requirement already satisfied: packaging>=20.0 in /sw/pkgs/arc/python3.9-anaconda/2021.11/lib/python3.9/site-packages (from transformers>=4.3.3->OpenNIR==0.1.0) (21.0)\n",
      "Requirement already satisfied: huggingface-hub<1.0,>=0.10.0 in /home/sijuntao/.local/lib/python3.9/site-packages (from transformers>=4.3.3->OpenNIR==0.1.0) (0.10.1)\n",
      "Requirement already satisfied: cbor>=1.0.0 in /home/sijuntao/.local/lib/python3.9/site-packages (from trec-car-tools>=2.5.4->ir_datasets>=0.2.0->OpenNIR==0.1.0) (1.0.0)\n",
      "Requirement already satisfied: jmespath<2.0.0,>=0.7.1 in /home/sijuntao/.local/lib/python3.9/site-packages (from boto3->pytorch-pretrained-bert==0.6.1->OpenNIR==0.1.0) (1.0.1)\n",
      "Requirement already satisfied: s3transfer<0.7.0,>=0.6.0 in /home/sijuntao/.local/lib/python3.9/site-packages (from boto3->pytorch-pretrained-bert==0.6.1->OpenNIR==0.1.0) (0.6.0)\n",
      "Requirement already satisfied: botocore<1.29.0,>=1.28.1 in /home/sijuntao/.local/lib/python3.9/site-packages (from boto3->pytorch-pretrained-bert==0.6.1->OpenNIR==0.1.0) (1.28.1)\n",
      "Defaulting to user installation because normal site-packages is not writeable\n",
      "Collecting git+https://github.com/terrierteam/pyterrier_doc2query.git\n",
      "  Cloning https://github.com/terrierteam/pyterrier_doc2query.git to /tmp/pip-req-build-p_99k9fv\n",
      "  Running command git clone -q https://github.com/terrierteam/pyterrier_doc2query.git /tmp/pip-req-build-p_99k9fv\n",
      "  Resolved https://github.com/terrierteam/pyterrier_doc2query.git to commit 2e9504dfe5df78e7eec741f5075cd8799edeb7b3\n",
      "Requirement already satisfied: python-terrier>=0.5.0 in /home/sijuntao/.local/lib/python3.9/site-packages (from pyterrier-doc2query==0.0.1) (0.8.1)\n",
      "Requirement already satisfied: pandas in /sw/pkgs/arc/python3.9-anaconda/2021.11/lib/python3.9/site-packages (from pyterrier-doc2query==0.0.1) (1.3.4)\n",
      "Requirement already satisfied: transformers in /home/sijuntao/.local/lib/python3.9/site-packages (from pyterrier-doc2query==0.0.1) (4.23.1)\n",
      "Requirement already satisfied: torch in /home/sijuntao/.local/lib/python3.9/site-packages (from pyterrier-doc2query==0.0.1) (1.12.1)\n",
      "Requirement already satisfied: sentencepiece in /home/sijuntao/.local/lib/python3.9/site-packages (from pyterrier-doc2query==0.0.1) (0.1.97)\n",
      "Requirement already satisfied: ir-datasets>=0.3.2 in /home/sijuntao/.local/lib/python3.9/site-packages (from python-terrier>=0.5.0->pyterrier-doc2query==0.0.1) (0.5.4)\n",
      "Requirement already satisfied: matchpy in /home/sijuntao/.local/lib/python3.9/site-packages (from python-terrier>=0.5.0->pyterrier-doc2query==0.0.1) (0.5.5)\n",
      "Requirement already satisfied: sklearn in /home/sijuntao/.local/lib/python3.9/site-packages (from python-terrier>=0.5.0->pyterrier-doc2query==0.0.1) (0.0)\n",
      "Requirement already satisfied: requests in /sw/pkgs/arc/python3.9-anaconda/2021.11/lib/python3.9/site-packages (from python-terrier>=0.5.0->pyterrier-doc2query==0.0.1) (2.26.0)\n",
      "Requirement already satisfied: scipy in /sw/pkgs/arc/python3.9-anaconda/2021.11/lib/python3.9/site-packages (from python-terrier>=0.5.0->pyterrier-doc2query==0.0.1) (1.7.1)\n",
      "Requirement already satisfied: ir-measures>=0.2.0 in /home/sijuntao/.local/lib/python3.9/site-packages (from python-terrier>=0.5.0->pyterrier-doc2query==0.0.1) (0.3.1)\n",
      "Requirement already satisfied: tqdm in /sw/pkgs/arc/python3.9-anaconda/2021.11/lib/python3.9/site-packages (from python-terrier>=0.5.0->pyterrier-doc2query==0.0.1) (4.62.3)\n",
      "Requirement already satisfied: nptyping==1.4.4 in /home/sijuntao/.local/lib/python3.9/site-packages (from python-terrier>=0.5.0->pyterrier-doc2query==0.0.1) (1.4.4)\n",
      "Requirement already satisfied: dill in /home/sijuntao/.local/lib/python3.9/site-packages (from python-terrier>=0.5.0->pyterrier-doc2query==0.0.1) (0.3.6)\n",
      "Requirement already satisfied: deprecation in /home/sijuntao/.local/lib/python3.9/site-packages (from python-terrier>=0.5.0->pyterrier-doc2query==0.0.1) (2.1.0)\n",
      "Requirement already satisfied: statsmodels in /sw/pkgs/arc/python3.9-anaconda/2021.11/lib/python3.9/site-packages (from python-terrier>=0.5.0->pyterrier-doc2query==0.0.1) (0.12.2)\n",
      "Requirement already satisfied: numpy in /sw/pkgs/arc/python3.9-anaconda/2021.11/lib/python3.9/site-packages (from python-terrier>=0.5.0->pyterrier-doc2query==0.0.1) (1.20.3)\n",
      "Requirement already satisfied: wget in /home/sijuntao/.local/lib/python3.9/site-packages (from python-terrier>=0.5.0->pyterrier-doc2query==0.0.1) (3.2)\n",
      "Requirement already satisfied: chest in /home/sijuntao/.local/lib/python3.9/site-packages (from python-terrier>=0.5.0->pyterrier-doc2query==0.0.1) (0.2.3)\n",
      "Requirement already satisfied: joblib in /sw/pkgs/arc/python3.9-anaconda/2021.11/lib/python3.9/site-packages (from python-terrier>=0.5.0->pyterrier-doc2query==0.0.1) (1.1.0)\n",
      "Requirement already satisfied: more-itertools in /sw/pkgs/arc/python3.9-anaconda/2021.11/lib/python3.9/site-packages (from python-terrier>=0.5.0->pyterrier-doc2query==0.0.1) (8.10.0)\n",
      "Requirement already satisfied: pyjnius~=1.3.0 in /home/sijuntao/.local/lib/python3.9/site-packages (from python-terrier>=0.5.0->pyterrier-doc2query==0.0.1) (1.3.0)\n",
      "Requirement already satisfied: jinja2 in /sw/pkgs/arc/python3.9-anaconda/2021.11/lib/python3.9/site-packages (from python-terrier>=0.5.0->pyterrier-doc2query==0.0.1) (2.11.3)\n",
      "Requirement already satisfied: typish>=1.7.0 in /home/sijuntao/.local/lib/python3.9/site-packages (from nptyping==1.4.4->python-terrier>=0.5.0->pyterrier-doc2query==0.0.1) (1.9.3)\n",
      "Requirement already satisfied: lxml>=4.5.2 in /sw/pkgs/arc/python3.9-anaconda/2021.11/lib/python3.9/site-packages (from ir-datasets>=0.3.2->python-terrier>=0.5.0->pyterrier-doc2query==0.0.1) (4.6.3)\n",
      "Requirement already satisfied: beautifulsoup4>=4.4.1 in /sw/pkgs/arc/python3.9-anaconda/2021.11/lib/python3.9/site-packages (from ir-datasets>=0.3.2->python-terrier>=0.5.0->pyterrier-doc2query==0.0.1) (4.10.0)\n",
      "Requirement already satisfied: warc3-wet>=0.2.3 in /home/sijuntao/.local/lib/python3.9/site-packages (from ir-datasets>=0.3.2->python-terrier>=0.5.0->pyterrier-doc2query==0.0.1) (0.2.3)\n",
      "Requirement already satisfied: unlzw3>=0.2.1 in /home/sijuntao/.local/lib/python3.9/site-packages (from ir-datasets>=0.3.2->python-terrier>=0.5.0->pyterrier-doc2query==0.0.1) (0.2.1)\n",
      "Requirement already satisfied: lz4>=3.1.1 in /home/sijuntao/.local/lib/python3.9/site-packages (from ir-datasets>=0.3.2->python-terrier>=0.5.0->pyterrier-doc2query==0.0.1) (4.0.2)\n",
      "Requirement already satisfied: warc3-wet-clueweb09>=0.2.5 in /home/sijuntao/.local/lib/python3.9/site-packages (from ir-datasets>=0.3.2->python-terrier>=0.5.0->pyterrier-doc2query==0.0.1) (0.2.5)\n",
      "Requirement already satisfied: zlib-state>=0.1.3 in /home/sijuntao/.local/lib/python3.9/site-packages (from ir-datasets>=0.3.2->python-terrier>=0.5.0->pyterrier-doc2query==0.0.1) (0.1.5)\n",
      "Requirement already satisfied: pyautocorpus>=0.1.1 in /home/sijuntao/.local/lib/python3.9/site-packages (from ir-datasets>=0.3.2->python-terrier>=0.5.0->pyterrier-doc2query==0.0.1) (0.1.8)\n",
      "Requirement already satisfied: trec-car-tools>=2.5.4 in /home/sijuntao/.local/lib/python3.9/site-packages (from ir-datasets>=0.3.2->python-terrier>=0.5.0->pyterrier-doc2query==0.0.1) (2.6)\n",
      "Requirement already satisfied: ijson>=3.1.3 in /home/sijuntao/.local/lib/python3.9/site-packages (from ir-datasets>=0.3.2->python-terrier>=0.5.0->pyterrier-doc2query==0.0.1) (3.1.4)\n",
      "Requirement already satisfied: pyyaml>=5.3.1 in /sw/pkgs/arc/python3.9-anaconda/2021.11/lib/python3.9/site-packages (from ir-datasets>=0.3.2->python-terrier>=0.5.0->pyterrier-doc2query==0.0.1) (6.0)\n",
      "Requirement already satisfied: soupsieve>1.2 in /sw/pkgs/arc/python3.9-anaconda/2021.11/lib/python3.9/site-packages (from beautifulsoup4>=4.4.1->ir-datasets>=0.3.2->python-terrier>=0.5.0->pyterrier-doc2query==0.0.1) (2.2.1)\n",
      "Requirement already satisfied: cwl-eval>=1.0.10 in /home/sijuntao/.local/lib/python3.9/site-packages (from ir-measures>=0.2.0->python-terrier>=0.5.0->pyterrier-doc2query==0.0.1) (1.0.11)\n",
      "Requirement already satisfied: pytrec-eval-terrier>=0.5.2 in /home/sijuntao/.local/lib/python3.9/site-packages (from ir-measures>=0.2.0->python-terrier>=0.5.0->pyterrier-doc2query==0.0.1) (0.5.4)\n"
     ]
    },
    {
     "name": "stdout",
     "output_type": "stream",
     "text": [
      "Requirement already satisfied: six>=1.7.0 in /sw/pkgs/arc/python3.9-anaconda/2021.11/lib/python3.9/site-packages (from pyjnius~=1.3.0->python-terrier>=0.5.0->pyterrier-doc2query==0.0.1) (1.16.0)\n",
      "Requirement already satisfied: cython in /sw/pkgs/arc/python3.9-anaconda/2021.11/lib/python3.9/site-packages (from pyjnius~=1.3.0->python-terrier>=0.5.0->pyterrier-doc2query==0.0.1) (0.29.24)\n",
      "Requirement already satisfied: charset-normalizer~=2.0.0 in /sw/pkgs/arc/python3.9-anaconda/2021.11/lib/python3.9/site-packages (from requests->python-terrier>=0.5.0->pyterrier-doc2query==0.0.1) (2.0.4)\n",
      "Requirement already satisfied: urllib3<1.27,>=1.21.1 in /sw/pkgs/arc/python3.9-anaconda/2021.11/lib/python3.9/site-packages (from requests->python-terrier>=0.5.0->pyterrier-doc2query==0.0.1) (1.26.7)\n",
      "Requirement already satisfied: certifi>=2017.4.17 in /sw/pkgs/arc/python3.9-anaconda/2021.11/lib/python3.9/site-packages (from requests->python-terrier>=0.5.0->pyterrier-doc2query==0.0.1) (2021.10.8)\n",
      "Requirement already satisfied: idna<4,>=2.5 in /sw/pkgs/arc/python3.9-anaconda/2021.11/lib/python3.9/site-packages (from requests->python-terrier>=0.5.0->pyterrier-doc2query==0.0.1) (3.2)\n",
      "Requirement already satisfied: cbor>=1.0.0 in /home/sijuntao/.local/lib/python3.9/site-packages (from trec-car-tools>=2.5.4->ir-datasets>=0.3.2->python-terrier>=0.5.0->pyterrier-doc2query==0.0.1) (1.0.0)\n",
      "Requirement already satisfied: heapdict in /sw/pkgs/arc/python3.9-anaconda/2021.11/lib/python3.9/site-packages (from chest->python-terrier>=0.5.0->pyterrier-doc2query==0.0.1) (1.0.1)\n",
      "Requirement already satisfied: packaging in /sw/pkgs/arc/python3.9-anaconda/2021.11/lib/python3.9/site-packages (from deprecation->python-terrier>=0.5.0->pyterrier-doc2query==0.0.1) (21.0)\n",
      "Requirement already satisfied: MarkupSafe>=0.23 in /sw/pkgs/arc/python3.9-anaconda/2021.11/lib/python3.9/site-packages (from jinja2->python-terrier>=0.5.0->pyterrier-doc2query==0.0.1) (1.1.1)\n",
      "Requirement already satisfied: multiset<3.0,>=2.0 in /home/sijuntao/.local/lib/python3.9/site-packages (from matchpy->python-terrier>=0.5.0->pyterrier-doc2query==0.0.1) (2.1.1)\n",
      "Requirement already satisfied: pyparsing>=2.0.2 in /sw/pkgs/arc/python3.9-anaconda/2021.11/lib/python3.9/site-packages (from packaging->deprecation->python-terrier>=0.5.0->pyterrier-doc2query==0.0.1) (3.0.4)\n",
      "Requirement already satisfied: python-dateutil>=2.7.3 in /sw/pkgs/arc/python3.9-anaconda/2021.11/lib/python3.9/site-packages (from pandas->pyterrier-doc2query==0.0.1) (2.8.2)\n",
      "Requirement already satisfied: pytz>=2017.3 in /sw/pkgs/arc/python3.9-anaconda/2021.11/lib/python3.9/site-packages (from pandas->pyterrier-doc2query==0.0.1) (2021.3)\n",
      "Requirement already satisfied: scikit-learn in /sw/pkgs/arc/python3.9-anaconda/2021.11/lib/python3.9/site-packages (from sklearn->python-terrier>=0.5.0->pyterrier-doc2query==0.0.1) (0.24.2)\n",
      "Requirement already satisfied: threadpoolctl>=2.0.0 in /sw/pkgs/arc/python3.9-anaconda/2021.11/lib/python3.9/site-packages (from scikit-learn->sklearn->python-terrier>=0.5.0->pyterrier-doc2query==0.0.1) (2.2.0)\n",
      "Requirement already satisfied: patsy>=0.5 in /sw/pkgs/arc/python3.9-anaconda/2021.11/lib/python3.9/site-packages (from statsmodels->python-terrier>=0.5.0->pyterrier-doc2query==0.0.1) (0.5.2)\n",
      "Requirement already satisfied: typing-extensions in /home/sijuntao/.local/lib/python3.9/site-packages (from torch->pyterrier-doc2query==0.0.1) (4.4.0)\n",
      "Requirement already satisfied: tokenizers!=0.11.3,<0.14,>=0.11.1 in /home/sijuntao/.local/lib/python3.9/site-packages (from transformers->pyterrier-doc2query==0.0.1) (0.13.1)\n",
      "Requirement already satisfied: huggingface-hub<1.0,>=0.10.0 in /home/sijuntao/.local/lib/python3.9/site-packages (from transformers->pyterrier-doc2query==0.0.1) (0.10.1)\n",
      "Requirement already satisfied: regex!=2019.12.17 in /sw/pkgs/arc/python3.9-anaconda/2021.11/lib/python3.9/site-packages (from transformers->pyterrier-doc2query==0.0.1) (2021.8.3)\n",
      "Requirement already satisfied: filelock in /sw/pkgs/arc/python3.9-anaconda/2021.11/lib/python3.9/site-packages (from transformers->pyterrier-doc2query==0.0.1) (3.3.1)\n"
     ]
    }
   ],
   "source": [
    "!pip install --upgrade git+https://github.com/Georgetown-IR-Lab/OpenNIR\n",
    "!pip install --upgrade git+https://github.com/terrierteam/pyterrier_doc2query.git"
   ]
  },
  {
   "cell_type": "markdown",
   "metadata": {
    "id": "A-nQrpNP5pN7"
   },
   "source": [
    "## Getting started\n",
    "\n",
    "Start PyTerrier as we have in past notebooks."
   ]
  },
  {
   "cell_type": "code",
   "execution_count": 2,
   "metadata": {},
   "outputs": [
    {
     "name": "stdout",
     "output_type": "stream",
     "text": [
      "/sw/pkgs/arc/openjdk/jdk-18.0.1.1/bin/java\r\n"
     ]
    }
   ],
   "source": [
    "!which java"
   ]
  },
  {
   "cell_type": "code",
   "execution_count": 3,
   "metadata": {},
   "outputs": [],
   "source": [
    "# !export JAVA_HOME=/usr/lib/jvm/java-17-oracle/\n",
    "# import os\n",
    "# os.environ['JAVA_HOME'] = '/usr/lib/jvm/java-17-oracle/'\n",
    "# os.environ['CUDA_VISIBLE_DEVICES'] = '6,7'"
   ]
  },
  {
   "cell_type": "code",
   "execution_count": 4,
   "metadata": {
    "id": "6FegcyWr5lja"
   },
   "outputs": [
    {
     "name": "stderr",
     "output_type": "stream",
     "text": [
      "PyTerrier 0.8.1 has loaded Terrier 5.6 (built by craigmacdonald on 2021-09-17 13:27)\n",
      "\n",
      "No etc/terrier.properties, using terrier.default.properties for bootstrap configuration.\n"
     ]
    },
    {
     "name": "stdout",
     "output_type": "stream",
     "text": [
      "Better speed can be achieved with apex installed from https://www.github.com/nvidia/apex.\n"
     ]
    }
   ],
   "source": [
    "import pyterrier as pt\n",
    "if not pt.started():\n",
    "    pt.init(tqdm='notebook')\n",
    "import onir_pt\n",
    "import pyterrier_doc2query\n",
    "import os\n",
    "import pandas as pd"
   ]
  },
  {
   "cell_type": "markdown",
   "metadata": {
    "id": "hPVjr448rIPc"
   },
   "source": [
    "### [TREC-COVID19](https://ir.nist.gov/covidSubmit/) Dataset download\n",
    "\n",
    "The following cell downloads the [TREC-COVID19](https://ir.nist.gov/covidSubmit/) dataset that we will use periodically throughout this notebook."
   ]
  },
  {
   "cell_type": "code",
   "execution_count": 5,
   "metadata": {
    "id": "IJMHFRfArd7O"
   },
   "outputs": [
    {
     "name": "stderr",
     "output_type": "stream",
     "text": [
      "/home/sijuntao/.local/lib/python3.9/site-packages/pyterrier/datasets.py:435: FutureWarning: In a future version of pandas all arguments of DataFrame.drop except for the argument 'labels' will be keyword-only\n",
      "  df.drop(df.columns.difference(['qid','query']), 1, inplace=True)\n"
     ]
    }
   ],
   "source": [
    "dataset = pt.datasets.get_dataset('irds:cord19/trec-covid')\n",
    "topics = dataset.get_topics(variant='description')\n",
    "qrels = dataset.get_qrels()"
   ]
  },
  {
   "cell_type": "markdown",
   "metadata": {
    "id": "OF3HIPhtrqOH"
   },
   "source": [
    "# Task 1: Build the inverted index for the TREC-COVID19 collection (5 points)\n",
    "\n",
    "Build the index for the TREC Covid-19 (CORD19) data like we have in past notebooks but without any fancy options (e.g., no positional indexing)."
   ]
  },
  {
   "cell_type": "code",
   "execution_count": 6,
   "metadata": {},
   "outputs": [
    {
     "data": {
      "application/vnd.jupyter.widget-view+json": {
       "model_id": "200ee1c74fd341109f96d2b1d2203fd1",
       "version_major": 2,
       "version_minor": 0
      },
      "text/plain": [
       "cord19/trec-covid documents:   0%|          | 0/192509 [26ms<?, ?it/s]"
      ]
     },
     "metadata": {},
     "output_type": "display_data"
    },
    {
     "name": "stderr",
     "output_type": "stream",
     "text": [
      "/tmp/ipykernel_683396/1344232708.py:11: DeprecationWarning: specifying meta and meta_lengths in IterDictIndexer.index() is deprecated, use constructor instead\n",
      "  index_ref = indexer.index(cord19.get_corpus_iter(), fields=('abstract',), meta=('docno',))\n"
     ]
    },
    {
     "name": "stdout",
     "output_type": "stream",
     "text": [
      "20:05:22.473 [ForkJoinPool-1-worker-1] WARN org.terrier.structures.indexing.Indexer - Adding an empty document to the index (6iu1dtyl) - further warnings are suppressed\n",
      "20:06:25.950 [ForkJoinPool-1-worker-1] WARN org.terrier.structures.indexing.Indexer - Indexed 54937 empty documents\n",
      "20:06:26.226 [ForkJoinPool-1-worker-1] ERROR org.terrier.structures.indexing.Indexer - Could not finish MetaIndexBuilder: \n",
      "java.io.IOException: Key 8lqzfj2e is not unique: 37597,11755\n",
      "For MetaIndex, to suppress, set metaindex.compressed.reverse.allow.duplicates=true\n",
      "\tat org.terrier.structures.collections.FSOrderedMapFile$MultiFSOMapWriter.mergeTwo(FSOrderedMapFile.java:1374)\n",
      "\tat org.terrier.structures.collections.FSOrderedMapFile$MultiFSOMapWriter.close(FSOrderedMapFile.java:1308)\n",
      "\tat org.terrier.structures.indexing.BaseMetaIndexBuilder.close(BaseMetaIndexBuilder.java:321)\n",
      "\tat org.terrier.structures.indexing.classical.BasicIndexer.createDirectIndex(BasicIndexer.java:346)\n",
      "\tat org.terrier.structures.indexing.Indexer.index(Indexer.java:369)\n",
      "\tat org.terrier.python.ParallelIndexer$1.apply(ParallelIndexer.java:63)\n",
      "\tat org.terrier.python.ParallelIndexer$1.apply(ParallelIndexer.java:52)\n",
      "\tat java.base/java.util.stream.ReferencePipeline$3$1.accept(ReferencePipeline.java:197)\n",
      "\tat java.base/java.util.Spliterators$ArraySpliterator.forEachRemaining(Spliterators.java:992)\n",
      "\tat java.base/java.util.stream.AbstractPipeline.copyInto(AbstractPipeline.java:509)\n",
      "\tat java.base/java.util.stream.AbstractPipeline.wrapAndCopyInto(AbstractPipeline.java:499)\n",
      "\tat java.base/java.util.stream.ReduceOps$ReduceTask.doLeaf(ReduceOps.java:960)\n",
      "\tat java.base/java.util.stream.ReduceOps$ReduceTask.doLeaf(ReduceOps.java:934)\n",
      "\tat java.base/java.util.stream.AbstractTask.compute(AbstractTask.java:327)\n",
      "\tat java.base/java.util.concurrent.CountedCompleter.exec(CountedCompleter.java:754)\n",
      "\tat java.base/java.util.concurrent.ForkJoinTask.doExec(ForkJoinTask.java:373)\n",
      "\tat java.base/java.util.concurrent.ForkJoinTask.invoke(ForkJoinTask.java:686)\n",
      "\tat java.base/java.util.stream.ReduceOps$ReduceOp.evaluateParallel(ReduceOps.java:927)\n",
      "\tat java.base/java.util.stream.AbstractPipeline.evaluate(AbstractPipeline.java:233)\n",
      "\tat java.base/java.util.stream.ReferencePipeline.reduce(ReferencePipeline.java:662)\n",
      "\tat org.terrier.python.ParallelIndexer$3.call(ParallelIndexer.java:133)\n",
      "\tat org.terrier.python.ParallelIndexer$3.call(ParallelIndexer.java:130)\n",
      "\tat java.base/java.util.concurrent.ForkJoinTask$AdaptedCallable.exec(ForkJoinTask.java:1428)\n",
      "\tat java.base/java.util.concurrent.ForkJoinTask.doExec(ForkJoinTask.java:373)\n",
      "\tat java.base/java.util.concurrent.ForkJoinPool$WorkQueue.topLevelExec(ForkJoinPool.java:1182)\n",
      "\tat java.base/java.util.concurrent.ForkJoinPool.scan(ForkJoinPool.java:1655)\n",
      "\tat java.base/java.util.concurrent.ForkJoinPool.runWorker(ForkJoinPool.java:1622)\n",
      "\tat java.base/java.util.concurrent.ForkJoinWorkerThread.run(ForkJoinWorkerThread.java:165)\n"
     ]
    }
   ],
   "source": [
    "cord19 = pt.datasets.get_dataset('irds:cord19/trec-covid')\n",
    "\n",
    "# TODO: build the CORD19 index, and have it referenced as \"index\"\n",
    "# for the code in later cells to use\n",
    "\n",
    "pt_index_path = './terrier_cord19'\n",
    "\n",
    "if not os.path.exists(pt_index_path + \"/data.properties\"):\n",
    "    \n",
    "    indexer = pt.index.IterDictIndexer(pt_index_path)\n",
    "    index_ref = indexer.index(cord19.get_corpus_iter(), fields=('abstract',), meta=('docno',))\n",
    "else:\n",
    "    index_ref = pt.IndexRef.of(pt_index_path + \"/data.properties\")\n",
    "    \n",
    "index = pt.IndexFactory.of(index_ref)"
   ]
  },
  {
   "cell_type": "markdown",
   "metadata": {
    "id": "rwDams5M7g6c"
   },
   "source": [
    "## Using an untuned Re-rankers\n",
    "\n",
    "This notebook will have you work with few neural re-ranking methods that you've used in class. We can build them from scratch using `onir_pt.reranker` or load them from pretrained models. The models we load from scratch won't have been trained to do IR (yet), however.\n",
    "\n",
    "And OpenNIR reranking model consists of:\n",
    " - `ranker` (e.g., `drmm`, `knrm`, or `pacrr`). This defines the neural ranking architecture. We discussed the `knrm` approach in class.\n",
    " - `vocab` (e.g., `wordvec_hash`, or `bert`). This defines how text is encoded by the model. This approach makes it easy to swap out different text representations. \n",
    " \n",
    "Let's start with the `knrm` method we discussed in class:"
   ]
  },
  {
   "cell_type": "code",
   "execution_count": 7,
   "metadata": {
    "id": "F0O79K2K6fvn"
   },
   "outputs": [
    {
     "name": "stdout",
     "output_type": "stream",
     "text": [
      "config file not found: config\n",
      "[2022-10-26 20:06:32,096][WordvecHashVocab][DEBUG] [starting] reading cached at /home/sijuntao/data/onir/vocab/wordvec_hash/fasttext-wiki-news-300d-1M.p\n",
      "[2022-10-26 20:06:33,410][WordvecHashVocab][DEBUG] [finished] reading cached at /home/sijuntao/data/onir/vocab/wordvec_hash/fasttext-wiki-news-300d-1M.p [1.32s]\n"
     ]
    }
   ],
   "source": [
    "knrm = onir_pt.reranker('knrm', 'wordvec_hash', text_field='abstract')"
   ]
  },
  {
   "cell_type": "markdown",
   "metadata": {
    "id": "x1avVTpxDORN"
   },
   "source": [
    "Let's look at how well this model work at ranking compared with our default `BatchRetrieve`"
   ]
  },
  {
   "cell_type": "code",
   "execution_count": 8,
   "metadata": {
    "id": "4FWUIN577v1O"
   },
   "outputs": [
    {
     "name": "stdout",
     "output_type": "stream",
     "text": [
      "[2022-10-26 20:06:43,638][onir_pt][DEBUG] using GPU (deterministic)\n",
      "[2022-10-26 20:06:46,339][onir_pt][DEBUG] [starting] batches\n"
     ]
    },
    {
     "data": {
      "application/vnd.jupyter.widget-view+json": {
       "model_id": "",
       "version_major": 2,
       "version_minor": 0
      },
      "text/plain": [
       "batches:   0%|          | 0/1250 [25ms<?, ?it/s]"
      ]
     },
     "metadata": {},
     "output_type": "display_data"
    },
    {
     "name": "stdout",
     "output_type": "stream",
     "text": [
      "[2022-10-26 20:06:48,998][onir_pt][DEBUG] [finished] batches: [2.66s] [1250it] [470.80it/s]\n"
     ]
    },
    {
     "data": {
      "text/html": [
       "<div>\n",
       "<style scoped>\n",
       "    .dataframe tbody tr th:only-of-type {\n",
       "        vertical-align: middle;\n",
       "    }\n",
       "\n",
       "    .dataframe tbody tr th {\n",
       "        vertical-align: top;\n",
       "    }\n",
       "\n",
       "    .dataframe thead th {\n",
       "        text-align: right;\n",
       "    }\n",
       "</style>\n",
       "<table border=\"1\" class=\"dataframe\">\n",
       "  <thead>\n",
       "    <tr style=\"text-align: right;\">\n",
       "      <th></th>\n",
       "      <th>name</th>\n",
       "      <th>map</th>\n",
       "      <th>ndcg</th>\n",
       "      <th>ndcg_cut.10</th>\n",
       "      <th>P.10</th>\n",
       "      <th>mrt</th>\n",
       "    </tr>\n",
       "  </thead>\n",
       "  <tbody>\n",
       "    <tr>\n",
       "      <th>0</th>\n",
       "      <td>DPH</td>\n",
       "      <td>0.068056</td>\n",
       "      <td>0.165653</td>\n",
       "      <td>0.609058</td>\n",
       "      <td>0.658</td>\n",
       "      <td>75.604195</td>\n",
       "    </tr>\n",
       "    <tr>\n",
       "      <th>1</th>\n",
       "      <td>DPH &gt;&gt; KNRM</td>\n",
       "      <td>0.054808</td>\n",
       "      <td>0.145462</td>\n",
       "      <td>0.359895</td>\n",
       "      <td>0.450</td>\n",
       "      <td>153.899455</td>\n",
       "    </tr>\n",
       "  </tbody>\n",
       "</table>\n",
       "</div>"
      ],
      "text/plain": [
       "          name       map      ndcg  ndcg_cut.10   P.10         mrt\n",
       "0          DPH  0.068056  0.165653     0.609058  0.658   75.604195\n",
       "1  DPH >> KNRM  0.054808  0.145462     0.359895  0.450  153.899455"
      ]
     },
     "execution_count": 8,
     "metadata": {},
     "output_type": "execute_result"
    }
   ],
   "source": [
    "br = pt.BatchRetrieve(index) % 100\n",
    "pipeline = br >> pt.text.get_text(dataset, 'abstract') >> knrm\n",
    "pt.Experiment(\n",
    "    [br, pipeline],\n",
    "    topics,\n",
    "    qrels,\n",
    "    names=['DPH', 'DPH >> KNRM'],\n",
    "    eval_metrics=[\"map\", \"ndcg\", 'ndcg_cut.10', 'P.10', 'mrt']\n",
    ")"
   ]
  },
  {
   "cell_type": "markdown",
   "metadata": {
    "id": "MhquobQypVNJ"
   },
   "source": [
    "The `knrm` models' performance is lower! The mode doesn't work very well because it hasn't yet been trained for IR; it's using random weights to combine the scores from the similarity matrix--but this is at least a start."
   ]
  },
  {
   "cell_type": "markdown",
   "metadata": {
    "id": "WLv7quA43yAP"
   },
   "source": [
    "## Loading a trained re-ranker\n",
    "\n",
    "You can train re-ranking models in PyTerrier using the `fit` method. Here's an example of how to train the `knrm` model on the MS MARCO dataset, which is a large IR collection.\n",
    "\n",
    "```python\n",
    "# transfer training signals from a medical sample of MS MARCO\n",
    "from sklearn.model_selection import train_test_split\n",
    "train_ds = pt.datasets.get_dataset('irds:msmarco-passage/train/medical')\n",
    "train_topics, valid_topics = train_test_split(train_ds.get_topics(), test_size=50, random_state=42) # split into training and validation sets\n",
    "\n",
    "# Index MS MARCO\n",
    "indexer = pt.index.IterDictIndexer('./terrier_msmarco-passage')\n",
    "tr_index_ref = indexer.index(train_ds.get_corpus_iter(), fields=('text',), meta=('docno',))\n",
    "\n",
    "pipeline = (pt.BatchRetrieve(tr_index_ref) % 100 # get top 100 results\n",
    "            >> pt.text.get_text(train_ds, 'text') # fetch the document text\n",
    "            >> pt.apply.generic(lambda df: df.rename(columns={'text': 'abstract'})) # rename columns\n",
    "            >> knrm) # apply neural re-ranker\n",
    "\n",
    "pipeline.fit(\n",
    "    train_topics,\n",
    "    train_ds.get_qrels(),\n",
    "    valid_topics,\n",
    "    train_ds.get_qrels())\n",
    "```\n",
    "\n",
    "Training deep learning models takes a bit of time (especially for large datasets like MS MARCO), so we've provided a model that's already been trained for you to download."
   ]
  },
  {
   "cell_type": "code",
   "execution_count": 9,
   "metadata": {
    "id": "Yk7FBOgvDa8V"
   },
   "outputs": [
    {
     "name": "stdout",
     "output_type": "stream",
     "text": [
      "[2022-10-26 20:06:49,131][onir_pt][INFO] using cached checkpoint: /home/sijuntao/data/onir/model_checkpoints/b7694d2fb4d4f8218e11734de239ad30\n",
      "[2022-10-26 20:06:49,136][WordvecHashVocab][DEBUG] [starting] reading cached at /home/sijuntao/data/onir/vocab/wordvec_hash/fasttext-wiki-news-300d-1M.p\n",
      "[2022-10-26 20:06:50,436][WordvecHashVocab][DEBUG] [finished] reading cached at /home/sijuntao/data/onir/vocab/wordvec_hash/fasttext-wiki-news-300d-1M.p [1.30s]\n"
     ]
    }
   ],
   "source": [
    "del knrm # free up the memory before loading a new version of the ranker (helpful for the GPU)\n",
    "knrm = onir_pt.reranker.from_checkpoint('https://macavaney.us/knrm.medmarco.tar.gz', text_field='abstract', \n",
    "                                        expected_md5=\"d70b1d4f899690dae51161537e69ed5a\")"
   ]
  },
  {
   "cell_type": "code",
   "execution_count": 10,
   "metadata": {
    "id": "1BQQKv8lL0Ta"
   },
   "outputs": [
    {
     "name": "stdout",
     "output_type": "stream",
     "text": [
      "[2022-10-26 20:06:58,463][onir_pt][DEBUG] using GPU (deterministic)\n",
      "[2022-10-26 20:06:58,755][onir_pt][DEBUG] [starting] batches\n"
     ]
    },
    {
     "data": {
      "application/vnd.jupyter.widget-view+json": {
       "model_id": "",
       "version_major": 2,
       "version_minor": 0
      },
      "text/plain": [
       "batches:   0%|          | 0/1250 [27ms<?, ?it/s]"
      ]
     },
     "metadata": {},
     "output_type": "display_data"
    },
    {
     "name": "stdout",
     "output_type": "stream",
     "text": [
      "[2022-10-26 20:07:01,224][onir_pt][DEBUG] [finished] batches: [2.46s] [1250it] [507.11it/s]\n"
     ]
    },
    {
     "data": {
      "text/html": [
       "<div>\n",
       "<style scoped>\n",
       "    .dataframe tbody tr th:only-of-type {\n",
       "        vertical-align: middle;\n",
       "    }\n",
       "\n",
       "    .dataframe tbody tr th {\n",
       "        vertical-align: top;\n",
       "    }\n",
       "\n",
       "    .dataframe thead th {\n",
       "        text-align: right;\n",
       "    }\n",
       "</style>\n",
       "<table border=\"1\" class=\"dataframe\">\n",
       "  <thead>\n",
       "    <tr style=\"text-align: right;\">\n",
       "      <th></th>\n",
       "      <th>name</th>\n",
       "      <th>map</th>\n",
       "      <th>P.10</th>\n",
       "      <th>ndcg</th>\n",
       "      <th>ndcg_cut.10</th>\n",
       "      <th>mrt</th>\n",
       "      <th>map +</th>\n",
       "      <th>map -</th>\n",
       "      <th>map p-value</th>\n",
       "      <th>P.10 +</th>\n",
       "      <th>P.10 -</th>\n",
       "      <th>P.10 p-value</th>\n",
       "      <th>ndcg +</th>\n",
       "      <th>ndcg -</th>\n",
       "      <th>ndcg p-value</th>\n",
       "      <th>ndcg_cut.10 +</th>\n",
       "      <th>ndcg_cut.10 -</th>\n",
       "      <th>ndcg_cut.10 p-value</th>\n",
       "    </tr>\n",
       "  </thead>\n",
       "  <tbody>\n",
       "    <tr>\n",
       "      <th>0</th>\n",
       "      <td>DPH</td>\n",
       "      <td>0.068056</td>\n",
       "      <td>0.658</td>\n",
       "      <td>0.165653</td>\n",
       "      <td>0.609058</td>\n",
       "      <td>42.388255</td>\n",
       "      <td>NaN</td>\n",
       "      <td>NaN</td>\n",
       "      <td>NaN</td>\n",
       "      <td>NaN</td>\n",
       "      <td>NaN</td>\n",
       "      <td>NaN</td>\n",
       "      <td>NaN</td>\n",
       "      <td>NaN</td>\n",
       "      <td>NaN</td>\n",
       "      <td>NaN</td>\n",
       "      <td>NaN</td>\n",
       "      <td>NaN</td>\n",
       "    </tr>\n",
       "    <tr>\n",
       "      <th>1</th>\n",
       "      <td>DPH &gt;&gt; KNRM</td>\n",
       "      <td>0.065109</td>\n",
       "      <td>0.598</td>\n",
       "      <td>0.160570</td>\n",
       "      <td>0.532790</td>\n",
       "      <td>93.368018</td>\n",
       "      <td>20.0</td>\n",
       "      <td>30.0</td>\n",
       "      <td>0.096531</td>\n",
       "      <td>12.0</td>\n",
       "      <td>26.0</td>\n",
       "      <td>0.024604</td>\n",
       "      <td>20.0</td>\n",
       "      <td>30.0</td>\n",
       "      <td>0.028582</td>\n",
       "      <td>20.0</td>\n",
       "      <td>30.0</td>\n",
       "      <td>0.006073</td>\n",
       "    </tr>\n",
       "  </tbody>\n",
       "</table>\n",
       "</div>"
      ],
      "text/plain": [
       "          name       map   P.10      ndcg  ndcg_cut.10        mrt  map +  \\\n",
       "0          DPH  0.068056  0.658  0.165653     0.609058  42.388255    NaN   \n",
       "1  DPH >> KNRM  0.065109  0.598  0.160570     0.532790  93.368018   20.0   \n",
       "\n",
       "   map -  map p-value  P.10 +  P.10 -  P.10 p-value  ndcg +  ndcg -  \\\n",
       "0    NaN          NaN     NaN     NaN           NaN     NaN     NaN   \n",
       "1   30.0     0.096531    12.0    26.0      0.024604    20.0    30.0   \n",
       "\n",
       "   ndcg p-value  ndcg_cut.10 +  ndcg_cut.10 -  ndcg_cut.10 p-value  \n",
       "0           NaN            NaN            NaN                  NaN  \n",
       "1      0.028582           20.0           30.0             0.006073  "
      ]
     },
     "execution_count": 10,
     "metadata": {},
     "output_type": "execute_result"
    }
   ],
   "source": [
    "pipeline2 = br >> pt.text.get_text(dataset, 'abstract') >> knrm\n",
    "pt.Experiment(\n",
    "    [br, pipeline2],\n",
    "    topics,\n",
    "    qrels,\n",
    "    names=['DPH', 'DPH >> KNRM'],\n",
    "    baseline=0,\n",
    "    eval_metrics=[\"map\", \"ndcg\", 'ndcg_cut.10', 'P.10', 'mrt']\n",
    ")"
   ]
  },
  {
   "cell_type": "markdown",
   "metadata": {
    "id": "aI1_8O8rtXKK"
   },
   "source": [
    "The tuned performance is a little better than before, but `knrm` still underperforms our first-stage ranking model."
   ]
  },
  {
   "cell_type": "markdown",
   "metadata": {
    "id": "79l1jn0pRQEY"
   },
   "source": [
    "## Reranking with BERT\n",
    "\n",
    "Large language models such as [BERT](https://arxiv.org/abs/1810.04805) are much more powerful neural models that have been shown to be effective for ranking like we discussed in class. \n",
    "\n",
    "Like with `knrm`, we'll start by using BERT for re-ranking with its initial parameters. These parameters have been turned for the masked language modeling (i.e., filling a word in the blank) and predicting the next sentence--but have not been tuned for IR at all."
   ]
  },
  {
   "cell_type": "code",
   "execution_count": 11,
   "metadata": {
    "id": "-qlXPHqN3iO0"
   },
   "outputs": [],
   "source": [
    "del knrm # clear out memory from KNRM (useful for GPU)\n",
    "vbert = onir_pt.reranker('vanilla_transformer', 'bert', text_field='abstract', vocab_config={'train': True})"
   ]
  },
  {
   "cell_type": "markdown",
   "metadata": {
    "id": "progrVwaunrn"
   },
   "source": [
    "Let's see how this non-IR trained model does on CORD10 data"
   ]
  },
  {
   "cell_type": "code",
   "execution_count": 12,
   "metadata": {
    "id": "PkasovrjQjy0"
   },
   "outputs": [
    {
     "name": "stdout",
     "output_type": "stream",
     "text": [
      "[2022-10-26 20:07:10,567][onir_pt][DEBUG] using GPU (deterministic)\n",
      "[2022-10-26 20:07:10,709][onir_pt][DEBUG] [starting] batches\n"
     ]
    },
    {
     "data": {
      "application/vnd.jupyter.widget-view+json": {
       "model_id": "",
       "version_major": 2,
       "version_minor": 0
      },
      "text/plain": [
       "batches:   0%|          | 0/1250 [25ms<?, ?it/s]"
      ]
     },
     "metadata": {},
     "output_type": "display_data"
    },
    {
     "name": "stdout",
     "output_type": "stream",
     "text": [
      "[2022-10-26 20:08:10,046][onir_pt][DEBUG] [finished] batches: [59.33s] [1250it] [21.07it/s]\n"
     ]
    },
    {
     "data": {
      "text/html": [
       "<div>\n",
       "<style scoped>\n",
       "    .dataframe tbody tr th:only-of-type {\n",
       "        vertical-align: middle;\n",
       "    }\n",
       "\n",
       "    .dataframe tbody tr th {\n",
       "        vertical-align: top;\n",
       "    }\n",
       "\n",
       "    .dataframe thead th {\n",
       "        text-align: right;\n",
       "    }\n",
       "</style>\n",
       "<table border=\"1\" class=\"dataframe\">\n",
       "  <thead>\n",
       "    <tr style=\"text-align: right;\">\n",
       "      <th></th>\n",
       "      <th>name</th>\n",
       "      <th>map</th>\n",
       "      <th>P.10</th>\n",
       "      <th>ndcg</th>\n",
       "      <th>ndcg_cut.10</th>\n",
       "      <th>mrt</th>\n",
       "      <th>map +</th>\n",
       "      <th>map -</th>\n",
       "      <th>map p-value</th>\n",
       "      <th>P.10 +</th>\n",
       "      <th>P.10 -</th>\n",
       "      <th>P.10 p-value</th>\n",
       "      <th>ndcg +</th>\n",
       "      <th>ndcg -</th>\n",
       "      <th>ndcg p-value</th>\n",
       "      <th>ndcg_cut.10 +</th>\n",
       "      <th>ndcg_cut.10 -</th>\n",
       "      <th>ndcg_cut.10 p-value</th>\n",
       "    </tr>\n",
       "  </thead>\n",
       "  <tbody>\n",
       "    <tr>\n",
       "      <th>0</th>\n",
       "      <td>DPH</td>\n",
       "      <td>0.068056</td>\n",
       "      <td>0.658</td>\n",
       "      <td>0.165653</td>\n",
       "      <td>0.609058</td>\n",
       "      <td>39.842442</td>\n",
       "      <td>NaN</td>\n",
       "      <td>NaN</td>\n",
       "      <td>NaN</td>\n",
       "      <td>NaN</td>\n",
       "      <td>NaN</td>\n",
       "      <td>NaN</td>\n",
       "      <td>NaN</td>\n",
       "      <td>NaN</td>\n",
       "      <td>NaN</td>\n",
       "      <td>NaN</td>\n",
       "      <td>NaN</td>\n",
       "      <td>NaN</td>\n",
       "    </tr>\n",
       "    <tr>\n",
       "      <th>1</th>\n",
       "      <td>DPH &gt;&gt; VBERT</td>\n",
       "      <td>0.056413</td>\n",
       "      <td>0.458</td>\n",
       "      <td>0.147048</td>\n",
       "      <td>0.374197</td>\n",
       "      <td>1227.653509</td>\n",
       "      <td>8.0</td>\n",
       "      <td>42.0</td>\n",
       "      <td>0.000006</td>\n",
       "      <td>6.0</td>\n",
       "      <td>37.0</td>\n",
       "      <td>9.462198e-07</td>\n",
       "      <td>5.0</td>\n",
       "      <td>45.0</td>\n",
       "      <td>0.000001</td>\n",
       "      <td>8.0</td>\n",
       "      <td>41.0</td>\n",
       "      <td>4.134415e-09</td>\n",
       "    </tr>\n",
       "  </tbody>\n",
       "</table>\n",
       "</div>"
      ],
      "text/plain": [
       "           name       map   P.10      ndcg  ndcg_cut.10          mrt  map +  \\\n",
       "0           DPH  0.068056  0.658  0.165653     0.609058    39.842442    NaN   \n",
       "1  DPH >> VBERT  0.056413  0.458  0.147048     0.374197  1227.653509    8.0   \n",
       "\n",
       "   map -  map p-value  P.10 +  P.10 -  P.10 p-value  ndcg +  ndcg -  \\\n",
       "0    NaN          NaN     NaN     NaN           NaN     NaN     NaN   \n",
       "1   42.0     0.000006     6.0    37.0  9.462198e-07     5.0    45.0   \n",
       "\n",
       "   ndcg p-value  ndcg_cut.10 +  ndcg_cut.10 -  ndcg_cut.10 p-value  \n",
       "0           NaN            NaN            NaN                  NaN  \n",
       "1      0.000001            8.0           41.0         4.134415e-09  "
      ]
     },
     "execution_count": 12,
     "metadata": {},
     "output_type": "execute_result"
    }
   ],
   "source": [
    "pipeline3 = br % 100 >> pt.text.get_text(dataset, 'abstract') >> vbert\n",
    "pt.Experiment(\n",
    "    [br, pipeline3],\n",
    "    topics,\n",
    "    qrels,\n",
    "    names=['DPH', 'DPH >> VBERT'],\n",
    "    baseline=0,\n",
    "    eval_metrics=[\"map\", \"ndcg\", 'ndcg_cut.10', 'P.10', 'mrt']\n",
    ")"
   ]
  },
  {
   "cell_type": "markdown",
   "metadata": {
    "id": "wBrfNZ_1u_pD"
   },
   "source": [
    "As we see, although the ERT model is pre-trained for recognizing language, it doesn't do very well at ranking on our benchmark. To get better performance, we'll need to tune for the task of relevance ranking.\n",
    "\n",
    "We can train the model for ranking (as shown above for KNRM) or we can download a trained model. Here, we will use the [SLEDGE](https://arxiv.org/abs/2010.05987) model, which is a BERT model trained on scientific text and tuned on medical queries."
   ]
  },
  {
   "cell_type": "code",
   "execution_count": 13,
   "metadata": {
    "id": "VsXQKNyYSXOj"
   },
   "outputs": [
    {
     "name": "stdout",
     "output_type": "stream",
     "text": [
      "[2022-10-26 20:08:10,187][onir_pt][INFO] using cached checkpoint: /home/sijuntao/data/onir/model_checkpoints/1153203ea2abbdf7f760fa6956a83d83\n"
     ]
    }
   ],
   "source": [
    "vbert = onir_pt.reranker.from_checkpoint('https://macavaney.us/scibert-medmarco.tar.gz', \n",
    "                                         text_field='abstract', expected_md5=\"854966d0b61543ffffa44cea627ab63b\")"
   ]
  },
  {
   "cell_type": "markdown",
   "metadata": {},
   "source": [
    "Let's run another experiment to see how this new model trained for IR does."
   ]
  },
  {
   "cell_type": "code",
   "execution_count": 14,
   "metadata": {
    "id": "dUH-daNJSoNy"
   },
   "outputs": [
    {
     "name": "stdout",
     "output_type": "stream",
     "text": [
      "[2022-10-26 20:08:26,020][onir_pt][DEBUG] using GPU (deterministic)\n",
      "[2022-10-26 20:08:26,156][onir_pt][DEBUG] [starting] batches\n"
     ]
    },
    {
     "data": {
      "application/vnd.jupyter.widget-view+json": {
       "model_id": "",
       "version_major": 2,
       "version_minor": 0
      },
      "text/plain": [
       "batches:   0%|          | 0/1250 [25ms<?, ?it/s]"
      ]
     },
     "metadata": {},
     "output_type": "display_data"
    },
    {
     "name": "stdout",
     "output_type": "stream",
     "text": [
      "[2022-10-26 20:09:21,935][onir_pt][DEBUG] [finished] batches: [55.77s] [1250it] [22.41it/s]\n"
     ]
    },
    {
     "data": {
      "text/html": [
       "<div>\n",
       "<style scoped>\n",
       "    .dataframe tbody tr th:only-of-type {\n",
       "        vertical-align: middle;\n",
       "    }\n",
       "\n",
       "    .dataframe tbody tr th {\n",
       "        vertical-align: top;\n",
       "    }\n",
       "\n",
       "    .dataframe thead th {\n",
       "        text-align: right;\n",
       "    }\n",
       "</style>\n",
       "<table border=\"1\" class=\"dataframe\">\n",
       "  <thead>\n",
       "    <tr style=\"text-align: right;\">\n",
       "      <th></th>\n",
       "      <th>name</th>\n",
       "      <th>map</th>\n",
       "      <th>P.10</th>\n",
       "      <th>ndcg</th>\n",
       "      <th>ndcg_cut.10</th>\n",
       "      <th>mrt</th>\n",
       "      <th>map +</th>\n",
       "      <th>map -</th>\n",
       "      <th>map p-value</th>\n",
       "      <th>P.10 +</th>\n",
       "      <th>P.10 -</th>\n",
       "      <th>P.10 p-value</th>\n",
       "      <th>ndcg +</th>\n",
       "      <th>ndcg -</th>\n",
       "      <th>ndcg p-value</th>\n",
       "      <th>ndcg_cut.10 +</th>\n",
       "      <th>ndcg_cut.10 -</th>\n",
       "      <th>ndcg_cut.10 p-value</th>\n",
       "    </tr>\n",
       "  </thead>\n",
       "  <tbody>\n",
       "    <tr>\n",
       "      <th>0</th>\n",
       "      <td>DPH</td>\n",
       "      <td>0.068056</td>\n",
       "      <td>0.658</td>\n",
       "      <td>0.165653</td>\n",
       "      <td>0.609058</td>\n",
       "      <td>40.560868</td>\n",
       "      <td>NaN</td>\n",
       "      <td>NaN</td>\n",
       "      <td>NaN</td>\n",
       "      <td>NaN</td>\n",
       "      <td>NaN</td>\n",
       "      <td>NaN</td>\n",
       "      <td>NaN</td>\n",
       "      <td>NaN</td>\n",
       "      <td>NaN</td>\n",
       "      <td>NaN</td>\n",
       "      <td>NaN</td>\n",
       "      <td>NaN</td>\n",
       "    </tr>\n",
       "    <tr>\n",
       "      <th>1</th>\n",
       "      <td>DPH &gt;&gt; Trained-BERT</td>\n",
       "      <td>0.075710</td>\n",
       "      <td>0.770</td>\n",
       "      <td>0.173079</td>\n",
       "      <td>0.701995</td>\n",
       "      <td>1156.464452</td>\n",
       "      <td>36.0</td>\n",
       "      <td>14.0</td>\n",
       "      <td>0.001278</td>\n",
       "      <td>28.0</td>\n",
       "      <td>11.0</td>\n",
       "      <td>0.000851</td>\n",
       "      <td>36.0</td>\n",
       "      <td>14.0</td>\n",
       "      <td>0.010118</td>\n",
       "      <td>31.0</td>\n",
       "      <td>19.0</td>\n",
       "      <td>0.012156</td>\n",
       "    </tr>\n",
       "  </tbody>\n",
       "</table>\n",
       "</div>"
      ],
      "text/plain": [
       "                  name       map   P.10      ndcg  ndcg_cut.10          mrt  \\\n",
       "0                  DPH  0.068056  0.658  0.165653     0.609058    40.560868   \n",
       "1  DPH >> Trained-BERT  0.075710  0.770  0.173079     0.701995  1156.464452   \n",
       "\n",
       "   map +  map -  map p-value  P.10 +  P.10 -  P.10 p-value  ndcg +  ndcg -  \\\n",
       "0    NaN    NaN          NaN     NaN     NaN           NaN     NaN     NaN   \n",
       "1   36.0   14.0     0.001278    28.0    11.0      0.000851    36.0    14.0   \n",
       "\n",
       "   ndcg p-value  ndcg_cut.10 +  ndcg_cut.10 -  ndcg_cut.10 p-value  \n",
       "0           NaN            NaN            NaN                  NaN  \n",
       "1      0.010118           31.0           19.0             0.012156  "
      ]
     },
     "execution_count": 14,
     "metadata": {},
     "output_type": "execute_result"
    }
   ],
   "source": [
    "pipeline4 = br % 100 >> pt.text.get_text(dataset, 'abstract') >> vbert\n",
    "pt.Experiment(\n",
    "    [br, pipeline4],\n",
    "    topics,\n",
    "    qrels,\n",
    "    names=['DPH', 'DPH >> Trained-BERT'],\n",
    "    baseline=0,\n",
    "    eval_metrics=[\"map\", \"ndcg\", 'ndcg_cut.10', 'P.10', 'mrt']\n",
    ")"
   ]
  },
  {
   "cell_type": "markdown",
   "metadata": {
    "id": "OtAxDQHyv4ON"
   },
   "source": [
    "Training helped a lot! We're able to improve upon the initial ranking from `BatchRetrieve`. However, from looking at `mrt` we can see that this is pretty slow to run--and this was using a GPU! This performance time underscores the trade-off in using large language models at retrieval time: they may perform better, but could be much slower."
   ]
  },
  {
   "cell_type": "markdown",
   "metadata": {},
   "source": [
    "# Deep learning at indexing time: doc2query\n",
    "\n",
    "Instead of using our large language models to rerank, another option is to use them at _indexing time_ to augment our documents. In class, we discussed one such option, doc2query, that augments an inverted index structure by predicting queries that may be used to search for the document, and appending those to the document text.\n",
    "\n",
    "We can use doc2query using the `pyterrier_doc2query` package, which was loaded at the top."
   ]
  },
  {
   "cell_type": "markdown",
   "metadata": {},
   "source": [
    "### Loading a pre-trained model\n",
    "\n",
    "We'll start by using a version of the doc2query model released by the authors that is trained on the MS MARCO collection."
   ]
  },
  {
   "cell_type": "code",
   "execution_count": 15,
   "metadata": {},
   "outputs": [
    {
     "name": "stdout",
     "output_type": "stream",
     "text": [
      "--2022-10-26 20:09:22--  https://git.uwaterloo.ca/jimmylin/doc2query-data/raw/master/T5-passage/t5-base.zip\n",
      "Resolving proxy.arc-ts.umich.edu (proxy.arc-ts.umich.edu)... 141.213.136.200\n",
      "Connecting to proxy.arc-ts.umich.edu (proxy.arc-ts.umich.edu)|141.213.136.200|:3128... connected.\n",
      "Proxy request sent, awaiting response... 200 OK\n",
      "Length: 357139559 (341M) [application/octet-stream]\n",
      "Saving to: ‘t5-base.zip’\n",
      "\n",
      "t5-base.zip         100%[===================>] 340.59M   100MB/s    in 3.6s    \n",
      "\n",
      "2022-10-26 20:09:28 (95.3 MB/s) - ‘t5-base.zip’ saved [357139559/357139559]\n",
      "\n",
      "Archive:  t5-base.zip\n",
      "  inflating: model.ckpt-1004000.data-00000-of-00002  \n",
      "  inflating: model.ckpt-1004000.data-00001-of-00002  \n",
      "  inflating: model.ckpt-1004000.index  \n",
      "  inflating: model.ckpt-1004000.meta  \n"
     ]
    }
   ],
   "source": [
    "if not os.path.exists(\"t5-base.zip\"):\n",
    "  !wget https://git.uwaterloo.ca/jimmylin/doc2query-data/raw/master/T5-passage/t5-base.zip\n",
    "  !unzip t5-base.zip"
   ]
  },
  {
   "cell_type": "markdown",
   "metadata": {},
   "source": [
    "We can load the model weights by specifying the checkpoint."
   ]
  },
  {
   "cell_type": "code",
   "execution_count": 16,
   "metadata": {},
   "outputs": [
    {
     "name": "stderr",
     "output_type": "stream",
     "text": [
      "/home/sijuntao/.local/lib/python3.9/site-packages/transformers/models/t5/tokenization_t5.py:164: FutureWarning: This tokenizer was incorrectly instantiated with a model max length of 512 which will be corrected in Transformers v5.\n",
      "For now, this behavior is kept to avoid breaking backwards compatibility when padding/encoding with `truncation is True`.\n",
      "- Be aware that you SHOULD NOT rely on t5-base automatically truncating your input to 512 when padding/encoding.\n",
      "- If you want to encode/pad to sequences longer than 512 you can either instantiate this tokenizer with `model_max_length` or pass `max_length` when encoding/padding.\n",
      "- To avoid this warning, please instantiate this tokenizer with `model_max_length` set to your preferred value.\n",
      "  warnings.warn(\n",
      "2022-10-26 20:09:37.598515: I tensorflow/core/platform/cpu_feature_guard.cc:193] This TensorFlow binary is optimized with oneAPI Deep Neural Network Library (oneDNN) to use the following CPU instructions in performance-critical operations:  AVX2 AVX512F AVX512_VNNI FMA\n",
      "To enable them in other operations, rebuild TensorFlow with the appropriate compiler flags.\n",
      "2022-10-26 20:09:37.756233: I tensorflow/core/util/util.cc:169] oneDNN custom operations are on. You may see slightly different numerical results due to floating-point round-off errors from different computation orders. To turn them off, set the environment variable `TF_ENABLE_ONEDNN_OPTS=0`.\n",
      "2022-10-26 20:09:37.761517: W tensorflow/stream_executor/platform/default/dso_loader.cc:64] Could not load dynamic library 'libcudart.so.11.0'; dlerror: libcudart.so.11.0: cannot open shared object file: No such file or directory; LD_LIBRARY_PATH: /sw/pkgs/arc/openjdk/jdk-18.0.1.1/lib:/opt/slurm/lib64::\n",
      "2022-10-26 20:09:37.761534: I tensorflow/stream_executor/cuda/cudart_stub.cc:29] Ignore above cudart dlerror if you do not have a GPU set up on your machine.\n",
      "2022-10-26 20:09:37.790264: E tensorflow/stream_executor/cuda/cuda_blas.cc:2981] Unable to register cuBLAS factory: Attempting to register factory for plugin cuBLAS when one has already been registered\n",
      "2022-10-26 20:09:38.925820: W tensorflow/stream_executor/platform/default/dso_loader.cc:64] Could not load dynamic library 'libnvinfer.so.7'; dlerror: libnvinfer.so.7: cannot open shared object file: No such file or directory; LD_LIBRARY_PATH: /sw/pkgs/arc/openjdk/jdk-18.0.1.1/lib:/opt/slurm/lib64::\n",
      "2022-10-26 20:09:38.925914: W tensorflow/stream_executor/platform/default/dso_loader.cc:64] Could not load dynamic library 'libnvinfer_plugin.so.7'; dlerror: libnvinfer_plugin.so.7: cannot open shared object file: No such file or directory; LD_LIBRARY_PATH: /sw/pkgs/arc/openjdk/jdk-18.0.1.1/lib:/opt/slurm/lib64::\n",
      "2022-10-26 20:09:38.925922: W tensorflow/compiler/tf2tensorrt/utils/py_utils.cc:38] TF-TRT Warning: Cannot dlopen some TensorRT libraries. If you would like to use Nvidia GPU with TensorRT, please make sure the missing libraries mentioned above are installed properly.\n"
     ]
    },
    {
     "name": "stdout",
     "output_type": "stream",
     "text": [
      "Doc2query using cuda\n"
     ]
    }
   ],
   "source": [
    "doc2query = pyterrier_doc2query.Doc2Query('model.ckpt-1004000', batch_size=8)"
   ]
  },
  {
   "cell_type": "markdown",
   "metadata": {},
   "source": [
    "### Running doc2queries on sample text\n",
    "\n",
    "Let's see what queries it predicts for the sample document that we've made up:"
   ]
  },
  {
   "cell_type": "code",
   "execution_count": 17,
   "metadata": {},
   "outputs": [
    {
     "data": {
      "text/plain": [
       "'The University of Michigan School of Information (UMSI) delivers innovative, elegant and ethical solutions connecting people, information and technology. The school was one of the first iSchools in the nation and is the premier institution studying and using technology to improve human computer interactions.'"
      ]
     },
     "execution_count": 17,
     "metadata": {},
     "output_type": "execute_result"
    }
   ],
   "source": [
    "df = pd.DataFrame([{\"docno\" : \"d1\", \"text\" :\"The University of Michigan School of Information (UMSI) delivers innovative, elegant and ethical solutions connecting people, information and technology. The school was one of the first iSchools in the nation and is the premier institution studying and using technology to improve human computer interactions.\"}])\n",
    "df.iloc[0].text"
   ]
  },
  {
   "cell_type": "code",
   "execution_count": 18,
   "metadata": {},
   "outputs": [
    {
     "data": {
      "text/plain": [
       "'what is umsi university of michigan school of information where is umsi'"
      ]
     },
     "execution_count": 18,
     "metadata": {},
     "output_type": "execute_result"
    }
   ],
   "source": [
    "doc2query_df = doc2query(df)\n",
    "doc2query_df.iloc[0].querygen"
   ]
  },
  {
   "cell_type": "markdown",
   "metadata": {},
   "source": [
    "Not too bad, though the questions are somewhat generic"
   ]
  },
  {
   "cell_type": "markdown",
   "metadata": {},
   "source": [
    "### Loading an index of doc2query documents\n",
    "\n",
    "Let's see how doc2query does on improving the performance in the TREC COVID data. Since indexing with doc2query takes a while (due to needing to run the deep learning models), we've provide an index with the text already added.\n",
    "\n",
    "If you would like to index the collection with doc2query yourself (or use doc2query for your course project), you can use the following code:\n",
    "\n",
    "```python\n",
    "dataset = pt.get_dataset(\"irds:cord19/trec-covid\")\n",
    "indexer = (\n",
    "  pyterrier_doc2query.Doc2Query('model.ckpt-1004000', doc_attr='abstract', batch_size=8, append=True) # aply doc2query on abstracts and append\n",
    "  >> pt.apply.generic(lambda df: df.rename(columns={'abstract': 'text'}) # rename \"abstract\" column to \"text\" for indexing\n",
    "  >> pt.IterDictIndexer(\"./doc2query_index_path\")) # index the expanded documents\n",
    "indexref = indexer.index(dataset.get_corpus_iter())\n",
    "```\n"
   ]
  },
  {
   "cell_type": "code",
   "execution_count": 19,
   "metadata": {},
   "outputs": [
    {
     "name": "stdout",
     "output_type": "stream",
     "text": [
      "--2022-10-26 20:09:43--  http://www.dcs.gla.ac.uk/~craigm/ecir2021-tutorial/doc2query_marco_cord19.zip\n",
      "Resolving proxy.arc-ts.umich.edu (proxy.arc-ts.umich.edu)... 141.213.136.200\n",
      "Connecting to proxy.arc-ts.umich.edu (proxy.arc-ts.umich.edu)|141.213.136.200|:3128... connected.\n",
      "Proxy request sent, awaiting response... 200 OK\n",
      "Length: 45804576 (44M) [application/zip]\n",
      "Saving to: ‘doc2query_marco_cord19.zip’\n",
      "\n",
      "doc2query_marco_cor 100%[===================>]  43.68M  19.3MB/s    in 2.3s    \n",
      "\n",
      "2022-10-26 20:09:45 (19.3 MB/s) - ‘doc2query_marco_cord19.zip’ saved [45804576/45804576]\n",
      "\n",
      "Archive:  doc2query_marco_cord19.zip\n",
      "   creating: doc2query_index_path/\n",
      "  inflating: doc2query_index_path/data.document.fsarrayfile  \n",
      "  inflating: doc2query_index_path/data.inverted.bf  \n",
      "  inflating: doc2query_index_path/data.direct.bf  \n",
      "  inflating: doc2query_index_path/data.lexicon.fsomapid  \n",
      "  inflating: doc2query_index_path/data.lexicon.fsomaphash  \n",
      "  inflating: doc2query_index_path/data.lexicon.fsomapfile  \n",
      "  inflating: doc2query_index_path/data.meta.zdata  \n",
      "  inflating: doc2query_index_path/data.properties  \n",
      "  inflating: doc2query_index_path/data.meta.idx  \n"
     ]
    }
   ],
   "source": [
    "if not os.path.exists('doc2query_marco_cord19.zip'):\n",
    "  !wget http://www.dcs.gla.ac.uk/~craigm/ecir2021-tutorial/doc2query_marco_cord19.zip\n",
    "  !unzip doc2query_marco_cord19.zip\n",
    "doc2query_indexref = pt.IndexRef.of('./doc2query_index_path/data.properties')"
   ]
  },
  {
   "cell_type": "markdown",
   "metadata": {},
   "source": [
    "Let's look at the results on TREC COVID by first merging the scores with the rankings"
   ]
  },
  {
   "cell_type": "code",
   "execution_count": 20,
   "metadata": {},
   "outputs": [
    {
     "name": "stderr",
     "output_type": "stream",
     "text": [
      "/home/sijuntao/.local/lib/python3.9/site-packages/pyterrier/datasets.py:435: FutureWarning: In a future version of pandas all arguments of DataFrame.drop except for the argument 'labels' will be keyword-only\n",
      "  df.drop(df.columns.difference(['qid','query']), 1, inplace=True)\n"
     ]
    },
    {
     "data": {
      "text/html": [
       "<div>\n",
       "<style scoped>\n",
       "    .dataframe tbody tr th:only-of-type {\n",
       "        vertical-align: middle;\n",
       "    }\n",
       "\n",
       "    .dataframe tbody tr th {\n",
       "        vertical-align: top;\n",
       "    }\n",
       "\n",
       "    .dataframe thead th {\n",
       "        text-align: right;\n",
       "    }\n",
       "</style>\n",
       "<table border=\"1\" class=\"dataframe\">\n",
       "  <thead>\n",
       "    <tr style=\"text-align: right;\">\n",
       "      <th></th>\n",
       "      <th>qid</th>\n",
       "      <th>docid</th>\n",
       "      <th>docno</th>\n",
       "      <th>rank</th>\n",
       "      <th>score</th>\n",
       "      <th>query</th>\n",
       "      <th>title</th>\n",
       "      <th>label</th>\n",
       "      <th>iteration</th>\n",
       "    </tr>\n",
       "  </thead>\n",
       "  <tbody>\n",
       "    <tr>\n",
       "      <th>0</th>\n",
       "      <td>1</td>\n",
       "      <td>101299</td>\n",
       "      <td>jwmrgy5d</td>\n",
       "      <td>0</td>\n",
       "      <td>8.427298</td>\n",
       "      <td>coronavirus origin</td>\n",
       "      <td>COVID-19 in the heart and the lungs: could we ...</td>\n",
       "      <td>0.0</td>\n",
       "      <td>5</td>\n",
       "    </tr>\n",
       "    <tr>\n",
       "      <th>1</th>\n",
       "      <td>2</td>\n",
       "      <td>182167</td>\n",
       "      <td>g8grcy5j</td>\n",
       "      <td>0</td>\n",
       "      <td>13.922648</td>\n",
       "      <td>coronavirus response to weather changes</td>\n",
       "      <td>The Stirling Protocol – Putting the environmen...</td>\n",
       "      <td>0.0</td>\n",
       "      <td>4</td>\n",
       "    </tr>\n",
       "    <tr>\n",
       "      <th>2</th>\n",
       "      <td>3</td>\n",
       "      <td>85678</td>\n",
       "      <td>tl30wlpy</td>\n",
       "      <td>0</td>\n",
       "      <td>7.224180</td>\n",
       "      <td>coronavirus immunity</td>\n",
       "      <td>Receptor-dependent coronavirus infection of de...</td>\n",
       "      <td>NaN</td>\n",
       "      <td>NaN</td>\n",
       "    </tr>\n",
       "    <tr>\n",
       "      <th>3</th>\n",
       "      <td>4</td>\n",
       "      <td>145871</td>\n",
       "      <td>l5fxswfz</td>\n",
       "      <td>0</td>\n",
       "      <td>12.773362</td>\n",
       "      <td>how do people die from the coronavirus</td>\n",
       "      <td>Analysis on 54 Mortality Cases of Coronavirus ...</td>\n",
       "      <td>2.0</td>\n",
       "      <td>1.5</td>\n",
       "    </tr>\n",
       "    <tr>\n",
       "      <th>4</th>\n",
       "      <td>5</td>\n",
       "      <td>180990</td>\n",
       "      <td>3sepefqa</td>\n",
       "      <td>0</td>\n",
       "      <td>12.995980</td>\n",
       "      <td>animal models of covid 19</td>\n",
       "      <td>Current global vaccine and drug efforts agains...</td>\n",
       "      <td>0.0</td>\n",
       "      <td>4</td>\n",
       "    </tr>\n",
       "  </tbody>\n",
       "</table>\n",
       "</div>"
      ],
      "text/plain": [
       "  qid   docid     docno  rank      score  \\\n",
       "0   1  101299  jwmrgy5d     0   8.427298   \n",
       "1   2  182167  g8grcy5j     0  13.922648   \n",
       "2   3   85678  tl30wlpy     0   7.224180   \n",
       "3   4  145871  l5fxswfz     0  12.773362   \n",
       "4   5  180990  3sepefqa     0  12.995980   \n",
       "\n",
       "                                     query  \\\n",
       "0                       coronavirus origin   \n",
       "1  coronavirus response to weather changes   \n",
       "2                     coronavirus immunity   \n",
       "3   how do people die from the coronavirus   \n",
       "4                animal models of covid 19   \n",
       "\n",
       "                                               title  label iteration  \n",
       "0  COVID-19 in the heart and the lungs: could we ...    0.0         5  \n",
       "1  The Stirling Protocol – Putting the environmen...    0.0         4  \n",
       "2  Receptor-dependent coronavirus infection of de...    NaN       NaN  \n",
       "3  Analysis on 54 Mortality Cases of Coronavirus ...    2.0       1.5  \n",
       "4  Current global vaccine and drug efforts agains...    0.0         4  "
      ]
     },
     "execution_count": 20,
     "metadata": {},
     "output_type": "execute_result"
    }
   ],
   "source": [
    "dataset = pt.get_dataset('irds:cord19/trec-covid')\n",
    "pipeline = pt.BatchRetrieve(doc2query_indexref) % 1 >> pt.text.get_text(dataset, 'title')\n",
    "res = pipeline(dataset.get_topics('title'))\n",
    "res.merge(dataset.get_qrels(), how='left').head()"
   ]
  },
  {
   "cell_type": "markdown",
   "metadata": {},
   "source": [
    "What kind of queries does doc2query generate for the CORD19 documents?"
   ]
  },
  {
   "cell_type": "code",
   "execution_count": 21,
   "metadata": {},
   "outputs": [
    {
     "data": {
      "application/vnd.jupyter.widget-view+json": {
       "model_id": "3612de08ad5f48209946b0ef2a0e0df8",
       "version_major": 2,
       "version_minor": 0
      },
      "text/plain": [
       "cord19/trec-covid documents:   0%|          | 0/192509 [26ms<?, ?it/s]"
      ]
     },
     "metadata": {},
     "output_type": "display_data"
    },
    {
     "name": "stdout",
     "output_type": "stream",
     "text": [
      "l5fxswfz\n",
      "what is the population of coronavirus coronavirus death toll coronavirus worldwide\n",
      "Since the identification of the first case of coronavirus disease 2019 (COVID-19), the global number of confirmed cases as of March 15, 2020, is 156,400, with total death in 5,833 (3.7%) worldwide. Here, we summarize the morality data from February 19 when the first mortality occurred to 0 am, March 10, 2020, in Korea with comparison to other countries. The overall case fatality rate of COVID-19 in Korea was 0.7% as of 0 am, March 10, 2020.\n",
      "3sepefqa\n",
      "what is the cure for copid what is the treatment of covid what is a cure for covid 19?\n",
      "COVID-19 has become one of the biggest health concern, along with huge economic burden. With no clear remedies to treat the disease, doctors are repurposing drugs like chloroquine and remdesivir to treat COVID-19 patients. In parallel, research institutes in collaboration with biotech companies have identified strategies to use viral proteins as vaccine candidates for COVID-19. Although this looks promising, they still need to pass the test of challenge studies in animal models. As various models for SARS-CoV-2 are under testing phase, biotech companies have bypassed animal studies and moved to Phase I clinical trials. In view of the present outbreak, this looks a justified approach, but the problem is that in the absence of animal studies, we can never predict the outcomes in humans. Since animal models are critical for vaccine development and SARS-CoV-2 has different transmission dynamics, in this review we compare different animal models of SARS-CoV-2 with humans for their pathogenic, immune response and transmission dynamics that make them ideal models for vaccine testing for COVID-19. Another issue of using animal model is the ethics of using animals for research; thus, we also discuss the pros and cons of using animals for vaccine development studies.\n"
     ]
    }
   ],
   "source": [
    "df = pd.DataFrame(doc for doc in dataset.get_corpus_iter() if doc['docno'] in ('3sepefqa', 'l5fxswfz'))\n",
    "df = df.rename(columns={'abstract': 'text'})\n",
    "doc2query_df = doc2query(df)\n",
    "for querygen, docno, text in zip(doc2query_df['querygen'], doc2query_df['docno'], df['text']):\n",
    "    print(docno)\n",
    "    print(querygen)\n",
    "    print(text)"
   ]
  },
  {
   "cell_type": "markdown",
   "metadata": {},
   "source": [
    "## Evaluating the effects of doc2query\n",
    "\n",
    "Here, we'll change our evaluation setup a bit from what we did before. Rather than compare two models for the same index, we'll instead compare the same model (BM25) with two different ways of indexing (two indices)! Our baseline will be an index of CORD19 without the doc2query additions.\n",
    "\n",
    "Let's load a copy of the CORD19 index that we used earlier."
   ]
  },
  {
   "cell_type": "code",
   "execution_count": 22,
   "metadata": {},
   "outputs": [],
   "source": [
    "indexref = pt.IndexRef.of('./terrier_cord19/data.properties')"
   ]
  },
  {
   "cell_type": "markdown",
   "metadata": {},
   "source": [
    "### Task 2: Write the `Experiment` to compare indices (5 points)\n",
    "Run an `Experiment` using a `BM25` ranker that compares the indices `indexref` and `doc2query_indexref`.  Note that our doc2query model was trained on MS MARCO, which isn't the same kind of collection as CORD19, so this performance tells us how well that model can transfer to a new setting.\n",
    "\n",
    "You should evaluate using the metrics \"map\", \"ndcg\", \"ndcg_cut.10\""
   ]
  },
  {
   "cell_type": "code",
   "execution_count": 23,
   "metadata": {},
   "outputs": [
    {
     "name": "stderr",
     "output_type": "stream",
     "text": [
      "/home/sijuntao/.local/lib/python3.9/site-packages/pyterrier/datasets.py:435: FutureWarning: In a future version of pandas all arguments of DataFrame.drop except for the argument 'labels' will be keyword-only\n",
      "  df.drop(df.columns.difference(['qid','query']), 1, inplace=True)\n"
     ]
    },
    {
     "data": {
      "text/html": [
       "<div>\n",
       "<style scoped>\n",
       "    .dataframe tbody tr th:only-of-type {\n",
       "        vertical-align: middle;\n",
       "    }\n",
       "\n",
       "    .dataframe tbody tr th {\n",
       "        vertical-align: top;\n",
       "    }\n",
       "\n",
       "    .dataframe thead th {\n",
       "        text-align: right;\n",
       "    }\n",
       "</style>\n",
       "<table border=\"1\" class=\"dataframe\">\n",
       "  <thead>\n",
       "    <tr style=\"text-align: right;\">\n",
       "      <th></th>\n",
       "      <th>name</th>\n",
       "      <th>map</th>\n",
       "      <th>ndcg</th>\n",
       "      <th>ndcg_cut.10</th>\n",
       "      <th>map +</th>\n",
       "      <th>map -</th>\n",
       "      <th>map p-value</th>\n",
       "      <th>ndcg +</th>\n",
       "      <th>ndcg -</th>\n",
       "      <th>ndcg p-value</th>\n",
       "      <th>ndcg_cut.10 +</th>\n",
       "      <th>ndcg_cut.10 -</th>\n",
       "      <th>ndcg_cut.10 p-value</th>\n",
       "    </tr>\n",
       "  </thead>\n",
       "  <tbody>\n",
       "    <tr>\n",
       "      <th>0</th>\n",
       "      <td>BM25</td>\n",
       "      <td>0.181478</td>\n",
       "      <td>0.373328</td>\n",
       "      <td>0.583665</td>\n",
       "      <td>NaN</td>\n",
       "      <td>NaN</td>\n",
       "      <td>NaN</td>\n",
       "      <td>NaN</td>\n",
       "      <td>NaN</td>\n",
       "      <td>NaN</td>\n",
       "      <td>NaN</td>\n",
       "      <td>NaN</td>\n",
       "      <td>NaN</td>\n",
       "    </tr>\n",
       "    <tr>\n",
       "      <th>1</th>\n",
       "      <td>BM25_doc2query</td>\n",
       "      <td>0.177419</td>\n",
       "      <td>0.368726</td>\n",
       "      <td>0.534994</td>\n",
       "      <td>21.0</td>\n",
       "      <td>29.0</td>\n",
       "      <td>0.094681</td>\n",
       "      <td>19.0</td>\n",
       "      <td>31.0</td>\n",
       "      <td>0.139285</td>\n",
       "      <td>15.0</td>\n",
       "      <td>31.0</td>\n",
       "      <td>0.011312</td>\n",
       "    </tr>\n",
       "  </tbody>\n",
       "</table>\n",
       "</div>"
      ],
      "text/plain": [
       "             name       map      ndcg  ndcg_cut.10  map +  map -  map p-value  \\\n",
       "0            BM25  0.181478  0.373328     0.583665    NaN    NaN          NaN   \n",
       "1  BM25_doc2query  0.177419  0.368726     0.534994   21.0   29.0     0.094681   \n",
       "\n",
       "   ndcg +  ndcg -  ndcg p-value  ndcg_cut.10 +  ndcg_cut.10 -  \\\n",
       "0     NaN     NaN           NaN            NaN            NaN   \n",
       "1    19.0    31.0      0.139285           15.0           31.0   \n",
       "\n",
       "   ndcg_cut.10 p-value  \n",
       "0                  NaN  \n",
       "1             0.011312  "
      ]
     },
     "execution_count": 23,
     "metadata": {},
     "output_type": "execute_result"
    }
   ],
   "source": [
    "# TODO\n",
    "pt.Experiment(\n",
    "  [pt.BatchRetrieve(indexref, wmodel=\"BM25\"),pt.BatchRetrieve(doc2query_indexref, wmodel=\"BM25\")],\n",
    "  dataset.get_topics('title'),\n",
    "  dataset.get_qrels(),\n",
    "  baseline=0,\n",
    "  names=[\"BM25\", \"BM25_doc2query\"],\n",
    "  eval_metrics=[\"map\", \"ndcg\", \"ndcg_cut.10\"]\n",
    ")"
   ]
  },
  {
   "cell_type": "markdown",
   "metadata": {},
   "source": [
    "# Task 3: Train a new model! (30 points)\n",
    "\n",
    "All of the prior exercises have had you working with either off-the-shelf models (not trained for IR) or models that someone else has trained for you. To give you a sense of how to train a model, your primary task in this notebook is to train a simple `knrm` model, which should be relatively efficient to train on a GPU. \n",
    "\n",
    "To keep thinsg simple, we'll use the same setup for CORD19 that we did in Part 2 (30 queries in train, 5 in dev, 15 queries in test) which is still relatively small for training a deep learning model but will get you started on the process. \n",
    "\n",
    "Your tasks are the following:\n",
    "- Load the CORD19 dataset and split it into train, dev, and test. Your test set should have 15 queries, dev set 5 queries, and the rest in train. use a seed of 42 for the `random_state` to ensure consistent results with what we expected.\n",
    "- Create a new `knrm` ranker and a pipeline that uses it\n",
    "- Run an `Experiment` comparing four models:\n",
    "  - a default `BatchRetrieve`, filtering to the top 100 results\n",
    "  - BM25, filtering to the top 100 results\n",
    "  - a pipeline that feeds the top 100 results of the default `BatchRetrieve` to your `knrm` model\n",
    "  - a pipeline that feeds the top 100 results of BM25 to your `knrm` model\n",
    "  \n",
    "Your `Experiment` should evaluate with metrics `\"map\", \"ndcg\", 'ndcg_cut.10', 'P.10', 'mrt'`\n",
    "  \n",
    "We expect to see the `Experiment`'s results in the final cell. You are, of course, welcome to try training any of the fancier models to see how they do as well!"
   ]
  },
  {
   "cell_type": "code",
   "execution_count": 24,
   "metadata": {},
   "outputs": [],
   "source": [
    "# TODO\n",
    "\n",
    "SEED=42\n",
    "from sklearn.model_selection import train_test_split\n",
    "\n",
    "tr_va_topics, test_topics = train_test_split(topics, test_size=15, random_state=SEED)\n",
    "train_topics, valid_topics =  train_test_split(tr_va_topics, test_size=5, random_state=SEED)"
   ]
  },
  {
   "cell_type": "code",
   "execution_count": 26,
   "metadata": {},
   "outputs": [
    {
     "name": "stdout",
     "output_type": "stream",
     "text": [
      "[2022-10-26 20:19:22,807][WordvecHashVocab][DEBUG] [starting] reading cached at /home/sijuntao/data/onir/vocab/wordvec_hash/fasttext-wiki-news-300d-1M.p\n",
      "[2022-10-26 20:19:24,119][WordvecHashVocab][DEBUG] [finished] reading cached at /home/sijuntao/data/onir/vocab/wordvec_hash/fasttext-wiki-news-300d-1M.p [1.31s]\n",
      "[2022-10-26 20:19:30,343][onir_pt][DEBUG] [starting] validation\n",
      "[2022-10-26 20:19:30,348][onir_pt][DEBUG] using GPU (deterministic)\n",
      "[2022-10-26 20:19:30,639][onir_pt][DEBUG] [starting] batches\n"
     ]
    },
    {
     "data": {
      "application/vnd.jupyter.widget-view+json": {
       "model_id": "",
       "version_major": 2,
       "version_minor": 0
      },
      "text/plain": [
       "batches:   0%|          | 0/125 [25ms<?, ?it/s]"
      ]
     },
     "metadata": {},
     "output_type": "display_data"
    },
    {
     "name": "stdout",
     "output_type": "stream",
     "text": [
      "[2022-10-26 20:19:30,821][onir_pt][DEBUG] [finished] batches: [178ms] [125it] [703.39it/s]\n",
      "[2022-10-26 20:19:30,930][onir_pt][DEBUG] [finished] validation [586ms]\n",
      "[2022-10-26 20:19:30,935][onir_pt][INFO] pre-validation: 0.0066\n",
      "[2022-10-26 20:19:30,993][onir_pt][DEBUG] using GPU (deterministic)\n",
      "[2022-10-26 20:19:31,003][onir_pt][DEBUG] [starting] training\n",
      "[2022-10-26 20:19:31,010][onir_pt][DEBUG] [starting] train pairs\n"
     ]
    },
    {
     "data": {
      "application/vnd.jupyter.widget-view+json": {
       "model_id": "",
       "version_major": 2,
       "version_minor": 0
      },
      "text/plain": [
       "train pairs:   0%|          | 0/1024 [26ms<?, ?it/s]"
      ]
     },
     "metadata": {},
     "output_type": "display_data"
    },
    {
     "name": "stdout",
     "output_type": "stream",
     "text": [
      "[2022-10-26 20:19:35,652][onir_pt][DEBUG] [finished] train pairs: [4.64s] [1024it] [220.78it/s]\n",
      "[2022-10-26 20:19:35,659][onir_pt][DEBUG] [finished] training [4.66s]\n",
      "[2022-10-26 20:19:35,663][onir_pt][INFO] training   it=0 loss=0.2874\n",
      "[2022-10-26 20:19:35,667][onir_pt][DEBUG] [starting] validation\n",
      "[2022-10-26 20:19:35,670][onir_pt][DEBUG] using GPU (deterministic)\n",
      "[2022-10-26 20:19:35,674][onir_pt][DEBUG] [starting] batches\n"
     ]
    },
    {
     "data": {
      "application/vnd.jupyter.widget-view+json": {
       "model_id": "",
       "version_major": 2,
       "version_minor": 0
      },
      "text/plain": [
       "batches:   0%|          | 0/125 [26ms<?, ?it/s]"
      ]
     },
     "metadata": {},
     "output_type": "display_data"
    },
    {
     "name": "stdout",
     "output_type": "stream",
     "text": [
      "[2022-10-26 20:19:35,853][onir_pt][DEBUG] [finished] batches: [175ms] [125it] [713.30it/s]\n",
      "[2022-10-26 20:19:35,957][onir_pt][DEBUG] [finished] validation [290ms]\n",
      "[2022-10-26 20:19:35,962][onir_pt][INFO] validation it=0 map=0.0073 ndcg=0.0183 P_10=0.0500 <--\n",
      "[2022-10-26 20:19:35,966][onir_pt][DEBUG] using GPU (deterministic)\n",
      "[2022-10-26 20:19:35,970][onir_pt][DEBUG] [starting] training\n",
      "[2022-10-26 20:19:35,974][onir_pt][DEBUG] [starting] train pairs\n"
     ]
    },
    {
     "data": {
      "application/vnd.jupyter.widget-view+json": {
       "model_id": "",
       "version_major": 2,
       "version_minor": 0
      },
      "text/plain": [
       "train pairs:   0%|          | 0/1024 [25ms<?, ?it/s]"
      ]
     },
     "metadata": {},
     "output_type": "display_data"
    },
    {
     "name": "stdout",
     "output_type": "stream",
     "text": [
      "[2022-10-26 20:19:39,836][onir_pt][DEBUG] [finished] train pairs: [3.86s] [1024it] [265.41it/s]\n",
      "[2022-10-26 20:19:39,844][onir_pt][DEBUG] [finished] training [3.87s]\n",
      "[2022-10-26 20:19:39,847][onir_pt][INFO] training   it=1 loss=0.2391\n",
      "[2022-10-26 20:19:39,851][onir_pt][DEBUG] [starting] validation\n",
      "[2022-10-26 20:19:39,855][onir_pt][DEBUG] using GPU (deterministic)\n",
      "[2022-10-26 20:19:39,859][onir_pt][DEBUG] [starting] batches\n"
     ]
    },
    {
     "data": {
      "application/vnd.jupyter.widget-view+json": {
       "model_id": "",
       "version_major": 2,
       "version_minor": 0
      },
      "text/plain": [
       "batches:   0%|          | 0/125 [26ms<?, ?it/s]"
      ]
     },
     "metadata": {},
     "output_type": "display_data"
    },
    {
     "name": "stdout",
     "output_type": "stream",
     "text": [
      "[2022-10-26 20:19:40,038][onir_pt][DEBUG] [finished] batches: [176ms] [125it] [711.19it/s]\n",
      "[2022-10-26 20:19:40,141][onir_pt][DEBUG] [finished] validation [290ms]\n",
      "[2022-10-26 20:19:40,147][onir_pt][INFO] validation it=1 map=0.0075 ndcg=0.0184 P_10=0.0440 <--\n",
      "[2022-10-26 20:19:40,151][onir_pt][DEBUG] using GPU (deterministic)\n",
      "[2022-10-26 20:19:40,155][onir_pt][DEBUG] [starting] training\n",
      "[2022-10-26 20:19:40,159][onir_pt][DEBUG] [starting] train pairs\n"
     ]
    },
    {
     "data": {
      "application/vnd.jupyter.widget-view+json": {
       "model_id": "",
       "version_major": 2,
       "version_minor": 0
      },
      "text/plain": [
       "train pairs:   0%|          | 0/1024 [25ms<?, ?it/s]"
      ]
     },
     "metadata": {},
     "output_type": "display_data"
    },
    {
     "name": "stdout",
     "output_type": "stream",
     "text": [
      "[2022-10-26 20:19:44,021][onir_pt][DEBUG] [finished] train pairs: [3.86s] [1024it] [265.39it/s]\n",
      "[2022-10-26 20:19:44,028][onir_pt][DEBUG] [finished] training [3.87s]\n",
      "[2022-10-26 20:19:44,032][onir_pt][INFO] training   it=2 loss=0.2156\n",
      "[2022-10-26 20:19:44,036][onir_pt][DEBUG] [starting] validation\n",
      "[2022-10-26 20:19:44,040][onir_pt][DEBUG] using GPU (deterministic)\n",
      "[2022-10-26 20:19:44,044][onir_pt][DEBUG] [starting] batches\n"
     ]
    },
    {
     "data": {
      "application/vnd.jupyter.widget-view+json": {
       "model_id": "",
       "version_major": 2,
       "version_minor": 0
      },
      "text/plain": [
       "batches:   0%|          | 0/125 [26ms<?, ?it/s]"
      ]
     },
     "metadata": {},
     "output_type": "display_data"
    },
    {
     "name": "stdout",
     "output_type": "stream",
     "text": [
      "[2022-10-26 20:19:44,224][onir_pt][DEBUG] [finished] batches: [177ms] [125it] [705.88it/s]\n",
      "[2022-10-26 20:19:44,328][onir_pt][DEBUG] [finished] validation [292ms]\n",
      "[2022-10-26 20:19:44,333][onir_pt][INFO] validation it=2 map=0.0079 ndcg=0.0191 P_10=0.0560 <--\n",
      "[2022-10-26 20:19:44,337][onir_pt][DEBUG] using GPU (deterministic)\n",
      "[2022-10-26 20:19:44,341][onir_pt][DEBUG] [starting] training\n",
      "[2022-10-26 20:19:44,345][onir_pt][DEBUG] [starting] train pairs\n"
     ]
    },
    {
     "data": {
      "application/vnd.jupyter.widget-view+json": {
       "model_id": "",
       "version_major": 2,
       "version_minor": 0
      },
      "text/plain": [
       "train pairs:   0%|          | 0/1024 [25ms<?, ?it/s]"
      ]
     },
     "metadata": {},
     "output_type": "display_data"
    },
    {
     "name": "stdout",
     "output_type": "stream",
     "text": [
      "[2022-10-26 20:19:48,208][onir_pt][DEBUG] [finished] train pairs: [3.86s] [1024it] [265.33it/s]\n",
      "[2022-10-26 20:19:48,216][onir_pt][DEBUG] [finished] training [3.87s]\n",
      "[2022-10-26 20:19:48,220][onir_pt][INFO] training   it=3 loss=0.2026\n",
      "[2022-10-26 20:19:48,223][onir_pt][DEBUG] [starting] validation\n",
      "[2022-10-26 20:19:48,227][onir_pt][DEBUG] using GPU (deterministic)\n",
      "[2022-10-26 20:19:48,231][onir_pt][DEBUG] [starting] batches\n"
     ]
    },
    {
     "data": {
      "application/vnd.jupyter.widget-view+json": {
       "model_id": "",
       "version_major": 2,
       "version_minor": 0
      },
      "text/plain": [
       "batches:   0%|          | 0/125 [26ms<?, ?it/s]"
      ]
     },
     "metadata": {},
     "output_type": "display_data"
    },
    {
     "name": "stdout",
     "output_type": "stream",
     "text": [
      "[2022-10-26 20:19:48,410][onir_pt][DEBUG] [finished] batches: [176ms] [125it] [710.44it/s]\n",
      "[2022-10-26 20:19:48,513][onir_pt][DEBUG] [finished] validation [290ms]\n",
      "[2022-10-26 20:19:48,519][onir_pt][INFO] validation it=3 map=0.0083 ndcg=0.0199 P_10=0.0540 <--\n",
      "[2022-10-26 20:19:48,523][onir_pt][DEBUG] using GPU (deterministic)\n",
      "[2022-10-26 20:19:48,527][onir_pt][DEBUG] [starting] training\n",
      "[2022-10-26 20:19:48,531][onir_pt][DEBUG] [starting] train pairs\n"
     ]
    },
    {
     "data": {
      "application/vnd.jupyter.widget-view+json": {
       "model_id": "",
       "version_major": 2,
       "version_minor": 0
      },
      "text/plain": [
       "train pairs:   0%|          | 0/1024 [25ms<?, ?it/s]"
      ]
     },
     "metadata": {},
     "output_type": "display_data"
    },
    {
     "name": "stdout",
     "output_type": "stream",
     "text": [
      "[2022-10-26 20:19:52,445][onir_pt][DEBUG] [finished] train pairs: [3.91s] [1024it] [261.83it/s]\n",
      "[2022-10-26 20:19:52,453][onir_pt][DEBUG] [finished] training [3.93s]\n",
      "[2022-10-26 20:19:52,457][onir_pt][INFO] training   it=4 loss=0.1933\n",
      "[2022-10-26 20:19:52,461][onir_pt][DEBUG] [starting] validation\n",
      "[2022-10-26 20:19:52,464][onir_pt][DEBUG] using GPU (deterministic)\n",
      "[2022-10-26 20:19:52,468][onir_pt][DEBUG] [starting] batches\n"
     ]
    },
    {
     "data": {
      "application/vnd.jupyter.widget-view+json": {
       "model_id": "",
       "version_major": 2,
       "version_minor": 0
      },
      "text/plain": [
       "batches:   0%|          | 0/125 [26ms<?, ?it/s]"
      ]
     },
     "metadata": {},
     "output_type": "display_data"
    },
    {
     "name": "stdout",
     "output_type": "stream",
     "text": [
      "[2022-10-26 20:19:52,649][onir_pt][DEBUG] [finished] batches: [177ms] [125it] [705.71it/s]\n",
      "[2022-10-26 20:19:52,750][onir_pt][DEBUG] [finished] validation [290ms]\n",
      "[2022-10-26 20:19:52,755][onir_pt][INFO] validation it=4 map=0.0081 ndcg=0.0197 P_10=0.0520\n",
      "[2022-10-26 20:19:52,759][onir_pt][DEBUG] using GPU (deterministic)\n",
      "[2022-10-26 20:19:52,763][onir_pt][DEBUG] [starting] training\n",
      "[2022-10-26 20:19:52,767][onir_pt][DEBUG] [starting] train pairs\n"
     ]
    },
    {
     "data": {
      "application/vnd.jupyter.widget-view+json": {
       "model_id": "",
       "version_major": 2,
       "version_minor": 0
      },
      "text/plain": [
       "train pairs:   0%|          | 0/1024 [25ms<?, ?it/s]"
      ]
     },
     "metadata": {},
     "output_type": "display_data"
    },
    {
     "name": "stdout",
     "output_type": "stream",
     "text": [
      "[2022-10-26 20:19:56,630][onir_pt][DEBUG] [finished] train pairs: [3.86s] [1024it] [265.31it/s]\n",
      "[2022-10-26 20:19:56,638][onir_pt][DEBUG] [finished] training [3.87s]\n",
      "[2022-10-26 20:19:56,642][onir_pt][INFO] training   it=5 loss=0.1941\n",
      "[2022-10-26 20:19:56,646][onir_pt][DEBUG] [starting] validation\n",
      "[2022-10-26 20:19:56,649][onir_pt][DEBUG] using GPU (deterministic)\n",
      "[2022-10-26 20:19:56,653][onir_pt][DEBUG] [starting] batches\n"
     ]
    },
    {
     "data": {
      "application/vnd.jupyter.widget-view+json": {
       "model_id": "",
       "version_major": 2,
       "version_minor": 0
      },
      "text/plain": [
       "batches:   0%|          | 0/125 [26ms<?, ?it/s]"
      ]
     },
     "metadata": {},
     "output_type": "display_data"
    },
    {
     "name": "stdout",
     "output_type": "stream",
     "text": [
      "[2022-10-26 20:19:56,832][onir_pt][DEBUG] [finished] batches: [176ms] [125it] [709.98it/s]\n",
      "[2022-10-26 20:19:56,938][onir_pt][DEBUG] [finished] validation [292ms]\n",
      "[2022-10-26 20:19:56,943][onir_pt][INFO] validation it=5 map=0.0082 ndcg=0.0198 P_10=0.0520\n",
      "[2022-10-26 20:19:56,947][onir_pt][DEBUG] using GPU (deterministic)\n",
      "[2022-10-26 20:19:56,950][onir_pt][DEBUG] [starting] training\n",
      "[2022-10-26 20:19:56,954][onir_pt][DEBUG] [starting] train pairs\n"
     ]
    },
    {
     "data": {
      "application/vnd.jupyter.widget-view+json": {
       "model_id": "",
       "version_major": 2,
       "version_minor": 0
      },
      "text/plain": [
       "train pairs:   0%|          | 0/1024 [25ms<?, ?it/s]"
      ]
     },
     "metadata": {},
     "output_type": "display_data"
    },
    {
     "name": "stdout",
     "output_type": "stream",
     "text": [
      "[2022-10-26 20:20:00,818][onir_pt][DEBUG] [finished] train pairs: [3.86s] [1024it] [265.32it/s]\n",
      "[2022-10-26 20:20:00,825][onir_pt][DEBUG] [finished] training [3.87s]\n",
      "[2022-10-26 20:20:00,829][onir_pt][INFO] training   it=6 loss=0.2010\n",
      "[2022-10-26 20:20:00,833][onir_pt][DEBUG] [starting] validation\n",
      "[2022-10-26 20:20:00,836][onir_pt][DEBUG] using GPU (deterministic)\n",
      "[2022-10-26 20:20:00,840][onir_pt][DEBUG] [starting] batches\n"
     ]
    },
    {
     "data": {
      "application/vnd.jupyter.widget-view+json": {
       "model_id": "",
       "version_major": 2,
       "version_minor": 0
      },
      "text/plain": [
       "batches:   0%|          | 0/125 [26ms<?, ?it/s]"
      ]
     },
     "metadata": {},
     "output_type": "display_data"
    },
    {
     "name": "stdout",
     "output_type": "stream",
     "text": [
      "[2022-10-26 20:20:01,020][onir_pt][DEBUG] [finished] batches: [176ms] [125it] [709.80it/s]\n",
      "[2022-10-26 20:20:01,123][onir_pt][DEBUG] [finished] validation [290ms]\n",
      "[2022-10-26 20:20:01,128][onir_pt][INFO] validation it=6 map=0.0083 ndcg=0.0203 P_10=0.0580 <--\n",
      "[2022-10-26 20:20:01,132][onir_pt][DEBUG] using GPU (deterministic)\n",
      "[2022-10-26 20:20:01,136][onir_pt][DEBUG] [starting] training\n",
      "[2022-10-26 20:20:01,140][onir_pt][DEBUG] [starting] train pairs\n"
     ]
    },
    {
     "data": {
      "application/vnd.jupyter.widget-view+json": {
       "model_id": "",
       "version_major": 2,
       "version_minor": 0
      },
      "text/plain": [
       "train pairs:   0%|          | 0/1024 [25ms<?, ?it/s]"
      ]
     },
     "metadata": {},
     "output_type": "display_data"
    },
    {
     "name": "stdout",
     "output_type": "stream",
     "text": [
      "[2022-10-26 20:20:05,006][onir_pt][DEBUG] [finished] train pairs: [3.86s] [1024it] [265.12it/s]\n",
      "[2022-10-26 20:20:05,014][onir_pt][DEBUG] [finished] training [3.88s]\n",
      "[2022-10-26 20:20:05,018][onir_pt][INFO] training   it=7 loss=0.1996\n",
      "[2022-10-26 20:20:05,022][onir_pt][DEBUG] [starting] validation\n",
      "[2022-10-26 20:20:05,025][onir_pt][DEBUG] using GPU (deterministic)\n",
      "[2022-10-26 20:20:05,029][onir_pt][DEBUG] [starting] batches\n"
     ]
    },
    {
     "data": {
      "application/vnd.jupyter.widget-view+json": {
       "model_id": "",
       "version_major": 2,
       "version_minor": 0
      },
      "text/plain": [
       "batches:   0%|          | 0/125 [26ms<?, ?it/s]"
      ]
     },
     "metadata": {},
     "output_type": "display_data"
    },
    {
     "name": "stdout",
     "output_type": "stream",
     "text": [
      "[2022-10-26 20:20:05,209][onir_pt][DEBUG] [finished] batches: [177ms] [125it] [707.65it/s]\n",
      "[2022-10-26 20:20:05,311][onir_pt][DEBUG] [finished] validation [290ms]\n",
      "[2022-10-26 20:20:05,316][onir_pt][INFO] validation it=7 map=0.0082 ndcg=0.0198 P_10=0.0520\n",
      "[2022-10-26 20:20:05,320][onir_pt][DEBUG] using GPU (deterministic)\n",
      "[2022-10-26 20:20:05,324][onir_pt][DEBUG] [starting] training\n",
      "[2022-10-26 20:20:05,328][onir_pt][DEBUG] [starting] train pairs\n"
     ]
    },
    {
     "data": {
      "application/vnd.jupyter.widget-view+json": {
       "model_id": "",
       "version_major": 2,
       "version_minor": 0
      },
      "text/plain": [
       "train pairs:   0%|          | 0/1024 [25ms<?, ?it/s]"
      ]
     },
     "metadata": {},
     "output_type": "display_data"
    },
    {
     "name": "stdout",
     "output_type": "stream",
     "text": [
      "[2022-10-26 20:20:09,195][onir_pt][DEBUG] [finished] train pairs: [3.86s] [1024it] [265.07it/s]\n",
      "[2022-10-26 20:20:09,202][onir_pt][DEBUG] [finished] training [3.88s]\n",
      "[2022-10-26 20:20:09,206][onir_pt][INFO] training   it=8 loss=0.2077\n",
      "[2022-10-26 20:20:09,210][onir_pt][DEBUG] [starting] validation\n",
      "[2022-10-26 20:20:09,214][onir_pt][DEBUG] using GPU (deterministic)\n",
      "[2022-10-26 20:20:09,218][onir_pt][DEBUG] [starting] batches\n"
     ]
    },
    {
     "data": {
      "application/vnd.jupyter.widget-view+json": {
       "model_id": "",
       "version_major": 2,
       "version_minor": 0
      },
      "text/plain": [
       "batches:   0%|          | 0/125 [26ms<?, ?it/s]"
      ]
     },
     "metadata": {},
     "output_type": "display_data"
    },
    {
     "name": "stdout",
     "output_type": "stream",
     "text": [
      "[2022-10-26 20:20:09,399][onir_pt][DEBUG] [finished] batches: [179ms] [125it] [699.57it/s]\n",
      "[2022-10-26 20:20:09,506][onir_pt][DEBUG] [finished] validation [296ms]\n",
      "[2022-10-26 20:20:09,511][onir_pt][INFO] validation it=8 map=0.0081 ndcg=0.0197 P_10=0.0500\n",
      "[2022-10-26 20:20:09,515][onir_pt][DEBUG] using GPU (deterministic)\n",
      "[2022-10-26 20:20:09,519][onir_pt][DEBUG] [starting] training\n",
      "[2022-10-26 20:20:09,523][onir_pt][DEBUG] [starting] train pairs\n"
     ]
    },
    {
     "data": {
      "application/vnd.jupyter.widget-view+json": {
       "model_id": "",
       "version_major": 2,
       "version_minor": 0
      },
      "text/plain": [
       "train pairs:   0%|          | 0/1024 [25ms<?, ?it/s]"
      ]
     },
     "metadata": {},
     "output_type": "display_data"
    },
    {
     "name": "stdout",
     "output_type": "stream",
     "text": [
      "[2022-10-26 20:20:13,398][onir_pt][DEBUG] [finished] train pairs: [3.87s] [1024it] [264.51it/s]\n",
      "[2022-10-26 20:20:13,406][onir_pt][DEBUG] [finished] training [3.89s]\n",
      "[2022-10-26 20:20:13,409][onir_pt][INFO] training   it=9 loss=0.1799\n",
      "[2022-10-26 20:20:13,413][onir_pt][DEBUG] [starting] validation\n",
      "[2022-10-26 20:20:13,417][onir_pt][DEBUG] using GPU (deterministic)\n",
      "[2022-10-26 20:20:13,421][onir_pt][DEBUG] [starting] batches\n"
     ]
    },
    {
     "data": {
      "application/vnd.jupyter.widget-view+json": {
       "model_id": "",
       "version_major": 2,
       "version_minor": 0
      },
      "text/plain": [
       "batches:   0%|          | 0/125 [26ms<?, ?it/s]"
      ]
     },
     "metadata": {},
     "output_type": "display_data"
    },
    {
     "name": "stdout",
     "output_type": "stream",
     "text": [
      "[2022-10-26 20:20:13,601][onir_pt][DEBUG] [finished] batches: [177ms] [125it] [707.71it/s]\n",
      "[2022-10-26 20:20:13,704][onir_pt][DEBUG] [finished] validation [290ms]\n",
      "[2022-10-26 20:20:13,709][onir_pt][INFO] validation it=9 map=0.0086 ndcg=0.0210 P_10=0.0560 <--\n",
      "[2022-10-26 20:20:13,713][onir_pt][DEBUG] using GPU (deterministic)\n",
      "[2022-10-26 20:20:13,717][onir_pt][DEBUG] [starting] training\n",
      "[2022-10-26 20:20:13,721][onir_pt][DEBUG] [starting] train pairs\n"
     ]
    },
    {
     "data": {
      "application/vnd.jupyter.widget-view+json": {
       "model_id": "",
       "version_major": 2,
       "version_minor": 0
      },
      "text/plain": [
       "train pairs:   0%|          | 0/1024 [25ms<?, ?it/s]"
      ]
     },
     "metadata": {},
     "output_type": "display_data"
    },
    {
     "name": "stdout",
     "output_type": "stream",
     "text": [
      "[2022-10-26 20:20:17,598][onir_pt][DEBUG] [finished] train pairs: [3.87s] [1024it] [264.38it/s]\n",
      "[2022-10-26 20:20:17,606][onir_pt][DEBUG] [finished] training [3.89s]\n",
      "[2022-10-26 20:20:17,610][onir_pt][INFO] training   it=10 loss=0.1800\n",
      "[2022-10-26 20:20:17,614][onir_pt][DEBUG] [starting] validation\n",
      "[2022-10-26 20:20:17,618][onir_pt][DEBUG] using GPU (deterministic)\n",
      "[2022-10-26 20:20:17,622][onir_pt][DEBUG] [starting] batches\n"
     ]
    },
    {
     "data": {
      "application/vnd.jupyter.widget-view+json": {
       "model_id": "",
       "version_major": 2,
       "version_minor": 0
      },
      "text/plain": [
       "batches:   0%|          | 0/125 [26ms<?, ?it/s]"
      ]
     },
     "metadata": {},
     "output_type": "display_data"
    },
    {
     "name": "stdout",
     "output_type": "stream",
     "text": [
      "[2022-10-26 20:20:17,803][onir_pt][DEBUG] [finished] batches: [178ms] [125it] [703.83it/s]\n",
      "[2022-10-26 20:20:17,907][onir_pt][DEBUG] [finished] validation [293ms]\n",
      "[2022-10-26 20:20:17,913][onir_pt][INFO] validation it=10 map=0.0088 ndcg=0.0209 P_10=0.0620 <--\n",
      "[2022-10-26 20:20:17,916][onir_pt][DEBUG] using GPU (deterministic)\n",
      "[2022-10-26 20:20:17,920][onir_pt][DEBUG] [starting] training\n",
      "[2022-10-26 20:20:17,924][onir_pt][DEBUG] [starting] train pairs\n"
     ]
    },
    {
     "data": {
      "application/vnd.jupyter.widget-view+json": {
       "model_id": "",
       "version_major": 2,
       "version_minor": 0
      },
      "text/plain": [
       "train pairs:   0%|          | 0/1024 [25ms<?, ?it/s]"
      ]
     },
     "metadata": {},
     "output_type": "display_data"
    },
    {
     "name": "stdout",
     "output_type": "stream",
     "text": [
      "[2022-10-26 20:20:21,794][onir_pt][DEBUG] [finished] train pairs: [3.87s] [1024it] [264.87it/s]\n",
      "[2022-10-26 20:20:21,802][onir_pt][DEBUG] [finished] training [3.88s]\n",
      "[2022-10-26 20:20:21,806][onir_pt][INFO] training   it=11 loss=0.1867\n",
      "[2022-10-26 20:20:21,809][onir_pt][DEBUG] [starting] validation\n",
      "[2022-10-26 20:20:21,813][onir_pt][DEBUG] using GPU (deterministic)\n",
      "[2022-10-26 20:20:21,817][onir_pt][DEBUG] [starting] batches\n"
     ]
    },
    {
     "data": {
      "application/vnd.jupyter.widget-view+json": {
       "model_id": "",
       "version_major": 2,
       "version_minor": 0
      },
      "text/plain": [
       "batches:   0%|          | 0/125 [26ms<?, ?it/s]"
      ]
     },
     "metadata": {},
     "output_type": "display_data"
    },
    {
     "name": "stdout",
     "output_type": "stream",
     "text": [
      "[2022-10-26 20:20:21,997][onir_pt][DEBUG] [finished] batches: [177ms] [125it] [706.78it/s]\n",
      "[2022-10-26 20:20:22,100][onir_pt][DEBUG] [finished] validation [290ms]\n",
      "[2022-10-26 20:20:22,106][onir_pt][INFO] validation it=11 map=0.0090 ndcg=0.0214 P_10=0.0680 <--\n",
      "[2022-10-26 20:20:22,109][onir_pt][DEBUG] using GPU (deterministic)\n",
      "[2022-10-26 20:20:22,113][onir_pt][DEBUG] [starting] training\n",
      "[2022-10-26 20:20:22,117][onir_pt][DEBUG] [starting] train pairs\n"
     ]
    },
    {
     "data": {
      "application/vnd.jupyter.widget-view+json": {
       "model_id": "",
       "version_major": 2,
       "version_minor": 0
      },
      "text/plain": [
       "train pairs:   0%|          | 0/1024 [25ms<?, ?it/s]"
      ]
     },
     "metadata": {},
     "output_type": "display_data"
    },
    {
     "name": "stdout",
     "output_type": "stream",
     "text": [
      "[2022-10-26 20:20:25,985][onir_pt][DEBUG] [finished] train pairs: [3.86s] [1024it] [264.99it/s]\n",
      "[2022-10-26 20:20:25,993][onir_pt][DEBUG] [finished] training [3.88s]\n",
      "[2022-10-26 20:20:25,997][onir_pt][INFO] training   it=12 loss=0.1825\n",
      "[2022-10-26 20:20:26,001][onir_pt][DEBUG] [starting] validation\n",
      "[2022-10-26 20:20:26,004][onir_pt][DEBUG] using GPU (deterministic)\n",
      "[2022-10-26 20:20:26,008][onir_pt][DEBUG] [starting] batches\n"
     ]
    },
    {
     "data": {
      "application/vnd.jupyter.widget-view+json": {
       "model_id": "",
       "version_major": 2,
       "version_minor": 0
      },
      "text/plain": [
       "batches:   0%|          | 0/125 [26ms<?, ?it/s]"
      ]
     },
     "metadata": {},
     "output_type": "display_data"
    },
    {
     "name": "stdout",
     "output_type": "stream",
     "text": [
      "[2022-10-26 20:20:26,188][onir_pt][DEBUG] [finished] batches: [177ms] [125it] [706.67it/s]\n",
      "[2022-10-26 20:20:26,293][onir_pt][DEBUG] [finished] validation [293ms]\n",
      "[2022-10-26 20:20:26,298][onir_pt][INFO] validation it=12 map=0.0089 ndcg=0.0213 P_10=0.0660\n",
      "[2022-10-26 20:20:26,302][onir_pt][DEBUG] using GPU (deterministic)\n",
      "[2022-10-26 20:20:26,306][onir_pt][DEBUG] [starting] training\n",
      "[2022-10-26 20:20:26,310][onir_pt][DEBUG] [starting] train pairs\n"
     ]
    },
    {
     "data": {
      "application/vnd.jupyter.widget-view+json": {
       "model_id": "",
       "version_major": 2,
       "version_minor": 0
      },
      "text/plain": [
       "train pairs:   0%|          | 0/1024 [25ms<?, ?it/s]"
      ]
     },
     "metadata": {},
     "output_type": "display_data"
    },
    {
     "name": "stdout",
     "output_type": "stream",
     "text": [
      "[2022-10-26 20:20:30,180][onir_pt][DEBUG] [finished] train pairs: [3.87s] [1024it] [264.86it/s]\n",
      "[2022-10-26 20:20:30,187][onir_pt][DEBUG] [finished] training [3.88s]\n",
      "[2022-10-26 20:20:30,191][onir_pt][INFO] training   it=13 loss=0.1772\n",
      "[2022-10-26 20:20:30,195][onir_pt][DEBUG] [starting] validation\n",
      "[2022-10-26 20:20:30,199][onir_pt][DEBUG] using GPU (deterministic)\n",
      "[2022-10-26 20:20:30,203][onir_pt][DEBUG] [starting] batches\n"
     ]
    },
    {
     "data": {
      "application/vnd.jupyter.widget-view+json": {
       "model_id": "",
       "version_major": 2,
       "version_minor": 0
      },
      "text/plain": [
       "batches:   0%|          | 0/125 [26ms<?, ?it/s]"
      ]
     },
     "metadata": {},
     "output_type": "display_data"
    },
    {
     "name": "stdout",
     "output_type": "stream",
     "text": [
      "[2022-10-26 20:20:30,384][onir_pt][DEBUG] [finished] batches: [178ms] [125it] [702.85it/s]\n",
      "[2022-10-26 20:20:30,489][onir_pt][DEBUG] [finished] validation [294ms]\n",
      "[2022-10-26 20:20:30,494][onir_pt][INFO] validation it=13 map=0.0088 ndcg=0.0212 P_10=0.0640\n",
      "[2022-10-26 20:20:30,498][onir_pt][DEBUG] using GPU (deterministic)\n",
      "[2022-10-26 20:20:30,502][onir_pt][DEBUG] [starting] training\n",
      "[2022-10-26 20:20:30,505][onir_pt][DEBUG] [starting] train pairs\n"
     ]
    },
    {
     "data": {
      "application/vnd.jupyter.widget-view+json": {
       "model_id": "",
       "version_major": 2,
       "version_minor": 0
      },
      "text/plain": [
       "train pairs:   0%|          | 0/1024 [25ms<?, ?it/s]"
      ]
     },
     "metadata": {},
     "output_type": "display_data"
    },
    {
     "name": "stdout",
     "output_type": "stream",
     "text": [
      "[2022-10-26 20:20:34,378][onir_pt][DEBUG] [finished] train pairs: [3.87s] [1024it] [264.71it/s]\n",
      "[2022-10-26 20:20:34,385][onir_pt][DEBUG] [finished] training [3.88s]\n",
      "[2022-10-26 20:20:34,389][onir_pt][INFO] training   it=14 loss=0.1708\n",
      "[2022-10-26 20:20:34,393][onir_pt][DEBUG] [starting] validation\n",
      "[2022-10-26 20:20:34,396][onir_pt][DEBUG] using GPU (deterministic)\n",
      "[2022-10-26 20:20:34,400][onir_pt][DEBUG] [starting] batches\n"
     ]
    },
    {
     "data": {
      "application/vnd.jupyter.widget-view+json": {
       "model_id": "",
       "version_major": 2,
       "version_minor": 0
      },
      "text/plain": [
       "batches:   0%|          | 0/125 [26ms<?, ?it/s]"
      ]
     },
     "metadata": {},
     "output_type": "display_data"
    },
    {
     "name": "stdout",
     "output_type": "stream",
     "text": [
      "[2022-10-26 20:20:34,581][onir_pt][DEBUG] [finished] batches: [177ms] [125it] [705.64it/s]\n",
      "[2022-10-26 20:20:34,686][onir_pt][DEBUG] [finished] validation [293ms]\n",
      "[2022-10-26 20:20:34,691][onir_pt][INFO] validation it=14 map=0.0090 ndcg=0.0214 P_10=0.0700\n",
      "[2022-10-26 20:20:34,695][onir_pt][DEBUG] using GPU (deterministic)\n",
      "[2022-10-26 20:20:34,699][onir_pt][DEBUG] [starting] training\n",
      "[2022-10-26 20:20:34,703][onir_pt][DEBUG] [starting] train pairs\n"
     ]
    },
    {
     "data": {
      "application/vnd.jupyter.widget-view+json": {
       "model_id": "",
       "version_major": 2,
       "version_minor": 0
      },
      "text/plain": [
       "train pairs:   0%|          | 0/1024 [25ms<?, ?it/s]"
      ]
     },
     "metadata": {},
     "output_type": "display_data"
    },
    {
     "name": "stdout",
     "output_type": "stream",
     "text": [
      "[2022-10-26 20:20:38,582][onir_pt][DEBUG] [finished] train pairs: [3.88s] [1024it] [264.26it/s]\n",
      "[2022-10-26 20:20:38,589][onir_pt][DEBUG] [finished] training [3.89s]\n",
      "[2022-10-26 20:20:38,593][onir_pt][INFO] training   it=15 loss=0.1748\n",
      "[2022-10-26 20:20:38,597][onir_pt][DEBUG] [starting] validation\n",
      "[2022-10-26 20:20:38,601][onir_pt][DEBUG] using GPU (deterministic)\n",
      "[2022-10-26 20:20:38,604][onir_pt][DEBUG] [starting] batches\n"
     ]
    },
    {
     "data": {
      "application/vnd.jupyter.widget-view+json": {
       "model_id": "",
       "version_major": 2,
       "version_minor": 0
      },
      "text/plain": [
       "batches:   0%|          | 0/125 [26ms<?, ?it/s]"
      ]
     },
     "metadata": {},
     "output_type": "display_data"
    },
    {
     "name": "stdout",
     "output_type": "stream",
     "text": [
      "[2022-10-26 20:20:38,785][onir_pt][DEBUG] [finished] batches: [177ms] [125it] [705.69it/s]\n",
      "[2022-10-26 20:20:38,892][onir_pt][DEBUG] [finished] validation [295ms]\n",
      "[2022-10-26 20:20:38,897][onir_pt][INFO] validation it=15 map=0.0088 ndcg=0.0211 P_10=0.0660\n",
      "[2022-10-26 20:20:38,901][onir_pt][DEBUG] using GPU (deterministic)\n",
      "[2022-10-26 20:20:38,905][onir_pt][DEBUG] [starting] training\n",
      "[2022-10-26 20:20:38,908][onir_pt][DEBUG] [starting] train pairs\n"
     ]
    },
    {
     "data": {
      "application/vnd.jupyter.widget-view+json": {
       "model_id": "",
       "version_major": 2,
       "version_minor": 0
      },
      "text/plain": [
       "train pairs:   0%|          | 0/1024 [25ms<?, ?it/s]"
      ]
     },
     "metadata": {},
     "output_type": "display_data"
    },
    {
     "name": "stdout",
     "output_type": "stream",
     "text": [
      "[2022-10-26 20:20:42,678][onir_pt][DEBUG] [finished] train pairs: [3.77s] [1024it] [271.95it/s]\n",
      "[2022-10-26 20:20:42,683][onir_pt][DEBUG] [finished] training [3.78s]\n",
      "[2022-10-26 20:20:42,686][onir_pt][INFO] training   it=16 loss=0.1738\n",
      "[2022-10-26 20:20:42,688][onir_pt][DEBUG] [starting] validation\n",
      "[2022-10-26 20:20:42,691][onir_pt][DEBUG] using GPU (deterministic)\n",
      "[2022-10-26 20:20:42,694][onir_pt][DEBUG] [starting] batches\n"
     ]
    },
    {
     "data": {
      "application/vnd.jupyter.widget-view+json": {
       "model_id": "",
       "version_major": 2,
       "version_minor": 0
      },
      "text/plain": [
       "batches:   0%|          | 0/125 [20ms<?, ?it/s]"
      ]
     },
     "metadata": {},
     "output_type": "display_data"
    },
    {
     "name": "stdout",
     "output_type": "stream",
     "text": [
      "[2022-10-26 20:20:42,865][onir_pt][DEBUG] [finished] batches: [169ms] [125it] [741.07it/s]\n",
      "[2022-10-26 20:20:42,969][onir_pt][DEBUG] [finished] validation [281ms]\n",
      "[2022-10-26 20:20:42,973][onir_pt][INFO] validation it=16 map=0.0086 ndcg=0.0211 P_10=0.0580\n",
      "[2022-10-26 20:20:42,976][onir_pt][DEBUG] using GPU (deterministic)\n",
      "[2022-10-26 20:20:42,978][onir_pt][DEBUG] [starting] training\n",
      "[2022-10-26 20:20:42,981][onir_pt][DEBUG] [starting] train pairs\n"
     ]
    },
    {
     "data": {
      "application/vnd.jupyter.widget-view+json": {
       "model_id": "",
       "version_major": 2,
       "version_minor": 0
      },
      "text/plain": [
       "train pairs:   0%|          | 0/1024 [21ms<?, ?it/s]"
      ]
     },
     "metadata": {},
     "output_type": "display_data"
    },
    {
     "name": "stdout",
     "output_type": "stream",
     "text": [
      "[2022-10-26 20:20:46,949][onir_pt][DEBUG] [finished] train pairs: [3.97s] [1024it] [258.26it/s]\n",
      "[2022-10-26 20:20:46,957][onir_pt][DEBUG] [finished] training [3.98s]\n",
      "[2022-10-26 20:20:46,960][onir_pt][INFO] training   it=17 loss=0.1813\n",
      "[2022-10-26 20:20:46,964][onir_pt][DEBUG] [starting] validation\n",
      "[2022-10-26 20:20:46,968][onir_pt][DEBUG] using GPU (deterministic)\n",
      "[2022-10-26 20:20:46,972][onir_pt][DEBUG] [starting] batches\n"
     ]
    },
    {
     "data": {
      "application/vnd.jupyter.widget-view+json": {
       "model_id": "",
       "version_major": 2,
       "version_minor": 0
      },
      "text/plain": [
       "batches:   0%|          | 0/125 [26ms<?, ?it/s]"
      ]
     },
     "metadata": {},
     "output_type": "display_data"
    },
    {
     "name": "stdout",
     "output_type": "stream",
     "text": [
      "[2022-10-26 20:20:47,151][onir_pt][DEBUG] [finished] batches: [177ms] [125it] [707.93it/s]\n",
      "[2022-10-26 20:20:47,257][onir_pt][DEBUG] [finished] validation [293ms]\n",
      "[2022-10-26 20:20:47,262][onir_pt][INFO] validation it=17 map=0.0088 ndcg=0.0210 P_10=0.0620\n",
      "[2022-10-26 20:20:47,266][onir_pt][DEBUG] using GPU (deterministic)\n",
      "[2022-10-26 20:20:47,270][onir_pt][DEBUG] [starting] training\n",
      "[2022-10-26 20:20:47,274][onir_pt][DEBUG] [starting] train pairs\n"
     ]
    },
    {
     "data": {
      "application/vnd.jupyter.widget-view+json": {
       "model_id": "",
       "version_major": 2,
       "version_minor": 0
      },
      "text/plain": [
       "train pairs:   0%|          | 0/1024 [25ms<?, ?it/s]"
      ]
     },
     "metadata": {},
     "output_type": "display_data"
    },
    {
     "name": "stdout",
     "output_type": "stream",
     "text": [
      "[2022-10-26 20:20:51,146][onir_pt][DEBUG] [finished] train pairs: [3.87s] [1024it] [264.73it/s]\n",
      "[2022-10-26 20:20:51,153][onir_pt][DEBUG] [finished] training [3.88s]\n",
      "[2022-10-26 20:20:51,157][onir_pt][INFO] training   it=18 loss=0.1724\n",
      "[2022-10-26 20:20:51,161][onir_pt][DEBUG] [starting] validation\n",
      "[2022-10-26 20:20:51,165][onir_pt][DEBUG] using GPU (deterministic)\n",
      "[2022-10-26 20:20:51,169][onir_pt][DEBUG] [starting] batches\n"
     ]
    },
    {
     "data": {
      "application/vnd.jupyter.widget-view+json": {
       "model_id": "",
       "version_major": 2,
       "version_minor": 0
      },
      "text/plain": [
       "batches:   0%|          | 0/125 [25ms<?, ?it/s]"
      ]
     },
     "metadata": {},
     "output_type": "display_data"
    },
    {
     "name": "stdout",
     "output_type": "stream",
     "text": [
      "[2022-10-26 20:20:51,348][onir_pt][DEBUG] [finished] batches: [176ms] [125it] [710.46it/s]\n",
      "[2022-10-26 20:20:51,454][onir_pt][DEBUG] [finished] validation [293ms]\n",
      "[2022-10-26 20:20:51,459][onir_pt][INFO] validation it=18 map=0.0085 ndcg=0.0209 P_10=0.0600\n",
      "[2022-10-26 20:20:51,463][onir_pt][DEBUG] using GPU (deterministic)\n",
      "[2022-10-26 20:20:51,467][onir_pt][DEBUG] [starting] training\n",
      "[2022-10-26 20:20:51,470][onir_pt][DEBUG] [starting] train pairs\n"
     ]
    },
    {
     "data": {
      "application/vnd.jupyter.widget-view+json": {
       "model_id": "",
       "version_major": 2,
       "version_minor": 0
      },
      "text/plain": [
       "train pairs:   0%|          | 0/1024 [25ms<?, ?it/s]"
      ]
     },
     "metadata": {},
     "output_type": "display_data"
    },
    {
     "name": "stdout",
     "output_type": "stream",
     "text": [
      "[2022-10-26 20:20:55,349][onir_pt][DEBUG] [finished] train pairs: [3.87s] [1024it] [264.29it/s]\n",
      "[2022-10-26 20:20:55,356][onir_pt][DEBUG] [finished] training [3.89s]\n",
      "[2022-10-26 20:20:55,360][onir_pt][INFO] training   it=19 loss=0.1767\n",
      "[2022-10-26 20:20:55,364][onir_pt][DEBUG] [starting] validation\n",
      "[2022-10-26 20:20:55,368][onir_pt][DEBUG] using GPU (deterministic)\n",
      "[2022-10-26 20:20:55,372][onir_pt][DEBUG] [starting] batches\n"
     ]
    },
    {
     "data": {
      "application/vnd.jupyter.widget-view+json": {
       "model_id": "",
       "version_major": 2,
       "version_minor": 0
      },
      "text/plain": [
       "batches:   0%|          | 0/125 [26ms<?, ?it/s]"
      ]
     },
     "metadata": {},
     "output_type": "display_data"
    },
    {
     "name": "stdout",
     "output_type": "stream",
     "text": [
      "[2022-10-26 20:20:55,553][onir_pt][DEBUG] [finished] batches: [178ms] [125it] [702.92it/s]\n",
      "[2022-10-26 20:20:55,658][onir_pt][DEBUG] [finished] validation [294ms]\n",
      "[2022-10-26 20:20:55,663][onir_pt][INFO] validation it=19 map=0.0085 ndcg=0.0209 P_10=0.0560\n",
      "[2022-10-26 20:20:55,666][onir_pt][DEBUG] using GPU (deterministic)\n",
      "[2022-10-26 20:20:55,670][onir_pt][DEBUG] [starting] training\n",
      "[2022-10-26 20:20:55,674][onir_pt][DEBUG] [starting] train pairs\n"
     ]
    },
    {
     "data": {
      "application/vnd.jupyter.widget-view+json": {
       "model_id": "",
       "version_major": 2,
       "version_minor": 0
      },
      "text/plain": [
       "train pairs:   0%|          | 0/1024 [25ms<?, ?it/s]"
      ]
     },
     "metadata": {},
     "output_type": "display_data"
    },
    {
     "name": "stdout",
     "output_type": "stream",
     "text": [
      "[2022-10-26 20:20:59,554][onir_pt][DEBUG] [finished] train pairs: [3.88s] [1024it] [264.20it/s]\n",
      "[2022-10-26 20:20:59,562][onir_pt][DEBUG] [finished] training [3.89s]\n",
      "[2022-10-26 20:20:59,566][onir_pt][INFO] training   it=20 loss=0.1710\n",
      "[2022-10-26 20:20:59,570][onir_pt][DEBUG] [starting] validation\n",
      "[2022-10-26 20:20:59,573][onir_pt][DEBUG] using GPU (deterministic)\n",
      "[2022-10-26 20:20:59,577][onir_pt][DEBUG] [starting] batches\n"
     ]
    },
    {
     "data": {
      "application/vnd.jupyter.widget-view+json": {
       "model_id": "",
       "version_major": 2,
       "version_minor": 0
      },
      "text/plain": [
       "batches:   0%|          | 0/125 [26ms<?, ?it/s]"
      ]
     },
     "metadata": {},
     "output_type": "display_data"
    },
    {
     "name": "stdout",
     "output_type": "stream",
     "text": [
      "[2022-10-26 20:20:59,758][onir_pt][DEBUG] [finished] batches: [177ms] [125it] [704.72it/s]\n",
      "[2022-10-26 20:20:59,865][onir_pt][DEBUG] [finished] validation [295ms]\n",
      "[2022-10-26 20:20:59,870][onir_pt][INFO] validation it=20 map=0.0088 ndcg=0.0213 P_10=0.0660\n",
      "[2022-10-26 20:20:59,874][onir_pt][DEBUG] using GPU (deterministic)\n",
      "[2022-10-26 20:20:59,878][onir_pt][DEBUG] [starting] training\n",
      "[2022-10-26 20:20:59,881][onir_pt][DEBUG] [starting] train pairs\n"
     ]
    },
    {
     "data": {
      "application/vnd.jupyter.widget-view+json": {
       "model_id": "",
       "version_major": 2,
       "version_minor": 0
      },
      "text/plain": [
       "train pairs:   0%|          | 0/1024 [25ms<?, ?it/s]"
      ]
     },
     "metadata": {},
     "output_type": "display_data"
    },
    {
     "name": "stdout",
     "output_type": "stream",
     "text": [
      "[2022-10-26 20:21:03,754][onir_pt][DEBUG] [finished] train pairs: [3.87s] [1024it] [264.66it/s]\n",
      "[2022-10-26 20:21:03,762][onir_pt][DEBUG] [finished] training [3.88s]\n",
      "[2022-10-26 20:21:03,766][onir_pt][INFO] training   it=21 loss=0.1730\n",
      "[2022-10-26 20:21:03,769][onir_pt][DEBUG] [starting] validation\n",
      "[2022-10-26 20:21:03,773][onir_pt][DEBUG] using GPU (deterministic)\n",
      "[2022-10-26 20:21:03,777][onir_pt][DEBUG] [starting] batches\n"
     ]
    },
    {
     "data": {
      "application/vnd.jupyter.widget-view+json": {
       "model_id": "",
       "version_major": 2,
       "version_minor": 0
      },
      "text/plain": [
       "batches:   0%|          | 0/125 [26ms<?, ?it/s]"
      ]
     },
     "metadata": {},
     "output_type": "display_data"
    },
    {
     "name": "stdout",
     "output_type": "stream",
     "text": [
      "[2022-10-26 20:21:03,957][onir_pt][DEBUG] [finished] batches: [177ms] [125it] [706.13it/s]\n",
      "[2022-10-26 20:21:04,062][onir_pt][DEBUG] [finished] validation [293ms]\n",
      "[2022-10-26 20:21:04,067][onir_pt][INFO] validation it=21 map=0.0084 ndcg=0.0205 P_10=0.0580\n",
      "[2022-10-26 20:21:04,071][onir_pt][DEBUG] using GPU (deterministic)\n",
      "[2022-10-26 20:21:04,075][onir_pt][DEBUG] [starting] training\n",
      "[2022-10-26 20:21:04,079][onir_pt][DEBUG] [starting] train pairs\n"
     ]
    },
    {
     "data": {
      "application/vnd.jupyter.widget-view+json": {
       "model_id": "",
       "version_major": 2,
       "version_minor": 0
      },
      "text/plain": [
       "train pairs:   0%|          | 0/1024 [25ms<?, ?it/s]"
      ]
     },
     "metadata": {},
     "output_type": "display_data"
    },
    {
     "name": "stdout",
     "output_type": "stream",
     "text": [
      "[2022-10-26 20:21:07,954][onir_pt][DEBUG] [finished] train pairs: [3.87s] [1024it] [264.51it/s]\n",
      "[2022-10-26 20:21:07,962][onir_pt][DEBUG] [finished] training [3.89s]\n",
      "[2022-10-26 20:21:07,966][onir_pt][INFO] training   it=22 loss=0.1762\n",
      "[2022-10-26 20:21:07,969][onir_pt][DEBUG] [starting] validation\n",
      "[2022-10-26 20:21:07,973][onir_pt][DEBUG] using GPU (deterministic)\n",
      "[2022-10-26 20:21:07,977][onir_pt][DEBUG] [starting] batches\n"
     ]
    },
    {
     "data": {
      "application/vnd.jupyter.widget-view+json": {
       "model_id": "",
       "version_major": 2,
       "version_minor": 0
      },
      "text/plain": [
       "batches:   0%|          | 0/125 [26ms<?, ?it/s]"
      ]
     },
     "metadata": {},
     "output_type": "display_data"
    },
    {
     "name": "stdout",
     "output_type": "stream",
     "text": [
      "[2022-10-26 20:21:08,157][onir_pt][DEBUG] [finished] batches: [177ms] [125it] [706.75it/s]\n",
      "[2022-10-26 20:21:08,266][onir_pt][DEBUG] [finished] validation [297ms]\n",
      "[2022-10-26 20:21:08,271][onir_pt][INFO] validation it=22 map=0.0083 ndcg=0.0204 P_10=0.0540\n",
      "[2022-10-26 20:21:08,275][onir_pt][DEBUG] using GPU (deterministic)\n",
      "[2022-10-26 20:21:08,279][onir_pt][DEBUG] [starting] training\n",
      "[2022-10-26 20:21:08,283][onir_pt][DEBUG] [starting] train pairs\n"
     ]
    },
    {
     "data": {
      "application/vnd.jupyter.widget-view+json": {
       "model_id": "",
       "version_major": 2,
       "version_minor": 0
      },
      "text/plain": [
       "train pairs:   0%|          | 0/1024 [25ms<?, ?it/s]"
      ]
     },
     "metadata": {},
     "output_type": "display_data"
    },
    {
     "name": "stdout",
     "output_type": "stream",
     "text": [
      "[2022-10-26 20:21:12,158][onir_pt][DEBUG] [finished] train pairs: [3.87s] [1024it] [264.52it/s]\n",
      "[2022-10-26 20:21:12,166][onir_pt][DEBUG] [finished] training [3.89s]\n",
      "[2022-10-26 20:21:12,170][onir_pt][INFO] training   it=23 loss=0.1842\n",
      "[2022-10-26 20:21:12,173][onir_pt][DEBUG] [starting] validation\n",
      "[2022-10-26 20:21:12,177][onir_pt][DEBUG] using GPU (deterministic)\n",
      "[2022-10-26 20:21:12,181][onir_pt][DEBUG] [starting] batches\n"
     ]
    },
    {
     "data": {
      "application/vnd.jupyter.widget-view+json": {
       "model_id": "",
       "version_major": 2,
       "version_minor": 0
      },
      "text/plain": [
       "batches:   0%|          | 0/125 [26ms<?, ?it/s]"
      ]
     },
     "metadata": {},
     "output_type": "display_data"
    },
    {
     "name": "stdout",
     "output_type": "stream",
     "text": [
      "[2022-10-26 20:21:12,361][onir_pt][DEBUG] [finished] batches: [177ms] [125it] [705.91it/s]\n",
      "[2022-10-26 20:21:12,468][onir_pt][DEBUG] [finished] validation [295ms]\n",
      "[2022-10-26 20:21:12,473][onir_pt][INFO] validation it=23 map=0.0086 ndcg=0.0209 P_10=0.0620\n",
      "[2022-10-26 20:21:12,477][onir_pt][DEBUG] using GPU (deterministic)\n",
      "[2022-10-26 20:21:12,481][onir_pt][DEBUG] [starting] training\n",
      "[2022-10-26 20:21:12,485][onir_pt][DEBUG] [starting] train pairs\n"
     ]
    },
    {
     "data": {
      "application/vnd.jupyter.widget-view+json": {
       "model_id": "",
       "version_major": 2,
       "version_minor": 0
      },
      "text/plain": [
       "train pairs:   0%|          | 0/1024 [25ms<?, ?it/s]"
      ]
     },
     "metadata": {},
     "output_type": "display_data"
    },
    {
     "name": "stdout",
     "output_type": "stream",
     "text": [
      "[2022-10-26 20:21:16,358][onir_pt][DEBUG] [finished] train pairs: [3.87s] [1024it] [264.68it/s]\n",
      "[2022-10-26 20:21:16,365][onir_pt][DEBUG] [finished] training [3.88s]\n",
      "[2022-10-26 20:21:16,369][onir_pt][INFO] training   it=24 loss=0.1729\n",
      "[2022-10-26 20:21:16,373][onir_pt][DEBUG] [starting] validation\n",
      "[2022-10-26 20:21:16,377][onir_pt][DEBUG] using GPU (deterministic)\n",
      "[2022-10-26 20:21:16,381][onir_pt][DEBUG] [starting] batches\n"
     ]
    },
    {
     "data": {
      "application/vnd.jupyter.widget-view+json": {
       "model_id": "",
       "version_major": 2,
       "version_minor": 0
      },
      "text/plain": [
       "batches:   0%|          | 0/125 [26ms<?, ?it/s]"
      ]
     },
     "metadata": {},
     "output_type": "display_data"
    },
    {
     "name": "stdout",
     "output_type": "stream",
     "text": [
      "[2022-10-26 20:21:16,561][onir_pt][DEBUG] [finished] batches: [178ms] [125it] [703.68it/s]\n",
      "[2022-10-26 20:21:16,666][onir_pt][DEBUG] [finished] validation [293ms]\n",
      "[2022-10-26 20:21:16,671][onir_pt][INFO] validation it=24 map=0.0088 ndcg=0.0210 P_10=0.0640\n",
      "[2022-10-26 20:21:16,675][onir_pt][DEBUG] using GPU (deterministic)\n",
      "[2022-10-26 20:21:16,679][onir_pt][DEBUG] [starting] training\n",
      "[2022-10-26 20:21:16,682][onir_pt][DEBUG] [starting] train pairs\n"
     ]
    },
    {
     "data": {
      "application/vnd.jupyter.widget-view+json": {
       "model_id": "",
       "version_major": 2,
       "version_minor": 0
      },
      "text/plain": [
       "train pairs:   0%|          | 0/1024 [25ms<?, ?it/s]"
      ]
     },
     "metadata": {},
     "output_type": "display_data"
    },
    {
     "name": "stdout",
     "output_type": "stream",
     "text": [
      "[2022-10-26 20:21:20,566][onir_pt][DEBUG] [finished] train pairs: [3.88s] [1024it] [263.94it/s]\n",
      "[2022-10-26 20:21:20,573][onir_pt][DEBUG] [finished] training [3.89s]\n",
      "[2022-10-26 20:21:20,577][onir_pt][INFO] training   it=25 loss=0.1694\n",
      "[2022-10-26 20:21:20,581][onir_pt][DEBUG] [starting] validation\n",
      "[2022-10-26 20:21:20,585][onir_pt][DEBUG] using GPU (deterministic)\n",
      "[2022-10-26 20:21:20,589][onir_pt][DEBUG] [starting] batches\n"
     ]
    },
    {
     "data": {
      "application/vnd.jupyter.widget-view+json": {
       "model_id": "",
       "version_major": 2,
       "version_minor": 0
      },
      "text/plain": [
       "batches:   0%|          | 0/125 [26ms<?, ?it/s]"
      ]
     },
     "metadata": {},
     "output_type": "display_data"
    },
    {
     "name": "stdout",
     "output_type": "stream",
     "text": [
      "[2022-10-26 20:21:20,770][onir_pt][DEBUG] [finished] batches: [178ms] [125it] [702.15it/s]\n",
      "[2022-10-26 20:21:20,877][onir_pt][DEBUG] [finished] validation [295ms]\n",
      "[2022-10-26 20:21:20,882][onir_pt][INFO] validation it=25 map=0.0087 ndcg=0.0209 P_10=0.0620\n",
      "[2022-10-26 20:21:20,885][onir_pt][DEBUG] using GPU (deterministic)\n",
      "[2022-10-26 20:21:20,889][onir_pt][DEBUG] [starting] training\n",
      "[2022-10-26 20:21:20,893][onir_pt][DEBUG] [starting] train pairs\n"
     ]
    },
    {
     "data": {
      "application/vnd.jupyter.widget-view+json": {
       "model_id": "",
       "version_major": 2,
       "version_minor": 0
      },
      "text/plain": [
       "train pairs:   0%|          | 0/1024 [25ms<?, ?it/s]"
      ]
     },
     "metadata": {},
     "output_type": "display_data"
    },
    {
     "name": "stdout",
     "output_type": "stream",
     "text": [
      "[2022-10-26 20:21:24,765][onir_pt][DEBUG] [finished] train pairs: [3.87s] [1024it] [264.74it/s]\n",
      "[2022-10-26 20:21:24,773][onir_pt][DEBUG] [finished] training [3.88s]\n",
      "[2022-10-26 20:21:24,776][onir_pt][INFO] training   it=26 loss=0.1785\n",
      "[2022-10-26 20:21:24,780][onir_pt][DEBUG] [starting] validation\n",
      "[2022-10-26 20:21:24,784][onir_pt][DEBUG] using GPU (deterministic)\n",
      "[2022-10-26 20:21:24,788][onir_pt][DEBUG] [starting] batches\n"
     ]
    },
    {
     "data": {
      "application/vnd.jupyter.widget-view+json": {
       "model_id": "",
       "version_major": 2,
       "version_minor": 0
      },
      "text/plain": [
       "batches:   0%|          | 0/125 [26ms<?, ?it/s]"
      ]
     },
     "metadata": {},
     "output_type": "display_data"
    },
    {
     "name": "stdout",
     "output_type": "stream",
     "text": [
      "[2022-10-26 20:21:24,968][onir_pt][DEBUG] [finished] batches: [177ms] [125it] [706.44it/s]\n",
      "[2022-10-26 20:21:25,072][onir_pt][DEBUG] [finished] validation [292ms]\n",
      "[2022-10-26 20:21:25,077][onir_pt][INFO] validation it=26 map=0.0080 ndcg=0.0196 P_10=0.0520\n",
      "[2022-10-26 20:21:25,081][onir_pt][DEBUG] using GPU (deterministic)\n",
      "[2022-10-26 20:21:25,085][onir_pt][DEBUG] [starting] training\n",
      "[2022-10-26 20:21:25,089][onir_pt][DEBUG] [starting] train pairs\n"
     ]
    },
    {
     "data": {
      "application/vnd.jupyter.widget-view+json": {
       "model_id": "",
       "version_major": 2,
       "version_minor": 0
      },
      "text/plain": [
       "train pairs:   0%|          | 0/1024 [25ms<?, ?it/s]"
      ]
     },
     "metadata": {},
     "output_type": "display_data"
    },
    {
     "name": "stdout",
     "output_type": "stream",
     "text": [
      "[2022-10-26 20:21:28,962][onir_pt][DEBUG] [finished] train pairs: [3.87s] [1024it] [264.65it/s]\n",
      "[2022-10-26 20:21:28,970][onir_pt][DEBUG] [finished] training [3.88s]\n",
      "[2022-10-26 20:21:28,974][onir_pt][INFO] training   it=27 loss=0.1804\n",
      "[2022-10-26 20:21:28,977][onir_pt][DEBUG] [starting] validation\n",
      "[2022-10-26 20:21:28,981][onir_pt][DEBUG] using GPU (deterministic)\n",
      "[2022-10-26 20:21:28,985][onir_pt][DEBUG] [starting] batches\n"
     ]
    },
    {
     "data": {
      "application/vnd.jupyter.widget-view+json": {
       "model_id": "",
       "version_major": 2,
       "version_minor": 0
      },
      "text/plain": [
       "batches:   0%|          | 0/125 [26ms<?, ?it/s]"
      ]
     },
     "metadata": {},
     "output_type": "display_data"
    },
    {
     "name": "stdout",
     "output_type": "stream",
     "text": [
      "[2022-10-26 20:21:29,165][onir_pt][DEBUG] [finished] batches: [177ms] [125it] [707.21it/s]\n",
      "[2022-10-26 20:21:29,272][onir_pt][DEBUG] [finished] validation [294ms]\n",
      "[2022-10-26 20:21:29,277][onir_pt][INFO] validation it=27 map=0.0086 ndcg=0.0207 P_10=0.0620\n",
      "[2022-10-26 20:21:29,281][onir_pt][DEBUG] using GPU (deterministic)\n",
      "[2022-10-26 20:21:29,285][onir_pt][DEBUG] [starting] training\n",
      "[2022-10-26 20:21:29,289][onir_pt][DEBUG] [starting] train pairs\n"
     ]
    },
    {
     "data": {
      "application/vnd.jupyter.widget-view+json": {
       "model_id": "",
       "version_major": 2,
       "version_minor": 0
      },
      "text/plain": [
       "train pairs:   0%|          | 0/1024 [25ms<?, ?it/s]"
      ]
     },
     "metadata": {},
     "output_type": "display_data"
    },
    {
     "name": "stdout",
     "output_type": "stream",
     "text": [
      "[2022-10-26 20:21:33,168][onir_pt][DEBUG] [finished] train pairs: [3.88s] [1024it] [264.21it/s]\n",
      "[2022-10-26 20:21:33,176][onir_pt][DEBUG] [finished] training [3.89s]\n",
      "[2022-10-26 20:21:33,180][onir_pt][INFO] training   it=28 loss=0.1742\n",
      "[2022-10-26 20:21:33,183][onir_pt][DEBUG] [starting] validation\n",
      "[2022-10-26 20:21:33,187][onir_pt][DEBUG] using GPU (deterministic)\n",
      "[2022-10-26 20:21:33,191][onir_pt][DEBUG] [starting] batches\n"
     ]
    },
    {
     "data": {
      "application/vnd.jupyter.widget-view+json": {
       "model_id": "",
       "version_major": 2,
       "version_minor": 0
      },
      "text/plain": [
       "batches:   0%|          | 0/125 [26ms<?, ?it/s]"
      ]
     },
     "metadata": {},
     "output_type": "display_data"
    },
    {
     "name": "stdout",
     "output_type": "stream",
     "text": [
      "[2022-10-26 20:21:33,371][onir_pt][DEBUG] [finished] batches: [177ms] [125it] [707.05it/s]\n",
      "[2022-10-26 20:21:33,476][onir_pt][DEBUG] [finished] validation [293ms]\n",
      "[2022-10-26 20:21:33,482][onir_pt][INFO] validation it=28 map=0.0086 ndcg=0.0209 P_10=0.0620\n",
      "[2022-10-26 20:21:33,485][onir_pt][DEBUG] using GPU (deterministic)\n",
      "[2022-10-26 20:21:33,489][onir_pt][DEBUG] [starting] training\n",
      "[2022-10-26 20:21:33,493][onir_pt][DEBUG] [starting] train pairs\n"
     ]
    },
    {
     "data": {
      "application/vnd.jupyter.widget-view+json": {
       "model_id": "",
       "version_major": 2,
       "version_minor": 0
      },
      "text/plain": [
       "train pairs:   0%|          | 0/1024 [25ms<?, ?it/s]"
      ]
     },
     "metadata": {},
     "output_type": "display_data"
    },
    {
     "name": "stdout",
     "output_type": "stream",
     "text": [
      "[2022-10-26 20:21:37,374][onir_pt][DEBUG] [finished] train pairs: [3.88s] [1024it] [264.14it/s]\n",
      "[2022-10-26 20:21:37,382][onir_pt][DEBUG] [finished] training [3.89s]\n",
      "[2022-10-26 20:21:37,386][onir_pt][INFO] training   it=29 loss=0.1774\n",
      "[2022-10-26 20:21:37,389][onir_pt][DEBUG] [starting] validation\n",
      "[2022-10-26 20:21:37,393][onir_pt][DEBUG] using GPU (deterministic)\n",
      "[2022-10-26 20:21:37,397][onir_pt][DEBUG] [starting] batches\n"
     ]
    },
    {
     "data": {
      "application/vnd.jupyter.widget-view+json": {
       "model_id": "",
       "version_major": 2,
       "version_minor": 0
      },
      "text/plain": [
       "batches:   0%|          | 0/125 [26ms<?, ?it/s]"
      ]
     },
     "metadata": {},
     "output_type": "display_data"
    },
    {
     "name": "stdout",
     "output_type": "stream",
     "text": [
      "[2022-10-26 20:21:37,579][onir_pt][DEBUG] [finished] batches: [178ms] [125it] [701.66it/s]\n",
      "[2022-10-26 20:21:37,686][onir_pt][DEBUG] [finished] validation [296ms]\n",
      "[2022-10-26 20:21:37,691][onir_pt][INFO] validation it=29 map=0.0086 ndcg=0.0208 P_10=0.0600\n",
      "[2022-10-26 20:21:37,694][onir_pt][DEBUG] using GPU (deterministic)\n",
      "[2022-10-26 20:21:37,698][onir_pt][DEBUG] [starting] training\n",
      "[2022-10-26 20:21:37,702][onir_pt][DEBUG] [starting] train pairs\n"
     ]
    },
    {
     "data": {
      "application/vnd.jupyter.widget-view+json": {
       "model_id": "",
       "version_major": 2,
       "version_minor": 0
      },
      "text/plain": [
       "train pairs:   0%|          | 0/1024 [25ms<?, ?it/s]"
      ]
     },
     "metadata": {},
     "output_type": "display_data"
    },
    {
     "name": "stdout",
     "output_type": "stream",
     "text": [
      "[2022-10-26 20:21:41,579][onir_pt][DEBUG] [finished] train pairs: [3.87s] [1024it] [264.39it/s]\n",
      "[2022-10-26 20:21:41,587][onir_pt][DEBUG] [finished] training [3.89s]\n",
      "[2022-10-26 20:21:41,591][onir_pt][INFO] training   it=30 loss=0.1801\n",
      "[2022-10-26 20:21:41,594][onir_pt][DEBUG] [starting] validation\n",
      "[2022-10-26 20:21:41,598][onir_pt][DEBUG] using GPU (deterministic)\n",
      "[2022-10-26 20:21:41,602][onir_pt][DEBUG] [starting] batches\n"
     ]
    },
    {
     "data": {
      "application/vnd.jupyter.widget-view+json": {
       "model_id": "",
       "version_major": 2,
       "version_minor": 0
      },
      "text/plain": [
       "batches:   0%|          | 0/125 [26ms<?, ?it/s]"
      ]
     },
     "metadata": {},
     "output_type": "display_data"
    },
    {
     "name": "stdout",
     "output_type": "stream",
     "text": [
      "[2022-10-26 20:21:41,782][onir_pt][DEBUG] [finished] batches: [177ms] [125it] [707.90it/s]\n",
      "[2022-10-26 20:21:41,885][onir_pt][DEBUG] [finished] validation [291ms]\n",
      "[2022-10-26 20:21:41,890][onir_pt][INFO] validation it=30 map=0.0081 ndcg=0.0198 P_10=0.0540\n",
      "[2022-10-26 20:21:41,894][onir_pt][DEBUG] using GPU (deterministic)\n",
      "[2022-10-26 20:21:41,898][onir_pt][DEBUG] [starting] training\n",
      "[2022-10-26 20:21:41,902][onir_pt][DEBUG] [starting] train pairs\n"
     ]
    },
    {
     "data": {
      "application/vnd.jupyter.widget-view+json": {
       "model_id": "",
       "version_major": 2,
       "version_minor": 0
      },
      "text/plain": [
       "train pairs:   0%|          | 0/1024 [25ms<?, ?it/s]"
      ]
     },
     "metadata": {},
     "output_type": "display_data"
    },
    {
     "name": "stdout",
     "output_type": "stream",
     "text": [
      "[2022-10-26 20:21:45,768][onir_pt][DEBUG] [finished] train pairs: [3.86s] [1024it] [265.16it/s]\n",
      "[2022-10-26 20:21:45,775][onir_pt][DEBUG] [finished] training [3.88s]\n",
      "[2022-10-26 20:21:45,779][onir_pt][INFO] training   it=31 loss=0.1722\n",
      "[2022-10-26 20:21:45,783][onir_pt][DEBUG] [starting] validation\n",
      "[2022-10-26 20:21:45,787][onir_pt][DEBUG] using GPU (deterministic)\n",
      "[2022-10-26 20:21:45,791][onir_pt][DEBUG] [starting] batches\n"
     ]
    },
    {
     "data": {
      "application/vnd.jupyter.widget-view+json": {
       "model_id": "",
       "version_major": 2,
       "version_minor": 0
      },
      "text/plain": [
       "batches:   0%|          | 0/125 [26ms<?, ?it/s]"
      ]
     },
     "metadata": {},
     "output_type": "display_data"
    },
    {
     "name": "stdout",
     "output_type": "stream",
     "text": [
      "[2022-10-26 20:21:45,970][onir_pt][DEBUG] [finished] batches: [177ms] [125it] [707.66it/s]\n",
      "[2022-10-26 20:21:46,076][onir_pt][DEBUG] [finished] validation [293ms]\n",
      "[2022-10-26 20:21:46,081][onir_pt][INFO] validation it=31 map=0.0084 ndcg=0.0203 P_10=0.0600\n",
      "[2022-10-26 20:21:46,085][onir_pt][INFO] early stopping; model reverting back to it=11\n",
      "[2022-10-26 20:21:48,110][onir_pt][DEBUG] [starting] validation\n",
      "[2022-10-26 20:21:48,115][onir_pt][DEBUG] using GPU (deterministic)\n",
      "[2022-10-26 20:21:48,119][onir_pt][DEBUG] [starting] batches\n"
     ]
    },
    {
     "data": {
      "application/vnd.jupyter.widget-view+json": {
       "model_id": "",
       "version_major": 2,
       "version_minor": 0
      },
      "text/plain": [
       "batches:   0%|          | 0/125 [25ms<?, ?it/s]"
      ]
     },
     "metadata": {},
     "output_type": "display_data"
    },
    {
     "name": "stdout",
     "output_type": "stream",
     "text": [
      "[2022-10-26 20:21:48,300][onir_pt][DEBUG] [finished] batches: [177ms] [125it] [706.06it/s]\n",
      "[2022-10-26 20:21:48,410][onir_pt][DEBUG] [finished] validation [300ms]\n",
      "[2022-10-26 20:21:48,416][onir_pt][INFO] pre-validation: 0.0112\n",
      "[2022-10-26 20:21:48,420][onir_pt][DEBUG] using GPU (deterministic)\n",
      "[2022-10-26 20:21:48,424][onir_pt][DEBUG] [starting] training\n",
      "[2022-10-26 20:21:48,428][onir_pt][DEBUG] [starting] train pairs\n"
     ]
    },
    {
     "data": {
      "application/vnd.jupyter.widget-view+json": {
       "model_id": "",
       "version_major": 2,
       "version_minor": 0
      },
      "text/plain": [
       "train pairs:   0%|          | 0/1024 [25ms<?, ?it/s]"
      ]
     },
     "metadata": {},
     "output_type": "display_data"
    },
    {
     "name": "stdout",
     "output_type": "stream",
     "text": [
      "[2022-10-26 20:21:52,442][onir_pt][DEBUG] [finished] train pairs: [4.01s] [1024it] [255.36it/s]\n",
      "[2022-10-26 20:21:52,450][onir_pt][DEBUG] [finished] training [4.03s]\n",
      "[2022-10-26 20:21:52,453][onir_pt][INFO] training   it=0 loss=0.1677\n",
      "[2022-10-26 20:21:52,457][onir_pt][DEBUG] [starting] validation\n",
      "[2022-10-26 20:21:52,461][onir_pt][DEBUG] using GPU (deterministic)\n",
      "[2022-10-26 20:21:52,465][onir_pt][DEBUG] [starting] batches\n"
     ]
    },
    {
     "data": {
      "application/vnd.jupyter.widget-view+json": {
       "model_id": "",
       "version_major": 2,
       "version_minor": 0
      },
      "text/plain": [
       "batches:   0%|          | 0/125 [26ms<?, ?it/s]"
      ]
     },
     "metadata": {},
     "output_type": "display_data"
    },
    {
     "name": "stdout",
     "output_type": "stream",
     "text": [
      "[2022-10-26 20:21:52,645][onir_pt][DEBUG] [finished] batches: [177ms] [125it] [707.93it/s]\n",
      "[2022-10-26 20:21:52,751][onir_pt][DEBUG] [finished] validation [294ms]\n",
      "[2022-10-26 20:21:52,756][onir_pt][INFO] validation it=0 map=0.0109 ndcg=0.0234 P_10=0.0720\n",
      "[2022-10-26 20:21:52,760][onir_pt][DEBUG] using GPU (deterministic)\n",
      "[2022-10-26 20:21:52,764][onir_pt][DEBUG] [starting] training\n",
      "[2022-10-26 20:21:52,768][onir_pt][DEBUG] [starting] train pairs\n"
     ]
    },
    {
     "data": {
      "application/vnd.jupyter.widget-view+json": {
       "model_id": "",
       "version_major": 2,
       "version_minor": 0
      },
      "text/plain": [
       "train pairs:   0%|          | 0/1024 [25ms<?, ?it/s]"
      ]
     },
     "metadata": {},
     "output_type": "display_data"
    },
    {
     "name": "stdout",
     "output_type": "stream",
     "text": [
      "[2022-10-26 20:21:56,642][onir_pt][DEBUG] [finished] train pairs: [3.87s] [1024it] [264.58it/s]\n",
      "[2022-10-26 20:21:56,650][onir_pt][DEBUG] [finished] training [3.89s]\n",
      "[2022-10-26 20:21:56,654][onir_pt][INFO] training   it=1 loss=0.1774\n",
      "[2022-10-26 20:21:56,657][onir_pt][DEBUG] [starting] validation\n",
      "[2022-10-26 20:21:56,661][onir_pt][DEBUG] using GPU (deterministic)\n",
      "[2022-10-26 20:21:56,665][onir_pt][DEBUG] [starting] batches\n"
     ]
    },
    {
     "data": {
      "application/vnd.jupyter.widget-view+json": {
       "model_id": "",
       "version_major": 2,
       "version_minor": 0
      },
      "text/plain": [
       "batches:   0%|          | 0/125 [26ms<?, ?it/s]"
      ]
     },
     "metadata": {},
     "output_type": "display_data"
    },
    {
     "name": "stdout",
     "output_type": "stream",
     "text": [
      "[2022-10-26 20:21:56,846][onir_pt][DEBUG] [finished] batches: [178ms] [125it] [701.12it/s]\n",
      "[2022-10-26 20:21:56,957][onir_pt][DEBUG] [finished] validation [300ms]\n",
      "[2022-10-26 20:21:56,962][onir_pt][INFO] validation it=1 map=0.0108 ndcg=0.0233 P_10=0.0660\n",
      "[2022-10-26 20:21:56,966][onir_pt][DEBUG] using GPU (deterministic)\n",
      "[2022-10-26 20:21:56,970][onir_pt][DEBUG] [starting] training\n",
      "[2022-10-26 20:21:56,974][onir_pt][DEBUG] [starting] train pairs\n"
     ]
    },
    {
     "data": {
      "application/vnd.jupyter.widget-view+json": {
       "model_id": "",
       "version_major": 2,
       "version_minor": 0
      },
      "text/plain": [
       "train pairs:   0%|          | 0/1024 [25ms<?, ?it/s]"
      ]
     },
     "metadata": {},
     "output_type": "display_data"
    },
    {
     "name": "stdout",
     "output_type": "stream",
     "text": [
      "[2022-10-26 20:22:00,846][onir_pt][DEBUG] [finished] train pairs: [3.87s] [1024it] [264.74it/s]\n",
      "[2022-10-26 20:22:00,853][onir_pt][DEBUG] [finished] training [3.88s]\n",
      "[2022-10-26 20:22:00,857][onir_pt][INFO] training   it=2 loss=0.1680\n",
      "[2022-10-26 20:22:00,861][onir_pt][DEBUG] [starting] validation\n",
      "[2022-10-26 20:22:00,864][onir_pt][DEBUG] using GPU (deterministic)\n",
      "[2022-10-26 20:22:00,868][onir_pt][DEBUG] [starting] batches\n"
     ]
    },
    {
     "data": {
      "application/vnd.jupyter.widget-view+json": {
       "model_id": "",
       "version_major": 2,
       "version_minor": 0
      },
      "text/plain": [
       "batches:   0%|          | 0/125 [26ms<?, ?it/s]"
      ]
     },
     "metadata": {},
     "output_type": "display_data"
    },
    {
     "name": "stdout",
     "output_type": "stream",
     "text": [
      "[2022-10-26 20:22:01,048][onir_pt][DEBUG] [finished] batches: [177ms] [125it] [707.11it/s]\n",
      "[2022-10-26 20:22:01,153][onir_pt][DEBUG] [finished] validation [292ms]\n",
      "[2022-10-26 20:22:01,158][onir_pt][INFO] validation it=2 map=0.0107 ndcg=0.0232 P_10=0.0680\n",
      "[2022-10-26 20:22:01,162][onir_pt][DEBUG] using GPU (deterministic)\n",
      "[2022-10-26 20:22:01,166][onir_pt][DEBUG] [starting] training\n",
      "[2022-10-26 20:22:01,170][onir_pt][DEBUG] [starting] train pairs\n"
     ]
    },
    {
     "data": {
      "application/vnd.jupyter.widget-view+json": {
       "model_id": "",
       "version_major": 2,
       "version_minor": 0
      },
      "text/plain": [
       "train pairs:   0%|          | 0/1024 [25ms<?, ?it/s]"
      ]
     },
     "metadata": {},
     "output_type": "display_data"
    },
    {
     "name": "stdout",
     "output_type": "stream",
     "text": [
      "[2022-10-26 20:22:05,048][onir_pt][DEBUG] [finished] train pairs: [3.87s] [1024it] [264.30it/s]\n",
      "[2022-10-26 20:22:05,056][onir_pt][DEBUG] [finished] training [3.89s]\n",
      "[2022-10-26 20:22:05,060][onir_pt][INFO] training   it=3 loss=0.1741\n",
      "[2022-10-26 20:22:05,063][onir_pt][DEBUG] [starting] validation\n",
      "[2022-10-26 20:22:05,067][onir_pt][DEBUG] using GPU (deterministic)\n",
      "[2022-10-26 20:22:05,071][onir_pt][DEBUG] [starting] batches\n"
     ]
    },
    {
     "data": {
      "application/vnd.jupyter.widget-view+json": {
       "model_id": "",
       "version_major": 2,
       "version_minor": 0
      },
      "text/plain": [
       "batches:   0%|          | 0/125 [26ms<?, ?it/s]"
      ]
     },
     "metadata": {},
     "output_type": "display_data"
    },
    {
     "name": "stdout",
     "output_type": "stream",
     "text": [
      "[2022-10-26 20:22:05,251][onir_pt][DEBUG] [finished] batches: [177ms] [125it] [707.72it/s]\n",
      "[2022-10-26 20:22:05,359][onir_pt][DEBUG] [finished] validation [295ms]\n",
      "[2022-10-26 20:22:05,364][onir_pt][INFO] validation it=3 map=0.0110 ndcg=0.0235 P_10=0.0740\n",
      "[2022-10-26 20:22:05,368][onir_pt][DEBUG] using GPU (deterministic)\n",
      "[2022-10-26 20:22:05,372][onir_pt][DEBUG] [starting] training\n",
      "[2022-10-26 20:22:05,376][onir_pt][DEBUG] [starting] train pairs\n"
     ]
    },
    {
     "data": {
      "application/vnd.jupyter.widget-view+json": {
       "model_id": "",
       "version_major": 2,
       "version_minor": 0
      },
      "text/plain": [
       "train pairs:   0%|          | 0/1024 [25ms<?, ?it/s]"
      ]
     },
     "metadata": {},
     "output_type": "display_data"
    },
    {
     "name": "stdout",
     "output_type": "stream",
     "text": [
      "[2022-10-26 20:22:09,250][onir_pt][DEBUG] [finished] train pairs: [3.87s] [1024it] [264.57it/s]\n",
      "[2022-10-26 20:22:09,258][onir_pt][DEBUG] [finished] training [3.89s]\n",
      "[2022-10-26 20:22:09,261][onir_pt][INFO] training   it=4 loss=0.1789\n",
      "[2022-10-26 20:22:09,265][onir_pt][DEBUG] [starting] validation\n",
      "[2022-10-26 20:22:09,269][onir_pt][DEBUG] using GPU (deterministic)\n",
      "[2022-10-26 20:22:09,273][onir_pt][DEBUG] [starting] batches\n"
     ]
    },
    {
     "data": {
      "application/vnd.jupyter.widget-view+json": {
       "model_id": "",
       "version_major": 2,
       "version_minor": 0
      },
      "text/plain": [
       "batches:   0%|          | 0/125 [26ms<?, ?it/s]"
      ]
     },
     "metadata": {},
     "output_type": "display_data"
    },
    {
     "name": "stdout",
     "output_type": "stream",
     "text": [
      "[2022-10-26 20:22:09,452][onir_pt][DEBUG] [finished] batches: [176ms] [125it] [708.64it/s]\n",
      "[2022-10-26 20:22:09,559][onir_pt][DEBUG] [finished] validation [294ms]\n",
      "[2022-10-26 20:22:09,564][onir_pt][INFO] validation it=4 map=0.0109 ndcg=0.0235 P_10=0.0740\n",
      "[2022-10-26 20:22:09,568][onir_pt][DEBUG] using GPU (deterministic)\n",
      "[2022-10-26 20:22:09,572][onir_pt][DEBUG] [starting] training\n",
      "[2022-10-26 20:22:09,576][onir_pt][DEBUG] [starting] train pairs\n"
     ]
    },
    {
     "data": {
      "application/vnd.jupyter.widget-view+json": {
       "model_id": "",
       "version_major": 2,
       "version_minor": 0
      },
      "text/plain": [
       "train pairs:   0%|          | 0/1024 [25ms<?, ?it/s]"
      ]
     },
     "metadata": {},
     "output_type": "display_data"
    },
    {
     "name": "stdout",
     "output_type": "stream",
     "text": [
      "[2022-10-26 20:22:13,452][onir_pt][DEBUG] [finished] train pairs: [3.87s] [1024it] [264.46it/s]\n",
      "[2022-10-26 20:22:13,459][onir_pt][DEBUG] [finished] training [3.89s]\n",
      "[2022-10-26 20:22:13,463][onir_pt][INFO] training   it=5 loss=0.1852\n",
      "[2022-10-26 20:22:13,467][onir_pt][DEBUG] [starting] validation\n",
      "[2022-10-26 20:22:13,471][onir_pt][DEBUG] using GPU (deterministic)\n",
      "[2022-10-26 20:22:13,475][onir_pt][DEBUG] [starting] batches\n"
     ]
    },
    {
     "data": {
      "application/vnd.jupyter.widget-view+json": {
       "model_id": "",
       "version_major": 2,
       "version_minor": 0
      },
      "text/plain": [
       "batches:   0%|          | 0/125 [26ms<?, ?it/s]"
      ]
     },
     "metadata": {},
     "output_type": "display_data"
    },
    {
     "name": "stdout",
     "output_type": "stream",
     "text": [
      "[2022-10-26 20:22:13,655][onir_pt][DEBUG] [finished] batches: [177ms] [125it] [705.44it/s]\n",
      "[2022-10-26 20:22:13,764][onir_pt][DEBUG] [finished] validation [297ms]\n",
      "[2022-10-26 20:22:13,769][onir_pt][INFO] validation it=5 map=0.0111 ndcg=0.0236 P_10=0.0740\n",
      "[2022-10-26 20:22:13,773][onir_pt][DEBUG] using GPU (deterministic)\n",
      "[2022-10-26 20:22:13,777][onir_pt][DEBUG] [starting] training\n",
      "[2022-10-26 20:22:13,781][onir_pt][DEBUG] [starting] train pairs\n"
     ]
    },
    {
     "data": {
      "application/vnd.jupyter.widget-view+json": {
       "model_id": "",
       "version_major": 2,
       "version_minor": 0
      },
      "text/plain": [
       "train pairs:   0%|          | 0/1024 [25ms<?, ?it/s]"
      ]
     },
     "metadata": {},
     "output_type": "display_data"
    },
    {
     "name": "stdout",
     "output_type": "stream",
     "text": [
      "[2022-10-26 20:22:17,655][onir_pt][DEBUG] [finished] train pairs: [3.87s] [1024it] [264.55it/s]\n",
      "[2022-10-26 20:22:17,663][onir_pt][DEBUG] [finished] training [3.89s]\n",
      "[2022-10-26 20:22:17,667][onir_pt][INFO] training   it=6 loss=0.1570\n",
      "[2022-10-26 20:22:17,671][onir_pt][DEBUG] [starting] validation\n",
      "[2022-10-26 20:22:17,674][onir_pt][DEBUG] using GPU (deterministic)\n",
      "[2022-10-26 20:22:17,678][onir_pt][DEBUG] [starting] batches\n"
     ]
    },
    {
     "data": {
      "application/vnd.jupyter.widget-view+json": {
       "model_id": "",
       "version_major": 2,
       "version_minor": 0
      },
      "text/plain": [
       "batches:   0%|          | 0/125 [26ms<?, ?it/s]"
      ]
     },
     "metadata": {},
     "output_type": "display_data"
    },
    {
     "name": "stdout",
     "output_type": "stream",
     "text": [
      "[2022-10-26 20:22:17,858][onir_pt][DEBUG] [finished] batches: [177ms] [125it] [707.09it/s]\n",
      "[2022-10-26 20:22:17,964][onir_pt][DEBUG] [finished] validation [294ms]\n",
      "[2022-10-26 20:22:17,970][onir_pt][INFO] validation it=6 map=0.0105 ndcg=0.0227 P_10=0.0660\n",
      "[2022-10-26 20:22:17,973][onir_pt][DEBUG] using GPU (deterministic)\n",
      "[2022-10-26 20:22:17,977][onir_pt][DEBUG] [starting] training\n",
      "[2022-10-26 20:22:17,981][onir_pt][DEBUG] [starting] train pairs\n"
     ]
    },
    {
     "data": {
      "application/vnd.jupyter.widget-view+json": {
       "model_id": "",
       "version_major": 2,
       "version_minor": 0
      },
      "text/plain": [
       "train pairs:   0%|          | 0/1024 [25ms<?, ?it/s]"
      ]
     },
     "metadata": {},
     "output_type": "display_data"
    },
    {
     "name": "stdout",
     "output_type": "stream",
     "text": [
      "[2022-10-26 20:22:21,858][onir_pt][DEBUG] [finished] train pairs: [3.87s] [1024it] [264.43it/s]\n",
      "[2022-10-26 20:22:21,865][onir_pt][DEBUG] [finished] training [3.89s]\n",
      "[2022-10-26 20:22:21,869][onir_pt][INFO] training   it=7 loss=0.1636\n",
      "[2022-10-26 20:22:21,873][onir_pt][DEBUG] [starting] validation\n",
      "[2022-10-26 20:22:21,877][onir_pt][DEBUG] using GPU (deterministic)\n",
      "[2022-10-26 20:22:21,881][onir_pt][DEBUG] [starting] batches\n"
     ]
    },
    {
     "data": {
      "application/vnd.jupyter.widget-view+json": {
       "model_id": "",
       "version_major": 2,
       "version_minor": 0
      },
      "text/plain": [
       "batches:   0%|          | 0/125 [26ms<?, ?it/s]"
      ]
     },
     "metadata": {},
     "output_type": "display_data"
    },
    {
     "name": "stdout",
     "output_type": "stream",
     "text": [
      "[2022-10-26 20:22:22,061][onir_pt][DEBUG] [finished] batches: [177ms] [125it] [707.55it/s]\n",
      "[2022-10-26 20:22:22,169][onir_pt][DEBUG] [finished] validation [296ms]\n",
      "[2022-10-26 20:22:22,174][onir_pt][INFO] validation it=7 map=0.0106 ndcg=0.0232 P_10=0.0680\n",
      "[2022-10-26 20:22:22,178][onir_pt][DEBUG] using GPU (deterministic)\n",
      "[2022-10-26 20:22:22,182][onir_pt][DEBUG] [starting] training\n",
      "[2022-10-26 20:22:22,186][onir_pt][DEBUG] [starting] train pairs\n"
     ]
    },
    {
     "data": {
      "application/vnd.jupyter.widget-view+json": {
       "model_id": "",
       "version_major": 2,
       "version_minor": 0
      },
      "text/plain": [
       "train pairs:   0%|          | 0/1024 [25ms<?, ?it/s]"
      ]
     },
     "metadata": {},
     "output_type": "display_data"
    },
    {
     "name": "stdout",
     "output_type": "stream",
     "text": [
      "[2022-10-26 20:22:26,055][onir_pt][DEBUG] [finished] train pairs: [3.87s] [1024it] [264.93it/s]\n",
      "[2022-10-26 20:22:26,062][onir_pt][DEBUG] [finished] training [3.88s]\n",
      "[2022-10-26 20:22:26,066][onir_pt][INFO] training   it=8 loss=0.1717\n",
      "[2022-10-26 20:22:26,070][onir_pt][DEBUG] [starting] validation\n",
      "[2022-10-26 20:22:26,074][onir_pt][DEBUG] using GPU (deterministic)\n",
      "[2022-10-26 20:22:26,078][onir_pt][DEBUG] [starting] batches\n"
     ]
    },
    {
     "data": {
      "application/vnd.jupyter.widget-view+json": {
       "model_id": "",
       "version_major": 2,
       "version_minor": 0
      },
      "text/plain": [
       "batches:   0%|          | 0/125 [25ms<?, ?it/s]"
      ]
     },
     "metadata": {},
     "output_type": "display_data"
    },
    {
     "name": "stdout",
     "output_type": "stream",
     "text": [
      "[2022-10-26 20:22:26,257][onir_pt][DEBUG] [finished] batches: [176ms] [125it] [709.64it/s]\n",
      "[2022-10-26 20:22:26,362][onir_pt][DEBUG] [finished] validation [292ms]\n",
      "[2022-10-26 20:22:26,367][onir_pt][INFO] validation it=8 map=0.0110 ndcg=0.0236 P_10=0.0720\n",
      "[2022-10-26 20:22:26,371][onir_pt][DEBUG] using GPU (deterministic)\n",
      "[2022-10-26 20:22:26,375][onir_pt][DEBUG] [starting] training\n",
      "[2022-10-26 20:22:26,379][onir_pt][DEBUG] [starting] train pairs\n"
     ]
    },
    {
     "data": {
      "application/vnd.jupyter.widget-view+json": {
       "model_id": "",
       "version_major": 2,
       "version_minor": 0
      },
      "text/plain": [
       "train pairs:   0%|          | 0/1024 [25ms<?, ?it/s]"
      ]
     },
     "metadata": {},
     "output_type": "display_data"
    },
    {
     "name": "stdout",
     "output_type": "stream",
     "text": [
      "[2022-10-26 20:22:30,250][onir_pt][DEBUG] [finished] train pairs: [3.87s] [1024it] [264.76it/s]\n",
      "[2022-10-26 20:22:30,258][onir_pt][DEBUG] [finished] training [3.88s]\n",
      "[2022-10-26 20:22:30,262][onir_pt][INFO] training   it=9 loss=0.1750\n",
      "[2022-10-26 20:22:30,265][onir_pt][DEBUG] [starting] validation\n",
      "[2022-10-26 20:22:30,269][onir_pt][DEBUG] using GPU (deterministic)\n",
      "[2022-10-26 20:22:30,273][onir_pt][DEBUG] [starting] batches\n"
     ]
    },
    {
     "data": {
      "application/vnd.jupyter.widget-view+json": {
       "model_id": "",
       "version_major": 2,
       "version_minor": 0
      },
      "text/plain": [
       "batches:   0%|          | 0/125 [26ms<?, ?it/s]"
      ]
     },
     "metadata": {},
     "output_type": "display_data"
    },
    {
     "name": "stdout",
     "output_type": "stream",
     "text": [
      "[2022-10-26 20:22:30,452][onir_pt][DEBUG] [finished] batches: [176ms] [125it] [709.33it/s]\n",
      "[2022-10-26 20:22:30,557][onir_pt][DEBUG] [finished] validation [292ms]\n",
      "[2022-10-26 20:22:30,562][onir_pt][INFO] validation it=9 map=0.0099 ndcg=0.0222 P_10=0.0580\n",
      "[2022-10-26 20:22:30,566][onir_pt][DEBUG] using GPU (deterministic)\n",
      "[2022-10-26 20:22:30,570][onir_pt][DEBUG] [starting] training\n",
      "[2022-10-26 20:22:30,574][onir_pt][DEBUG] [starting] train pairs\n"
     ]
    },
    {
     "data": {
      "application/vnd.jupyter.widget-view+json": {
       "model_id": "",
       "version_major": 2,
       "version_minor": 0
      },
      "text/plain": [
       "train pairs:   0%|          | 0/1024 [25ms<?, ?it/s]"
      ]
     },
     "metadata": {},
     "output_type": "display_data"
    },
    {
     "name": "stdout",
     "output_type": "stream",
     "text": [
      "[2022-10-26 20:22:34,445][onir_pt][DEBUG] [finished] train pairs: [3.87s] [1024it] [264.79it/s]\n",
      "[2022-10-26 20:22:34,452][onir_pt][DEBUG] [finished] training [3.88s]\n",
      "[2022-10-26 20:22:34,456][onir_pt][INFO] training   it=10 loss=0.1564\n",
      "[2022-10-26 20:22:34,460][onir_pt][DEBUG] [starting] validation\n",
      "[2022-10-26 20:22:34,464][onir_pt][DEBUG] using GPU (deterministic)\n",
      "[2022-10-26 20:22:34,468][onir_pt][DEBUG] [starting] batches\n"
     ]
    },
    {
     "data": {
      "application/vnd.jupyter.widget-view+json": {
       "model_id": "",
       "version_major": 2,
       "version_minor": 0
      },
      "text/plain": [
       "batches:   0%|          | 0/125 [26ms<?, ?it/s]"
      ]
     },
     "metadata": {},
     "output_type": "display_data"
    },
    {
     "name": "stdout",
     "output_type": "stream",
     "text": [
      "[2022-10-26 20:22:34,648][onir_pt][DEBUG] [finished] batches: [177ms] [125it] [705.85it/s]\n",
      "[2022-10-26 20:22:34,756][onir_pt][DEBUG] [finished] validation [296ms]\n",
      "[2022-10-26 20:22:34,761][onir_pt][INFO] validation it=10 map=0.0107 ndcg=0.0231 P_10=0.0640\n",
      "[2022-10-26 20:22:34,765][onir_pt][DEBUG] using GPU (deterministic)\n",
      "[2022-10-26 20:22:34,769][onir_pt][DEBUG] [starting] training\n",
      "[2022-10-26 20:22:34,773][onir_pt][DEBUG] [starting] train pairs\n"
     ]
    },
    {
     "data": {
      "application/vnd.jupyter.widget-view+json": {
       "model_id": "",
       "version_major": 2,
       "version_minor": 0
      },
      "text/plain": [
       "train pairs:   0%|          | 0/1024 [25ms<?, ?it/s]"
      ]
     },
     "metadata": {},
     "output_type": "display_data"
    },
    {
     "name": "stdout",
     "output_type": "stream",
     "text": [
      "[2022-10-26 20:22:38,769][onir_pt][DEBUG] [finished] train pairs: [3.99s] [1024it] [256.48it/s]\n",
      "[2022-10-26 20:22:38,777][onir_pt][DEBUG] [finished] training [4.01s]\n",
      "[2022-10-26 20:22:38,780][onir_pt][INFO] training   it=11 loss=0.1631\n",
      "[2022-10-26 20:22:38,784][onir_pt][DEBUG] [starting] validation\n",
      "[2022-10-26 20:22:38,788][onir_pt][DEBUG] using GPU (deterministic)\n",
      "[2022-10-26 20:22:38,792][onir_pt][DEBUG] [starting] batches\n"
     ]
    },
    {
     "data": {
      "application/vnd.jupyter.widget-view+json": {
       "model_id": "",
       "version_major": 2,
       "version_minor": 0
      },
      "text/plain": [
       "batches:   0%|          | 0/125 [26ms<?, ?it/s]"
      ]
     },
     "metadata": {},
     "output_type": "display_data"
    },
    {
     "name": "stdout",
     "output_type": "stream",
     "text": [
      "[2022-10-26 20:22:38,972][onir_pt][DEBUG] [finished] batches: [177ms] [125it] [706.16it/s]\n",
      "[2022-10-26 20:22:39,077][onir_pt][DEBUG] [finished] validation [292ms]\n",
      "[2022-10-26 20:22:39,082][onir_pt][INFO] validation it=11 map=0.0105 ndcg=0.0231 P_10=0.0620\n",
      "[2022-10-26 20:22:39,086][onir_pt][DEBUG] using GPU (deterministic)\n",
      "[2022-10-26 20:22:39,090][onir_pt][DEBUG] [starting] training\n",
      "[2022-10-26 20:22:39,094][onir_pt][DEBUG] [starting] train pairs\n"
     ]
    },
    {
     "data": {
      "application/vnd.jupyter.widget-view+json": {
       "model_id": "",
       "version_major": 2,
       "version_minor": 0
      },
      "text/plain": [
       "train pairs:   0%|          | 0/1024 [25ms<?, ?it/s]"
      ]
     },
     "metadata": {},
     "output_type": "display_data"
    },
    {
     "name": "stdout",
     "output_type": "stream",
     "text": [
      "[2022-10-26 20:22:42,973][onir_pt][DEBUG] [finished] train pairs: [3.88s] [1024it] [264.19it/s]\n",
      "[2022-10-26 20:22:42,981][onir_pt][DEBUG] [finished] training [3.89s]\n",
      "[2022-10-26 20:22:42,985][onir_pt][INFO] training   it=12 loss=0.1688\n",
      "[2022-10-26 20:22:42,989][onir_pt][DEBUG] [starting] validation\n",
      "[2022-10-26 20:22:42,992][onir_pt][DEBUG] using GPU (deterministic)\n",
      "[2022-10-26 20:22:42,996][onir_pt][DEBUG] [starting] batches\n"
     ]
    },
    {
     "data": {
      "application/vnd.jupyter.widget-view+json": {
       "model_id": "",
       "version_major": 2,
       "version_minor": 0
      },
      "text/plain": [
       "batches:   0%|          | 0/125 [26ms<?, ?it/s]"
      ]
     },
     "metadata": {},
     "output_type": "display_data"
    },
    {
     "name": "stdout",
     "output_type": "stream",
     "text": [
      "[2022-10-26 20:22:43,177][onir_pt][DEBUG] [finished] batches: [177ms] [125it] [705.86it/s]\n",
      "[2022-10-26 20:22:43,286][onir_pt][DEBUG] [finished] validation [298ms]\n",
      "[2022-10-26 20:22:43,291][onir_pt][INFO] validation it=12 map=0.0108 ndcg=0.0233 P_10=0.0640\n",
      "[2022-10-26 20:22:43,295][onir_pt][DEBUG] using GPU (deterministic)\n",
      "[2022-10-26 20:22:43,299][onir_pt][DEBUG] [starting] training\n",
      "[2022-10-26 20:22:43,303][onir_pt][DEBUG] [starting] train pairs\n"
     ]
    },
    {
     "data": {
      "application/vnd.jupyter.widget-view+json": {
       "model_id": "",
       "version_major": 2,
       "version_minor": 0
      },
      "text/plain": [
       "train pairs:   0%|          | 0/1024 [25ms<?, ?it/s]"
      ]
     },
     "metadata": {},
     "output_type": "display_data"
    },
    {
     "name": "stdout",
     "output_type": "stream",
     "text": [
      "[2022-10-26 20:22:47,176][onir_pt][DEBUG] [finished] train pairs: [3.87s] [1024it] [264.66it/s]\n",
      "[2022-10-26 20:22:47,184][onir_pt][DEBUG] [finished] training [3.88s]\n",
      "[2022-10-26 20:22:47,187][onir_pt][INFO] training   it=13 loss=0.1685\n",
      "[2022-10-26 20:22:47,191][onir_pt][DEBUG] [starting] validation\n",
      "[2022-10-26 20:22:47,195][onir_pt][DEBUG] using GPU (deterministic)\n",
      "[2022-10-26 20:22:47,199][onir_pt][DEBUG] [starting] batches\n"
     ]
    },
    {
     "data": {
      "application/vnd.jupyter.widget-view+json": {
       "model_id": "",
       "version_major": 2,
       "version_minor": 0
      },
      "text/plain": [
       "batches:   0%|          | 0/125 [26ms<?, ?it/s]"
      ]
     },
     "metadata": {},
     "output_type": "display_data"
    },
    {
     "name": "stdout",
     "output_type": "stream",
     "text": [
      "[2022-10-26 20:22:47,379][onir_pt][DEBUG] [finished] batches: [177ms] [125it] [705.41it/s]\n",
      "[2022-10-26 20:22:47,486][onir_pt][DEBUG] [finished] validation [295ms]\n",
      "[2022-10-26 20:22:47,492][onir_pt][INFO] validation it=13 map=0.0109 ndcg=0.0234 P_10=0.0720\n",
      "[2022-10-26 20:22:47,496][onir_pt][DEBUG] using GPU (deterministic)\n",
      "[2022-10-26 20:22:47,500][onir_pt][DEBUG] [starting] training\n",
      "[2022-10-26 20:22:47,503][onir_pt][DEBUG] [starting] train pairs\n"
     ]
    },
    {
     "data": {
      "application/vnd.jupyter.widget-view+json": {
       "model_id": "",
       "version_major": 2,
       "version_minor": 0
      },
      "text/plain": [
       "train pairs:   0%|          | 0/1024 [26ms<?, ?it/s]"
      ]
     },
     "metadata": {},
     "output_type": "display_data"
    },
    {
     "name": "stdout",
     "output_type": "stream",
     "text": [
      "[2022-10-26 20:22:51,373][onir_pt][DEBUG] [finished] train pairs: [3.87s] [1024it] [264.92it/s]\n",
      "[2022-10-26 20:22:51,380][onir_pt][DEBUG] [finished] training [3.88s]\n",
      "[2022-10-26 20:22:51,384][onir_pt][INFO] training   it=14 loss=0.1697\n",
      "[2022-10-26 20:22:51,388][onir_pt][DEBUG] [starting] validation\n",
      "[2022-10-26 20:22:51,391][onir_pt][DEBUG] using GPU (deterministic)\n",
      "[2022-10-26 20:22:51,395][onir_pt][DEBUG] [starting] batches\n"
     ]
    },
    {
     "data": {
      "application/vnd.jupyter.widget-view+json": {
       "model_id": "",
       "version_major": 2,
       "version_minor": 0
      },
      "text/plain": [
       "batches:   0%|          | 0/125 [26ms<?, ?it/s]"
      ]
     },
     "metadata": {},
     "output_type": "display_data"
    },
    {
     "name": "stdout",
     "output_type": "stream",
     "text": [
      "[2022-10-26 20:22:51,577][onir_pt][DEBUG] [finished] batches: [178ms] [125it] [701.13it/s]\n",
      "[2022-10-26 20:22:51,685][onir_pt][DEBUG] [finished] validation [298ms]\n",
      "[2022-10-26 20:22:51,691][onir_pt][INFO] validation it=14 map=0.0109 ndcg=0.0234 P_10=0.0720\n",
      "[2022-10-26 20:22:51,694][onir_pt][DEBUG] using GPU (deterministic)\n",
      "[2022-10-26 20:22:51,698][onir_pt][DEBUG] [starting] training\n",
      "[2022-10-26 20:22:51,702][onir_pt][DEBUG] [starting] train pairs\n"
     ]
    },
    {
     "data": {
      "application/vnd.jupyter.widget-view+json": {
       "model_id": "",
       "version_major": 2,
       "version_minor": 0
      },
      "text/plain": [
       "train pairs:   0%|          | 0/1024 [25ms<?, ?it/s]"
      ]
     },
     "metadata": {},
     "output_type": "display_data"
    },
    {
     "name": "stdout",
     "output_type": "stream",
     "text": [
      "[2022-10-26 20:22:55,622][onir_pt][DEBUG] [finished] train pairs: [3.92s] [1024it] [261.51it/s]\n",
      "[2022-10-26 20:22:55,629][onir_pt][DEBUG] [finished] training [3.93s]\n",
      "[2022-10-26 20:22:55,633][onir_pt][INFO] training   it=15 loss=0.1609\n",
      "[2022-10-26 20:22:55,637][onir_pt][DEBUG] [starting] validation\n",
      "[2022-10-26 20:22:55,641][onir_pt][DEBUG] using GPU (deterministic)\n",
      "[2022-10-26 20:22:55,645][onir_pt][DEBUG] [starting] batches\n"
     ]
    },
    {
     "data": {
      "application/vnd.jupyter.widget-view+json": {
       "model_id": "",
       "version_major": 2,
       "version_minor": 0
      },
      "text/plain": [
       "batches:   0%|          | 0/125 [26ms<?, ?it/s]"
      ]
     },
     "metadata": {},
     "output_type": "display_data"
    },
    {
     "name": "stdout",
     "output_type": "stream",
     "text": [
      "[2022-10-26 20:22:55,825][onir_pt][DEBUG] [finished] batches: [177ms] [125it] [707.47it/s]\n",
      "[2022-10-26 20:22:55,934][onir_pt][DEBUG] [finished] validation [297ms]\n",
      "[2022-10-26 20:22:55,939][onir_pt][INFO] validation it=15 map=0.0109 ndcg=0.0234 P_10=0.0740\n",
      "[2022-10-26 20:22:55,943][onir_pt][DEBUG] using GPU (deterministic)\n",
      "[2022-10-26 20:22:55,947][onir_pt][DEBUG] [starting] training\n",
      "[2022-10-26 20:22:55,951][onir_pt][DEBUG] [starting] train pairs\n"
     ]
    },
    {
     "data": {
      "application/vnd.jupyter.widget-view+json": {
       "model_id": "",
       "version_major": 2,
       "version_minor": 0
      },
      "text/plain": [
       "train pairs:   0%|          | 0/1024 [25ms<?, ?it/s]"
      ]
     },
     "metadata": {},
     "output_type": "display_data"
    },
    {
     "name": "stdout",
     "output_type": "stream",
     "text": [
      "[2022-10-26 20:22:59,829][onir_pt][DEBUG] [finished] train pairs: [3.87s] [1024it] [264.32it/s]\n",
      "[2022-10-26 20:22:59,837][onir_pt][DEBUG] [finished] training [3.89s]\n",
      "[2022-10-26 20:22:59,841][onir_pt][INFO] training   it=16 loss=0.1786\n",
      "[2022-10-26 20:22:59,844][onir_pt][DEBUG] [starting] validation\n",
      "[2022-10-26 20:22:59,848][onir_pt][DEBUG] using GPU (deterministic)\n",
      "[2022-10-26 20:22:59,852][onir_pt][DEBUG] [starting] batches\n"
     ]
    },
    {
     "data": {
      "application/vnd.jupyter.widget-view+json": {
       "model_id": "",
       "version_major": 2,
       "version_minor": 0
      },
      "text/plain": [
       "batches:   0%|          | 0/125 [26ms<?, ?it/s]"
      ]
     },
     "metadata": {},
     "output_type": "display_data"
    },
    {
     "name": "stdout",
     "output_type": "stream",
     "text": [
      "[2022-10-26 20:23:00,032][onir_pt][DEBUG] [finished] batches: [177ms] [125it] [707.41it/s]\n",
      "[2022-10-26 20:23:00,140][onir_pt][DEBUG] [finished] validation [295ms]\n",
      "[2022-10-26 20:23:00,145][onir_pt][INFO] validation it=16 map=0.0105 ndcg=0.0230 P_10=0.0640\n",
      "[2022-10-26 20:23:00,149][onir_pt][DEBUG] using GPU (deterministic)\n",
      "[2022-10-26 20:23:00,153][onir_pt][DEBUG] [starting] training\n",
      "[2022-10-26 20:23:00,157][onir_pt][DEBUG] [starting] train pairs\n"
     ]
    },
    {
     "data": {
      "application/vnd.jupyter.widget-view+json": {
       "model_id": "",
       "version_major": 2,
       "version_minor": 0
      },
      "text/plain": [
       "train pairs:   0%|          | 0/1024 [25ms<?, ?it/s]"
      ]
     },
     "metadata": {},
     "output_type": "display_data"
    },
    {
     "name": "stdout",
     "output_type": "stream",
     "text": [
      "[2022-10-26 20:23:04,032][onir_pt][DEBUG] [finished] train pairs: [3.87s] [1024it] [264.48it/s]\n",
      "[2022-10-26 20:23:04,040][onir_pt][DEBUG] [finished] training [3.89s]\n",
      "[2022-10-26 20:23:04,044][onir_pt][INFO] training   it=17 loss=0.1579\n",
      "[2022-10-26 20:23:04,048][onir_pt][DEBUG] [starting] validation\n",
      "[2022-10-26 20:23:04,051][onir_pt][DEBUG] using GPU (deterministic)\n",
      "[2022-10-26 20:23:04,055][onir_pt][DEBUG] [starting] batches\n"
     ]
    },
    {
     "data": {
      "application/vnd.jupyter.widget-view+json": {
       "model_id": "",
       "version_major": 2,
       "version_minor": 0
      },
      "text/plain": [
       "batches:   0%|          | 0/125 [26ms<?, ?it/s]"
      ]
     },
     "metadata": {},
     "output_type": "display_data"
    },
    {
     "name": "stdout",
     "output_type": "stream",
     "text": [
      "[2022-10-26 20:23:04,234][onir_pt][DEBUG] [finished] batches: [176ms] [125it] [709.54it/s]\n",
      "[2022-10-26 20:23:04,341][onir_pt][DEBUG] [finished] validation [293ms]\n",
      "[2022-10-26 20:23:04,346][onir_pt][INFO] validation it=17 map=0.0106 ndcg=0.0231 P_10=0.0680\n",
      "[2022-10-26 20:23:04,350][onir_pt][DEBUG] using GPU (deterministic)\n",
      "[2022-10-26 20:23:04,354][onir_pt][DEBUG] [starting] training\n",
      "[2022-10-26 20:23:04,358][onir_pt][DEBUG] [starting] train pairs\n"
     ]
    },
    {
     "data": {
      "application/vnd.jupyter.widget-view+json": {
       "model_id": "",
       "version_major": 2,
       "version_minor": 0
      },
      "text/plain": [
       "train pairs:   0%|          | 0/1024 [25ms<?, ?it/s]"
      ]
     },
     "metadata": {},
     "output_type": "display_data"
    },
    {
     "name": "stdout",
     "output_type": "stream",
     "text": [
      "[2022-10-26 20:23:08,232][onir_pt][DEBUG] [finished] train pairs: [3.87s] [1024it] [264.59it/s]\n",
      "[2022-10-26 20:23:08,239][onir_pt][DEBUG] [finished] training [3.89s]\n",
      "[2022-10-26 20:23:08,244][onir_pt][INFO] training   it=18 loss=0.1724\n",
      "[2022-10-26 20:23:08,247][onir_pt][DEBUG] [starting] validation\n",
      "[2022-10-26 20:23:08,251][onir_pt][DEBUG] using GPU (deterministic)\n",
      "[2022-10-26 20:23:08,255][onir_pt][DEBUG] [starting] batches\n"
     ]
    },
    {
     "data": {
      "application/vnd.jupyter.widget-view+json": {
       "model_id": "",
       "version_major": 2,
       "version_minor": 0
      },
      "text/plain": [
       "batches:   0%|          | 0/125 [26ms<?, ?it/s]"
      ]
     },
     "metadata": {},
     "output_type": "display_data"
    },
    {
     "name": "stdout",
     "output_type": "stream",
     "text": [
      "[2022-10-26 20:23:08,434][onir_pt][DEBUG] [finished] batches: [176ms] [125it] [709.27it/s]\n",
      "[2022-10-26 20:23:08,541][onir_pt][DEBUG] [finished] validation [294ms]\n",
      "[2022-10-26 20:23:08,546][onir_pt][INFO] validation it=18 map=0.0109 ndcg=0.0235 P_10=0.0720\n",
      "[2022-10-26 20:23:08,550][onir_pt][DEBUG] using GPU (deterministic)\n",
      "[2022-10-26 20:23:08,554][onir_pt][DEBUG] [starting] training\n",
      "[2022-10-26 20:23:08,558][onir_pt][DEBUG] [starting] train pairs\n"
     ]
    },
    {
     "data": {
      "application/vnd.jupyter.widget-view+json": {
       "model_id": "",
       "version_major": 2,
       "version_minor": 0
      },
      "text/plain": [
       "train pairs:   0%|          | 0/1024 [25ms<?, ?it/s]"
      ]
     },
     "metadata": {},
     "output_type": "display_data"
    },
    {
     "name": "stdout",
     "output_type": "stream",
     "text": [
      "[2022-10-26 20:23:12,429][onir_pt][DEBUG] [finished] train pairs: [3.87s] [1024it] [264.81it/s]\n",
      "[2022-10-26 20:23:12,436][onir_pt][DEBUG] [finished] training [3.88s]\n",
      "[2022-10-26 20:23:12,440][onir_pt][INFO] training   it=19 loss=0.1746\n",
      "[2022-10-26 20:23:12,444][onir_pt][DEBUG] [starting] validation\n",
      "[2022-10-26 20:23:12,448][onir_pt][DEBUG] using GPU (deterministic)\n",
      "[2022-10-26 20:23:12,452][onir_pt][DEBUG] [starting] batches\n"
     ]
    },
    {
     "data": {
      "application/vnd.jupyter.widget-view+json": {
       "model_id": "",
       "version_major": 2,
       "version_minor": 0
      },
      "text/plain": [
       "batches:   0%|          | 0/125 [26ms<?, ?it/s]"
      ]
     },
     "metadata": {},
     "output_type": "display_data"
    },
    {
     "name": "stdout",
     "output_type": "stream",
     "text": [
      "[2022-10-26 20:23:12,631][onir_pt][DEBUG] [finished] batches: [176ms] [125it] [710.30it/s]\n",
      "[2022-10-26 20:23:12,736][onir_pt][DEBUG] [finished] validation [292ms]\n",
      "[2022-10-26 20:23:12,742][onir_pt][INFO] validation it=19 map=0.0108 ndcg=0.0233 P_10=0.0700\n",
      "[2022-10-26 20:23:12,746][onir_pt][INFO] early stopping; model reverting back to it=-1\n"
     ]
    }
   ],
   "source": [
    "knrm = onir_pt.reranker('knrm', 'wordvec_hash', text_field='title')\n",
    "\n",
    "pipeline_br_knrm = (pt.BatchRetrieve(index_ref) % 100 # get top 100 results\n",
    "                    >> pt.text.get_text(dataset, 'title')\n",
    "                    >> knrm) # apply neural re-ranker\n",
    "\n",
    "pipeline_bm25_knrm = (pt.BatchRetrieve(index_ref, wmodel=\"BM25\") % 100 # get top 100 results\n",
    "                      >> pt.text.get_text(dataset, 'title')\n",
    "                      >> knrm) # apply neural re-ranker\n",
    "\n",
    "pipeline_br_knrm.fit(\n",
    "    train_topics,\n",
    "    dataset.get_qrels(),\n",
    "    valid_topics,\n",
    "    dataset.get_qrels()\n",
    ")\n",
    "\n",
    "pipeline_bm25_knrm.fit(\n",
    "    train_topics,\n",
    "    dataset.get_qrels(),\n",
    "    valid_topics,\n",
    "    dataset.get_qrels()\n",
    ")"
   ]
  },
  {
   "cell_type": "code",
   "execution_count": 28,
   "metadata": {},
   "outputs": [
    {
     "name": "stdout",
     "output_type": "stream",
     "text": [
      "[2022-10-26 20:23:19,008][onir_pt][DEBUG] using GPU (deterministic)\n",
      "[2022-10-26 20:23:19,013][onir_pt][DEBUG] [starting] batches\n"
     ]
    },
    {
     "data": {
      "application/vnd.jupyter.widget-view+json": {
       "model_id": "",
       "version_major": 2,
       "version_minor": 0
      },
      "text/plain": [
       "batches:   0%|          | 0/375 [25ms<?, ?it/s]"
      ]
     },
     "metadata": {},
     "output_type": "display_data"
    },
    {
     "name": "stdout",
     "output_type": "stream",
     "text": [
      "[2022-10-26 20:23:19,484][onir_pt][DEBUG] [finished] batches: [467ms] [375it] [802.49it/s]\n",
      "[2022-10-26 20:23:20,098][onir_pt][DEBUG] using GPU (deterministic)\n",
      "[2022-10-26 20:23:20,103][onir_pt][DEBUG] [starting] batches\n"
     ]
    },
    {
     "data": {
      "application/vnd.jupyter.widget-view+json": {
       "model_id": "",
       "version_major": 2,
       "version_minor": 0
      },
      "text/plain": [
       "batches:   0%|          | 0/375 [25ms<?, ?it/s]"
      ]
     },
     "metadata": {},
     "output_type": "display_data"
    },
    {
     "name": "stdout",
     "output_type": "stream",
     "text": [
      "[2022-10-26 20:23:20,573][onir_pt][DEBUG] [finished] batches: [466ms] [375it] [804.75it/s]\n"
     ]
    },
    {
     "data": {
      "text/html": [
       "<div>\n",
       "<style scoped>\n",
       "    .dataframe tbody tr th:only-of-type {\n",
       "        vertical-align: middle;\n",
       "    }\n",
       "\n",
       "    .dataframe tbody tr th {\n",
       "        vertical-align: top;\n",
       "    }\n",
       "\n",
       "    .dataframe thead th {\n",
       "        text-align: right;\n",
       "    }\n",
       "</style>\n",
       "<table border=\"1\" class=\"dataframe\">\n",
       "  <thead>\n",
       "    <tr style=\"text-align: right;\">\n",
       "      <th></th>\n",
       "      <th>name</th>\n",
       "      <th>map</th>\n",
       "      <th>P.10</th>\n",
       "      <th>ndcg</th>\n",
       "      <th>ndcg_cut.10</th>\n",
       "      <th>mrt</th>\n",
       "      <th>map +</th>\n",
       "      <th>map -</th>\n",
       "      <th>map p-value</th>\n",
       "      <th>P.10 +</th>\n",
       "      <th>P.10 -</th>\n",
       "      <th>P.10 p-value</th>\n",
       "      <th>ndcg +</th>\n",
       "      <th>ndcg -</th>\n",
       "      <th>ndcg p-value</th>\n",
       "      <th>ndcg_cut.10 +</th>\n",
       "      <th>ndcg_cut.10 -</th>\n",
       "      <th>ndcg_cut.10 p-value</th>\n",
       "    </tr>\n",
       "  </thead>\n",
       "  <tbody>\n",
       "    <tr>\n",
       "      <th>0</th>\n",
       "      <td>BR</td>\n",
       "      <td>0.067211</td>\n",
       "      <td>0.633333</td>\n",
       "      <td>0.165279</td>\n",
       "      <td>0.570299</td>\n",
       "      <td>38.415553</td>\n",
       "      <td>NaN</td>\n",
       "      <td>NaN</td>\n",
       "      <td>NaN</td>\n",
       "      <td>NaN</td>\n",
       "      <td>NaN</td>\n",
       "      <td>NaN</td>\n",
       "      <td>NaN</td>\n",
       "      <td>NaN</td>\n",
       "      <td>NaN</td>\n",
       "      <td>NaN</td>\n",
       "      <td>NaN</td>\n",
       "      <td>NaN</td>\n",
       "    </tr>\n",
       "    <tr>\n",
       "      <th>1</th>\n",
       "      <td>BM25</td>\n",
       "      <td>0.073811</td>\n",
       "      <td>0.660000</td>\n",
       "      <td>0.172321</td>\n",
       "      <td>0.594773</td>\n",
       "      <td>36.078485</td>\n",
       "      <td>10.0</td>\n",
       "      <td>5.0</td>\n",
       "      <td>0.055545</td>\n",
       "      <td>5.0</td>\n",
       "      <td>4.0</td>\n",
       "      <td>0.363605</td>\n",
       "      <td>10.0</td>\n",
       "      <td>5.0</td>\n",
       "      <td>0.091034</td>\n",
       "      <td>8.0</td>\n",
       "      <td>5.0</td>\n",
       "      <td>0.138276</td>\n",
       "    </tr>\n",
       "    <tr>\n",
       "      <th>2</th>\n",
       "      <td>BR &gt;&gt; knrm</td>\n",
       "      <td>0.070218</td>\n",
       "      <td>0.733333</td>\n",
       "      <td>0.170734</td>\n",
       "      <td>0.657656</td>\n",
       "      <td>83.955836</td>\n",
       "      <td>9.0</td>\n",
       "      <td>6.0</td>\n",
       "      <td>0.117227</td>\n",
       "      <td>6.0</td>\n",
       "      <td>3.0</td>\n",
       "      <td>0.082418</td>\n",
       "      <td>9.0</td>\n",
       "      <td>6.0</td>\n",
       "      <td>0.083729</td>\n",
       "      <td>9.0</td>\n",
       "      <td>5.0</td>\n",
       "      <td>0.081776</td>\n",
       "    </tr>\n",
       "    <tr>\n",
       "      <th>3</th>\n",
       "      <td>BM25 &gt;&gt; knrm</td>\n",
       "      <td>0.075349</td>\n",
       "      <td>0.740000</td>\n",
       "      <td>0.178434</td>\n",
       "      <td>0.678771</td>\n",
       "      <td>69.774961</td>\n",
       "      <td>10.0</td>\n",
       "      <td>5.0</td>\n",
       "      <td>0.024818</td>\n",
       "      <td>8.0</td>\n",
       "      <td>4.0</td>\n",
       "      <td>0.071688</td>\n",
       "      <td>9.0</td>\n",
       "      <td>6.0</td>\n",
       "      <td>0.044013</td>\n",
       "      <td>10.0</td>\n",
       "      <td>4.0</td>\n",
       "      <td>0.092556</td>\n",
       "    </tr>\n",
       "  </tbody>\n",
       "</table>\n",
       "</div>"
      ],
      "text/plain": [
       "           name       map      P.10      ndcg  ndcg_cut.10        mrt  map +  \\\n",
       "0            BR  0.067211  0.633333  0.165279     0.570299  38.415553    NaN   \n",
       "1          BM25  0.073811  0.660000  0.172321     0.594773  36.078485   10.0   \n",
       "2    BR >> knrm  0.070218  0.733333  0.170734     0.657656  83.955836    9.0   \n",
       "3  BM25 >> knrm  0.075349  0.740000  0.178434     0.678771  69.774961   10.0   \n",
       "\n",
       "   map -  map p-value  P.10 +  P.10 -  P.10 p-value  ndcg +  ndcg -  \\\n",
       "0    NaN          NaN     NaN     NaN           NaN     NaN     NaN   \n",
       "1    5.0     0.055545     5.0     4.0      0.363605    10.0     5.0   \n",
       "2    6.0     0.117227     6.0     3.0      0.082418     9.0     6.0   \n",
       "3    5.0     0.024818     8.0     4.0      0.071688     9.0     6.0   \n",
       "\n",
       "   ndcg p-value  ndcg_cut.10 +  ndcg_cut.10 -  ndcg_cut.10 p-value  \n",
       "0           NaN            NaN            NaN                  NaN  \n",
       "1      0.091034            8.0            5.0             0.138276  \n",
       "2      0.083729            9.0            5.0             0.081776  \n",
       "3      0.044013           10.0            4.0             0.092556  "
      ]
     },
     "execution_count": 28,
     "metadata": {},
     "output_type": "execute_result"
    }
   ],
   "source": [
    "br_100 = pt.BatchRetrieve(index) % 100\n",
    "bm25_100 = pt.BatchRetrieve(index, wmodel=\"BM25\") % 100\n",
    "\n",
    "pt.Experiment(\n",
    "    [br_100, bm25_100, pipeline_br_knrm, pipeline_bm25_knrm],\n",
    "    test_topics, \n",
    "    dataset.get_qrels(),\n",
    "    baseline=0,\n",
    "    names=[\"BR\", \"BM25\", \"BR >> knrm\", \"BM25 >> knrm\"],\n",
    "    eval_metrics=[\"map\", \"ndcg\", \"ndcg_cut.10\", \"P.10\", \"mrt\"]\n",
    ")"
   ]
  },
  {
   "cell_type": "code",
   "execution_count": null,
   "metadata": {},
   "outputs": [],
   "source": []
  }
 ],
 "metadata": {
  "accelerator": "GPU",
  "colab": {
   "collapsed_sections": [],
   "name": "neural ir.ipynb",
   "provenance": [],
   "toc_visible": true
  },
  "kernelspec": {
   "display_name": "Python 3 (ipykernel)",
   "language": "python",
   "name": "python3"
  },
  "language_info": {
   "codemirror_mode": {
    "name": "ipython",
    "version": 3
   },
   "file_extension": ".py",
   "mimetype": "text/x-python",
   "name": "python",
   "nbconvert_exporter": "python",
   "pygments_lexer": "ipython3",
   "version": "3.9.7"
  }
 },
 "nbformat": 4,
 "nbformat_minor": 1
}
